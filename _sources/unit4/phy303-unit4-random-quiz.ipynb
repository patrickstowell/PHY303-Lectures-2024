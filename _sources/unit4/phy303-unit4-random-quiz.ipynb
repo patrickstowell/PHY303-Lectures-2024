{
 "cells": [
  {
   "cell_type": "markdown",
   "id": "65b9c9f4-e3f7-41d1-9c96-c2a6a4204cb4",
   "metadata": {
    "editable": true,
    "slideshow": {
     "slide_type": ""
    },
    "tags": []
   },
   "source": [
    "(unit4:randomquiz)=\n",
    "# Unit 4 : Random Quiz\n",
    "$\\,\\!$\n",
    "\n",
    "The quiz below is a formative assessment of the topics in unit 4. Questions are randomly shuffled and only twenty are shown at any one time so refreshing the page can generate a new set of questions. These are **not exam style questions**, but should cover learning the basic understanding of terms used in the course."
   ]
  },
  {
   "cell_type": "code",
   "execution_count": null,
   "id": "22211297",
   "metadata": {
    "tags": [
     "remove-input"
    ]
   },
   "outputs": [],
   "source": [
    "import micropip\n",
    "await micropip.install('jupyterquiz')\n",
    "from jupyterquiz import display_quiz\n",
    "\n",
    "display_quiz('phy303-unit4-quiz-answers.json', shuffle_questions=True, num=20)"
   ]
  }
 ],
 "metadata": {
  "kernelspec": {
   "display_name": "Python 3 (ipykernel)",
   "language": "python",
   "name": "python3"
  },
  "language_info": {
   "codemirror_mode": {
    "name": "ipython",
    "version": 3
   },
   "file_extension": ".py",
   "mimetype": "text/x-python",
   "name": "python",
   "nbconvert_exporter": "python",
   "pygments_lexer": "ipython3",
   "version": "3.11.6"
  }
 },
 "nbformat": 4,
 "nbformat_minor": 5
}
