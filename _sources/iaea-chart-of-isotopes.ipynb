{
 "cells": [
  {
   "cell_type": "markdown",
   "id": "2987fc1e",
   "metadata": {},
   "source": [
    "## IAEA Chart of Isotopes\n",
    "\n",
    "The IAEA chart of nuclides datasets offer detailed nuclear properties like half-lives, decay modes, and energy levels, invaluable for research and applications in nuclear physics, medicine, and energy due to their comprehensive coverage and well validated datasets."
   ]
  },
  {
   "cell_type": "code",
   "execution_count": 4,
   "id": "198076ce",
   "metadata": {
    "tags": [
     "remove-inputt",
     "remove-input",
     "hide_cell"
    ]
   },
   "outputs": [
    {
     "data": {
      "application/vnd.plotly.v1+json": {
       "config": {
        "plotlyServerURL": "https://plot.ly"
       },
       "data": [
        {
         "hovertemplate": "Odd Neutron=True<br>Proton Number [Z]=0<br>Neutron Number [N]=%{x}<br>Deficit [MeV]=%{y}<extra></extra>",
         "legendgroup": "True",
         "marker": {
          "color": "#636efa",
          "symbol": "circle"
         },
         "mode": "markers",
         "name": "True",
         "orientation": "v",
         "showlegend": true,
         "type": "scatter",
         "x": [
          1
         ],
         "xaxis": "x",
         "y": [
          0
         ],
         "yaxis": "y"
        },
        {
         "hovertemplate": "Odd Neutron=False<br>Proton Number [Z]=0<br>Neutron Number [N]=%{x}<br>Deficit [MeV]=%{y}<extra></extra>",
         "legendgroup": "False",
         "marker": {
          "color": "#EF553B",
          "symbol": "circle"
         },
         "mode": "markers",
         "name": "False",
         "orientation": "v",
         "showlegend": true,
         "type": "scatter",
         "x": [
          4,
          6
         ],
         "xaxis": "x",
         "y": [
          null,
          null
         ],
         "yaxis": "y"
        },
        {
         "hovertemplate": "Proton Number [Z]=0<br>Neutron Number [N]=%{x}<br>Deficit [MeV]=%{y}<extra></extra>",
         "legendgroup": "",
         "line": {
          "color": "#636efa",
          "dash": "solid"
         },
         "marker": {
          "symbol": "circle"
         },
         "mode": "lines",
         "name": "",
         "orientation": "v",
         "showlegend": false,
         "type": "scatter",
         "x": [
          1,
          4,
          6
         ],
         "xaxis": "x",
         "y": [
          0,
          null,
          null
         ],
         "yaxis": "y"
        }
       ],
       "frames": [
        {
         "data": [
          {
           "hovertemplate": "Odd Neutron=True<br>Proton Number [Z]=0<br>Neutron Number [N]=%{x}<br>Deficit [MeV]=%{y}<extra></extra>",
           "legendgroup": "True",
           "marker": {
            "color": "#636efa",
            "symbol": "circle"
           },
           "mode": "markers",
           "name": "True",
           "orientation": "v",
           "showlegend": true,
           "type": "scatter",
           "x": [
            1
           ],
           "xaxis": "x",
           "y": [
            0
           ],
           "yaxis": "y"
          },
          {
           "hovertemplate": "Odd Neutron=False<br>Proton Number [Z]=0<br>Neutron Number [N]=%{x}<br>Deficit [MeV]=%{y}<extra></extra>",
           "legendgroup": "False",
           "marker": {
            "color": "#EF553B",
            "symbol": "circle"
           },
           "mode": "markers",
           "name": "False",
           "orientation": "v",
           "showlegend": true,
           "type": "scatter",
           "x": [
            4,
            6
           ],
           "xaxis": "x",
           "y": [
            null,
            null
           ],
           "yaxis": "y"
          }
         ],
         "name": "0"
        },
        {
         "data": [
          {
           "hovertemplate": "Odd Neutron=True<br>Proton Number [Z]=1<br>Neutron Number [N]=%{x}<br>Deficit [MeV]=%{y}<extra></extra>",
           "legendgroup": "True",
           "marker": {
            "color": "#636efa",
            "symbol": "circle"
           },
           "mode": "markers",
           "name": "True",
           "orientation": "v",
           "showlegend": true,
           "type": "scatter",
           "x": [
            1,
            3,
            5
           ],
           "xaxis": "x",
           "y": [
            -1112.2831,
            -1720.4491,
            -961.6395
           ],
           "yaxis": "y"
          },
          {
           "hovertemplate": "Odd Neutron=False<br>Proton Number [Z]=1<br>Neutron Number [N]=%{x}<br>Deficit [MeV]=%{y}<extra></extra>",
           "legendgroup": "False",
           "marker": {
            "color": "#EF553B",
            "symbol": "circle"
           },
           "mode": "markers",
           "name": "False",
           "orientation": "v",
           "showlegend": true,
           "type": "scatter",
           "x": [
            0,
            2,
            4,
            6
           ],
           "xaxis": "x",
           "y": [
            0,
            -2827.2654,
            -1336.3592,
            -940
           ],
           "yaxis": "y"
          }
         ],
         "name": "1"
        },
        {
         "data": [
          {
           "hovertemplate": "Odd Neutron=True<br>Proton Number [Z]=2<br>Neutron Number [N]=%{x}<br>Deficit [MeV]=%{y}<extra></extra>",
           "legendgroup": "True",
           "marker": {
            "color": "#636efa",
            "symbol": "circle"
           },
           "mode": "markers",
           "name": "True",
           "orientation": "v",
           "showlegend": true,
           "type": "scatter",
           "x": [
            1,
            3,
            5,
            7
           ],
           "xaxis": "x",
           "y": [
            -2572.68044,
            -5512.1325,
            -4123.0578,
            -3349.038
           ],
           "yaxis": "y"
          },
          {
           "hovertemplate": "Odd Neutron=False<br>Proton Number [Z]=2<br>Neutron Number [N]=%{x}<br>Deficit [MeV]=%{y}<extra></extra>",
           "legendgroup": "False",
           "marker": {
            "color": "#EF553B",
            "symbol": "circle"
           },
           "mode": "markers",
           "name": "False",
           "orientation": "v",
           "showlegend": true,
           "type": "scatter",
           "x": [
            2,
            4,
            6,
            8
           ],
           "xaxis": "x",
           "y": [
            -7073.9156,
            -4878.5199,
            -3924.521,
            -2995.134
           ],
           "yaxis": "y"
          }
         ],
         "name": "2"
        },
        {
         "data": [
          {
           "hovertemplate": "Odd Neutron=True<br>Proton Number [Z]=3<br>Neutron Number [N]=%{x}<br>Deficit [MeV]=%{y}<extra></extra>",
           "legendgroup": "True",
           "marker": {
            "color": "#636efa",
            "symbol": "circle"
           },
           "mode": "markers",
           "name": "True",
           "orientation": "v",
           "showlegend": true,
           "type": "scatter",
           "x": [
            1,
            3,
            5,
            7,
            9
           ],
           "xaxis": "x",
           "y": [
            -1153.7603,
            -5332.3312,
            -5159.7124,
            -4531.3512,
            -3791.5999
           ],
           "yaxis": "y"
          },
          {
           "hovertemplate": "Odd Neutron=False<br>Proton Number [Z]=3<br>Neutron Number [N]=%{x}<br>Deficit [MeV]=%{y}<extra></extra>",
           "legendgroup": "False",
           "marker": {
            "color": "#EF553B",
            "symbol": "circle"
           },
           "mode": "markers",
           "name": "False",
           "orientation": "v",
           "showlegend": true,
           "type": "scatter",
           "x": [
            2,
            4,
            6,
            8
           ],
           "xaxis": "x",
           "y": [
            -5266.1325,
            -5606.4401,
            -5037.7685,
            -4155.3817
           ],
           "yaxis": "y"
          }
         ],
         "name": "3"
        },
        {
         "data": [
          {
           "hovertemplate": "Odd Neutron=True<br>Proton Number [Z]=4<br>Neutron Number [N]=%{x}<br>Deficit [MeV]=%{y}<extra></extra>",
           "legendgroup": "True",
           "marker": {
            "color": "#636efa",
            "symbol": "circle"
           },
           "mode": "markers",
           "name": "True",
           "orientation": "v",
           "showlegend": true,
           "type": "scatter",
           "x": [
            3,
            5,
            7,
            9,
            11
           ],
           "xaxis": "x",
           "y": [
            -5371.5487,
            -6462.6693,
            -5952.5402,
            -5241.4359,
            -4540.9708
           ],
           "yaxis": "y"
          },
          {
           "hovertemplate": "Odd Neutron=False<br>Proton Number [Z]=4<br>Neutron Number [N]=%{x}<br>Deficit [MeV]=%{y}<extra></extra>",
           "legendgroup": "False",
           "marker": {
            "color": "#EF553B",
            "symbol": "circle"
           },
           "mode": "markers",
           "name": "False",
           "orientation": "v",
           "showlegend": true,
           "type": "scatter",
           "x": [
            2,
            4,
            6,
            8,
            10,
            12
           ],
           "xaxis": "x",
           "y": [
            -4487.2478,
            -7062.4356,
            -6497.6306,
            -5720.7223,
            -4993.8973,
            -4285.2851
           ],
           "yaxis": "y"
          }
         ],
         "name": "4"
        },
        {
         "data": [
          {
           "hovertemplate": "Odd Neutron=True<br>Proton Number [Z]=5<br>Neutron Number [N]=%{x}<br>Deficit [MeV]=%{y}<extra></extra>",
           "legendgroup": "True",
           "marker": {
            "color": "#636efa",
            "symbol": "circle"
           },
           "mode": "markers",
           "name": "True",
           "orientation": "v",
           "showlegend": true,
           "type": "scatter",
           "x": [
            3,
            5,
            7,
            9,
            11,
            13,
            15
           ],
           "xaxis": "x",
           "y": [
            -4717.1551,
            -6475.0835,
            -6631.2237,
            -6101.6451,
            -5507.3535,
            -4976.6306,
            -4405.6529
           ],
           "yaxis": "y"
          },
          {
           "hovertemplate": "Odd Neutron=False<br>Proton Number [Z]=5<br>Neutron Number [N]=%{x}<br>Deficit [MeV]=%{y}<extra></extra>",
           "legendgroup": "False",
           "marker": {
            "color": "#EF553B",
            "symbol": "circle"
           },
           "mode": "markers",
           "name": "False",
           "orientation": "v",
           "showlegend": true,
           "type": "scatter",
           "x": [
            2,
            4,
            6,
            8,
            10,
            12,
            14,
            16
           ],
           "xaxis": "x",
           "y": [
            -3558.7055,
            -6257.0713,
            -6927.7323,
            -6496.4194,
            -5880.0438,
            -5269.6677,
            -4719.6346,
            -4152.5265
           ],
           "yaxis": "y"
          }
         ],
         "name": "5"
        },
        {
         "data": [
          {
           "hovertemplate": "Odd Neutron=True<br>Proton Number [Z]=6<br>Neutron Number [N]=%{x}<br>Deficit [MeV]=%{y}<extra></extra>",
           "legendgroup": "True",
           "marker": {
            "color": "#636efa",
            "symbol": "circle"
           },
           "mode": "markers",
           "name": "True",
           "orientation": "v",
           "showlegend": true,
           "type": "scatter",
           "x": [
            3,
            5,
            7,
            9,
            11,
            13
           ],
           "xaxis": "x",
           "y": [
            -4337.4233,
            -6676.4563,
            -7469.8495,
            -7100.1696,
            -6558.0262,
            -6118.274
           ],
           "yaxis": "y"
          },
          {
           "hovertemplate": "Odd Neutron=False<br>Proton Number [Z]=6<br>Neutron Number [N]=%{x}<br>Deficit [MeV]=%{y}<extra></extra>",
           "legendgroup": "False",
           "marker": {
            "color": "#EF553B",
            "symbol": "circle"
           },
           "mode": "markers",
           "name": "False",
           "orientation": "v",
           "showlegend": true,
           "type": "scatter",
           "x": [
            2,
            4,
            6,
            8,
            10,
            12,
            14,
            16
           ],
           "xaxis": "x",
           "y": [
            -3101.5242,
            -6032.0426,
            -7680.1446,
            -7520.3198,
            -6922.0546,
            -6426.1321,
            -5961.4356,
            -5421.0778
           ],
           "yaxis": "y"
          }
         ],
         "name": "6"
        },
        {
         "data": [
          {
           "hovertemplate": "Odd Neutron=True<br>Proton Number [Z]=7<br>Neutron Number [N]=%{x}<br>Deficit [MeV]=%{y}<extra></extra>",
           "legendgroup": "True",
           "marker": {
            "color": "#636efa",
            "symbol": "circle"
           },
           "mode": "markers",
           "name": "True",
           "orientation": "v",
           "showlegend": true,
           "type": "scatter",
           "x": [
            3,
            5,
            7,
            9,
            11,
            13,
            15,
            17
           ],
           "xaxis": "x",
           "y": [
            -3643.6724,
            -6170.11,
            -7475.6148,
            -7373.7971,
            -7038.5627,
            -6709.1717,
            -6378.5347,
            -5887
           ],
           "yaxis": "y"
          },
          {
           "hovertemplate": "Odd Neutron=False<br>Proton Number [Z]=7<br>Neutron Number [N]=%{x}<br>Deficit [MeV]=%{y}<extra></extra>",
           "legendgroup": "False",
           "marker": {
            "color": "#EF553B",
            "symbol": "circle"
           },
           "mode": "markers",
           "name": "False",
           "orientation": "v",
           "showlegend": true,
           "type": "scatter",
           "x": [
            4,
            6,
            8,
            10,
            12,
            14,
            16
           ],
           "xaxis": "x",
           "y": [
            -5358.4023,
            -7238.8634,
            -7699.4603,
            -7286.2294,
            -6948.5452,
            -6609.0159,
            -6236.6721
           ],
           "yaxis": "y"
          }
         ],
         "name": "7"
        },
        {
         "data": [
          {
           "hovertemplate": "Odd Neutron=True<br>Proton Number [Z]=8<br>Neutron Number [N]=%{x}<br>Deficit [MeV]=%{y}<extra></extra>",
           "legendgroup": "True",
           "marker": {
            "color": "#636efa",
            "symbol": "circle"
           },
           "mode": "markers",
           "name": "True",
           "orientation": "v",
           "showlegend": true,
           "type": "scatter",
           "x": [
            3,
            5,
            7,
            9,
            11,
            13,
            15,
            17
           ],
           "xaxis": "x",
           "y": [
            -3162.4372,
            -5811.7636,
            -7463.6915,
            -7750.7291,
            -7566.4952,
            -7389.3747,
            -7163.4856,
            -6727.8058
           ],
           "yaxis": "y"
          },
          {
           "hovertemplate": "Odd Neutron=False<br>Proton Number [Z]=8<br>Neutron Number [N]=%{x}<br>Deficit [MeV]=%{y}<extra></extra>",
           "legendgroup": "False",
           "marker": {
            "color": "#EF553B",
            "symbol": "circle"
           },
           "mode": "markers",
           "name": "False",
           "orientation": "v",
           "showlegend": true,
           "type": "scatter",
           "x": [
            4,
            6,
            8,
            10,
            12,
            14,
            16,
            18
           ],
           "xaxis": "x",
           "y": [
            -4881.9755,
            -7052.2783,
            -7976.2072,
            -7767.0981,
            -7568.5707,
            -7364.8722,
            -7039.6855,
            -6497.479
           ],
           "yaxis": "y"
          }
         ],
         "name": "8"
        },
        {
         "data": [
          {
           "hovertemplate": "Odd Neutron=True<br>Proton Number [Z]=9<br>Neutron Number [N]=%{x}<br>Deficit [MeV]=%{y}<extra></extra>",
           "legendgroup": "True",
           "marker": {
            "color": "#636efa",
            "symbol": "circle"
           },
           "mode": "markers",
           "name": "True",
           "orientation": "v",
           "showlegend": true,
           "type": "scatter",
           "x": [
            5,
            7,
            9,
            11,
            13,
            15,
            17,
            19,
            21
           ],
           "xaxis": "x",
           "y": [
            -5285.2091,
            -6964.049,
            -7631.6383,
            -7720.1351,
            -7624.2954,
            -7463.5831,
            -7082.2497,
            -6626.8567,
            -6205
           ],
           "yaxis": "y"
          },
          {
           "hovertemplate": "Odd Neutron=False<br>Proton Number [Z]=9<br>Neutron Number [N]=%{x}<br>Deficit [MeV]=%{y}<extra></extra>",
           "legendgroup": "False",
           "marker": {
            "color": "#EF553B",
            "symbol": "circle"
           },
           "mode": "markers",
           "name": "False",
           "orientation": "v",
           "showlegend": true,
           "type": "scatter",
           "x": [
            4,
            6,
            8,
            10,
            12,
            14,
            16,
            18,
            20,
            22
           ],
           "xaxis": "x",
           "y": [
            -4297,
            -6497.4597,
            -7542.3284,
            -7779.0192,
            -7738.2934,
            -7622.3447,
            -7336.3065,
            -6879.6662,
            -6444.0314,
            -6011
           ],
           "yaxis": "y"
          }
         ],
         "name": "9"
        },
        {
         "data": [
          {
           "hovertemplate": "Odd Neutron=True<br>Proton Number [Z]=10<br>Neutron Number [N]=%{x}<br>Deficit [MeV]=%{y}<extra></extra>",
           "legendgroup": "True",
           "marker": {
            "color": "#636efa",
            "symbol": "circle"
           },
           "mode": "markers",
           "name": "True",
           "orientation": "v",
           "showlegend": true,
           "type": "scatter",
           "x": [
            5,
            7,
            9,
            11,
            13,
            15,
            17,
            19,
            21,
            23
           ],
           "xaxis": "x",
           "y": [
            -4868.7285,
            -6640.4991,
            -7567.3431,
            -7971.7136,
            -7955.2561,
            -7839.7994,
            -7520.4151,
            -7167.0673,
            -6813.0902,
            -6436
           ],
           "yaxis": "y"
          },
          {
           "hovertemplate": "Odd Neutron=False<br>Proton Number [Z]=10<br>Neutron Number [N]=%{x}<br>Deficit [MeV]=%{y}<extra></extra>",
           "legendgroup": "False",
           "marker": {
            "color": "#EF553B",
            "symbol": "circle"
           },
           "mode": "markers",
           "name": "False",
           "orientation": "v",
           "showlegend": true,
           "type": "scatter",
           "x": [
            6,
            8,
            10,
            12,
            14,
            16,
            18,
            20,
            22,
            24
           ],
           "xaxis": "x",
           "y": [
            -6083.1777,
            -7341.2577,
            -8032.2412,
            -8080.4656,
            -7993.3252,
            -7751.911,
            -7388.3463,
            -7034.5317,
            -6671,
            -6287
           ],
           "yaxis": "y"
          }
         ],
         "name": "10"
        },
        {
         "data": [
          {
           "hovertemplate": "Odd Neutron=True<br>Proton Number [Z]=11<br>Neutron Number [N]=%{x}<br>Deficit [MeV]=%{y}<extra></extra>",
           "legendgroup": "True",
           "marker": {
            "color": "#636efa",
            "symbol": "circle"
           },
           "mode": "markers",
           "name": "True",
           "orientation": "v",
           "showlegend": true,
           "type": "scatter",
           "x": [
            7,
            9,
            11,
            13,
            15,
            17,
            19,
            21,
            23,
            25
           ],
           "xaxis": "x",
           "y": [
            -6202.2176,
            -7298.5028,
            -7915.6624,
            -8063.4882,
            -8004.2013,
            -7799.2644,
            -7501.9685,
            -7219.8815,
            -6886.4377,
            -6557
           ],
           "yaxis": "y"
          },
          {
           "hovertemplate": "Odd Neutron=False<br>Proton Number [Z]=11<br>Neutron Number [N]=%{x}<br>Deficit [MeV]=%{y}<extra></extra>",
           "legendgroup": "False",
           "marker": {
            "color": "#EF553B",
            "symbol": "circle"
           },
           "mode": "markers",
           "name": "False",
           "orientation": "v",
           "showlegend": true,
           "type": "scatter",
           "x": [
            6,
            8,
            10,
            12,
            14,
            16,
            18,
            20,
            22,
            24,
            26
           ],
           "xaxis": "x",
           "y": [
            -5522.7653,
            -6937.8864,
            -7765.5581,
            -8111.4936,
            -8101.3979,
            -7956.9467,
            -7682.1522,
            -7398.6778,
            -7089.9262,
            -6745,
            -6403
           ],
           "yaxis": "y"
          }
         ],
         "name": "11"
        },
        {
         "data": [
          {
           "hovertemplate": "Odd Neutron=True<br>Proton Number [Z]=12<br>Neutron Number [N]=%{x}<br>Deficit [MeV]=%{y}<extra></extra>",
           "legendgroup": "True",
           "marker": {
            "color": "#636efa",
            "symbol": "circle"
           },
           "mode": "markers",
           "name": "True",
           "orientation": "v",
           "showlegend": true,
           "type": "scatter",
           "x": [
            7,
            9,
            11,
            13,
            15,
            17,
            19,
            21,
            23,
            25,
            27
           ],
           "xaxis": "x",
           "y": [
            -5901.4992,
            -7105.0317,
            -7901.1229,
            -8223.5028,
            -8263.8525,
            -8113.5317,
            -7869.1886,
            -7636.4382,
            -7356.2338,
            -7055.1115,
            -6734
           ],
           "yaxis": "y"
          },
          {
           "hovertemplate": "Odd Neutron=False<br>Proton Number [Z]=12<br>Neutron Number [N]=%{x}<br>Deficit [MeV]=%{y}<extra></extra>",
           "legendgroup": "False",
           "marker": {
            "color": "#EF553B",
            "symbol": "circle"
           },
           "mode": "markers",
           "name": "False",
           "orientation": "v",
           "showlegend": true,
           "type": "scatter",
           "x": [
            6,
            8,
            10,
            12,
            14,
            16,
            18,
            20,
            22,
            24,
            26,
            28
           ],
           "xaxis": "x",
           "y": [
            null,
            -6728.0252,
            -7662.7645,
            -8260.7103,
            -8333.8711,
            -8272.4531,
            -8054.425,
            -7803.8411,
            -7550.3919,
            -7244.4202,
            -6928,
            -6598
           ],
           "yaxis": "y"
          }
         ],
         "name": "12"
        },
        {
         "data": [
          {
           "hovertemplate": "Odd Neutron=True<br>Proton Number [Z]=13<br>Neutron Number [N]=%{x}<br>Deficit [MeV]=%{y}<extra></extra>",
           "legendgroup": "True",
           "marker": {
            "color": "#636efa",
            "symbol": "circle"
           },
           "mode": "markers",
           "name": "True",
           "orientation": "v",
           "showlegend": true,
           "type": "scatter",
           "x": [
            9,
            11,
            13,
            15,
            17,
            19,
            21,
            23,
            25,
            27,
            29
           ],
           "xaxis": "x",
           "y": [
            -6782,
            -7649.5806,
            -8149.7653,
            -8309.8969,
            -8261.1049,
            -8100.3449,
            -7860.3506,
            -7623.5154,
            -7370,
            -7097,
            -6829
           ],
           "yaxis": "y"
          },
          {
           "hovertemplate": "Odd Neutron=False<br>Proton Number [Z]=13<br>Neutron Number [N]=%{x}<br>Deficit [MeV]=%{y}<extra></extra>",
           "legendgroup": "False",
           "marker": {
            "color": "#EF553B",
            "symbol": "circle"
           },
           "mode": "markers",
           "name": "False",
           "orientation": "v",
           "showlegend": true,
           "type": "scatter",
           "x": [
            8,
            10,
            12,
            14,
            16,
            18,
            20,
            22,
            24,
            26,
            28,
            30
           ],
           "xaxis": "x",
           "y": [
            -6297,
            -7335.7275,
            -8021.1366,
            -8331.5533,
            -8348.4647,
            -8225.518,
            -8020.6172,
            -7787.1243,
            -7531.316,
            -7260,
            -6980,
            -6712
           ],
           "yaxis": "y"
          }
         ],
         "name": "13"
        },
        {
         "data": [
          {
           "hovertemplate": "Odd Neutron=True<br>Proton Number [Z]=14<br>Neutron Number [N]=%{x}<br>Deficit [MeV]=%{y}<extra></extra>",
           "legendgroup": "True",
           "marker": {
            "color": "#636efa",
            "symbol": "circle"
           },
           "mode": "markers",
           "name": "True",
           "orientation": "v",
           "showlegend": true,
           "type": "scatter",
           "x": [
            9,
            11,
            13,
            15,
            17,
            19,
            21,
            23,
            25,
            27,
            29
           ],
           "xaxis": "x",
           "y": [
            -6554,
            -7480.1109,
            -8124.342,
            -8448.6361,
            -8458.2916,
            -8361.0596,
            -8169.5644,
            -7952.9033,
            -7730.9793,
            -7482,
            -7251
           ],
           "yaxis": "y"
          },
          {
           "hovertemplate": "Odd Neutron=False<br>Proton Number [Z]=14<br>Neutron Number [N]=%{x}<br>Deficit [MeV]=%{y}<extra></extra>",
           "legendgroup": "False",
           "marker": {
            "color": "#EF553B",
            "symbol": "circle"
           },
           "mode": "markers",
           "name": "False",
           "orientation": "v",
           "showlegend": true,
           "type": "scatter",
           "x": [
            8,
            10,
            12,
            14,
            16,
            18,
            20,
            22,
            24,
            26,
            28,
            30
           ],
           "xaxis": "x",
           "y": [
            -6044,
            -7167.2329,
            -7924.7083,
            -8447.7445,
            -8520.6549,
            -8481.469,
            -8337.1659,
            -8112.5199,
            -7892.8297,
            -7655.8247,
            -7410,
            -7156
           ],
           "yaxis": "y"
          }
         ],
         "name": "14"
        },
        {
         "data": [
          {
           "hovertemplate": "Odd Neutron=True<br>Proton Number [Z]=15<br>Neutron Number [N]=%{x}<br>Deficit [MeV]=%{y}<extra></extra>",
           "legendgroup": "True",
           "marker": {
            "color": "#636efa",
            "symbol": "circle"
           },
           "mode": "markers",
           "name": "True",
           "orientation": "v",
           "showlegend": true,
           "type": "scatter",
           "x": [
            11,
            13,
            15,
            17,
            19,
            21,
            23,
            25,
            27,
            29,
            31
           ],
           "xaxis": "x",
           "y": [
            -7198,
            -7907.4842,
            -8353.5064,
            -8464.1203,
            -8448.1856,
            -8307.8692,
            -8147.2749,
            -7981.4177,
            -7765.9122,
            -7552,
            -7320
           ],
           "yaxis": "y"
          },
          {
           "hovertemplate": "Odd Neutron=False<br>Proton Number [Z]=15<br>Neutron Number [N]=%{x}<br>Deficit [MeV]=%{y}<extra></extra>",
           "legendgroup": "False",
           "marker": {
            "color": "#EF553B",
            "symbol": "circle"
           },
           "mode": "markers",
           "name": "False",
           "orientation": "v",
           "showlegend": true,
           "type": "scatter",
           "x": [
            10,
            12,
            14,
            16,
            18,
            20,
            22,
            24,
            26,
            28,
            30
           ],
           "xaxis": "x",
           "y": [
            -6794,
            -7661.0894,
            -8251.2368,
            -8481.1677,
            -8513.8073,
            -8446.2496,
            -8267.5561,
            -8097.9701,
            -7906.5513,
            -7681,
            -7456
           ],
           "yaxis": "y"
          }
         ],
         "name": "15"
        },
        {
         "data": [
          {
           "hovertemplate": "Odd Neutron=True<br>Proton Number [Z]=16<br>Neutron Number [N]=%{x}<br>Deficit [MeV]=%{y}<extra></extra>",
           "legendgroup": "True",
           "marker": {
            "color": "#636efa",
            "symbol": "circle"
           },
           "mode": "markers",
           "name": "True",
           "orientation": "v",
           "showlegend": true,
           "type": "scatter",
           "x": [
            11,
            13,
            15,
            17,
            19,
            21,
            23,
            25,
            27,
            29
           ],
           "xaxis": "x",
           "y": [
            -6960,
            -7746.3826,
            -8281.8013,
            -8497.6304,
            -8537.8511,
            -8459.9363,
            -8344.2698,
            -8229.6358,
            -8063.8276,
            -7867
           ],
           "yaxis": "y"
          },
          {
           "hovertemplate": "Odd Neutron=False<br>Proton Number [Z]=16<br>Neutron Number [N]=%{x}<br>Deficit [MeV]=%{y}<extra></extra>",
           "legendgroup": "False",
           "marker": {
            "color": "#EF553B",
            "symbol": "circle"
           },
           "mode": "markers",
           "name": "False",
           "orientation": "v",
           "showlegend": true,
           "type": "scatter",
           "x": [
            10,
            12,
            14,
            16,
            18,
            20,
            22,
            24,
            26,
            28,
            30,
            32
           ],
           "xaxis": "x",
           "y": [
            -6525,
            -7478.7911,
            -8122.7081,
            -8493.1301,
            -8583.4986,
            -8575.39,
            -8448.7829,
            -8329.3255,
            -8193.2275,
            -7996.0154,
            -7785,
            -7552
           ],
           "yaxis": "y"
          }
         ],
         "name": "16"
        },
        {
         "data": [
          {
           "hovertemplate": "Odd Neutron=True<br>Proton Number [Z]=17<br>Neutron Number [N]=%{x}<br>Deficit [MeV]=%{y}<extra></extra>",
           "legendgroup": "True",
           "marker": {
            "color": "#636efa",
            "symbol": "circle"
           },
           "mode": "markers",
           "name": "True",
           "orientation": "v",
           "showlegend": true,
           "type": "scatter",
           "x": [
            13,
            15,
            17,
            19,
            21,
            23,
            25,
            27,
            29,
            31,
            33,
            35
           ],
           "xaxis": "x",
           "y": [
            -7472.1698,
            -8072.4058,
            -8398.9706,
            -8521.9322,
            -8505.4817,
            -8427.766,
            -8345.8864,
            -8234.4788,
            -8080.7757,
            -7883,
            -7651,
            -7386
           ],
           "yaxis": "y"
          },
          {
           "hovertemplate": "Odd Neutron=False<br>Proton Number [Z]=17<br>Neutron Number [N]=%{x}<br>Deficit [MeV]=%{y}<extra></extra>",
           "legendgroup": "False",
           "marker": {
            "color": "#EF553B",
            "symbol": "circle"
           },
           "mode": "markers",
           "name": "False",
           "orientation": "v",
           "showlegend": true,
           "type": "scatter",
           "x": [
            12,
            14,
            16,
            18,
            20,
            22,
            24,
            26,
            28,
            30,
            32,
            34
           ],
           "xaxis": "x",
           "y": [
            -7129,
            -7869.2101,
            -8304.7557,
            -8520.279,
            -8570.2816,
            -8494.4032,
            -8412.9593,
            -8323.8672,
            -8181.5991,
            -7992,
            -7785,
            -7530
           ],
           "yaxis": "y"
          }
         ],
         "name": "17"
        },
        {
         "data": [
          {
           "hovertemplate": "Odd Neutron=True<br>Proton Number [Z]=18<br>Neutron Number [N]=%{x}<br>Deficit [MeV]=%{y}<extra></extra>",
           "legendgroup": "True",
           "marker": {
            "color": "#636efa",
            "symbol": "circle"
           },
           "mode": "markers",
           "name": "True",
           "orientation": "v",
           "showlegend": true,
           "type": "scatter",
           "x": [
            13,
            15,
            17,
            19,
            21,
            23,
            25,
            27,
            29,
            31,
            33,
            35
           ],
           "xaxis": "x",
           "y": [
            -7252,
            -7928.9559,
            -8327.4621,
            -8527.1406,
            -8562.5988,
            -8534.3733,
            -8488.2382,
            -8419.9526,
            -8311.425,
            -8132,
            -7922,
            -7677
           ],
           "yaxis": "y"
          },
          {
           "hovertemplate": "Odd Neutron=False<br>Proton Number [Z]=18<br>Neutron Number [N]=%{x}<br>Deficit [MeV]=%{y}<extra></extra>",
           "legendgroup": "False",
           "marker": {
            "color": "#EF553B",
            "symbol": "circle"
           },
           "mode": "markers",
           "name": "False",
           "orientation": "v",
           "showlegend": true,
           "type": "scatter",
           "x": [
            12,
            14,
            16,
            18,
            20,
            22,
            24,
            26,
            28,
            30,
            32,
            34
           ],
           "xaxis": "x",
           "y": [
            -6866,
            -7700.0089,
            -8197.6724,
            -8519.9096,
            -8614.2807,
            -8595.2594,
            -8555.6141,
            -8493.8411,
            -8412.3835,
            -8243.6656,
            -8054,
            -7827
           ],
           "yaxis": "y"
          }
         ],
         "name": "18"
        },
        {
         "data": [
          {
           "hovertemplate": "Odd Neutron=True<br>Proton Number [Z]=19<br>Neutron Number [N]=%{x}<br>Deficit [MeV]=%{y}<extra></extra>",
           "legendgroup": "True",
           "marker": {
            "color": "#636efa",
            "symbol": "circle"
           },
           "mode": "markers",
           "name": "True",
           "orientation": "v",
           "showlegend": true,
           "type": "scatter",
           "x": [
            15,
            17,
            19,
            21,
            23,
            25,
            27,
            29,
            31,
            33,
            35,
            37
           ],
           "xaxis": "x",
           "y": [
            -7670,
            -8142.2233,
            -8438.0593,
            -8538.0907,
            -8551.2571,
            -8546.7023,
            -8518.0428,
            -8434.2324,
            -8288.5833,
            -8115.0303,
            -7891,
            -7663
           ],
           "yaxis": "y"
          },
          {
           "hovertemplate": "Odd Neutron=False<br>Proton Number [Z]=19<br>Neutron Number [N]=%{x}<br>Deficit [MeV]=%{y}<extra></extra>",
           "legendgroup": "False",
           "marker": {
            "color": "#EF553B",
            "symbol": "circle"
           },
           "mode": "markers",
           "name": "False",
           "orientation": "v",
           "showlegend": true,
           "type": "scatter",
           "x": [
            12,
            14,
            16,
            18,
            20,
            22,
            24,
            26,
            28,
            30,
            32,
            34,
            36
           ],
           "xaxis": "x",
           "y": [
            -6487,
            -7392,
            -7965.8409,
            -8339.848,
            -8557.0258,
            -8576.0731,
            -8576.2204,
            -8554.6747,
            -8514.8795,
            -8372.2753,
            -8221.335,
            -8022.8488,
            -7792
           ],
           "yaxis": "y"
          }
         ],
         "name": "19"
        },
        {
         "data": [
          {
           "hovertemplate": "Odd Neutron=True<br>Proton Number [Z]=20<br>Neutron Number [N]=%{x}<br>Deficit [MeV]=%{y}<extra></extra>",
           "legendgroup": "True",
           "marker": {
            "color": "#636efa",
            "symbol": "circle"
           },
           "mode": "markers",
           "name": "True",
           "orientation": "v",
           "showlegend": true,
           "type": "scatter",
           "x": [
            15,
            17,
            19,
            21,
            23,
            25,
            27,
            29,
            31,
            33,
            35,
            37
           ],
           "xaxis": "x",
           "y": [
            -7476,
            -8003.4567,
            -8369.6711,
            -8546.7075,
            -8600.6653,
            -8630.5467,
            -8639.3548,
            -8594.85,
            -8476.9135,
            -8330.5778,
            -8125.926,
            -7912
           ],
           "yaxis": "y"
          },
          {
           "hovertemplate": "Odd Neutron=False<br>Proton Number [Z]=20<br>Neutron Number [N]=%{x}<br>Deficit [MeV]=%{y}<extra></extra>",
           "legendgroup": "False",
           "marker": {
            "color": "#EF553B",
            "symbol": "circle"
           },
           "mode": "markers",
           "name": "False",
           "orientation": "v",
           "showlegend": true,
           "type": "scatter",
           "x": [
            14,
            16,
            18,
            20,
            22,
            24,
            26,
            28,
            30,
            32,
            34,
            36,
            38
           ],
           "xaxis": "x",
           "y": [
            -7173,
            -7815.8799,
            -8240.0434,
            -8551.3046,
            -8616.5646,
            -8658.1769,
            -8668.9848,
            -8666.6916,
            -8550.1639,
            -8429.3821,
            -8247.4967,
            -8033.1654,
            -7828
           ],
           "yaxis": "y"
          }
         ],
         "name": "20"
        },
        {
         "data": [
          {
           "hovertemplate": "Odd Neutron=True<br>Proton Number [Z]=21<br>Neutron Number [N]=%{x}<br>Deficit [MeV]=%{y}<extra></extra>",
           "legendgroup": "True",
           "marker": {
            "color": "#636efa",
            "symbol": "circle"
           },
           "mode": "markers",
           "name": "True",
           "orientation": "v",
           "showlegend": true,
           "type": "scatter",
           "x": [
            17,
            19,
            21,
            23,
            25,
            27,
            29,
            31,
            33,
            35,
            37
           ],
           "xaxis": "x",
           "y": [
            -7751,
            -8173.6697,
            -8444.9303,
            -8557.3805,
            -8622.0215,
            -8656.2097,
            -8633.4747,
            -8534.6695,
            -8404.8115,
            -8233.5781,
            -8054.9436
           ],
           "yaxis": "y"
          },
          {
           "hovertemplate": "Odd Neutron=False<br>Proton Number [Z]=21<br>Neutron Number [N]=%{x}<br>Deficit [MeV]=%{y}<extra></extra>",
           "legendgroup": "False",
           "marker": {
            "color": "#EF553B",
            "symbol": "circle"
           },
           "mode": "markers",
           "name": "False",
           "orientation": "v",
           "showlegend": true,
           "type": "scatter",
           "x": [
            18,
            20,
            22,
            24,
            26,
            28,
            30,
            32,
            34,
            36,
            38,
            40
           ],
           "xaxis": "x",
           "y": [
            -8013.4575,
            -8369.1979,
            -8530.8265,
            -8618.941,
            -8665.0958,
            -8686.2805,
            -8597.2213,
            -8492.8325,
            -8333.3694,
            -8158.1666,
            -7976.4073,
            -7794
           ],
           "yaxis": "y"
          }
         ],
         "name": "21"
        },
        {
         "data": [
          {
           "hovertemplate": "Odd Neutron=True<br>Proton Number [Z]=22<br>Neutron Number [N]=%{x}<br>Deficit [MeV]=%{y}<extra></extra>",
           "legendgroup": "True",
           "marker": {
            "color": "#636efa",
            "symbol": "circle"
           },
           "mode": "markers",
           "name": "True",
           "orientation": "v",
           "showlegend": true,
           "type": "scatter",
           "x": [
            17,
            19,
            21,
            23,
            25,
            27,
            29,
            31,
            33,
            35,
            37,
            39,
            41
           ],
           "xaxis": "x",
           "y": [
            -7566,
            -8034.3889,
            -8352.8054,
            -8555.7321,
            -8661.2325,
            -8711.1625,
            -8708.9912,
            -8631.1256,
            -8518.9696,
            -8372.9008,
            -8218,
            -8058,
            -7891
           ],
           "yaxis": "y"
          },
          {
           "hovertemplate": "Odd Neutron=False<br>Proton Number [Z]=22<br>Neutron Number [N]=%{x}<br>Deficit [MeV]=%{y}<extra></extra>",
           "legendgroup": "False",
           "marker": {
            "color": "#EF553B",
            "symbol": "circle"
           },
           "mode": "markers",
           "name": "False",
           "orientation": "v",
           "showlegend": true,
           "type": "scatter",
           "x": [
            16,
            18,
            20,
            22,
            24,
            26,
            28,
            30,
            32,
            34,
            36,
            38,
            40,
            42
           ],
           "xaxis": "x",
           "y": [
            -7319,
            -7865.8632,
            -8259.24,
            -8533.5215,
            -8656.4623,
            -8723.0122,
            -8755.7227,
            -8691.8193,
            -8599.6917,
            -8467.9495,
            -8307.629,
            -8152.7858,
            -7990,
            -7826
           ],
           "yaxis": "y"
          }
         ],
         "name": "22"
        },
        {
         "data": [
          {
           "hovertemplate": "Odd Neutron=True<br>Proton Number [Z]=23<br>Neutron Number [N]=%{x}<br>Deficit [MeV]=%{y}<extra></extra>",
           "legendgroup": "True",
           "marker": {
            "color": "#636efa",
            "symbol": "circle"
           },
           "mode": "markers",
           "name": "True",
           "orientation": "v",
           "showlegend": true,
           "type": "scatter",
           "x": [
            19,
            21,
            23,
            25,
            27,
            29,
            31,
            33,
            35,
            37,
            39,
            41,
            43
           ],
           "xaxis": "x",
           "y": [
            -7824,
            -8203.4567,
            -8486.1423,
            -8623.0686,
            -8695.9032,
            -8714.569,
            -8662.1382,
            -8574.7006,
            -8458.156,
            -8322.8751,
            -8187.7565,
            -8045,
            -7894
           ],
           "yaxis": "y"
          },
          {
           "hovertemplate": "Odd Neutron=False<br>Proton Number [Z]=23<br>Neutron Number [N]=%{x}<br>Deficit [MeV]=%{y}<extra></extra>",
           "legendgroup": "False",
           "marker": {
            "color": "#EF553B",
            "symbol": "circle"
           },
           "mode": "markers",
           "name": "False",
           "orientation": "v",
           "showlegend": true,
           "type": "scatter",
           "x": [
            20,
            22,
            24,
            26,
            28,
            30,
            32,
            34,
            36,
            38,
            40,
            42,
            44
           ],
           "xaxis": "x",
           "y": [
            -8069.5129,
            -8380.0394,
            -8582.2348,
            -8682.9135,
            -8742.0852,
            -8710.1425,
            -8637.3391,
            -8535.1967,
            -8403.8034,
            -8271.0417,
            -8130.7809,
            -7981,
            -7829
           ],
           "yaxis": "y"
          }
         ],
         "name": "23"
        },
        {
         "data": [
          {
           "hovertemplate": "Odd Neutron=True<br>Proton Number [Z]=24<br>Neutron Number [N]=%{x}<br>Deficit [MeV]=%{y}<extra></extra>",
           "legendgroup": "True",
           "marker": {
            "color": "#636efa",
            "symbol": "circle"
           },
           "mode": "markers",
           "name": "True",
           "orientation": "v",
           "showlegend": true,
           "type": "scatter",
           "x": [
            19,
            21,
            23,
            25,
            27,
            29,
            31,
            33,
            35,
            37,
            39,
            41,
            43,
            45
           ],
           "xaxis": "x",
           "y": [
            -7680,
            -8087.7286,
            -8407.2067,
            -8613.2777,
            -8711.9923,
            -8760.2103,
            -8731.9362,
            -8663.3998,
            -8568.5995,
            -8460.1734,
            -8347.5398,
            -8218,
            -8079,
            -7939
           ],
           "yaxis": "y"
          },
          {
           "hovertemplate": "Odd Neutron=False<br>Proton Number [Z]=24<br>Neutron Number [N]=%{x}<br>Deficit [MeV]=%{y}<extra></extra>",
           "legendgroup": "False",
           "marker": {
            "color": "#EF553B",
            "symbol": "circle"
           },
           "mode": "markers",
           "name": "False",
           "orientation": "v",
           "showlegend": true,
           "type": "scatter",
           "x": [
            18,
            20,
            22,
            24,
            26,
            28,
            30,
            32,
            34,
            36,
            38,
            40,
            42,
            44,
            46
           ],
           "xaxis": "x",
           "y": [
            -7456,
            -7949.6265,
            -8303.8233,
            -8572.2553,
            -8701.0188,
            -8775.9946,
            -8777.9672,
            -8723.2609,
            -8643.9987,
            -8540.1876,
            -8427.3871,
            -8303.5626,
            -8168,
            -8026,
            -7884
           ],
           "yaxis": "y"
          }
         ],
         "name": "24"
        },
        {
         "data": [
          {
           "hovertemplate": "Odd Neutron=True<br>Proton Number [Z]=25<br>Neutron Number [N]=%{x}<br>Deficit [MeV]=%{y}<extra></extra>",
           "legendgroup": "True",
           "marker": {
            "color": "#636efa",
            "symbol": "circle"
           },
           "mode": "markers",
           "name": "True",
           "orientation": "v",
           "showlegend": true,
           "type": "scatter",
           "x": [
            19,
            21,
            23,
            25,
            27,
            29,
            31,
            33,
            35,
            37,
            39,
            41,
            43,
            45,
            47
           ],
           "xaxis": "x",
           "y": [
            -7457,
            -7916.0805,
            -8274.1924,
            -8532.6823,
            -8670.4087,
            -8737.9768,
            -8738.3358,
            -8696.6438,
            -8628.1392,
            -8538.5002,
            -8437.4175,
            -8331.7986,
            -8209,
            -8084,
            -7955
           ],
           "yaxis": "y"
          },
          {
           "hovertemplate": "Odd Neutron=False<br>Proton Number [Z]=25<br>Neutron Number [N]=%{x}<br>Deficit [MeV]=%{y}<extra></extra>",
           "legendgroup": "False",
           "marker": {
            "color": "#EF553B",
            "symbol": "circle"
           },
           "mode": "markers",
           "name": "False",
           "orientation": "v",
           "showlegend": true,
           "type": "scatter",
           "x": [
            20,
            22,
            24,
            26,
            28,
            30,
            32,
            34,
            36,
            38,
            40,
            42,
            44,
            48
           ],
           "xaxis": "x",
           "y": [
            -7747,
            -8135.3117,
            -8439.915,
            -8633.7602,
            -8734.1798,
            -8765.0247,
            -8736.7146,
            -8680.9224,
            -8598.9157,
            -8505.102,
            -8400.6822,
            -8281,
            -8155,
            -7895
           ],
           "yaxis": "y"
          }
         ],
         "name": "25"
        },
        {
         "data": [
          {
           "hovertemplate": "Odd Neutron=True<br>Proton Number [Z]=26<br>Neutron Number [N]=%{x}<br>Deficit [MeV]=%{y}<extra></extra>",
           "legendgroup": "True",
           "marker": {
            "color": "#636efa",
            "symbol": "circle"
           },
           "mode": "markers",
           "name": "True",
           "orientation": "v",
           "showlegend": true,
           "type": "scatter",
           "x": [
            19,
            21,
            23,
            25,
            27,
            29,
            31,
            33,
            35,
            37,
            39,
            41,
            43,
            45,
            47,
            49
           ],
           "xaxis": "x",
           "y": [
            -7299,
            -7790,
            -8161.3121,
            -8460.4977,
            -8648.7985,
            -8746.5981,
            -8770.2829,
            -8754.7746,
            -8703.7686,
            -8631.5499,
            -8546.347,
            -8449.9359,
            -8345,
            -8235,
            -8121,
            -7996
           ],
           "yaxis": "y"
          },
          {
           "hovertemplate": "Odd Neutron=False<br>Proton Number [Z]=26<br>Neutron Number [N]=%{x}<br>Deficit [MeV]=%{y}<extra></extra>",
           "legendgroup": "False",
           "marker": {
            "color": "#EF553B",
            "symbol": "circle"
           },
           "mode": "markers",
           "name": "False",
           "orientation": "v",
           "showlegend": true,
           "type": "scatter",
           "x": [
            20,
            22,
            24,
            26,
            28,
            30,
            32,
            34,
            36,
            38,
            40,
            42,
            44,
            46,
            48,
            50
           ],
           "xaxis": "x",
           "y": [
            -7603,
            -8022.7254,
            -8354.0268,
            -8609.6079,
            -8736.3846,
            -8790.3563,
            -8792.2534,
            -8755.8539,
            -8692.8831,
            -8612.3888,
            -8521.7245,
            -8418,
            -8308,
            -8195,
            -8076,
            -7943
           ],
           "yaxis": "y"
          }
         ],
         "name": "26"
        },
        {
         "data": [
          {
           "hovertemplate": "Odd Neutron=True<br>Proton Number [Z]=27<br>Neutron Number [N]=%{x}<br>Deficit [MeV]=%{y}<extra></extra>",
           "legendgroup": "True",
           "marker": {
            "color": "#636efa",
            "symbol": "circle"
           },
           "mode": "markers",
           "name": "True",
           "orientation": "v",
           "showlegend": true,
           "type": "scatter",
           "x": [
            21,
            23,
            25,
            27,
            29,
            31,
            33,
            35,
            37,
            39,
            41,
            43,
            45,
            47,
            49,
            51
           ],
           "xaxis": "x",
           "y": [
            -7595,
            -8000.6387,
            -8325.5606,
            -8569.2199,
            -8694.8386,
            -8738.9719,
            -8746.7692,
            -8721.3347,
            -8675.5223,
            -8605.9419,
            -8520.1301,
            -8434.198,
            -8338,
            -8239,
            -8131,
            -7997
           ],
           "yaxis": "y"
          },
          {
           "hovertemplate": "Odd Neutron=False<br>Proton Number [Z]=27<br>Neutron Number [N]=%{x}<br>Deficit [MeV]=%{y}<extra></extra>",
           "legendgroup": "False",
           "marker": {
            "color": "#EF553B",
            "symbol": "circle"
           },
           "mode": "markers",
           "name": "False",
           "orientation": "v",
           "showlegend": true,
           "type": "scatter",
           "x": [
            24,
            26,
            28,
            30,
            32,
            34,
            36,
            38,
            40,
            42,
            44,
            46,
            48,
            50
           ],
           "xaxis": "x",
           "y": [
            -8193.2549,
            -8477.6578,
            -8669.6204,
            -8741.8845,
            -8768.0379,
            -8756.151,
            -8717.7972,
            -8656.8848,
            -8581.7422,
            -8495.4062,
            -8398.7344,
            -8302,
            -8197,
            -8082
           ],
           "yaxis": "y"
          }
         ],
         "name": "27"
        },
        {
         "data": [
          {
           "hovertemplate": "Odd Neutron=True<br>Proton Number [Z]=28<br>Neutron Number [N]=%{x}<br>Deficit [MeV]=%{y}<extra></extra>",
           "legendgroup": "True",
           "marker": {
            "color": "#636efa",
            "symbol": "circle"
           },
           "mode": "markers",
           "name": "True",
           "orientation": "v",
           "showlegend": true,
           "type": "scatter",
           "x": [
            21,
            23,
            25,
            27,
            29,
            31,
            33,
            35,
            37,
            39,
            41,
            43,
            45,
            47,
            49,
            51,
            53
           ],
           "xaxis": "x",
           "y": [
            -7450,
            -7870,
            -8217.0749,
            -8497.3225,
            -8670.9364,
            -8736.5912,
            -8765.0281,
            -8763.4955,
            -8736.2424,
            -8695.7505,
            -8623.0998,
            -8543.1564,
            -8457.6529,
            -8369,
            -8272,
            -8150,
            -8000
           ],
           "yaxis": "y"
          },
          {
           "hovertemplate": "Odd Neutron=False<br>Proton Number [Z]=28<br>Neutron Number [N]=%{x}<br>Deficit [MeV]=%{y}<extra></extra>",
           "legendgroup": "False",
           "marker": {
            "color": "#EF553B",
            "symbol": "circle"
           },
           "mode": "markers",
           "name": "False",
           "orientation": "v",
           "showlegend": true,
           "type": "scatter",
           "x": [
            20,
            22,
            24,
            26,
            28,
            30,
            32,
            34,
            36,
            38,
            40,
            42,
            44,
            46,
            48,
            50,
            52,
            54
           ],
           "xaxis": "x",
           "y": [
            -7236,
            -7702,
            -8083.8977,
            -8393.0328,
            -8642.7811,
            -8732.0621,
            -8780.7769,
            -8794.5555,
            -8777.4637,
            -8739.5086,
            -8682.4667,
            -8604.2917,
            -8520.2118,
            -8433,
            -8338,
            -8238,
            -8088,
            -7935
           ],
           "yaxis": "y"
          }
         ],
         "name": "28"
        },
        {
         "data": [
          {
           "hovertemplate": "Odd Neutron=True<br>Proton Number [Z]=29<br>Neutron Number [N]=%{x}<br>Deficit [MeV]=%{y}<extra></extra>",
           "legendgroup": "True",
           "marker": {
            "color": "#636efa",
            "symbol": "circle"
           },
           "mode": "markers",
           "name": "True",
           "orientation": "v",
           "showlegend": true,
           "type": "scatter",
           "x": [
            25,
            27,
            29,
            31,
            33,
            35,
            37,
            39,
            41,
            43,
            45,
            47,
            49,
            51,
            53
           ],
           "xaxis": "x",
           "y": [
            -8045,
            -8355.9907,
            -8570.9696,
            -8665.6047,
            -8718.0839,
            -8739.0736,
            -8731.473,
            -8701.8913,
            -8646.8655,
            -8586.5256,
            -8521.5633,
            -8443.6018,
            -8354.6695,
            -8246,
            -8108
           ],
           "yaxis": "y"
          },
          {
           "hovertemplate": "Odd Neutron=False<br>Proton Number [Z]=29<br>Neutron Number [N]=%{x}<br>Deficit [MeV]=%{y}<extra></extra>",
           "legendgroup": "False",
           "marker": {
            "color": "#EF553B",
            "symbol": "circle"
           },
           "mode": "markers",
           "name": "False",
           "orientation": "v",
           "showlegend": true,
           "type": "scatter",
           "x": [
            24,
            26,
            28,
            30,
            32,
            34,
            36,
            38,
            40,
            42,
            44,
            46,
            48,
            50,
            52,
            54
           ],
           "xaxis": "x",
           "y": [
            -7891,
            -8233.997,
            -8503.2646,
            -8642.0027,
            -8715.5148,
            -8752.1404,
            -8757.0967,
            -8737.4597,
            -8695.2044,
            -8635.0233,
            -8568.5699,
            -8495.0801,
            -8411.2501,
            -8320.938,
            -8185,
            -8044
           ],
           "yaxis": "y"
          }
         ],
         "name": "29"
        },
        {
         "data": [
          {
           "hovertemplate": "Odd Neutron=True<br>Proton Number [Z]=30<br>Neutron Number [N]=%{x}<br>Deficit [MeV]=%{y}<extra></extra>",
           "legendgroup": "True",
           "marker": {
            "color": "#636efa",
            "symbol": "circle"
           },
           "mode": "markers",
           "name": "True",
           "orientation": "v",
           "showlegend": true,
           "type": "scatter",
           "x": [
            25,
            27,
            29,
            31,
            33,
            35,
            37,
            39,
            41,
            43,
            45,
            47,
            49,
            51,
            53,
            55
           ],
           "xaxis": "x",
           "y": [
            -7904,
            -8231,
            -8473.7802,
            -8610.3098,
            -8686.2866,
            -8724.266,
            -8734.1534,
            -8722.7311,
            -8689.0417,
            -8648.3455,
            -8592.4981,
            -8530.0037,
            -8450.5825,
            -8351.9262,
            -8226,
            -8090
           ],
           "yaxis": "y"
          },
          {
           "hovertemplate": "Odd Neutron=False<br>Proton Number [Z]=30<br>Neutron Number [N]=%{x}<br>Deficit [MeV]=%{y}<extra></extra>",
           "legendgroup": "False",
           "marker": {
            "color": "#EF553B",
            "symbol": "circle"
           },
           "mode": "markers",
           "name": "False",
           "orientation": "v",
           "showlegend": true,
           "type": "scatter",
           "x": [
            24,
            26,
            28,
            30,
            32,
            34,
            36,
            38,
            40,
            42,
            44,
            46,
            48,
            50,
            52,
            54
           ],
           "xaxis": "x",
           "y": [
            -7742,
            -8106,
            -8395.9467,
            -8583.0524,
            -8679.3451,
            -8735.9057,
            -8759.6335,
            -8755.682,
            -8729.8086,
            -8691.8053,
            -8642.7547,
            -8582.2735,
            -8507.38,
            -8423.5457,
            -8301.1175,
            -8171
           ],
           "yaxis": "y"
          }
         ],
         "name": "30"
        },
        {
         "data": [
          {
           "hovertemplate": "Odd Neutron=True<br>Proton Number [Z]=31<br>Neutron Number [N]=%{x}<br>Deficit [MeV]=%{y}<extra></extra>",
           "legendgroup": "True",
           "marker": {
            "color": "#636efa",
            "symbol": "circle"
           },
           "mode": "markers",
           "name": "True",
           "orientation": "v",
           "showlegend": true,
           "type": "scatter",
           "x": [
            29,
            31,
            33,
            35,
            37,
            39,
            41,
            43,
            45,
            47,
            49,
            51,
            53,
            55
           ],
           "xaxis": "x",
           "y": [
            -8327,
            -8518.6449,
            -8611.6317,
            -8669.3631,
            -8701.2195,
            -8709.2808,
            -8687.0893,
            -8663.1676,
            -8624.5272,
            -8577.1043,
            -8508.4545,
            -8421.0494,
            -8307.525,
            -8182
           ],
           "yaxis": "y"
          },
          {
           "hovertemplate": "Odd Neutron=False<br>Proton Number [Z]=31<br>Neutron Number [N]=%{x}<br>Deficit [MeV]=%{y}<extra></extra>",
           "legendgroup": "False",
           "marker": {
            "color": "#EF553B",
            "symbol": "circle"
           },
           "mode": "markers",
           "name": "False",
           "orientation": "v",
           "showlegend": true,
           "type": "scatter",
           "x": [
            28,
            30,
            32,
            34,
            36,
            38,
            40,
            42,
            44,
            46,
            48,
            50,
            52,
            54,
            56
           ],
           "xaxis": "x",
           "y": [
            -8232,
            -8446.4313,
            -8583.9267,
            -8662.1601,
            -8707.533,
            -8724.5798,
            -8717.605,
            -8693.874,
            -8660.7565,
            -8613.3907,
            -8556.0725,
            -8483.3576,
            -8372.5756,
            -8253.5687,
            -8124
           ],
           "yaxis": "y"
          }
         ],
         "name": "31"
        },
        {
         "data": [
          {
           "hovertemplate": "Odd Neutron=True<br>Proton Number [Z]=32<br>Neutron Number [N]=%{x}<br>Deficit [MeV]=%{y}<extra></extra>",
           "legendgroup": "True",
           "marker": {
            "color": "#636efa",
            "symbol": "circle"
           },
           "mode": "markers",
           "name": "True",
           "orientation": "v",
           "showlegend": true,
           "type": "scatter",
           "x": [
            27,
            29,
            31,
            33,
            35,
            37,
            39,
            41,
            43,
            45,
            47,
            49,
            51,
            53,
            55,
            57
           ],
           "xaxis": "x",
           "y": [
            -7924,
            -8215,
            -8418.7167,
            -8555.0584,
            -8633.0884,
            -8680.964,
            -8703.3118,
            -8705.05,
            -8695.6096,
            -8671.0293,
            -8634.5089,
            -8580.6587,
            -8504.3462,
            -8401.7689,
            -8285,
            -8161
           ],
           "yaxis": "y"
          },
          {
           "hovertemplate": "Odd Neutron=False<br>Proton Number [Z]=32<br>Neutron Number [N]=%{x}<br>Deficit [MeV]=%{y}<extra></extra>",
           "legendgroup": "False",
           "marker": {
            "color": "#EF553B",
            "symbol": "circle"
           },
           "mode": "markers",
           "name": "False",
           "orientation": "v",
           "showlegend": true,
           "type": "scatter",
           "x": [
            28,
            30,
            32,
            34,
            36,
            38,
            40,
            42,
            44,
            46,
            48,
            50,
            52,
            54,
            56,
            58
           ],
           "xaxis": "x",
           "y": [
            -8113,
            -8347,
            -8528.8243,
            -8625.4383,
            -8688.1371,
            -8721.7028,
            -8731.7459,
            -8725.2011,
            -8705.2364,
            -8671.6636,
            -8627.5707,
            -8563.7567,
            -8465.5244,
            -8354.63,
            -8236,
            -8109
           ],
           "yaxis": "y"
          }
         ],
         "name": "32"
        },
        {
         "data": [
          {
           "hovertemplate": "Odd Neutron=True<br>Proton Number [Z]=33<br>Neutron Number [N]=%{x}<br>Deficit [MeV]=%{y}<extra></extra>",
           "legendgroup": "True",
           "marker": {
            "color": "#636efa",
            "symbol": "circle"
           },
           "mode": "markers",
           "name": "True",
           "orientation": "v",
           "showlegend": true,
           "type": "scatter",
           "x": [
            31,
            33,
            35,
            37,
            39,
            41,
            43,
            45,
            47,
            49,
            51,
            53,
            55,
            57,
            59
           ],
           "xaxis": "x",
           "y": [
            -8286,
            -8468.4034,
            -8557.7457,
            -8621.5541,
            -8660.3786,
            -8680.002,
            -8682.8172,
            -8673.876,
            -8651.2824,
            -8611.4153,
            -8547.9385,
            -8456.7215,
            -8351,
            -8240,
            -8121
           ],
           "yaxis": "y"
          },
          {
           "hovertemplate": "Odd Neutron=False<br>Proton Number [Z]=33<br>Neutron Number [N]=%{x}<br>Deficit [MeV]=%{y}<extra></extra>",
           "legendgroup": "False",
           "marker": {
            "color": "#EF553B",
            "symbol": "circle"
           },
           "mode": "markers",
           "name": "False",
           "orientation": "v",
           "showlegend": true,
           "type": "scatter",
           "x": [
            30,
            32,
            34,
            36,
            38,
            40,
            42,
            44,
            46,
            48,
            50,
            52,
            54,
            56,
            58
           ],
           "xaxis": "x",
           "y": [
            -8193,
            -8396.2351,
            -8530.5685,
            -8611.8214,
            -8663.935,
            -8689.6099,
            -8700.8748,
            -8695.9789,
            -8676.6172,
            -8648.0571,
            -8599.654,
            -8510.9851,
            -8413.8521,
            -8304,
            -8189
           ],
           "yaxis": "y"
          }
         ],
         "name": "33"
        },
        {
         "data": [
          {
           "hovertemplate": "Odd Neutron=True<br>Proton Number [Z]=34<br>Neutron Number [N]=%{x}<br>Deficit [MeV]=%{y}<extra></extra>",
           "legendgroup": "True",
           "marker": {
            "color": "#636efa",
            "symbol": "circle"
           },
           "mode": "markers",
           "name": "True",
           "orientation": "v",
           "showlegend": true,
           "type": "scatter",
           "x": [
            29,
            31,
            33,
            35,
            37,
            39,
            41,
            43,
            45,
            47,
            49,
            51,
            53,
            55,
            57,
            59,
            61
           ],
           "xaxis": "x",
           "y": [
            -7917,
            -8170,
            -8369.5344,
            -8503.7082,
            -8586.0606,
            -8641.5591,
            -8678.9139,
            -8694.6908,
            -8695.5923,
            -8685.9998,
            -8658.556,
            -8610.3045,
            -8529.092,
            -8435.2799,
            -8334.8382,
            -8225,
            -8112
           ],
           "yaxis": "y"
          },
          {
           "hovertemplate": "Odd Neutron=False<br>Proton Number [Z]=34<br>Neutron Number [N]=%{x}<br>Deficit [MeV]=%{y}<extra></extra>",
           "legendgroup": "False",
           "marker": {
            "color": "#EF553B",
            "symbol": "circle"
           },
           "mode": "markers",
           "name": "False",
           "orientation": "v",
           "showlegend": true,
           "type": "scatter",
           "x": [
            30,
            32,
            34,
            36,
            38,
            40,
            42,
            44,
            46,
            48,
            50,
            52,
            54,
            56,
            58,
            60
           ],
           "xaxis": "x",
           "y": [
            -8075,
            -8300,
            -8477.0482,
            -8576.0338,
            -8644.4902,
            -8687.7155,
            -8711.4781,
            -8717.8072,
            -8710.8142,
            -8693.1973,
            -8658.7935,
            -8581.8224,
            -8495.0045,
            -8395.7672,
            -8290,
            -8180
           ],
           "yaxis": "y"
          }
         ],
         "name": "34"
        },
        {
         "data": [
          {
           "hovertemplate": "Odd Neutron=True<br>Proton Number [Z]=35<br>Neutron Number [N]=%{x}<br>Deficit [MeV]=%{y}<extra></extra>",
           "legendgroup": "True",
           "marker": {
            "color": "#636efa",
            "symbol": "circle"
           },
           "mode": "markers",
           "name": "True",
           "orientation": "v",
           "showlegend": true,
           "type": "scatter",
           "x": [
            33,
            35,
            37,
            39,
            41,
            43,
            45,
            47,
            49,
            51,
            53,
            55,
            57,
            59,
            61,
            63
           ],
           "xaxis": "x",
           "y": [
            -8239,
            -8414.7964,
            -8511.3126,
            -8583.5615,
            -8635.883,
            -8661.9594,
            -8677.6541,
            -8682.4953,
            -8671.3294,
            -8632.3659,
            -8563.7479,
            -8478.1865,
            -8384.9123,
            -8287,
            -8184,
            -8078
           ],
           "yaxis": "y"
          },
          {
           "hovertemplate": "Odd Neutron=False<br>Proton Number [Z]=35<br>Neutron Number [N]=%{x}<br>Deficit [MeV]=%{y}<extra></extra>",
           "legendgroup": "False",
           "marker": {
            "color": "#EF553B",
            "symbol": "circle"
           },
           "mode": "markers",
           "name": "False",
           "orientation": "v",
           "showlegend": true,
           "type": "scatter",
           "x": [
            32,
            34,
            36,
            38,
            40,
            42,
            44,
            46,
            48,
            50,
            52,
            54,
            56,
            58,
            60,
            62,
            66
           ],
           "xaxis": "x",
           "y": [
            -8148,
            -8344.9026,
            -8481.4629,
            -8568.0803,
            -8627.6497,
            -8666.8073,
            -8687.5956,
            -8695.9465,
            -8693.3852,
            -8673.5926,
            -8605.9105,
            -8530.7802,
            -8441.9242,
            -8345.5986,
            -8245,
            -8140,
            null
           ],
           "yaxis": "y"
          }
         ],
         "name": "35"
        },
        {
         "data": [
          {
           "hovertemplate": "Odd Neutron=True<br>Proton Number [Z]=36<br>Neutron Number [N]=%{x}<br>Deficit [MeV]=%{y}<extra></extra>",
           "legendgroup": "True",
           "marker": {
            "color": "#636efa",
            "symbol": "circle"
           },
           "mode": "markers",
           "name": "True",
           "orientation": "v",
           "showlegend": true,
           "type": "scatter",
           "x": [
            31,
            33,
            35,
            37,
            39,
            41,
            43,
            45,
            47,
            49,
            51,
            53,
            55,
            57,
            59,
            61,
            63,
            65
           ],
           "xaxis": "x",
           "y": [
            -7883,
            -8129,
            -8327.131,
            -8460.1847,
            -8553.4399,
            -8616.837,
            -8657.113,
            -8682.8206,
            -8695.7295,
            -8698.5633,
            -8675.284,
            -8614.8158,
            -8541.7519,
            -8458.1085,
            -8365.9963,
            -8269.8645,
            -8175,
            -8075
           ],
           "yaxis": "y"
          },
          {
           "hovertemplate": "Odd Neutron=False<br>Proton Number [Z]=36<br>Neutron Number [N]=%{x}<br>Deficit [MeV]=%{y}<extra></extra>",
           "legendgroup": "False",
           "marker": {
            "color": "#EF553B",
            "symbol": "circle"
           },
           "mode": "markers",
           "name": "False",
           "orientation": "v",
           "showlegend": true,
           "type": "scatter",
           "x": [
            32,
            34,
            36,
            38,
            40,
            42,
            44,
            46,
            48,
            50,
            52,
            54,
            56,
            58,
            60,
            62,
            64,
            66
           ],
           "xaxis": "x",
           "y": [
            -8034,
            -8256,
            -8429.3193,
            -8533.039,
            -8608.8077,
            -8661.2385,
            -8692.9301,
            -8710.6754,
            -8717.4473,
            -8712.0295,
            -8656.8499,
            -8591.2599,
            -8512.675,
            -8424.3318,
            -8330.8721,
            -8234,
            -8134,
            null
           ],
           "yaxis": "y"
          }
         ],
         "name": "36"
        },
        {
         "data": [
          {
           "hovertemplate": "Odd Neutron=True<br>Proton Number [Z]=37<br>Neutron Number [N]=%{x}<br>Deficit [MeV]=%{y}<extra></extra>",
           "legendgroup": "True",
           "marker": {
            "color": "#636efa",
            "symbol": "circle"
           },
           "mode": "markers",
           "name": "True",
           "orientation": "v",
           "showlegend": true,
           "type": "scatter",
           "x": [
            35,
            37,
            39,
            41,
            43,
            45,
            47,
            49,
            51,
            53,
            55,
            57,
            59,
            61,
            63,
            65,
            67,
            69
           ],
           "xaxis": "x",
           "y": [
            -8202,
            -8381.7123,
            -8486.2161,
            -8558.3512,
            -8611.676,
            -8647.4275,
            -8676.2244,
            -8696.9014,
            -8681.1154,
            -8631.5262,
            -8569.4225,
            -8492.7644,
            -8408.8963,
            -8330.7294,
            -8244.5085,
            -8152.7443,
            -8057,
            null
           ],
           "yaxis": "y"
          },
          {
           "hovertemplate": "Odd Neutron=False<br>Proton Number [Z]=37<br>Neutron Number [N]=%{x}<br>Deficit [MeV]=%{y}<extra></extra>",
           "legendgroup": "False",
           "marker": {
            "color": "#EF553B",
            "symbol": "circle"
           },
           "mode": "markers",
           "name": "False",
           "orientation": "v",
           "showlegend": true,
           "type": "scatter",
           "x": [
            36,
            38,
            40,
            42,
            44,
            46,
            48,
            50,
            52,
            54,
            56,
            58,
            60,
            62,
            64,
            66,
            68
           ],
           "xaxis": "x",
           "y": [
            -8305.0821,
            -8448.2762,
            -8537.3396,
            -8601.1401,
            -8645.5139,
            -8675.2193,
            -8697.4416,
            -8710.9843,
            -8664.1895,
            -8607.5621,
            -8540.9209,
            -8460.1967,
            -8376.1872,
            -8295.301,
            -8206.1753,
            -8112,
            null
           ],
           "yaxis": "y"
          }
         ],
         "name": "37"
        },
        {
         "data": [
          {
           "hovertemplate": "Odd Neutron=True<br>Proton Number [Z]=38<br>Neutron Number [N]=%{x}<br>Deficit [MeV]=%{y}<extra></extra>",
           "legendgroup": "True",
           "marker": {
            "color": "#636efa",
            "symbol": "circle"
           },
           "mode": "markers",
           "name": "True",
           "orientation": "v",
           "showlegend": true,
           "type": "scatter",
           "x": [
            35,
            37,
            39,
            41,
            43,
            45,
            47,
            49,
            51,
            53,
            55,
            57,
            59,
            61,
            63,
            65,
            67,
            69
           ],
           "xaxis": "x",
           "y": [
            -8102,
            -8296.5116,
            -8435.9188,
            -8523.8558,
            -8587.3545,
            -8638.4076,
            -8675.7193,
            -8705.2363,
            -8705.923,
            -8663.8759,
            -8612.7875,
            -8549.0875,
            -8471.8489,
            -8402.5235,
            -8324.7411,
            -8242,
            -8152,
            -8057
           ],
           "yaxis": "y"
          },
          {
           "hovertemplate": "Odd Neutron=False<br>Proton Number [Z]=38<br>Neutron Number [N]=%{x}<br>Deficit [MeV]=%{y}<extra></extra>",
           "legendgroup": "False",
           "marker": {
            "color": "#EF553B",
            "symbol": "circle"
           },
           "mode": "markers",
           "name": "False",
           "orientation": "v",
           "showlegend": true,
           "type": "scatter",
           "x": [
            36,
            38,
            40,
            42,
            44,
            46,
            48,
            50,
            52,
            54,
            56,
            58,
            60,
            62,
            64,
            66,
            68,
            70
           ],
           "xaxis": "x",
           "y": [
            -8221,
            -8393.9294,
            -8500.0971,
            -8578.5966,
            -8635.719,
            -8677.5132,
            -8708.4566,
            -8732.5958,
            -8696.0043,
            -8648.907,
            -8593.8344,
            -8521.2041,
            -8445.7385,
            -8372.2012,
            -8291.2213,
            -8206,
            -8114,
            null
           ],
           "yaxis": "y"
          }
         ],
         "name": "38"
        },
        {
         "data": [
          {
           "hovertemplate": "Odd Neutron=True<br>Proton Number [Z]=39<br>Neutron Number [N]=%{x}<br>Deficit [MeV]=%{y}<extra></extra>",
           "legendgroup": "True",
           "marker": {
            "color": "#636efa",
            "symbol": "circle"
           },
           "mode": "markers",
           "name": "True",
           "orientation": "v",
           "showlegend": true,
           "type": "scatter",
           "x": [
            37,
            39,
            41,
            43,
            45,
            47,
            49,
            51,
            53,
            55,
            57,
            59,
            61,
            63,
            65,
            67,
            69,
            71
           ],
           "xaxis": "x",
           "y": [
            -8173,
            -8349,
            -8454.2759,
            -8529.2762,
            -8587.7812,
            -8638.4293,
            -8682.5396,
            -8693.3778,
            -8661.5894,
            -8622.8068,
            -8569.4269,
            -8497.6162,
            -8439.4151,
            -8371.9172,
            -8298,
            -8215,
            -8129,
            null
           ],
           "yaxis": "y"
          },
          {
           "hovertemplate": "Odd Neutron=False<br>Proton Number [Z]=39<br>Neutron Number [N]=%{x}<br>Deficit [MeV]=%{y}<extra></extra>",
           "legendgroup": "False",
           "marker": {
            "color": "#EF553B",
            "symbol": "circle"
           },
           "mode": "markers",
           "name": "False",
           "orientation": "v",
           "showlegend": true,
           "type": "scatter",
           "x": [
            38,
            40,
            42,
            44,
            46,
            48,
            50,
            52,
            54,
            56,
            58,
            60,
            62,
            64,
            66,
            68,
            70,
            72
           ],
           "xaxis": "x",
           "y": [
            -8278,
            -8416.7788,
            -8505.9031,
            -8573.6571,
            -8628.1486,
            -8674.8451,
            -8714.011,
            -8684.9421,
            -8648.9054,
            -8604.9644,
            -8541.4616,
            -8476.6938,
            -8413.3305,
            -8342.6336,
            -8262,
            -8178,
            -8089,
            null
           ],
           "yaxis": "y"
          }
         ],
         "name": "39"
        },
        {
         "data": [
          {
           "hovertemplate": "Odd Neutron=True<br>Proton Number [Z]=40<br>Neutron Number [N]=%{x}<br>Deficit [MeV]=%{y}<extra></extra>",
           "legendgroup": "True",
           "marker": {
            "color": "#636efa",
            "symbol": "circle"
           },
           "mode": "markers",
           "name": "True",
           "orientation": "v",
           "showlegend": true,
           "type": "scatter",
           "x": [
            37,
            39,
            41,
            43,
            45,
            47,
            49,
            51,
            53,
            55,
            57,
            59,
            61,
            63,
            65,
            67,
            69,
            71,
            73
           ],
           "xaxis": "x",
           "y": [
            -8075,
            -8267,
            -8395.1519,
            -8488.3997,
            -8564.0394,
            -8623.6545,
            -8673.3865,
            -8693.3149,
            -8671.6207,
            -8643.5924,
            -8603.7182,
            -8539.225,
            -8485.8439,
            -8425.8337,
            -8358.598,
            -8284,
            -8204,
            -8118,
            -8027
           ],
           "yaxis": "y"
          },
          {
           "hovertemplate": "Odd Neutron=False<br>Proton Number [Z]=40<br>Neutron Number [N]=%{x}<br>Deficit [MeV]=%{y}<extra></extra>",
           "legendgroup": "False",
           "marker": {
            "color": "#EF553B",
            "symbol": "circle"
           },
           "mode": "markers",
           "name": "False",
           "orientation": "v",
           "showlegend": true,
           "type": "scatter",
           "x": [
            38,
            40,
            42,
            44,
            46,
            48,
            50,
            52,
            54,
            56,
            58,
            60,
            62,
            64,
            66,
            68,
            70,
            72,
            74
           ],
           "xaxis": "x",
           "y": [
            -8194,
            -8365,
            -8465.4666,
            -8549.0301,
            -8614.0523,
            -8666.0339,
            -8709.9699,
            -8692.6783,
            -8666.8016,
            -8635.3283,
            -8581.3984,
            -8522.1066,
            -8466.294,
            -8402.3159,
            -8330,
            -8253,
            -8171,
            -8081,
            null
           ],
           "yaxis": "y"
          }
         ],
         "name": "40"
        },
        {
         "data": [
          {
           "hovertemplate": "Odd Neutron=True<br>Proton Number [Z]=41<br>Neutron Number [N]=%{x}<br>Deficit [MeV]=%{y}<extra></extra>",
           "legendgroup": "True",
           "marker": {
            "color": "#636efa",
            "symbol": "circle"
           },
           "mode": "markers",
           "name": "True",
           "orientation": "v",
           "showlegend": true,
           "type": "scatter",
           "x": [
            41,
            43,
            45,
            47,
            49,
            51,
            53,
            55,
            57,
            59,
            61,
            63,
            65,
            67,
            69,
            71,
            73,
            75
           ],
           "xaxis": "x",
           "y": [
            -8312,
            -8417.9563,
            -8502.2231,
            -8572.4013,
            -8633.377,
            -8662.3731,
            -8648.9014,
            -8628.8868,
            -8596.3016,
            -8548.4683,
            -8504.8675,
            -8453.3832,
            -8393.2657,
            -8325.6604,
            -8255.2607,
            -8178,
            -8097,
            -8012
           ],
           "yaxis": "y"
          },
          {
           "hovertemplate": "Odd Neutron=False<br>Proton Number [Z]=41<br>Neutron Number [N]=%{x}<br>Deficit [MeV]=%{y}<extra></extra>",
           "legendgroup": "False",
           "marker": {
            "color": "#EF553B",
            "symbol": "circle"
           },
           "mode": "markers",
           "name": "False",
           "orientation": "v",
           "showlegend": true,
           "type": "scatter",
           "x": [
            40,
            42,
            44,
            46,
            48,
            50,
            52,
            54,
            56,
            58,
            60,
            62,
            64,
            66,
            68,
            70,
            72,
            74,
            76
           ],
           "xaxis": "x",
           "y": [
            -8248,
            -8378.9889,
            -8473.7117,
            -8551.7579,
            -8616.8184,
            -8670.8983,
            -8664.1849,
            -8647.2133,
            -8623.1384,
            -8578.9859,
            -8534.8355,
            -8488.332,
            -8431.6925,
            -8367.0898,
            -8297.1307,
            -8223,
            -8143,
            -8061,
            null
           ],
           "yaxis": "y"
          }
         ],
         "name": "41"
        },
        {
         "data": [
          {
           "hovertemplate": "Odd Neutron=True<br>Proton Number [Z]=42<br>Neutron Number [N]=%{x}<br>Deficit [MeV]=%{y}<extra></extra>",
           "legendgroup": "True",
           "marker": {
            "color": "#636efa",
            "symbol": "circle"
           },
           "mode": "markers",
           "name": "True",
           "orientation": "v",
           "showlegend": true,
           "type": "scatter",
           "x": [
            39,
            41,
            43,
            45,
            47,
            49,
            51,
            53,
            55,
            57,
            59,
            61,
            63,
            65,
            67,
            69,
            71,
            73,
            75,
            77
           ],
           "xaxis": "x",
           "y": [
            -8054,
            -8234,
            -8361.332,
            -8462.4243,
            -8544.9851,
            -8613.6286,
            -8651.4095,
            -8648.7212,
            -8635.0926,
            -8607.7982,
            -8572.9159,
            -8538.2672,
            -8494.863,
            -8442.219,
            -8381.4163,
            -8315.2932,
            -8246,
            -8173,
            -8096,
            -8019
           ],
           "yaxis": "y"
          },
          {
           "hovertemplate": "Odd Neutron=False<br>Proton Number [Z]=42<br>Neutron Number [N]=%{x}<br>Deficit [MeV]=%{y}<extra></extra>",
           "legendgroup": "False",
           "marker": {
            "color": "#EF553B",
            "symbol": "circle"
           },
           "mode": "markers",
           "name": "False",
           "orientation": "v",
           "showlegend": true,
           "type": "scatter",
           "x": [
            40,
            42,
            44,
            46,
            48,
            50,
            52,
            54,
            56,
            58,
            60,
            62,
            64,
            66,
            68,
            70,
            72,
            74,
            76
           ],
           "xaxis": "x",
           "y": [
            -8163,
            -8325,
            -8434.7175,
            -8523.9087,
            -8597.0285,
            -8657.7312,
            -8662.3341,
            -8653.988,
            -8635.1691,
            -8604.6626,
            -8568.3994,
            -8527.9063,
            -8479.5202,
            -8422.1581,
            -8359.293,
            -8291,
            -8219,
            -8143,
            -8067
           ],
           "yaxis": "y"
          }
         ],
         "name": "42"
        },
        {
         "data": [
          {
           "hovertemplate": "Odd Neutron=True<br>Proton Number [Z]=43<br>Neutron Number [N]=%{x}<br>Deficit [MeV]=%{y}<extra></extra>",
           "legendgroup": "True",
           "marker": {
            "color": "#636efa",
            "symbol": "circle"
           },
           "mode": "markers",
           "name": "True",
           "orientation": "v",
           "showlegend": true,
           "type": "scatter",
           "x": [
            43,
            45,
            47,
            49,
            51,
            53,
            55,
            57,
            59,
            61,
            63,
            65,
            67,
            69,
            71,
            73,
            75,
            77,
            79
           ],
           "xaxis": "x",
           "y": [
            -8280,
            -8389.8338,
            -8483.36,
            -8563.544,
            -8608.7373,
            -8614.8673,
            -8610.0047,
            -8595.1184,
            -8570.6514,
            -8541.107,
            -8506.557,
            -8462.8172,
            -8411.2603,
            -8353.6217,
            -8290.2599,
            -8223,
            -8153,
            -8083,
            -8011
           ],
           "yaxis": "y"
          },
          {
           "hovertemplate": "Odd Neutron=False<br>Proton Number [Z]=43<br>Neutron Number [N]=%{x}<br>Deficit [MeV]=%{y}<extra></extra>",
           "legendgroup": "False",
           "marker": {
            "color": "#EF553B",
            "symbol": "circle"
           },
           "mode": "markers",
           "name": "False",
           "orientation": "v",
           "showlegend": true,
           "type": "scatter",
           "x": [
            42,
            44,
            46,
            48,
            50,
            52,
            54,
            56,
            58,
            60,
            62,
            64,
            66,
            68,
            70,
            72,
            74,
            76,
            78
           ],
           "xaxis": "x",
           "y": [
            -8215,
            -8347.7449,
            -8450.5758,
            -8536.6558,
            -8608.5782,
            -8622.6911,
            -8623.7254,
            -8613.6105,
            -8593.1366,
            -8566.1045,
            -8534.6074,
            -8492.8979,
            -8444.1796,
            -8390.0906,
            -8329.4652,
            -8264,
            -8195,
            -8126,
            -8054
           ],
           "yaxis": "y"
          }
         ],
         "name": "43"
        },
        {
         "data": [
          {
           "hovertemplate": "Odd Neutron=True<br>Proton Number [Z]=44<br>Neutron Number [N]=%{x}<br>Deficit [MeV]=%{y}<extra></extra>",
           "legendgroup": "True",
           "marker": {
            "color": "#636efa",
            "symbol": "circle"
           },
           "mode": "markers",
           "name": "True",
           "orientation": "v",
           "showlegend": true,
           "type": "scatter",
           "x": [
            41,
            43,
            45,
            47,
            49,
            51,
            53,
            55,
            57,
            59,
            61,
            63,
            65,
            67,
            69,
            71,
            73,
            75,
            77,
            79,
            81
           ],
           "xaxis": "x",
           "y": [
            -8027,
            -8201,
            -8340.376,
            -8442.9287,
            -8531.4627,
            -8587.4706,
            -8604.2799,
            -8608.7132,
            -8601.366,
            -8584.3656,
            -8561.9016,
            -8533.3676,
            -8496.228,
            -8452.9582,
            -8402.6857,
            -8346.814,
            -8285.5625,
            -8220,
            -8156,
            -8089,
            -8023
           ],
           "yaxis": "y"
          },
          {
           "hovertemplate": "Odd Neutron=False<br>Proton Number [Z]=44<br>Neutron Number [N]=%{x}<br>Deficit [MeV]=%{y}<extra></extra>",
           "legendgroup": "False",
           "marker": {
            "color": "#EF553B",
            "symbol": "circle"
           },
           "mode": "markers",
           "name": "False",
           "orientation": "v",
           "showlegend": true,
           "type": "scatter",
           "x": [
            42,
            44,
            46,
            48,
            50,
            52,
            54,
            56,
            58,
            60,
            62,
            64,
            66,
            68,
            70,
            72,
            74,
            76,
            78,
            80
           ],
           "xaxis": "x",
           "y": [
            -8133,
            -8298,
            -8409.7684,
            -8504.774,
            -8583.662,
            -8609.413,
            -8620.314,
            -8619.3593,
            -8607.4275,
            -8587.3998,
            -8560.9406,
            -8527.2267,
            -8486.3123,
            -8439.2431,
            -8385.3351,
            -8326.884,
            -8263,
            -8199,
            -8132,
            -8065
           ],
           "yaxis": "y"
          }
         ],
         "name": "44"
        },
        {
         "data": [
          {
           "hovertemplate": "Odd Neutron=True<br>Proton Number [Z]=45<br>Neutron Number [N]=%{x}<br>Deficit [MeV]=%{y}<extra></extra>",
           "legendgroup": "True",
           "marker": {
            "color": "#636efa",
            "symbol": "circle"
           },
           "mode": "markers",
           "name": "True",
           "orientation": "v",
           "showlegend": true,
           "type": "scatter",
           "x": [
            45,
            47,
            49,
            51,
            53,
            55,
            57,
            59,
            61,
            63,
            65,
            67,
            69,
            71,
            73,
            75,
            77,
            79,
            81,
            83
           ],
           "xaxis": "x",
           "y": [
            -8254,
            -8373.4211,
            -8472.4033,
            -8534.6735,
            -8560.8038,
            -8575.1732,
            -8576.9818,
            -8568.9501,
            -8553.9317,
            -8532.6657,
            -8504.2551,
            -8468.8666,
            -8426.6221,
            -8377.6123,
            -8322.8539,
            -8266,
            -8208,
            -8148,
            -8087,
            -8010
           ],
           "yaxis": "y"
          },
          {
           "hovertemplate": "Odd Neutron=False<br>Proton Number [Z]=45<br>Neutron Number [N]=%{x}<br>Deficit [MeV]=%{y}<extra></extra>",
           "legendgroup": "False",
           "marker": {
            "color": "#EF553B",
            "symbol": "circle"
           },
           "mode": "markers",
           "name": "False",
           "orientation": "v",
           "showlegend": true,
           "type": "scatter",
           "x": [
            44,
            46,
            48,
            50,
            52,
            54,
            56,
            58,
            60,
            62,
            64,
            66,
            68,
            70,
            72,
            74,
            76,
            78,
            80,
            82
           ],
           "xaxis": "x",
           "y": [
            -8189,
            -8328,
            -8434.8255,
            -8525.3707,
            -8559.8949,
            -8580.1959,
            -8588.2172,
            -8584.1927,
            -8572.7053,
            -8554.104,
            -8528.1404,
            -8495.6267,
            -8456.8165,
            -8410.6538,
            -8359.2766,
            -8303.3953,
            -8245.2397,
            -8185,
            -8124,
            -8060
           ],
           "yaxis": "y"
          }
         ],
         "name": "45"
        },
        {
         "data": [
          {
           "hovertemplate": "Odd Neutron=True<br>Proton Number [Z]=46<br>Neutron Number [N]=%{x}<br>Deficit [MeV]=%{y}<extra></extra>",
           "legendgroup": "True",
           "marker": {
            "color": "#636efa",
            "symbol": "circle"
           },
           "mode": "markers",
           "name": "True",
           "orientation": "v",
           "showlegend": true,
           "type": "scatter",
           "x": [
            45,
            47,
            49,
            51,
            53,
            55,
            57,
            59,
            61,
            63,
            65,
            67,
            69,
            71,
            73,
            75,
            77,
            79,
            81,
            83,
            85
           ],
           "xaxis": "x",
           "y": [
            -8183,
            -8318.5637,
            -8428.9807,
            -8502.4303,
            -8537.9332,
            -8560.8644,
            -8571.0173,
            -8570.6509,
            -8560.8946,
            -8544.8825,
            -8521.7498,
            -8492.5795,
            -8457.7342,
            -8416.9243,
            -8368.9594,
            -8320.8584,
            -8270.0318,
            -8215,
            -8160,
            -8086,
            -7993
           ],
           "yaxis": "y"
          },
          {
           "hovertemplate": "Odd Neutron=False<br>Proton Number [Z]=46<br>Neutron Number [N]=%{x}<br>Deficit [MeV]=%{y}<extra></extra>",
           "legendgroup": "False",
           "marker": {
            "color": "#EF553B",
            "symbol": "circle"
           },
           "mode": "markers",
           "name": "False",
           "orientation": "v",
           "showlegend": true,
           "type": "scatter",
           "x": [
            44,
            46,
            48,
            50,
            52,
            54,
            56,
            58,
            60,
            62,
            64,
            66,
            68,
            70,
            72,
            74,
            76,
            78,
            80,
            82,
            84
           ],
           "xaxis": "x",
           "y": [
            -8113,
            -8275.5695,
            -8391.6832,
            -8490.0207,
            -8533.8999,
            -8563.5652,
            -8580.2887,
            -8584.8485,
            -8579.9934,
            -8567.0241,
            -8547.163,
            -8520.7205,
            -8488.0056,
            -8449.2755,
            -8405.2197,
            -8357.0817,
            -8305.9755,
            -8252,
            -8197,
            -8137,
            -8046
           ],
           "yaxis": "y"
          }
         ],
         "name": "46"
        },
        {
         "data": [
          {
           "hovertemplate": "Odd Neutron=True<br>Proton Number [Z]=47<br>Neutron Number [N]=%{x}<br>Deficit [MeV]=%{y}<extra></extra>",
           "legendgroup": "True",
           "marker": {
            "color": "#636efa",
            "symbol": "circle"
           },
           "mode": "markers",
           "name": "True",
           "orientation": "v",
           "showlegend": true,
           "type": "scatter",
           "x": [
            45,
            47,
            49,
            51,
            53,
            55,
            57,
            59,
            61,
            63,
            65,
            67,
            69,
            71,
            73,
            75,
            77,
            79,
            81,
            83,
            85
           ],
           "xaxis": "x",
           "y": [
            -8080,
            -8238,
            -8360.2903,
            -8441.6866,
            -8484.9947,
            -8517.165,
            -8536.185,
            -8544.6397,
            -8542.0262,
            -8532.1089,
            -8516.0807,
            -8493.7786,
            -8465.9073,
            -8433.89,
            -8395.3281,
            -8352.7591,
            -8308.8958,
            -8261,
            -8211,
            -8142,
            -8053
           ],
           "yaxis": "y"
          },
          {
           "hovertemplate": "Odd Neutron=False<br>Proton Number [Z]=47<br>Neutron Number [N]=%{x}<br>Deficit [MeV]=%{y}<extra></extra>",
           "legendgroup": "False",
           "marker": {
            "color": "#EF553B",
            "symbol": "circle"
           },
           "mode": "markers",
           "name": "False",
           "orientation": "v",
           "showlegend": true,
           "type": "scatter",
           "x": [
            46,
            48,
            50,
            52,
            54,
            56,
            58,
            60,
            62,
            64,
            66,
            68,
            70,
            72,
            74,
            76,
            78,
            80,
            82,
            84
           ],
           "xaxis": "x",
           "y": [
            -8175,
            -8315,
            -8423.2121,
            -8474.7744,
            -8512.5465,
            -8537.652,
            -8550.3708,
            -8553.9012,
            -8547.9155,
            -8534.7878,
            -8516.066,
            -8490.5553,
            -8459.4515,
            -8423.2126,
            -8382.3306,
            -8337.9707,
            -8293.3151,
            -8244,
            -8188,
            -8102
           ],
           "yaxis": "y"
          }
         ],
         "name": "47"
        },
        {
         "data": [
          {
           "hovertemplate": "Odd Neutron=True<br>Proton Number [Z]=48<br>Neutron Number [N]=%{x}<br>Deficit [MeV]=%{y}<extra></extra>",
           "legendgroup": "True",
           "marker": {
            "color": "#636efa",
            "symbol": "circle"
           },
           "mode": "markers",
           "name": "True",
           "orientation": "v",
           "showlegend": true,
           "type": "scatter",
           "x": [
            47,
            49,
            51,
            53,
            55,
            57,
            59,
            61,
            63,
            65,
            67,
            69,
            71,
            73,
            75,
            77,
            79,
            81,
            83,
            85
           ],
           "xaxis": "x",
           "y": [
            -8171,
            -8310.3013,
            -8398.3734,
            -8450.3657,
            -8489.7547,
            -8516.8532,
            -8533.3524,
            -8538.7646,
            -8537.0801,
            -8526.9874,
            -8510.7252,
            -8488.974,
            -8461.4381,
            -8430.9972,
            -8395.3955,
            -8357.6815,
            -8316.8971,
            -8269.5311,
            -8206.1204,
            -8121
           ],
           "yaxis": "y"
          },
          {
           "hovertemplate": "Odd Neutron=False<br>Proton Number [Z]=48<br>Neutron Number [N]=%{x}<br>Deficit [MeV]=%{y}<extra></extra>",
           "legendgroup": "False",
           "marker": {
            "color": "#EF553B",
            "symbol": "circle"
           },
           "mode": "markers",
           "name": "False",
           "orientation": "v",
           "showlegend": true,
           "type": "scatter",
           "x": [
            46,
            48,
            50,
            52,
            54,
            56,
            58,
            60,
            62,
            64,
            66,
            68,
            70,
            72,
            74,
            76,
            78,
            80,
            82,
            84,
            86
           ],
           "xaxis": "x",
           "y": [
            -8102,
            -8259,
            -8378.2953,
            -8437.7375,
            -8484.1322,
            -8517.6232,
            -8539.0492,
            -8550.0196,
            -8551.2755,
            -8544.7306,
            -8531.5135,
            -8512.3511,
            -8487.835,
            -8458.024,
            -8424.2667,
            -8387.0179,
            -8346.7393,
            -8303.2367,
            -8252.5868,
            -8169.1421,
            -8086
           ],
           "yaxis": "y"
          }
         ],
         "name": "48"
        },
        {
         "data": [
          {
           "hovertemplate": "Odd Neutron=True<br>Proton Number [Z]=49<br>Neutron Number [N]=%{x}<br>Deficit [MeV]=%{y}<extra></extra>",
           "legendgroup": "True",
           "marker": {
            "color": "#636efa",
            "symbol": "circle"
           },
           "mode": "markers",
           "name": "True",
           "orientation": "v",
           "showlegend": true,
           "type": "scatter",
           "x": [
            47,
            49,
            51,
            53,
            55,
            57,
            59,
            61,
            63,
            65,
            67,
            69,
            71,
            73,
            75,
            77,
            79,
            81,
            83,
            85,
            87
           ],
           "xaxis": "x",
           "y": [
            -8069,
            -8230,
            -8329.7495,
            -8388.5719,
            -8435.238,
            -8470.1213,
            -8495.2516,
            -8508.9087,
            -8514.6674,
            -8511.9742,
            -8501.6177,
            -8485.667,
            -8466.2575,
            -8442.1079,
            -8414.3243,
            -8384.6067,
            -8351.4361,
            -8314.176,
            -8253.7162,
            -8173,
            -8091
           ],
           "yaxis": "y"
          },
          {
           "hovertemplate": "Odd Neutron=False<br>Proton Number [Z]=49<br>Neutron Number [N]=%{x}<br>Deficit [MeV]=%{y}<extra></extra>",
           "legendgroup": "False",
           "marker": {
            "color": "#EF553B",
            "symbol": "circle"
           },
           "mode": "markers",
           "name": "False",
           "orientation": "v",
           "showlegend": true,
           "type": "scatter",
           "x": [
            48,
            50,
            52,
            54,
            56,
            58,
            60,
            62,
            64,
            66,
            68,
            70,
            72,
            74,
            76,
            78,
            80,
            82,
            84,
            86,
            88
           ],
           "xaxis": "x",
           "y": [
            -8165,
            -8304,
            -8370.426,
            -8423.7199,
            -8464.7045,
            -8494.0439,
            -8513.1027,
            -8522.2824,
            -8522.9297,
            -8516.5472,
            -8503.8653,
            -8486.1387,
            -8463.8767,
            -8437.9362,
            -8407.9365,
            -8374.8212,
            -8338.759,
            -8297.9544,
            -8217,
            -8136,
            -8053
           ],
           "yaxis": "y"
          }
         ],
         "name": "49"
        },
        {
         "data": [
          {
           "hovertemplate": "Odd Neutron=True<br>Proton Number [Z]=50<br>Neutron Number [N]=%{x}<br>Deficit [MeV]=%{y}<extra></extra>",
           "legendgroup": "True",
           "marker": {
            "color": "#636efa",
            "symbol": "circle"
           },
           "mode": "markers",
           "name": "True",
           "orientation": "v",
           "showlegend": true,
           "type": "scatter",
           "x": [
            49,
            51,
            53,
            55,
            57,
            59,
            61,
            63,
            65,
            67,
            69,
            71,
            73,
            75,
            77,
            79,
            81,
            83,
            85,
            87,
            89
           ],
           "xaxis": "x",
           "y": [
            -8161,
            -8281.103,
            -8343,
            -8397.229,
            -8439.4946,
            -8470.5183,
            -8493.131,
            -8506.8117,
            -8514.0702,
            -8509.612,
            -8499.4494,
            -8485.1964,
            -8467.2313,
            -8445.5285,
            -8420.5482,
            -8392.8161,
            -8362.5183,
            -8310.089,
            -8230.6877,
            -8152,
            -8073
           ],
           "yaxis": "y"
          },
          {
           "hovertemplate": "Odd Neutron=False<br>Proton Number [Z]=50<br>Neutron Number [N]=%{x}<br>Deficit [MeV]=%{y}<extra></extra>",
           "legendgroup": "False",
           "marker": {
            "color": "#EF553B",
            "symbol": "circle"
           },
           "mode": "markers",
           "name": "False",
           "orientation": "v",
           "showlegend": true,
           "type": "scatter",
           "x": [
            50,
            52,
            54,
            56,
            58,
            60,
            62,
            64,
            66,
            68,
            70,
            72,
            74,
            76,
            78,
            80,
            82,
            84,
            86,
            88,
            90
           ],
           "xaxis": "x",
           "y": [
            -8251.626,
            -8324.4313,
            -8383.9114,
            -8432.0383,
            -8469.0273,
            -8496.0875,
            -8513.6189,
            -8522.5671,
            -8523.1166,
            -8516.5341,
            -8504.488,
            -8487.8968,
            -8467.3997,
            -8443.5227,
            -8416.9749,
            -8386.817,
            -8354.8726,
            -8275.1719,
            -8197,
            -8118,
            -8038
           ],
           "yaxis": "y"
          }
         ],
         "name": "50"
        },
        {
         "data": [
          {
           "hovertemplate": "Odd Neutron=True<br>Proton Number [Z]=51<br>Neutron Number [N]=%{x}<br>Deficit [MeV]=%{y}<extra></extra>",
           "legendgroup": "True",
           "marker": {
            "color": "#636efa",
            "symbol": "circle"
           },
           "mode": "markers",
           "name": "True",
           "orientation": "v",
           "showlegend": true,
           "type": "scatter",
           "x": [
            53,
            55,
            57,
            59,
            61,
            63,
            65,
            67,
            69,
            71,
            73,
            75,
            77,
            79,
            81,
            83,
            85,
            87,
            89,
            91
           ],
           "xaxis": "x",
           "y": [
            -8258,
            -8322.0124,
            -8372.6666,
            -8412.6821,
            -8443.633,
            -8462.5191,
            -8475.8208,
            -8478.9156,
            -8475.63,
            -8468.3222,
            -8456.1517,
            -8440.3136,
            -8420.7724,
            -8397.3641,
            -8372.3452,
            -8325.9398,
            -8252.2533,
            -8178,
            -8103,
            -8027
           ],
           "yaxis": "y"
          },
          {
           "hovertemplate": "Odd Neutron=False<br>Proton Number [Z]=51<br>Neutron Number [N]=%{x}<br>Deficit [MeV]=%{y}<extra></extra>",
           "legendgroup": "False",
           "marker": {
            "color": "#EF553B",
            "symbol": "circle"
           },
           "mode": "markers",
           "name": "False",
           "orientation": "v",
           "showlegend": true,
           "type": "scatter",
           "x": [
            52,
            54,
            56,
            58,
            60,
            62,
            64,
            66,
            68,
            70,
            72,
            74,
            76,
            78,
            80,
            82,
            84,
            86,
            88,
            90
           ],
           "xaxis": "x",
           "y": [
            -8234,
            -8300.9923,
            -8358.7344,
            -8404.8161,
            -8440.1203,
            -8465.2762,
            -8480.9156,
            -8487.8981,
            -8487.9218,
            -8482.0574,
            -8472.3196,
            -8458.1612,
            -8439.811,
            -8418.0598,
            -8392.5525,
            -8364.7302,
            -8291.9894,
            -8218.4764,
            -8144,
            -8069
           ],
           "yaxis": "y"
          }
         ],
         "name": "51"
        },
        {
         "data": [
          {
           "hovertemplate": "Odd Neutron=True<br>Proton Number [Z]=52<br>Neutron Number [N]=%{x}<br>Deficit [MeV]=%{y}<extra></extra>",
           "legendgroup": "True",
           "marker": {
            "color": "#636efa",
            "symbol": "circle"
           },
           "mode": "markers",
           "name": "True",
           "orientation": "v",
           "showlegend": true,
           "type": "scatter",
           "x": [
            53,
            55,
            57,
            59,
            61,
            63,
            65,
            67,
            69,
            71,
            73,
            75,
            77,
            79,
            81,
            83,
            85,
            87,
            89,
            91,
            93
           ],
           "xaxis": "x",
           "y": [
            -8186.8368,
            -8258,
            -8319.3305,
            -8367.7635,
            -8404.6366,
            -8431.1504,
            -8450.9203,
            -8462.0785,
            -8466.8641,
            -8465.537,
            -8458.0361,
            -8446.109,
            -8430.4098,
            -8411.2339,
            -8389.0255,
            -8345.7384,
            -8280.2357,
            -8211.7716,
            -8142,
            -8070,
            -7998
           ],
           "yaxis": "y"
          },
          {
           "hovertemplate": "Odd Neutron=False<br>Proton Number [Z]=52<br>Neutron Number [N]=%{x}<br>Deficit [MeV]=%{y}<extra></extra>",
           "legendgroup": "False",
           "marker": {
            "color": "#EF553B",
            "symbol": "circle"
           },
           "mode": "markers",
           "name": "False",
           "orientation": "v",
           "showlegend": true,
           "type": "scatter",
           "x": [
            52,
            54,
            56,
            58,
            60,
            62,
            64,
            66,
            68,
            70,
            72,
            74,
            76,
            78,
            80,
            82,
            84,
            86,
            88,
            90,
            92
           ],
           "xaxis": "x",
           "y": [
            -8157.3256,
            -8236.7682,
            -8303.7221,
            -8358.116,
            -8400.6527,
            -8432.7885,
            -8455.6435,
            -8469.697,
            -8476.9857,
            -8478.1315,
            -8473.2705,
            -8463.2397,
            -8448.7536,
            -8430.3251,
            -8408.4859,
            -8383.6442,
            -8319.4301,
            -8252.5786,
            -8183.3567,
            -8113,
            -8040
           ],
           "yaxis": "y"
          }
         ],
         "name": "52"
        },
        {
         "data": [
          {
           "hovertemplate": "Odd Neutron=True<br>Proton Number [Z]=53<br>Neutron Number [N]=%{x}<br>Deficit [MeV]=%{y}<extra></extra>",
           "legendgroup": "True",
           "marker": {
            "color": "#636efa",
            "symbol": "circle"
           },
           "mode": "markers",
           "name": "True",
           "orientation": "v",
           "showlegend": true,
           "type": "scatter",
           "x": [
            55,
            57,
            59,
            61,
            63,
            65,
            67,
            69,
            71,
            73,
            75,
            77,
            79,
            81,
            83,
            85,
            87,
            89,
            91,
            93
           ],
           "xaxis": "x",
           "y": [
            -8176,
            -8244.0767,
            -8299.8801,
            -8344.779,
            -8381.2858,
            -8406.1203,
            -8423.6745,
            -8437.0139,
            -8441.4807,
            -8439.9379,
            -8432.8309,
            -8421.1011,
            -8406.4628,
            -8389.0722,
            -8351.3242,
            -8292.445,
            -8229.474,
            -8165.2517,
            -8098,
            -8031
           ],
           "yaxis": "y"
          },
          {
           "hovertemplate": "Odd Neutron=False<br>Proton Number [Z]=53<br>Neutron Number [N]=%{x}<br>Deficit [MeV]=%{y}<extra></extra>",
           "legendgroup": "False",
           "marker": {
            "color": "#EF553B",
            "symbol": "circle"
           },
           "mode": "markers",
           "name": "False",
           "orientation": "v",
           "showlegend": true,
           "type": "scatter",
           "x": [
            56,
            58,
            60,
            62,
            64,
            66,
            68,
            70,
            72,
            74,
            76,
            78,
            80,
            82,
            84,
            86,
            88,
            90,
            92,
            94
           ],
           "xaxis": "x",
           "y": [
            -8220.0164,
            -8282.9343,
            -8333.7528,
            -8374.5651,
            -8404.4307,
            -8426.8924,
            -8441.4111,
            -8449.1896,
            -8450.2911,
            -8445.482,
            -8435.9908,
            -8422.2977,
            -8405.0993,
            -8384.7609,
            -8326.0033,
            -8265.61,
            -8202.2562,
            -8137,
            -8069,
            -8001
           ],
           "yaxis": "y"
          }
         ],
         "name": "53"
        },
        {
         "data": [
          {
           "hovertemplate": "Odd Neutron=True<br>Proton Number [Z]=54<br>Neutron Number [N]=%{x}<br>Deficit [MeV]=%{y}<extra></extra>",
           "legendgroup": "True",
           "marker": {
            "color": "#636efa",
            "symbol": "circle"
           },
           "mode": "markers",
           "name": "True",
           "orientation": "v",
           "showlegend": true,
           "type": "scatter",
           "x": [
            55,
            57,
            59,
            61,
            63,
            65,
            67,
            69,
            71,
            73,
            75,
            77,
            79,
            81,
            83,
            85,
            87,
            89,
            91,
            93,
            95
           ],
           "xaxis": "x",
           "y": [
            -8107.3071,
            -8182,
            -8247.9277,
            -8300.9704,
            -8344.2976,
            -8378.442,
            -8403.8326,
            -8420.9239,
            -8430.939,
            -8434.1066,
            -8431.3904,
            -8423.7367,
            -8412.6477,
            -8398.4783,
            -8364.2865,
            -8311.5904,
            -8255.3647,
            -8196.8855,
            -8135.0877,
            -8072,
            -8009
           ],
           "yaxis": "y"
          },
          {
           "hovertemplate": "Odd Neutron=False<br>Proton Number [Z]=54<br>Neutron Number [N]=%{x}<br>Deficit [MeV]=%{y}<extra></extra>",
           "legendgroup": "False",
           "marker": {
            "color": "#EF553B",
            "symbol": "circle"
           },
           "mode": "markers",
           "name": "False",
           "orientation": "v",
           "showlegend": true,
           "type": "scatter",
           "x": [
            54,
            56,
            58,
            60,
            62,
            64,
            66,
            68,
            70,
            72,
            74,
            76,
            78,
            80,
            82,
            84,
            86,
            88,
            90,
            92,
            94,
            96
           ],
           "xaxis": "x",
           "y": [
            -8074.8886,
            -8159.2808,
            -8230.0646,
            -8289.2054,
            -8336.8365,
            -8374.9819,
            -8404.0322,
            -8424.6644,
            -8437.6138,
            -8443.5375,
            -8443.3008,
            -8437.7314,
            -8427.6229,
            -8413.6994,
            -8396.1889,
            -8344.6913,
            -8290.8875,
            -8233.1695,
            -8172.8845,
            -8110.4154,
            -8047,
            -7983
           ],
           "yaxis": "y"
          }
         ],
         "name": "54"
        },
        {
         "data": [
          {
           "hovertemplate": "Odd Neutron=True<br>Proton Number [Z]=55<br>Neutron Number [N]=%{x}<br>Deficit [MeV]=%{y}<extra></extra>",
           "legendgroup": "True",
           "marker": {
            "color": "#636efa",
            "symbol": "circle"
           },
           "mode": "markers",
           "name": "True",
           "orientation": "v",
           "showlegend": true,
           "type": "scatter",
           "x": [
            57,
            59,
            61,
            63,
            65,
            67,
            69,
            71,
            73,
            75,
            77,
            79,
            81,
            83,
            85,
            87,
            89,
            91,
            93,
            95,
            97
           ],
           "xaxis": "x",
           "y": [
            -8102,
            -8173.5711,
            -8235,
            -8286.4053,
            -8328.4811,
            -8359.1515,
            -8383.5114,
            -8399.2673,
            -8406.4953,
            -8408.7848,
            -8405.5878,
            -8398.647,
            -8389.7723,
            -8360.1437,
            -8314.3227,
            -8264.8777,
            -8211.8894,
            -8155.4365,
            -8097.5469,
            -8039,
            -7980
           ],
           "yaxis": "y"
          },
          {
           "hovertemplate": "Odd Neutron=False<br>Proton Number [Z]=55<br>Neutron Number [N]=%{x}<br>Deficit [MeV]=%{y}<extra></extra>",
           "legendgroup": "False",
           "marker": {
            "color": "#EF553B",
            "symbol": "circle"
           },
           "mode": "markers",
           "name": "False",
           "orientation": "v",
           "showlegend": true,
           "type": "scatter",
           "x": [
            58,
            60,
            62,
            64,
            66,
            68,
            70,
            72,
            74,
            76,
            78,
            80,
            82,
            84,
            86,
            88,
            90,
            92,
            94,
            96
           ],
           "xaxis": "x",
           "y": [
            -8148.623,
            -8216,
            -8271.8652,
            -8317.3347,
            -8352.9152,
            -8380.3796,
            -8399.8033,
            -8411.5617,
            -8416.0465,
            -8415.0317,
            -8409.9786,
            -8401.3393,
            -8388.9581,
            -8342.3397,
            -8294.3554,
            -8243.6707,
            -8188.7342,
            -8131.801,
            -8073,
            -8013
           ],
           "yaxis": "y"
          }
         ],
         "name": "55"
        },
        {
         "data": [
          {
           "hovertemplate": "Odd Neutron=True<br>Proton Number [Z]=56<br>Neutron Number [N]=%{x}<br>Deficit [MeV]=%{y}<extra></extra>",
           "legendgroup": "True",
           "marker": {
            "color": "#636efa",
            "symbol": "circle"
           },
           "mode": "markers",
           "name": "True",
           "orientation": "v",
           "showlegend": true,
           "type": "scatter",
           "x": [
            59,
            61,
            63,
            65,
            67,
            69,
            71,
            73,
            75,
            77,
            79,
            81,
            83,
            85,
            87,
            89,
            91,
            93,
            95,
            97
           ],
           "xaxis": "x",
           "y": [
            -8116,
            -8187.9546,
            -8245.9287,
            -8293.9083,
            -8330.2086,
            -8358.1784,
            -8378.456,
            -8391.0811,
            -8398.5511,
            -8400.2059,
            -8397.5345,
            -8391.8288,
            -8367.0194,
            -8326.0774,
            -8281.9878,
            -8234.7991,
            -8183.2405,
            -8131.8495,
            -8079,
            -8023
           ],
           "yaxis": "y"
          },
          {
           "hovertemplate": "Odd Neutron=False<br>Proton Number [Z]=56<br>Neutron Number [N]=%{x}<br>Deficit [MeV]=%{y}<extra></extra>",
           "legendgroup": "False",
           "marker": {
            "color": "#EF553B",
            "symbol": "circle"
           },
           "mode": "markers",
           "name": "False",
           "orientation": "v",
           "showlegend": true,
           "type": "scatter",
           "x": [
            58,
            60,
            62,
            64,
            66,
            68,
            70,
            72,
            74,
            76,
            78,
            80,
            82,
            84,
            86,
            88,
            90,
            92,
            94,
            96,
            98
           ],
           "xaxis": "x",
           "y": [
            -8089.6865,
            -8162,
            -8227,
            -8280.2949,
            -8323.7567,
            -8355.8209,
            -8379.7187,
            -8395.9878,
            -8405.513,
            -8409.3747,
            -8408.1731,
            -8402.7566,
            -8393.4222,
            -8353.15,
            -8310.9718,
            -8265.4549,
            -8215.5293,
            -8164.1118,
            -8111.8405,
            -8057,
            -8001
           ],
           "yaxis": "y"
          }
         ],
         "name": "56"
        },
        {
         "data": [
          {
           "hovertemplate": "Odd Neutron=True<br>Proton Number [Z]=57<br>Neutron Number [N]=%{x}<br>Deficit [MeV]=%{y}<extra></extra>",
           "legendgroup": "True",
           "marker": {
            "color": "#636efa",
            "symbol": "circle"
           },
           "mode": "markers",
           "name": "True",
           "orientation": "v",
           "showlegend": true,
           "type": "scatter",
           "x": [
            63,
            65,
            67,
            69,
            71,
            73,
            75,
            77,
            79,
            81,
            83,
            85,
            87,
            89,
            91,
            93,
            95,
            97,
            99
           ],
           "xaxis": "x",
           "y": [
            -8179,
            -8235,
            -8278.2926,
            -8312.4268,
            -8337.1904,
            -8356.1919,
            -8367.7559,
            -8374.4888,
            -8376.0512,
            -8375.0835,
            -8355.0201,
            -8320.8263,
            -8281.4283,
            -8239.9988,
            -8193.7165,
            -8149.4339,
            -8102,
            -8051,
            -7997
           ],
           "yaxis": "y"
          },
          {
           "hovertemplate": "Odd Neutron=False<br>Proton Number [Z]=57<br>Neutron Number [N]=%{x}<br>Deficit [MeV]=%{y}<extra></extra>",
           "legendgroup": "False",
           "marker": {
            "color": "#EF553B",
            "symbol": "circle"
           },
           "mode": "markers",
           "name": "False",
           "orientation": "v",
           "showlegend": true,
           "type": "scatter",
           "x": [
            60,
            64,
            66,
            68,
            70,
            72,
            74,
            76,
            78,
            80,
            82,
            84,
            86,
            88,
            90,
            92,
            94,
            96,
            98,
            100
           ],
           "xaxis": "x",
           "y": [
            -8086,
            -8217,
            -8267,
            -8304.6438,
            -8333.5412,
            -8356.0449,
            -8370.3676,
            -8378.8415,
            -8382.7972,
            -8381.8807,
            -8377.9987,
            -8343.205,
            -8306.1271,
            -8266.0873,
            -8221.5536,
            -8176.1915,
            -8129.0436,
            -8081,
            -8028,
            -7972
           ],
           "yaxis": "y"
          }
         ],
         "name": "57"
        },
        {
         "data": [
          {
           "hovertemplate": "Odd Neutron=True<br>Proton Number [Z]=58<br>Neutron Number [N]=%{x}<br>Deficit [MeV]=%{y}<extra></extra>",
           "legendgroup": "True",
           "marker": {
            "color": "#636efa",
            "symbol": "circle"
           },
           "mode": "markers",
           "name": "True",
           "orientation": "v",
           "showlegend": true,
           "type": "scatter",
           "x": [
            63,
            65,
            67,
            69,
            71,
            73,
            75,
            77,
            79,
            81,
            83,
            85,
            87,
            89,
            91,
            93,
            95,
            97,
            99
           ],
           "xaxis": "x",
           "y": [
            -8132,
            -8193,
            -8242,
            -8280.7922,
            -8310.9411,
            -8333.3969,
            -8349.8301,
            -8361.9861,
            -8367.2497,
            -8370.4664,
            -8355.3956,
            -8324.6765,
            -8289.8762,
            -8252.5274,
            -8214.2294,
            -8176.2779,
            -8134,
            -8087,
            -8037
           ],
           "yaxis": "y"
          },
          {
           "hovertemplate": "Odd Neutron=False<br>Proton Number [Z]=58<br>Neutron Number [N]=%{x}<br>Deficit [MeV]=%{y}<extra></extra>",
           "legendgroup": "False",
           "marker": {
            "color": "#EF553B",
            "symbol": "circle"
           },
           "mode": "markers",
           "name": "False",
           "orientation": "v",
           "showlegend": true,
           "type": "scatter",
           "x": [
            64,
            66,
            68,
            70,
            72,
            74,
            76,
            78,
            80,
            82,
            84,
            86,
            88,
            90,
            92,
            94,
            96,
            98,
            100
           ],
           "xaxis": "x",
           "y": [
            -8174,
            -8229,
            -8273.2581,
            -8306.9259,
            -8333.2164,
            -8352.3223,
            -8365.7716,
            -8373.7624,
            -8377.0408,
            -8376.3045,
            -8347.07,
            -8314.7612,
            -8278.5081,
            -8240.3876,
            -8201.123,
            -8161,
            -8116,
            -8068,
            -8015
           ],
           "yaxis": "y"
          }
         ],
         "name": "58"
        },
        {
         "data": [
          {
           "hovertemplate": "Odd Neutron=True<br>Proton Number [Z]=59<br>Neutron Number [N]=%{x}<br>Deficit [MeV]=%{y}<extra></extra>",
           "legendgroup": "True",
           "marker": {
            "color": "#636efa",
            "symbol": "circle"
           },
           "mode": "markers",
           "name": "True",
           "orientation": "v",
           "showlegend": true,
           "type": "scatter",
           "x": [
            65,
            67,
            69,
            71,
            73,
            75,
            77,
            79,
            81,
            83,
            85,
            87,
            89,
            91,
            93,
            95,
            97,
            99,
            101
           ],
           "xaxis": "x",
           "y": [
            -8128,
            -8184,
            -8228.9141,
            -8263.7565,
            -8291.5377,
            -8312.8817,
            -8330.0089,
            -8339.2195,
            -8346.5163,
            -8336.3032,
            -8311.5411,
            -8280.325,
            -8249.5409,
            -8218.9316,
            -8187.1049,
            -8147.2994,
            -8105.2337,
            -8059,
            -8009
           ],
           "yaxis": "y"
          },
          {
           "hovertemplate": "Odd Neutron=False<br>Proton Number [Z]=59<br>Neutron Number [N]=%{x}<br>Deficit [MeV]=%{y}<extra></extra>",
           "legendgroup": "False",
           "marker": {
            "color": "#EF553B",
            "symbol": "circle"
           },
           "mode": "markers",
           "name": "False",
           "orientation": "v",
           "showlegend": true,
           "type": "scatter",
           "x": [
            62,
            66,
            68,
            70,
            72,
            74,
            76,
            78,
            80,
            82,
            84,
            86,
            88,
            90,
            92,
            94,
            96,
            98,
            100,
            102
           ],
           "xaxis": "x",
           "y": [
            -8033,
            -8167,
            -8216,
            -8254.3808,
            -8286.1439,
            -8310.2588,
            -8328.9284,
            -8341.7074,
            -8349.5208,
            -8353.9852,
            -8329.428,
            -8302.1285,
            -8270.54,
            -8238.304,
            -8207.8824,
            -8172.0371,
            -8131.0398,
            -8085.817,
            -8037,
            -7986
           ],
           "yaxis": "y"
          }
         ],
         "name": "59"
        },
        {
         "data": [
          {
           "hovertemplate": "Odd Neutron=True<br>Proton Number [Z]=60<br>Neutron Number [N]=%{x}<br>Deficit [MeV]=%{y}<extra></extra>",
           "legendgroup": "True",
           "marker": {
            "color": "#636efa",
            "symbol": "circle"
           },
           "mode": "markers",
           "name": "True",
           "orientation": "v",
           "showlegend": true,
           "type": "scatter",
           "x": [
            65,
            67,
            69,
            71,
            73,
            75,
            77,
            79,
            81,
            83,
            85,
            87,
            89,
            91,
            93,
            95,
            97,
            99,
            101,
            103
           ],
           "xaxis": "x",
           "y": [
            -8080,
            -8142,
            -8191,
            -8230.3045,
            -8262.232,
            -8288.1536,
            -8309.5892,
            -8323.6642,
            -8335.5074,
            -8330.4893,
            -8309.1883,
            -8283.6036,
            -8255.4437,
            -8230.2741,
            -8204.5832,
            -8170.305,
            -8132.1671,
            -8088.8224,
            -8042,
            -7992
           ],
           "yaxis": "y"
          },
          {
           "hovertemplate": "Odd Neutron=False<br>Proton Number [Z]=60<br>Neutron Number [N]=%{x}<br>Deficit [MeV]=%{y}<extra></extra>",
           "legendgroup": "False",
           "marker": {
            "color": "#EF553B",
            "symbol": "circle"
           },
           "mode": "markers",
           "name": "False",
           "orientation": "v",
           "showlegend": true,
           "type": "scatter",
           "x": [
            66,
            68,
            70,
            72,
            74,
            76,
            78,
            80,
            82,
            84,
            86,
            88,
            90,
            92,
            94,
            96,
            98,
            100,
            102
           ],
           "xaxis": "x",
           "y": [
            -8122,
            -8177,
            -8222.5136,
            -8256.8104,
            -8285.5391,
            -8308.5127,
            -8325.4946,
            -8337.864,
            -8346.031,
            -8326.9237,
            -8304.0927,
            -8277.1778,
            -8249.5789,
            -8224.0078,
            -8192.3491,
            -8156.3265,
            -8114.9529,
            -8069.9662,
            -8022
           ],
           "yaxis": "y"
          }
         ],
         "name": "60"
        },
        {
         "data": [
          {
           "hovertemplate": "Odd Neutron=True<br>Proton Number [Z]=61<br>Neutron Number [N]=%{x}<br>Deficit [MeV]=%{y}<extra></extra>",
           "legendgroup": "True",
           "marker": {
            "color": "#636efa",
            "symbol": "circle"
           },
           "mode": "markers",
           "name": "True",
           "orientation": "v",
           "showlegend": true,
           "type": "scatter",
           "x": [
            67,
            69,
            71,
            73,
            75,
            77,
            79,
            81,
            83,
            85,
            87,
            89,
            91,
            93,
            95,
            97,
            99,
            101,
            103
           ],
           "xaxis": "x",
           "y": [
            -8075,
            -8131,
            -8177,
            -8213.4131,
            -8243.7207,
            -8268.3558,
            -8289.0958,
            -8306.6587,
            -8305.2969,
            -8288.655,
            -8268.2283,
            -8243.8125,
            -8226.1293,
            -8204.717,
            -8176.7263,
            -8143.3622,
            -8103.6398,
            -8061,
            -8014
           ],
           "yaxis": "y"
          },
          {
           "hovertemplate": "Odd Neutron=False<br>Proton Number [Z]=61<br>Neutron Number [N]=%{x}<br>Deficit [MeV]=%{y}<extra></extra>",
           "legendgroup": "False",
           "marker": {
            "color": "#EF553B",
            "symbol": "circle"
           },
           "mode": "markers",
           "name": "False",
           "orientation": "v",
           "showlegend": true,
           "type": "scatter",
           "x": [
            68,
            70,
            72,
            74,
            76,
            78,
            80,
            82,
            84,
            86,
            88,
            90,
            92,
            94,
            96,
            98,
            100,
            102,
            104
           ],
           "xaxis": "x",
           "y": [
            -8114,
            -8163,
            -8204.2841,
            -8236.7933,
            -8263.6516,
            -8285.5473,
            -8303.9405,
            -8317.7341,
            -8302.6583,
            -8284.3712,
            -8261.5277,
            -8241.2723,
            -8221.1536,
            -8195.2977,
            -8164.1458,
            -8126.8601,
            -8085.9977,
            -8042,
            -7992
           ],
           "yaxis": "y"
          }
         ],
         "name": "61"
        },
        {
         "data": [
          {
           "hovertemplate": "Odd Neutron=True<br>Proton Number [Z]=62<br>Neutron Number [N]=%{x}<br>Deficit [MeV]=%{y}<extra></extra>",
           "legendgroup": "True",
           "marker": {
            "color": "#636efa",
            "symbol": "circle"
           },
           "mode": "markers",
           "name": "True",
           "orientation": "v",
           "showlegend": true,
           "type": "scatter",
           "x": [
            67,
            69,
            71,
            73,
            75,
            77,
            79,
            81,
            83,
            85,
            87,
            89,
            91,
            93,
            95,
            97,
            99,
            101,
            103,
            105
           ],
           "xaxis": "x",
           "y": [
            -8023,
            -8085,
            -8137,
            -8177.627,
            -8213.5527,
            -8243.0786,
            -8265.846,
            -8288.1825,
            -8293.0139,
            -8280.5734,
            -8263.4683,
            -8243.9735,
            -8228.5373,
            -8211.2258,
            -8187.0642,
            -8157.4963,
            -8122.0418,
            -8084.1653,
            -8041,
            -7992
           ],
           "yaxis": "y"
          },
          {
           "hovertemplate": "Odd Neutron=False<br>Proton Number [Z]=62<br>Neutron Number [N]=%{x}<br>Deficit [MeV]=%{y}<extra></extra>",
           "legendgroup": "False",
           "marker": {
            "color": "#EF553B",
            "symbol": "circle"
           },
           "mode": "markers",
           "name": "False",
           "orientation": "v",
           "showlegend": true,
           "type": "scatter",
           "x": [
            68,
            70,
            72,
            74,
            76,
            78,
            80,
            82,
            84,
            86,
            88,
            90,
            92,
            94,
            96,
            98,
            100,
            102,
            104,
            106
           ],
           "xaxis": "x",
           "y": [
            -8065,
            -8122,
            -8167,
            -8205.9165,
            -8237.9286,
            -8263.8211,
            -8285.9407,
            -8303.68,
            -8293.8581,
            -8279.6326,
            -8261.6235,
            -8244.0645,
            -8226.8379,
            -8205.0054,
            -8177.3075,
            -8144.6159,
            -8107.5745,
            -8067.7803,
            -8023,
            -7971
           ],
           "yaxis": "y"
          }
         ],
         "name": "62"
        },
        {
         "data": [
          {
           "hovertemplate": "Odd Neutron=True<br>Proton Number [Z]=63<br>Neutron Number [N]=%{x}<br>Deficit [MeV]=%{y}<extra></extra>",
           "legendgroup": "True",
           "marker": {
            "color": "#636efa",
            "symbol": "circle"
           },
           "mode": "markers",
           "name": "True",
           "orientation": "v",
           "showlegend": true,
           "type": "scatter",
           "x": [
            67,
            69,
            71,
            73,
            75,
            77,
            79,
            81,
            83,
            85,
            87,
            89,
            91,
            93,
            95,
            97,
            99,
            101,
            103,
            105
           ],
           "xaxis": "x",
           "y": [
            -7950,
            -8018,
            -8075,
            -8122,
            -8161.6211,
            -8197.733,
            -8226.396,
            -8254.1744,
            -8261.9327,
            -8253.8155,
            -8241.3481,
            -8226.5854,
            -8217.1006,
            -8204.6192,
            -8185.132,
            -8160.103,
            -8129.5593,
            -8095.3686,
            -8056,
            -8012
           ],
           "yaxis": "y"
          },
          {
           "hovertemplate": "Odd Neutron=False<br>Proton Number [Z]=63<br>Neutron Number [N]=%{x}<br>Deficit [MeV]=%{y}<extra></extra>",
           "legendgroup": "False",
           "marker": {
            "color": "#EF553B",
            "symbol": "circle"
           },
           "mode": "markers",
           "name": "False",
           "orientation": "v",
           "showlegend": true,
           "type": "scatter",
           "x": [
            68,
            72,
            74,
            76,
            78,
            80,
            82,
            84,
            86,
            88,
            90,
            92,
            94,
            96,
            98,
            100,
            102,
            104,
            106
           ],
           "xaxis": "x",
           "y": [
            -7996,
            -8107,
            -8150.5738,
            -8187.2187,
            -8217.6853,
            -8245.8177,
            -8269.2744,
            -8263.5409,
            -8253.556,
            -8239.2998,
            -8228.7011,
            -8216.676,
            -8199.7975,
            -8176.6987,
            -8148.981,
            -8116.0172,
            -8080.0529,
            -8038,
            -7991
           ],
           "yaxis": "y"
          }
         ],
         "name": "63"
        },
        {
         "data": [
          {
           "hovertemplate": "Odd Neutron=True<br>Proton Number [Z]=64<br>Neutron Number [N]=%{x}<br>Deficit [MeV]=%{y}<extra></extra>",
           "legendgroup": "True",
           "marker": {
            "color": "#636efa",
            "symbol": "circle"
           },
           "mode": "markers",
           "name": "True",
           "orientation": "v",
           "showlegend": true,
           "type": "scatter",
           "x": [
            71,
            73,
            75,
            77,
            79,
            81,
            83,
            85,
            87,
            89,
            91,
            93,
            95,
            97,
            99,
            101,
            103,
            105,
            107
           ],
           "xaxis": "x",
           "y": [
            -8028,
            -8080,
            -8126,
            -8164.609,
            -8198.3188,
            -8228.9485,
            -8243.3366,
            -8239.4856,
            -8231.0446,
            -8220.4209,
            -8213.2541,
            -8203.5072,
            -8187.6177,
            -8167.1934,
            -8140.756,
            -8110.4428,
            -8075.5428,
            -8035,
            -7990
           ],
           "yaxis": "y"
          },
          {
           "hovertemplate": "Odd Neutron=False<br>Proton Number [Z]=64<br>Neutron Number [N]=%{x}<br>Deficit [MeV]=%{y}<extra></extra>",
           "legendgroup": "False",
           "marker": {
            "color": "#EF553B",
            "symbol": "circle"
           },
           "mode": "markers",
           "name": "False",
           "orientation": "v",
           "showlegend": true,
           "type": "scatter",
           "x": [
            70,
            72,
            74,
            76,
            78,
            80,
            82,
            84,
            86,
            88,
            90,
            92,
            94,
            96,
            98,
            100,
            102,
            104,
            106,
            108
           ],
           "xaxis": "x",
           "y": [
            -8008,
            -8064,
            -8112,
            -8154.9757,
            -8190.2569,
            -8221.9382,
            -8249.5072,
            -8248.3398,
            -8242.6103,
            -8233.4042,
            -8224.7996,
            -8215.3253,
            -8201.8229,
            -8183.0171,
            -8159.0373,
            -8129.9978,
            -8097.226,
            -8060,
            -8017,
            -7972
           ],
           "yaxis": "y"
          }
         ],
         "name": "64"
        },
        {
         "data": [
          {
           "hovertemplate": "Odd Neutron=True<br>Proton Number [Z]=65<br>Neutron Number [N]=%{x}<br>Deficit [MeV]=%{y}<extra></extra>",
           "legendgroup": "True",
           "marker": {
            "color": "#636efa",
            "symbol": "circle"
           },
           "mode": "markers",
           "name": "True",
           "orientation": "v",
           "showlegend": true,
           "type": "scatter",
           "x": [
            73,
            75,
            77,
            79,
            81,
            83,
            85,
            87,
            89,
            91,
            93,
            95,
            97,
            99,
            101,
            103,
            105,
            107,
            109
           ],
           "xaxis": "x",
           "y": [
            -8019,
            -8068.6732,
            -8111.508,
            -8151.2877,
            -8187.1474,
            -8204.3207,
            -8206.3396,
            -8202.0072,
            -8196.6697,
            -8194.6415,
            -8189.1556,
            -8177.4676,
            -8164.0773,
            -8139.9304,
            -8113.223,
            -8082.798,
            -8047,
            -8006,
            -7963
           ],
           "yaxis": "y"
          },
          {
           "hovertemplate": "Odd Neutron=False<br>Proton Number [Z]=65<br>Neutron Number [N]=%{x}<br>Deficit [MeV]=%{y}<extra></extra>",
           "legendgroup": "False",
           "marker": {
            "color": "#EF553B",
            "symbol": "circle"
           },
           "mode": "markers",
           "name": "False",
           "orientation": "v",
           "showlegend": true,
           "type": "scatter",
           "x": [
            70,
            74,
            76,
            78,
            80,
            82,
            84,
            86,
            88,
            90,
            92,
            94,
            96,
            98,
            100,
            102,
            104,
            106,
            108
           ],
           "xaxis": "x",
           "y": [
            -7939,
            -8052,
            -8097.4761,
            -8138.2176,
            -8178.5397,
            -8206.625,
            -8209.8153,
            -8208.8743,
            -8205.0504,
            -8202.9173,
            -8198.1416,
            -8188.8025,
            -8174.4809,
            -8155.6322,
            -8130.3259,
            -8101.441,
            -8069,
            -8030,
            -7988
           ],
           "yaxis": "y"
          }
         ],
         "name": "65"
        },
        {
         "data": [
          {
           "hovertemplate": "Odd Neutron=True<br>Proton Number [Z]=66<br>Neutron Number [N]=%{x}<br>Deficit [MeV]=%{y}<extra></extra>",
           "legendgroup": "True",
           "marker": {
            "color": "#636efa",
            "symbol": "circle"
           },
           "mode": "markers",
           "name": "True",
           "orientation": "v",
           "showlegend": true,
           "type": "scatter",
           "x": [
            73,
            75,
            77,
            79,
            81,
            83,
            85,
            87,
            89,
            91,
            93,
            95,
            97,
            99,
            101,
            103,
            105,
            107,
            109
           ],
           "xaxis": "x",
           "y": [
            -7971,
            -8027,
            -8075.0527,
            -8116.8884,
            -8156.768,
            -8179.0972,
            -8184.6789,
            -8185.7514,
            -8184.357,
            -8184.6287,
            -8181.5842,
            -8173.3093,
            -8161.784,
            -8143.9083,
            -8120.8782,
            -8094.7566,
            -8062,
            -8026,
            -7986
           ],
           "yaxis": "y"
          },
          {
           "hovertemplate": "Odd Neutron=False<br>Proton Number [Z]=66<br>Neutron Number [N]=%{x}<br>Deficit [MeV]=%{y}<extra></extra>",
           "legendgroup": "False",
           "marker": {
            "color": "#EF553B",
            "symbol": "circle"
           },
           "mode": "markers",
           "name": "False",
           "orientation": "v",
           "showlegend": true,
           "type": "scatter",
           "x": [
            74,
            76,
            78,
            80,
            82,
            84,
            86,
            88,
            90,
            92,
            94,
            96,
            98,
            100,
            102,
            104,
            106,
            108,
            110
           ],
           "xaxis": "x",
           "y": [
            -8008,
            -8061,
            -8105.5902,
            -8146.1128,
            -8180.943,
            -8189.1495,
            -8192.9171,
            -8193.1305,
            -8192.4366,
            -8190.1298,
            -8184.0526,
            -8173.4555,
            -8158.7129,
            -8137.2793,
            -8112.5293,
            -8084,
            -8049,
            -8011,
            -7969
           ],
           "yaxis": "y"
          }
         ],
         "name": "66"
        },
        {
         "data": [
          {
           "hovertemplate": "Odd Neutron=True<br>Proton Number [Z]=67<br>Neutron Number [N]=%{x}<br>Deficit [MeV]=%{y}<extra></extra>",
           "legendgroup": "True",
           "marker": {
            "color": "#636efa",
            "symbol": "circle"
           },
           "mode": "markers",
           "name": "True",
           "orientation": "v",
           "showlegend": true,
           "type": "scatter",
           "x": [
            73,
            75,
            77,
            79,
            81,
            83,
            85,
            87,
            89,
            91,
            93,
            95,
            97,
            99,
            101,
            103,
            105,
            107,
            109,
            111
           ],
           "xaxis": "x",
           "y": [
            -7906,
            -7965,
            -8017.0977,
            -8063.2426,
            -8108.9797,
            -8134.8423,
            -8144.9193,
            -8150.6825,
            -8155.428,
            -8158.4709,
            -8158.6004,
            -8155.4126,
            -8147.9234,
            -8135.4933,
            -8116.8061,
            -8093.7902,
            -8066,
            -8034,
            -7997,
            -7957
           ],
           "yaxis": "y"
          },
          {
           "hovertemplate": "Odd Neutron=False<br>Proton Number [Z]=67<br>Neutron Number [N]=%{x}<br>Deficit [MeV]=%{y}<extra></extra>",
           "legendgroup": "False",
           "marker": {
            "color": "#EF553B",
            "symbol": "circle"
           },
           "mode": "markers",
           "name": "False",
           "orientation": "v",
           "showlegend": true,
           "type": "scatter",
           "x": [
            74,
            76,
            78,
            80,
            82,
            84,
            86,
            88,
            90,
            92,
            94,
            96,
            98,
            100,
            102,
            104,
            106,
            108,
            110
           ],
           "xaxis": "x",
           "y": [
            -7943,
            -7999,
            -8048.5792,
            -8094.0381,
            -8133.255,
            -8145.5267,
            -8153.6372,
            -8159.2055,
            -8163.1373,
            -8165.1066,
            -8163.1134,
            -8156.967,
            -8146.9591,
            -8130.3732,
            -8109.0622,
            -8083.6021,
            -8054,
            -8019,
            -7980
           ],
           "yaxis": "y"
          }
         ],
         "name": "67"
        },
        {
         "data": [
          {
           "hovertemplate": "Odd Neutron=True<br>Proton Number [Z]=68<br>Neutron Number [N]=%{x}<br>Deficit [MeV]=%{y}<extra></extra>",
           "legendgroup": "True",
           "marker": {
            "color": "#636efa",
            "symbol": "circle"
           },
           "mode": "markers",
           "name": "True",
           "orientation": "v",
           "showlegend": true,
           "type": "scatter",
           "x": [
            75,
            77,
            79,
            81,
            83,
            85,
            87,
            89,
            91,
            93,
            95,
            97,
            99,
            101,
            103,
            105,
            107,
            109,
            111
           ],
           "xaxis": "x",
           "y": [
            -7917,
            -7975,
            -8026.476,
            -8074.9558,
            -8104.8723,
            -8118.8154,
            -8129.4444,
            -8136.3757,
            -8142.7742,
            -8145.8628,
            -8144.7403,
            -8139.9348,
            -8131.7352,
            -8117.0078,
            -8097.7404,
            -8074,
            -8045,
            -8013,
            -7976
           ],
           "yaxis": "y"
          },
          {
           "hovertemplate": "Odd Neutron=False<br>Proton Number [Z]=68<br>Neutron Number [N]=%{x}<br>Deficit [MeV]=%{y}<extra></extra>",
           "legendgroup": "False",
           "marker": {
            "color": "#EF553B",
            "symbol": "circle"
           },
           "mode": "markers",
           "name": "False",
           "orientation": "v",
           "showlegend": true,
           "type": "scatter",
           "x": [
            76,
            78,
            80,
            82,
            84,
            86,
            88,
            90,
            92,
            94,
            96,
            98,
            100,
            102,
            104,
            106,
            108,
            110,
            112
           ],
           "xaxis": "x",
           "y": [
            -7956,
            -8010.5127,
            -8059.6924,
            -8102.1962,
            -8119.3485,
            -8132.3919,
            -8141.9084,
            -8147.927,
            -8151.7217,
            -8152.3959,
            -8149.0191,
            -8141.9479,
            -8129.5897,
            -8111.9529,
            -8090.4052,
            -8064,
            -8034,
            -7999,
            -7960
           ],
           "yaxis": "y"
          }
         ],
         "name": "68"
        },
        {
         "data": [
          {
           "hovertemplate": "Odd Neutron=True<br>Proton Number [Z]=69<br>Neutron Number [N]=%{x}<br>Deficit [MeV]=%{y}<extra></extra>",
           "legendgroup": "True",
           "marker": {
            "color": "#636efa",
            "symbol": "circle"
           },
           "mode": "markers",
           "name": "True",
           "orientation": "v",
           "showlegend": true,
           "type": "scatter",
           "x": [
            75,
            77,
            79,
            81,
            83,
            85,
            87,
            89,
            91,
            93,
            95,
            97,
            99,
            101,
            103,
            105,
            107,
            109,
            111
           ],
           "xaxis": "x",
           "y": [
            -7850,
            -7914,
            -7968.5011,
            -8021,
            -8056.4387,
            -8074.209,
            -8089.6032,
            -8101.1994,
            -8110.8124,
            -8117.5868,
            -8119.6534,
            -8118.9357,
            -8114.9516,
            -8105.5144,
            -8091.0367,
            -8070.6432,
            -8045.1214,
            -8017,
            -7983
           ],
           "yaxis": "y"
          },
          {
           "hovertemplate": "Odd Neutron=False<br>Proton Number [Z]=69<br>Neutron Number [N]=%{x}<br>Deficit [MeV]=%{y}<extra></extra>",
           "legendgroup": "False",
           "marker": {
            "color": "#EF553B",
            "symbol": "circle"
           },
           "mode": "markers",
           "name": "False",
           "orientation": "v",
           "showlegend": true,
           "type": "scatter",
           "x": [
            76,
            78,
            80,
            82,
            84,
            86,
            88,
            90,
            92,
            94,
            96,
            98,
            100,
            102,
            104,
            106,
            108,
            110,
            112
           ],
           "xaxis": "x",
           "y": [
            -7889,
            -7948.8178,
            -8004,
            -8050.0576,
            -8071.2571,
            -8088.376,
            -8101.4285,
            -8112.7549,
            -8120.4906,
            -8124.9774,
            -8125.5489,
            -8122.5826,
            -8114.4702,
            -8101.8931,
            -8084.4633,
            -8061.7673,
            -8035,
            -8004,
            -7969
           ],
           "yaxis": "y"
          }
         ],
         "name": "69"
        },
        {
         "data": [
          {
           "hovertemplate": "Odd Neutron=True<br>Proton Number [Z]=70<br>Neutron Number [N]=%{x}<br>Deficit [MeV]=%{y}<extra></extra>",
           "legendgroup": "True",
           "marker": {
            "color": "#636efa",
            "symbol": "circle"
           },
           "mode": "markers",
           "name": "True",
           "orientation": "v",
           "showlegend": true,
           "type": "scatter",
           "x": [
            79,
            81,
            83,
            85,
            87,
            89,
            91,
            93,
            95,
            97,
            99,
            101,
            103,
            105,
            107,
            109,
            111,
            113,
            115
           ],
           "xaxis": "x",
           "y": [
            -7927,
            -7983.7556,
            -8022,
            -8043.8234,
            -8062.7551,
            -8078.0428,
            -8090.3861,
            -8099.1069,
            -8104.8399,
            -8106.202,
            -8104.5206,
            -8097.8826,
            -8087.4276,
            -8070.9253,
            -8049.9741,
            -8026,
            -7996,
            -7963,
            -7929
           ],
           "yaxis": "y"
          },
          {
           "hovertemplate": "Odd Neutron=False<br>Proton Number [Z]=70<br>Neutron Number [N]=%{x}<br>Deficit [MeV]=%{y}<extra></extra>",
           "legendgroup": "False",
           "marker": {
            "color": "#EF553B",
            "symbol": "circle"
           },
           "mode": "markers",
           "name": "False",
           "orientation": "v",
           "showlegend": true,
           "type": "scatter",
           "x": [
            80,
            82,
            84,
            86,
            88,
            90,
            92,
            94,
            96,
            98,
            100,
            102,
            104,
            106,
            108,
            110,
            112,
            114
           ],
           "xaxis": "x",
           "y": [
            -7965,
            -8015.4371,
            -8039.9402,
            -8061.7107,
            -8079.1999,
            -8092.5614,
            -8102.5333,
            -8109.4149,
            -8112.4591,
            -8111.887,
            -8106.6101,
            -8097.4295,
            -8083.8481,
            -8064.0853,
            -8042.7386,
            -8016,
            -7984,
            -7951
           ],
           "yaxis": "y"
          }
         ],
         "name": "70"
        },
        {
         "data": [
          {
           "hovertemplate": "Odd Neutron=True<br>Proton Number [Z]=71<br>Neutron Number [N]=%{x}<br>Deficit [MeV]=%{y}<extra></extra>",
           "legendgroup": "True",
           "marker": {
            "color": "#636efa",
            "symbol": "circle"
           },
           "mode": "markers",
           "name": "True",
           "orientation": "v",
           "showlegend": true,
           "type": "scatter",
           "x": [
            79,
            81,
            83,
            85,
            87,
            89,
            91,
            93,
            95,
            97,
            99,
            101,
            103,
            105,
            107,
            109,
            111,
            113,
            115,
            117
           ],
           "xaxis": "x",
           "y": [
            -7866,
            -7926,
            -7968,
            -7995.3752,
            -8018.5685,
            -8038.3387,
            -8054.5596,
            -8065.8043,
            -8074.1756,
            -8080.4026,
            -8081.6686,
            -8078.2334,
            -8071.454,
            -8059.0209,
            -8042.0554,
            -8022.0394,
            -7996,
            -7967,
            -7936,
            -7903
           ],
           "yaxis": "y"
          },
          {
           "hovertemplate": "Odd Neutron=False<br>Proton Number [Z]=71<br>Neutron Number [N]=%{x}<br>Deficit [MeV]=%{y}<extra></extra>",
           "legendgroup": "False",
           "marker": {
            "color": "#EF553B",
            "symbol": "circle"
           },
           "mode": "markers",
           "name": "False",
           "orientation": "v",
           "showlegend": true,
           "type": "scatter",
           "x": [
            78,
            80,
            82,
            84,
            86,
            88,
            90,
            92,
            94,
            96,
            98,
            100,
            102,
            104,
            106,
            108,
            110,
            112,
            114,
            116
           ],
           "xaxis": "x",
           "y": [
            null,
            -7904,
            -7959.0882,
            -7987.4369,
            -8013.3128,
            -8034.6009,
            -8052.7821,
            -8066.6848,
            -8076.746,
            -8083.1722,
            -8086.3233,
            -8084.6621,
            -8079.0312,
            -8069.1412,
            -8053.4495,
            -8035.0744,
            -8011.9301,
            -7984.8125,
            -7955,
            -7923
           ],
           "yaxis": "y"
          }
         ],
         "name": "71"
        },
        {
         "data": [
          {
           "hovertemplate": "Odd Neutron=True<br>Proton Number [Z]=72<br>Neutron Number [N]=%{x}<br>Deficit [MeV]=%{y}<extra></extra>",
           "legendgroup": "True",
           "marker": {
            "color": "#636efa",
            "symbol": "circle"
           },
           "mode": "markers",
           "name": "True",
           "orientation": "v",
           "showlegend": true,
           "type": "scatter",
           "x": [
            79,
            81,
            83,
            85,
            87,
            89,
            91,
            93,
            95,
            97,
            99,
            101,
            103,
            105,
            107,
            109,
            111,
            113,
            115,
            117
           ],
           "xaxis": "x",
           "y": [
            null,
            -7882,
            -7929,
            -7960,
            -7986.561,
            -8009.1245,
            -8028.0072,
            -8042.8728,
            -8054.185,
            -8061.7791,
            -8066.0687,
            -8066.0164,
            -8060.7625,
            -8051.8365,
            -8038.5474,
            -8022.003,
            -8000.0315,
            -7973.9711,
            -7947,
            -7917
           ],
           "yaxis": "y"
          },
          {
           "hovertemplate": "Odd Neutron=False<br>Proton Number [Z]=72<br>Neutron Number [N]=%{x}<br>Deficit [MeV]=%{y}<extra></extra>",
           "legendgroup": "False",
           "marker": {
            "color": "#EF553B",
            "symbol": "circle"
           },
           "mode": "markers",
           "name": "False",
           "orientation": "v",
           "showlegend": true,
           "type": "scatter",
           "x": [
            82,
            84,
            86,
            88,
            90,
            92,
            94,
            96,
            98,
            100,
            102,
            104,
            106,
            108,
            110,
            112,
            114,
            116,
            118
           ],
           "xaxis": "x",
           "y": [
            -7918,
            -7952.6676,
            -7981.2764,
            -8006.3791,
            -8027.1171,
            -8043.8142,
            -8056.4386,
            -8065.5536,
            -8070.8762,
            -8071.7439,
            -8068.5341,
            -8061.3604,
            -8049.4438,
            -8034.9319,
            -8014.8381,
            -7990.7228,
            -7964.3032,
            -7936,
            -7905
           ],
           "yaxis": "y"
          }
         ],
         "name": "72"
        },
        {
         "data": [
          {
           "hovertemplate": "Odd Neutron=True<br>Proton Number [Z]=73<br>Neutron Number [N]=%{x}<br>Deficit [MeV]=%{y}<extra></extra>",
           "legendgroup": "True",
           "marker": {
            "color": "#636efa",
            "symbol": "circle"
           },
           "mode": "markers",
           "name": "True",
           "orientation": "v",
           "showlegend": true,
           "type": "scatter",
           "x": [
            83,
            85,
            87,
            89,
            91,
            93,
            95,
            97,
            99,
            101,
            103,
            105,
            107,
            109,
            111,
            113,
            115,
            117,
            119,
            121
           ],
           "xaxis": "x",
           "y": [
            -7872,
            -7907,
            -7938.2704,
            -7964.3432,
            -7986.9978,
            -8004.9714,
            -8019.4287,
            -8030.2965,
            -8037.7056,
            -8040.4528,
            -8038.6706,
            -8035,
            -8025.8864,
            -8012.6332,
            -7993.7535,
            -7971.8357,
            -7948,
            -7922,
            -7894,
            -7865
           ],
           "yaxis": "y"
          },
          {
           "hovertemplate": "Odd Neutron=False<br>Proton Number [Z]=73<br>Neutron Number [N]=%{x}<br>Deficit [MeV]=%{y}<extra></extra>",
           "legendgroup": "False",
           "marker": {
            "color": "#EF553B",
            "symbol": "circle"
           },
           "mode": "markers",
           "name": "False",
           "orientation": "v",
           "showlegend": true,
           "type": "scatter",
           "x": [
            82,
            84,
            86,
            88,
            90,
            92,
            94,
            96,
            98,
            100,
            102,
            104,
            106,
            108,
            110,
            112,
            114,
            116,
            118,
            120
           ],
           "xaxis": "x",
           "y": [
            -7858,
            -7896.0608,
            -7928.7258,
            -7957.45,
            -7981.8905,
            -8003.0547,
            -8018.8614,
            -8030.9577,
            -8039.7914,
            -8044.065,
            -8044.4456,
            -8040.8289,
            -8033.5869,
            -8023.405,
            -8006.74,
            -7986.3615,
            -7963.2123,
            -7938,
            -7911,
            -7883
           ],
           "yaxis": "y"
          }
         ],
         "name": "73"
        },
        {
         "data": [
          {
           "hovertemplate": "Odd Neutron=True<br>Proton Number [Z]=74<br>Neutron Number [N]=%{x}<br>Deficit [MeV]=%{y}<extra></extra>",
           "legendgroup": "True",
           "marker": {
            "color": "#636efa",
            "symbol": "circle"
           },
           "mode": "markers",
           "name": "True",
           "orientation": "v",
           "showlegend": true,
           "type": "scatter",
           "x": [
            83,
            85,
            87,
            89,
            91,
            93,
            95,
            97,
            99,
            101,
            103,
            105,
            107,
            109,
            111,
            113,
            115,
            117,
            119,
            121,
            123
           ],
           "xaxis": "x",
           "y": [
            -7828,
            -7867,
            -7901,
            -7930.3043,
            -7955.9704,
            -7976.7045,
            -7994.5381,
            -8008.1158,
            -8018.3337,
            -8024.113,
            -8025.0359,
            -8023.2821,
            -8017.9494,
            -8008.3234,
            -7992.9083,
            -7975.1168,
            -7954,
            -7931.4359,
            -7907,
            -7881,
            -7853
           ],
           "yaxis": "y"
          },
          {
           "hovertemplate": "Odd Neutron=False<br>Proton Number [Z]=74<br>Neutron Number [N]=%{x}<br>Deficit [MeV]=%{y}<extra></extra>",
           "legendgroup": "False",
           "marker": {
            "color": "#EF553B",
            "symbol": "circle"
           },
           "mode": "markers",
           "name": "False",
           "orientation": "v",
           "showlegend": true,
           "type": "scatter",
           "x": [
            84,
            86,
            88,
            90,
            92,
            94,
            96,
            98,
            100,
            102,
            104,
            106,
            108,
            110,
            112,
            114,
            116,
            118,
            120,
            122
           ],
           "xaxis": "x",
           "y": [
            -7855,
            -7892.7893,
            -7923.8214,
            -7951.4515,
            -7974.8951,
            -7993.9327,
            -8008.9482,
            -8020.1757,
            -8027.2572,
            -8030.1131,
            -8029.2584,
            -8025.4434,
            -8018.3096,
            -8005.0777,
            -7988.6026,
            -7969.0532,
            -7947.5031,
            -7924,
            -7899,
            -7872
           ],
           "yaxis": "y"
          }
         ],
         "name": "74"
        },
        {
         "data": [
          {
           "hovertemplate": "Odd Neutron=True<br>Proton Number [Z]=75<br>Neutron Number [N]=%{x}<br>Deficit [MeV]=%{y}<extra></extra>",
           "legendgroup": "True",
           "marker": {
            "color": "#636efa",
            "symbol": "circle"
           },
           "mode": "markers",
           "name": "True",
           "orientation": "v",
           "showlegend": true,
           "type": "scatter",
           "x": [
            85,
            87,
            89,
            91,
            93,
            95,
            97,
            99,
            101,
            103,
            105,
            107,
            109,
            111,
            113,
            115,
            117,
            119,
            121,
            123
           ],
           "xaxis": "x",
           "y": [
            -7810,
            -7848,
            -7881.0523,
            -7909.6392,
            -7935.1208,
            -7955.012,
            -7971.846,
            -7985.0944,
            -7993.9707,
            -7998.1576,
            -7999.9922,
            -7998.6264,
            -7992.7517,
            -7981.2713,
            -7966.7481,
            -7949.7759,
            -7930.2389,
            -7909,
            -7886,
            -7861
           ],
           "yaxis": "y"
          },
          {
           "hovertemplate": "Odd Neutron=False<br>Proton Number [Z]=75<br>Neutron Number [N]=%{x}<br>Deficit [MeV]=%{y}<extra></extra>",
           "legendgroup": "False",
           "marker": {
            "color": "#EF553B",
            "symbol": "circle"
           },
           "mode": "markers",
           "name": "False",
           "orientation": "v",
           "showlegend": true,
           "type": "scatter",
           "x": [
            84,
            86,
            88,
            90,
            92,
            94,
            96,
            98,
            100,
            102,
            104,
            106,
            108,
            110,
            112,
            114,
            116,
            118,
            120,
            122,
            124
           ],
           "xaxis": "x",
           "y": [
            -7795,
            -7836.3292,
            -7870.8655,
            -7901.5201,
            -7929,
            -7951.3963,
            -7969.4131,
            -7983.9068,
            -7994.8168,
            -8001.2229,
            -8003.7666,
            -8004.1434,
            -8001.0101,
            -7991.0101,
            -7977.9519,
            -7961.8105,
            -7943.9588,
            -7923.9378,
            -7901,
            -7877,
            -7850
           ],
           "yaxis": "y"
          }
         ],
         "name": "75"
        },
        {
         "data": [
          {
           "hovertemplate": "Odd Neutron=True<br>Proton Number [Z]=76<br>Neutron Number [N]=%{x}<br>Deficit [MeV]=%{y}<extra></extra>",
           "legendgroup": "True",
           "marker": {
            "color": "#636efa",
            "symbol": "circle"
           },
           "mode": "markers",
           "name": "True",
           "orientation": "v",
           "showlegend": true,
           "type": "scatter",
           "x": [
            85,
            87,
            89,
            91,
            93,
            95,
            97,
            99,
            101,
            103,
            105,
            107,
            109,
            111,
            113,
            115,
            117,
            119,
            121,
            123,
            125,
            127
           ],
           "xaxis": "x",
           "y": [
            -7765,
            -7807,
            -7843,
            -7873.9557,
            -7901.2862,
            -7924.1769,
            -7944.0341,
            -7960.7294,
            -7972.4371,
            -7979.4844,
            -7983.4263,
            -7985.0087,
            -7981.3047,
            -7973.7814,
            -7963.0029,
            -7950.5687,
            -7936.2716,
            -7917.7449,
            -7897,
            -7874,
            -7849,
            -7814
           ],
           "yaxis": "y"
          },
          {
           "hovertemplate": "Odd Neutron=False<br>Proton Number [Z]=76<br>Neutron Number [N]=%{x}<br>Deficit [MeV]=%{y}<extra></extra>",
           "legendgroup": "False",
           "marker": {
            "color": "#EF553B",
            "symbol": "circle"
           },
           "mode": "markers",
           "name": "False",
           "orientation": "v",
           "showlegend": true,
           "type": "scatter",
           "x": [
            86,
            88,
            90,
            92,
            94,
            96,
            98,
            100,
            102,
            104,
            106,
            108,
            110,
            112,
            114,
            116,
            118,
            120,
            122,
            124,
            126
           ],
           "xaxis": "x",
           "y": [
            -7794,
            -7833.308,
            -7866.3371,
            -7895.9408,
            -7921.1258,
            -7942.1626,
            -7959.4618,
            -7972.8681,
            -7981.9128,
            -7987.4171,
            -7989.7287,
            -7988.6778,
            -7982.8324,
            -7973.8656,
            -7962.1047,
            -7948.526,
            -7932.0232,
            -7912.2301,
            -7890,
            -7867,
            -7839
           ],
           "yaxis": "y"
          }
         ],
         "name": "76"
        },
        {
         "data": [
          {
           "hovertemplate": "Odd Neutron=True<br>Proton Number [Z]=77<br>Neutron Number [N]=%{x}<br>Deficit [MeV]=%{y}<extra></extra>",
           "legendgroup": "True",
           "marker": {
            "color": "#636efa",
            "symbol": "circle"
           },
           "mode": "markers",
           "name": "True",
           "orientation": "v",
           "showlegend": true,
           "type": "scatter",
           "x": [
            87,
            89,
            91,
            93,
            95,
            97,
            99,
            101,
            103,
            105,
            107,
            109,
            111,
            113,
            115,
            117,
            119,
            121,
            123,
            125,
            127
           ],
           "xaxis": "x",
           "y": [
            -7750,
            -7789,
            -7823.8509,
            -7853,
            -7880.2637,
            -7902.0377,
            -7921.5522,
            -7936.563,
            -7947.6337,
            -7954.8948,
            -7959.1992,
            -7958.0473,
            -7954.8512,
            -7947.7017,
            -7938.9999,
            -7928.4885,
            -7914.1487,
            -7897,
            -7878,
            -7855,
            -7823
           ],
           "yaxis": "y"
          },
          {
           "hovertemplate": "Odd Neutron=False<br>Proton Number [Z]=77<br>Neutron Number [N]=%{x}<br>Deficit [MeV]=%{y}<extra></extra>",
           "legendgroup": "False",
           "marker": {
            "color": "#EF553B",
            "symbol": "circle"
           },
           "mode": "markers",
           "name": "False",
           "orientation": "v",
           "showlegend": true,
           "type": "scatter",
           "x": [
            88,
            90,
            92,
            94,
            96,
            98,
            100,
            102,
            104,
            106,
            108,
            110,
            112,
            114,
            116,
            118,
            120,
            122,
            124,
            126,
            128
           ],
           "xaxis": "x",
           "y": [
            -7776,
            -7812.8254,
            -7845.5944,
            -7873.4895,
            -7898.068,
            -7917.9112,
            -7934.6328,
            -7947.5248,
            -7956.5242,
            -7961.8176,
            -7963.7226,
            -7960.6692,
            -7956.0214,
            -7948.1144,
            -7938.1346,
            -7924.916,
            -7909.0003,
            -7891.2066,
            -7870,
            -7845,
            -7805
           ],
           "yaxis": "y"
          }
         ],
         "name": "77"
        },
        {
         "data": [
          {
           "hovertemplate": "Odd Neutron=True<br>Proton Number [Z]=78<br>Neutron Number [N]=%{x}<br>Deficit [MeV]=%{y}<extra></extra>",
           "legendgroup": "True",
           "marker": {
            "color": "#636efa",
            "symbol": "circle"
           },
           "mode": "markers",
           "name": "True",
           "orientation": "v",
           "showlegend": true,
           "type": "scatter",
           "x": [
            87,
            89,
            91,
            93,
            95,
            97,
            99,
            101,
            103,
            105,
            107,
            109,
            111,
            113,
            115,
            117,
            119,
            121,
            123,
            125,
            127,
            129
           ],
           "xaxis": "x",
           "y": [
            -7703,
            -7746,
            -7784,
            -7816.6017,
            -7845.3856,
            -7869.5216,
            -7892.4896,
            -7910.6759,
            -7924.1271,
            -7933.3406,
            -7939.7779,
            -7941.1699,
            -7941.4045,
            -7938.7279,
            -7933.7875,
            -7926.553,
            -7915.9714,
            -7902.3011,
            -7885.8337,
            -7867,
            -7836,
            -7797
           ],
           "yaxis": "y"
          },
          {
           "hovertemplate": "Odd Neutron=False<br>Proton Number [Z]=78<br>Neutron Number [N]=%{x}<br>Deficit [MeV]=%{y}<extra></extra>",
           "legendgroup": "False",
           "marker": {
            "color": "#EF553B",
            "symbol": "circle"
           },
           "mode": "markers",
           "name": "False",
           "orientation": "v",
           "showlegend": true,
           "type": "scatter",
           "x": [
            88,
            90,
            92,
            94,
            96,
            98,
            100,
            102,
            104,
            106,
            108,
            110,
            112,
            114,
            116,
            118,
            120,
            122,
            124,
            126,
            128,
            130
           ],
           "xaxis": "x",
           "y": [
            -7733,
            -7773.6217,
            -7808.2365,
            -7839.246,
            -7866.1143,
            -7888.9934,
            -7908.253,
            -7923.5781,
            -7934.7541,
            -7942.5649,
            -7946.8094,
            -7947.9027,
            -7946.4941,
            -7942.4923,
            -7935.942,
            -7926.5297,
            -7914.1512,
            -7899.1986,
            -7881.5609,
            -7859,
            -7820,
            -7780
           ],
           "yaxis": "y"
          }
         ],
         "name": "78"
        },
        {
         "data": [
          {
           "hovertemplate": "Odd Neutron=True<br>Proton Number [Z]=79<br>Neutron Number [N]=%{x}<br>Deficit [MeV]=%{y}<extra></extra>",
           "legendgroup": "True",
           "marker": {
            "color": "#636efa",
            "symbol": "circle"
           },
           "mode": "markers",
           "name": "True",
           "orientation": "v",
           "showlegend": true,
           "type": "scatter",
           "x": [
            91,
            93,
            95,
            97,
            99,
            101,
            103,
            105,
            107,
            109,
            111,
            113,
            115,
            117,
            119,
            121,
            123,
            125,
            127,
            129,
            131
           ],
           "xaxis": "x",
           "y": [
            -7730,
            -7766.1587,
            -7797,
            -7825.3837,
            -7849.3946,
            -7870.3194,
            -7887.2442,
            -7900.1947,
            -7909.5409,
            -7914.7537,
            -7918.8345,
            -7920.1033,
            -7918.7744,
            -7914.8553,
            -7908.5675,
            -7898.4915,
            -7885.91,
            -7868,
            -7840,
            -7803,
            -7764
           ],
           "yaxis": "y"
          },
          {
           "hovertemplate": "Odd Neutron=False<br>Proton Number [Z]=79<br>Neutron Number [N]=%{x}<br>Deficit [MeV]=%{y}<extra></extra>",
           "legendgroup": "False",
           "marker": {
            "color": "#EF553B",
            "symbol": "circle"
           },
           "mode": "markers",
           "name": "False",
           "orientation": "v",
           "showlegend": true,
           "type": "scatter",
           "x": [
            92,
            94,
            96,
            98,
            100,
            102,
            104,
            106,
            108,
            110,
            112,
            114,
            116,
            118,
            120,
            122,
            124,
            126,
            128,
            130
           ],
           "xaxis": "x",
           "y": [
            -7754.1069,
            -7788.2348,
            -7817.5939,
            -7843.8623,
            -7865.6374,
            -7883.8359,
            -7898.5644,
            -7909.441,
            -7917.4323,
            -7921.9876,
            -7924.6819,
            -7924.1648,
            -7921.3778,
            -7915.6548,
            -7906.9379,
            -7895.1752,
            -7880.865,
            -7860,
            -7824,
            -7786
           ],
           "yaxis": "y"
          }
         ],
         "name": "79"
        },
        {
         "data": [
          {
           "hovertemplate": "Odd Neutron=True<br>Proton Number [Z]=80<br>Neutron Number [N]=%{x}<br>Deficit [MeV]=%{y}<extra></extra>",
           "legendgroup": "True",
           "marker": {
            "color": "#636efa",
            "symbol": "circle"
           },
           "mode": "markers",
           "name": "True",
           "orientation": "v",
           "showlegend": true,
           "type": "scatter",
           "x": [
            91,
            93,
            95,
            97,
            99,
            101,
            103,
            105,
            107,
            109,
            111,
            113,
            115,
            117,
            119,
            121,
            123,
            125,
            127,
            129,
            131,
            133,
            135
           ],
           "xaxis": "x",
           "y": [
            -7686,
            -7725,
            -7759.2134,
            -7789.8947,
            -7816.2631,
            -7839.6792,
            -7859.3885,
            -7874.5391,
            -7886.9905,
            -7896.9192,
            -7903.8002,
            -7907.973,
            -7909.398,
            -7908.6402,
            -7905.2794,
            -7897.5607,
            -7887.4828,
            -7874.7325,
            -7848.6112,
            -7813,
            -7777,
            -7739,
            -7701
           ],
           "yaxis": "y"
          },
          {
           "hovertemplate": "Odd Neutron=False<br>Proton Number [Z]=80<br>Neutron Number [N]=%{x}<br>Deficit [MeV]=%{y}<extra></extra>",
           "legendgroup": "False",
           "marker": {
            "color": "#EF553B",
            "symbol": "circle"
           },
           "mode": "markers",
           "name": "False",
           "orientation": "v",
           "showlegend": true,
           "type": "scatter",
           "x": [
            90,
            92,
            94,
            96,
            98,
            100,
            102,
            104,
            106,
            108,
            110,
            112,
            114,
            116,
            118,
            120,
            122,
            124,
            126,
            128,
            130,
            132,
            134,
            136
           ],
           "xaxis": "x",
           "y": [
            -7671,
            -7713.6064,
            -7749.7851,
            -7782.664,
            -7811.3607,
            -7836.1111,
            -7856.9726,
            -7874.3454,
            -7888.2605,
            -7899.034,
            -7907.0174,
            -7912.0666,
            -7914.5974,
            -7914.37,
            -7911.5532,
            -7905.8956,
            -7896.8505,
            -7885.5455,
            -7869.1723,
            -7834.1914,
            -7799,
            -7762,
            -7724,
            -7685
           ],
           "yaxis": "y"
          }
         ],
         "name": "80"
        },
        {
         "data": [
          {
           "hovertemplate": "Odd Neutron=True<br>Proton Number [Z]=81<br>Neutron Number [N]=%{x}<br>Deficit [MeV]=%{y}<extra></extra>",
           "legendgroup": "True",
           "marker": {
            "color": "#636efa",
            "symbol": "circle"
           },
           "mode": "markers",
           "name": "True",
           "orientation": "v",
           "showlegend": true,
           "type": "scatter",
           "x": [
            95,
            97,
            99,
            101,
            103,
            105,
            107,
            109,
            111,
            113,
            115,
            117,
            119,
            121,
            123,
            125,
            127,
            129,
            131,
            133,
            135
           ],
           "xaxis": "x",
           "y": [
            -7707.9383,
            -7741,
            -7771.431,
            -7796.3571,
            -7818.6727,
            -7837.5161,
            -7853.0537,
            -7866.0345,
            -7876.0167,
            -7883.5211,
            -7888.29,
            -7890.3011,
            -7889.7037,
            -7886.2206,
            -7880.0238,
            -7871.7219,
            -7847.1835,
            -7813.589,
            -7780,
            -7745,
            -7709
           ],
           "yaxis": "y"
          },
          {
           "hovertemplate": "Odd Neutron=False<br>Proton Number [Z]=81<br>Neutron Number [N]=%{x}<br>Deficit [MeV]=%{y}<extra></extra>",
           "legendgroup": "False",
           "marker": {
            "color": "#EF553B",
            "symbol": "circle"
           },
           "mode": "markers",
           "name": "False",
           "orientation": "v",
           "showlegend": true,
           "type": "scatter",
           "x": [
            96,
            98,
            100,
            102,
            104,
            106,
            108,
            110,
            112,
            114,
            116,
            118,
            120,
            122,
            124,
            126,
            128,
            130,
            132,
            134,
            136
           ],
           "xaxis": "x",
           "y": [
            -7732.1655,
            -7763.4942,
            -7791.9183,
            -7815.6741,
            -7835.5756,
            -7852.465,
            -7866.2704,
            -7877.1445,
            -7885.3445,
            -7890.7293,
            -7893.5725,
            -7893.8773,
            -7891.2717,
            -7886.053,
            -7878.3946,
            -7866.7979,
            -7833.3979,
            -7799.7915,
            -7765.4311,
            -7730,
            -7693
           ],
           "yaxis": "y"
          }
         ],
         "name": "81"
        },
        {
         "data": [
          {
           "hovertemplate": "Odd Neutron=True<br>Proton Number [Z]=82<br>Neutron Number [N]=%{x}<br>Deficit [MeV]=%{y}<extra></extra>",
           "legendgroup": "True",
           "marker": {
            "color": "#636efa",
            "symbol": "circle"
           },
           "mode": "markers",
           "name": "True",
           "orientation": "v",
           "showlegend": true,
           "type": "scatter",
           "x": [
            97,
            99,
            101,
            103,
            105,
            107,
            109,
            111,
            113,
            115,
            117,
            119,
            121,
            123,
            125,
            127,
            129,
            131,
            133,
            135,
            137
           ],
           "xaxis": "x",
           "y": [
            -7701.463,
            -7734.0704,
            -7762.179,
            -7786.933,
            -7808.401,
            -7826.2999,
            -7841.6782,
            -7854.0994,
            -7864.0647,
            -7871.2822,
            -7875.7366,
            -7877.8782,
            -7877.397,
            -7874.3313,
            -7869.8664,
            -7848.6488,
            -7817.0079,
            -7785.1732,
            -7752.7381,
            -7719,
            -7684
           ],
           "yaxis": "y"
          },
          {
           "hovertemplate": "Odd Neutron=False<br>Proton Number [Z]=82<br>Neutron Number [N]=%{x}<br>Deficit [MeV]=%{y}<extra></extra>",
           "legendgroup": "False",
           "marker": {
            "color": "#EF553B",
            "symbol": "circle"
           },
           "mode": "markers",
           "name": "False",
           "orientation": "v",
           "showlegend": true,
           "type": "scatter",
           "x": [
            96,
            98,
            100,
            102,
            104,
            106,
            108,
            110,
            112,
            114,
            116,
            118,
            120,
            122,
            124,
            126,
            128,
            130,
            132,
            134,
            136,
            138
           ],
           "xaxis": "x",
           "y": [
            -7690.8359,
            -7725.6993,
            -7756.3296,
            -7782.7264,
            -7805.342,
            -7824.8211,
            -7841.1294,
            -7854.6482,
            -7865.4181,
            -7873.3374,
            -7878.9695,
            -7881.8101,
            -7882.1505,
            -7879.9326,
            -7875.362,
            -7867.453,
            -7835.9656,
            -7804.3203,
            -7772.3955,
            -7740,
            -7705,
            -7670
           ],
           "yaxis": "y"
          }
         ],
         "name": "82"
        },
        {
         "data": [
          {
           "hovertemplate": "Odd Neutron=True<br>Proton Number [Z]=83<br>Neutron Number [N]=%{x}<br>Deficit [MeV]=%{y}<extra></extra>",
           "legendgroup": "True",
           "marker": {
            "color": "#636efa",
            "symbol": "circle"
           },
           "mode": "markers",
           "name": "True",
           "orientation": "v",
           "showlegend": true,
           "type": "scatter",
           "x": [
            101,
            103,
            105,
            107,
            109,
            111,
            113,
            115,
            117,
            119,
            121,
            123,
            125,
            127,
            129,
            131,
            133,
            135,
            137,
            139,
            141
           ],
           "xaxis": "x",
           "y": [
            -7712,
            -7739.1175,
            -7764.1904,
            -7785.3239,
            -7803.6084,
            -7819.1955,
            -7831.9009,
            -7841.2123,
            -7848.4969,
            -7852.5857,
            -7854.2157,
            -7853.3249,
            -7849.8534,
            -7832.5424,
            -7803.314,
            -7773.4955,
            -7743.4996,
            -7712.828,
            -7681,
            -7648,
            -7616
           ],
           "yaxis": "y"
          },
          {
           "hovertemplate": "Odd Neutron=False<br>Proton Number [Z]=83<br>Neutron Number [N]=%{x}<br>Deficit [MeV]=%{y}<extra></extra>",
           "legendgroup": "False",
           "marker": {
            "color": "#EF553B",
            "symbol": "circle"
           },
           "mode": "markers",
           "name": "False",
           "orientation": "v",
           "showlegend": true,
           "type": "scatter",
           "x": [
            102,
            104,
            106,
            108,
            110,
            112,
            114,
            116,
            118,
            120,
            122,
            124,
            126,
            128,
            130,
            132,
            134,
            136,
            138,
            140
           ],
           "xaxis": "x",
           "y": [
            -7732,
            -7758.2083,
            -7780.9999,
            -7800.6613,
            -7817.1718,
            -7830.7579,
            -7841.6348,
            -7849.5232,
            -7854.8713,
            -7857.4762,
            -7857.3218,
            -7854.5053,
            -7847.9869,
            -7819.7745,
            -7791.0217,
            -7761.7177,
            -7731.8491,
            -7700,
            -7668,
            -7636
           ],
           "yaxis": "y"
          }
         ],
         "name": "83"
        },
        {
         "data": [
          {
           "hovertemplate": "Odd Neutron=True<br>Proton Number [Z]=84<br>Neutron Number [N]=%{x}<br>Deficit [MeV]=%{y}<extra></extra>",
           "legendgroup": "True",
           "marker": {
            "color": "#636efa",
            "symbol": "circle"
           },
           "mode": "markers",
           "name": "True",
           "orientation": "v",
           "showlegend": true,
           "type": "scatter",
           "x": [
            103,
            105,
            107,
            109,
            111,
            113,
            115,
            117,
            119,
            121,
            123,
            125,
            127,
            129,
            131,
            133,
            135,
            137,
            139,
            141,
            143
           ],
           "xaxis": "x",
           "y": [
            -7704.7889,
            -7731.1321,
            -7753.7871,
            -7773.951,
            -7791.3155,
            -7805.7136,
            -7817.6582,
            -7826.5619,
            -7832.8632,
            -7836.2168,
            -7836.6734,
            -7835.1882,
            -7818.7842,
            -7794.024,
            -7768.1768,
            -7741.3614,
            -7713.334,
            -7684.4814,
            -7655,
            -7626,
            -7596
           ],
           "yaxis": "y"
          },
          {
           "hovertemplate": "Odd Neutron=False<br>Proton Number [Z]=84<br>Neutron Number [N]=%{x}<br>Deficit [MeV]=%{y}<extra></extra>",
           "legendgroup": "False",
           "marker": {
            "color": "#EF553B",
            "symbol": "circle"
           },
           "mode": "markers",
           "name": "False",
           "orientation": "v",
           "showlegend": true,
           "type": "scatter",
           "x": [
            102,
            104,
            106,
            108,
            110,
            112,
            114,
            116,
            118,
            120,
            122,
            124,
            126,
            128,
            130,
            132,
            134,
            136,
            138,
            140,
            142
           ],
           "xaxis": "x",
           "y": [
            -7695.9488,
            -7724.6544,
            -7749.4526,
            -7771.0542,
            -7789.2947,
            -7804.7445,
            -7817.5611,
            -7827.4407,
            -7834.8053,
            -7839.0823,
            -7840.5973,
            -7839.3568,
            -7834.3462,
            -7810.2438,
            -7785.1163,
            -7758.8205,
            -7731.53,
            -7703.2244,
            -7674.0054,
            -7644,
            -7614
           ],
           "yaxis": "y"
          }
         ],
         "name": "84"
        },
        {
         "data": [
          {
           "hovertemplate": "Odd Neutron=True<br>Proton Number [Z]=85<br>Neutron Number [N]=%{x}<br>Deficit [MeV]=%{y}<extra></extra>",
           "legendgroup": "True",
           "marker": {
            "color": "#636efa",
            "symbol": "circle"
           },
           "mode": "markers",
           "name": "True",
           "orientation": "v",
           "showlegend": true,
           "type": "scatter",
           "x": [
            107,
            109,
            111,
            113,
            115,
            117,
            119,
            121,
            123,
            125,
            127,
            129,
            131,
            133,
            135,
            137,
            139,
            141,
            143
           ],
           "xaxis": "x",
           "y": [
            -7709.7283,
            -7732.2304,
            -7752.0001,
            -7769.3446,
            -7783.7601,
            -7794.5637,
            -7803.5522,
            -7808.8904,
            -7811.5604,
            -7811.6638,
            -7798.34,
            -7776.3632,
            -7753.0024,
            -7729.1175,
            -7703.7033,
            -7677.3878,
            -7650.7354,
            -7624,
            -7596
           ],
           "yaxis": "y"
          },
          {
           "hovertemplate": "Odd Neutron=False<br>Proton Number [Z]=85<br>Neutron Number [N]=%{x}<br>Deficit [MeV]=%{y}<extra></extra>",
           "legendgroup": "False",
           "marker": {
            "color": "#EF553B",
            "symbol": "circle"
           },
           "mode": "markers",
           "name": "False",
           "orientation": "v",
           "showlegend": true,
           "type": "scatter",
           "x": [
            106,
            108,
            110,
            112,
            114,
            116,
            118,
            120,
            122,
            124,
            126,
            128,
            130,
            132,
            134,
            136,
            138,
            140,
            142,
            144
           ],
           "xaxis": "x",
           "y": [
            -7702.9233,
            -7727.1099,
            -7748.0914,
            -7766.0174,
            -7781.4883,
            -7794.1536,
            -7803.6487,
            -7810.2694,
            -7813.9653,
            -7814.7835,
            -7811.3545,
            -7790.0036,
            -7767.8627,
            -7744.6172,
            -7720.197,
            -7694.4754,
            -7668.0557,
            -7641,
            -7613,
            -7585
           ],
           "yaxis": "y"
          }
         ],
         "name": "85"
        },
        {
         "data": [
          {
           "hovertemplate": "Odd Neutron=True<br>Proton Number [Z]=86<br>Neutron Number [N]=%{x}<br>Deficit [MeV]=%{y}<extra></extra>",
           "legendgroup": "True",
           "marker": {
            "color": "#636efa",
            "symbol": "circle"
           },
           "mode": "markers",
           "name": "True",
           "orientation": "v",
           "showlegend": true,
           "type": "scatter",
           "x": [
            107,
            109,
            111,
            113,
            115,
            117,
            119,
            121,
            123,
            125,
            127,
            129,
            131,
            133,
            135,
            137,
            139,
            141,
            143,
            145
           ],
           "xaxis": "x",
           "y": [
            -7675.853,
            -7700.3841,
            -7722.119,
            -7741.0568,
            -7757.0174,
            -7770.3437,
            -7780.7226,
            -7787.9987,
            -7792.1755,
            -7793.9412,
            -7782.1824,
            -7763.8164,
            -7744.4037,
            -7723.7784,
            -7701.3941,
            -7678.172,
            -7654.3581,
            -7630.0508,
            -7605.6227,
            -7579
           ],
           "yaxis": "y"
          },
          {
           "hovertemplate": "Odd Neutron=False<br>Proton Number [Z]=86<br>Neutron Number [N]=%{x}<br>Deficit [MeV]=%{y}<extra></extra>",
           "legendgroup": "False",
           "marker": {
            "color": "#EF553B",
            "symbol": "circle"
           },
           "mode": "markers",
           "name": "False",
           "orientation": "v",
           "showlegend": true,
           "type": "scatter",
           "x": [
            108,
            110,
            112,
            114,
            116,
            118,
            120,
            122,
            124,
            126,
            128,
            130,
            132,
            134,
            136,
            138,
            140,
            142,
            144
           ],
           "xaxis": "x",
           "y": [
            -7694.9961,
            -7717.966,
            -7737.7245,
            -7754.9111,
            -7769.3018,
            -7780.5743,
            -7789.0417,
            -7794.2678,
            -7796.6653,
            -7794.7963,
            -7777.1023,
            -7758.6553,
            -7738.7527,
            -7717.2552,
            -7694.4991,
            -7670.7514,
            -7646.4108,
            -7621.6457,
            -7595
           ],
           "yaxis": "y"
          }
         ],
         "name": "86"
        },
        {
         "data": [
          {
           "hovertemplate": "Odd Neutron=True<br>Proton Number [Z]=87<br>Neutron Number [N]=%{x}<br>Deficit [MeV]=%{y}<extra></extra>",
           "legendgroup": "True",
           "marker": {
            "color": "#636efa",
            "symbol": "circle"
           },
           "mode": "markers",
           "name": "True",
           "orientation": "v",
           "showlegend": true,
           "type": "scatter",
           "x": [
            111,
            113,
            115,
            117,
            119,
            121,
            123,
            125,
            127,
            129,
            131,
            133,
            135,
            137,
            139,
            141,
            143,
            145
           ],
           "xaxis": "x",
           "y": [
            -7679.1873,
            -7700.3292,
            -7719.0125,
            -7734.6931,
            -7746.9621,
            -7756.8985,
            -7763.1243,
            -7766.8455,
            -7757.7393,
            -7742.4513,
            -7726.7143,
            -7709.743,
            -7690.9474,
            -7670.368,
            -7648.3768,
            -7626.3689,
            -7603.7052,
            -7579.3481
           ],
           "yaxis": "y"
          },
          {
           "hovertemplate": "Odd Neutron=False<br>Proton Number [Z]=87<br>Neutron Number [N]=%{x}<br>Deficit [MeV]=%{y}<extra></extra>",
           "legendgroup": "False",
           "marker": {
            "color": "#EF553B",
            "symbol": "circle"
           },
           "mode": "markers",
           "name": "False",
           "orientation": "v",
           "showlegend": true,
           "type": "scatter",
           "x": [
            110,
            112,
            114,
            116,
            118,
            120,
            122,
            124,
            126,
            128,
            130,
            132,
            134,
            136,
            138,
            140,
            142,
            144,
            146
           ],
           "xaxis": "x",
           "y": [
            -7673.764,
            -7695.2599,
            -7714.8367,
            -7731.7092,
            -7745.687,
            -7756.2689,
            -7763.7485,
            -7768.3613,
            -7768.4543,
            -7753.2607,
            -7737.775,
            -7721.1759,
            -7703.2572,
            -7683.6655,
            -7662.9412,
            -7640.7162,
            -7618.338,
            -7594.5009,
            -7569.2398
           ],
           "yaxis": "y"
          }
         ],
         "name": "87"
        },
        {
         "data": [
          {
           "hovertemplate": "Odd Neutron=True<br>Proton Number [Z]=88<br>Neutron Number [N]=%{x}<br>Deficit [MeV]=%{y}<extra></extra>",
           "legendgroup": "True",
           "marker": {
            "color": "#636efa",
            "symbol": "circle"
           },
           "mode": "markers",
           "name": "True",
           "orientation": "v",
           "showlegend": true,
           "type": "scatter",
           "x": [
            113,
            115,
            117,
            119,
            121,
            123,
            125,
            127,
            129,
            131,
            133,
            135,
            137,
            139,
            141,
            143,
            145
           ],
           "xaxis": "x",
           "y": [
            -7669.4108,
            -7689.8015,
            -7707.1698,
            -7721.7503,
            -7733.0177,
            -7741.0887,
            -7746.4726,
            -7739.3249,
            -7726.9122,
            -7714.056,
            -7701.1352,
            -7685.3101,
            -7667.5866,
            -7648.3048,
            -7628.4862,
            -7607.8418,
            -7585.5644
           ],
           "yaxis": "y"
          },
          {
           "hovertemplate": "Odd Neutron=False<br>Proton Number [Z]=88<br>Neutron Number [N]=%{x}<br>Deficit [MeV]=%{y}<extra></extra>",
           "legendgroup": "False",
           "marker": {
            "color": "#EF553B",
            "symbol": "circle"
           },
           "mode": "markers",
           "name": "False",
           "orientation": "v",
           "showlegend": true,
           "type": "scatter",
           "x": [
            114,
            116,
            118,
            120,
            122,
            124,
            126,
            128,
            130,
            132,
            134,
            136,
            138,
            140,
            142,
            144,
            146
           ],
           "xaxis": "x",
           "y": [
            -7685.5684,
            -7704.1238,
            -7719.8028,
            -7732.0177,
            -7741.3687,
            -7747.5078,
            -7749.1719,
            -7737.3458,
            -7725.0241,
            -7711.6879,
            -7696.6931,
            -7679.9236,
            -7661.9636,
            -7642.4289,
            -7621.9144,
            -7600.0099,
            -7576.5439
           ],
           "yaxis": "y"
          }
         ],
         "name": "88"
        },
        {
         "data": [
          {
           "hovertemplate": "Odd Neutron=True<br>Proton Number [Z]=89<br>Neutron Number [N]=%{x}<br>Deficit [MeV]=%{y}<extra></extra>",
           "legendgroup": "True",
           "marker": {
            "color": "#636efa",
            "symbol": "circle"
           },
           "mode": "markers",
           "name": "True",
           "orientation": "v",
           "showlegend": true,
           "type": "scatter",
           "x": [
            117,
            119,
            121,
            123,
            125,
            127,
            129,
            131,
            133,
            135,
            137,
            139,
            141,
            143,
            145,
            147
           ],
           "xaxis": "x",
           "y": [
            -7667.8538,
            -7684.8289,
            -7698.0182,
            -7708.4479,
            -7715.8874,
            -7711.2319,
            -7702.145,
            -7692.3515,
            -7682.8015,
            -7670.1438,
            -7655.6628,
            -7639.1973,
            -7621.4604,
            -7602.4245,
            -7582.1297,
            -7559.2423
           ],
           "yaxis": "y"
          },
          {
           "hovertemplate": "Odd Neutron=False<br>Proton Number [Z]=89<br>Neutron Number [N]=%{x}<br>Deficit [MeV]=%{y}<extra></extra>",
           "legendgroup": "False",
           "marker": {
            "color": "#EF553B",
            "symbol": "circle"
           },
           "mode": "markers",
           "name": "False",
           "orientation": "v",
           "showlegend": true,
           "type": "scatter",
           "x": [
            116,
            118,
            120,
            122,
            124,
            126,
            128,
            130,
            132,
            134,
            136,
            138,
            140,
            142,
            144,
            146
           ],
           "xaxis": "x",
           "y": [
            -7662.8519,
            -7681.1001,
            -7695.8455,
            -7707.468,
            -7715.5908,
            -7719.4137,
            -7710.3448,
            -7700.5489,
            -7690.5039,
            -7679.1479,
            -7665.6906,
            -7650.7084,
            -7633.2446,
            -7615.0768,
            -7595.1939,
            -7573.5051
           ],
           "yaxis": "y"
          }
         ],
         "name": "89"
        },
        {
         "data": [
          {
           "hovertemplate": "Odd Neutron=True<br>Proton Number [Z]=90<br>Neutron Number [N]=%{x}<br>Deficit [MeV]=%{y}<extra></extra>",
           "legendgroup": "True",
           "marker": {
            "color": "#636efa",
            "symbol": "circle"
           },
           "mode": "markers",
           "name": "True",
           "orientation": "v",
           "showlegend": true,
           "type": "scatter",
           "x": [
            117,
            119,
            121,
            123,
            125,
            127,
            129,
            131,
            133,
            135,
            137,
            139,
            141,
            143,
            145,
            147
           ],
           "xaxis": "x",
           "y": [
            null,
            -7656,
            -7671.8506,
            -7683.847,
            -7693.0266,
            -7690.5945,
            -7683.7655,
            -7676.064,
            -7668.6426,
            -7659.2229,
            -7647.4591,
            -7634.651,
            -7620.1188,
            -7602.8937,
            -7584.3862,
            -7563.4433
           ],
           "yaxis": "y"
          },
          {
           "hovertemplate": "Odd Neutron=False<br>Proton Number [Z]=90<br>Neutron Number [N]=%{x}<br>Deficit [MeV]=%{y}<extra></extra>",
           "legendgroup": "False",
           "marker": {
            "color": "#EF553B",
            "symbol": "circle"
           },
           "mode": "markers",
           "name": "False",
           "orientation": "v",
           "showlegend": true,
           "type": "scatter",
           "x": [
            118,
            120,
            122,
            124,
            126,
            128,
            130,
            132,
            134,
            136,
            138,
            140,
            142,
            144,
            146,
            148
           ],
           "xaxis": "x",
           "y": [
            -7652.5716,
            -7669.0764,
            -7682.0628,
            -7692.3173,
            -7697.6617,
            -7691.6026,
            -7684.4964,
            -7676.6592,
            -7667.7162,
            -7657.1195,
            -7645.0807,
            -7630.9974,
            -7615.0338,
            -7596.8557,
            -7576.9688,
            -7555
           ],
           "yaxis": "y"
          }
         ],
         "name": "90"
        },
        {
         "data": [
          {
           "hovertemplate": "Odd Neutron=True<br>Proton Number [Z]=91<br>Neutron Number [N]=%{x}<br>Deficit [MeV]=%{y}<extra></extra>",
           "legendgroup": "True",
           "marker": {
            "color": "#636efa",
            "symbol": "circle"
           },
           "mode": "markers",
           "name": "True",
           "orientation": "v",
           "showlegend": true,
           "type": "scatter",
           "x": [
            121,
            123,
            125,
            127,
            129,
            131,
            133,
            135,
            137,
            139,
            141,
            143,
            145,
            147
           ],
           "xaxis": "x",
           "y": [
            -7633.6289,
            -7647.7037,
            -7659.2006,
            -7659.1935,
            -7655.5364,
            -7651.2373,
            -7646.9612,
            -7641.1093,
            -7632.2076,
            -7621.8958,
            -7609.5072,
            -7594.6837,
            -7577.5573,
            -7558.3449
           ],
           "yaxis": "y"
          },
          {
           "hovertemplate": "Odd Neutron=False<br>Proton Number [Z]=91<br>Neutron Number [N]=%{x}<br>Deficit [MeV]=%{y}<extra></extra>",
           "legendgroup": "False",
           "marker": {
            "color": "#EF553B",
            "symbol": "circle"
           },
           "mode": "markers",
           "name": "False",
           "orientation": "v",
           "showlegend": true,
           "type": "scatter",
           "x": [
            120,
            122,
            124,
            126,
            128,
            130,
            132,
            134,
            136,
            138,
            140,
            142,
            144,
            146,
            148
           ],
           "xaxis": "x",
           "y": [
            -7629.3948,
            -7644.8027,
            -7657.3733,
            -7664.6438,
            -7661.3783,
            -7656.9809,
            -7651.8957,
            -7646.6504,
            -7639.4945,
            -7629.8752,
            -7618.4267,
            -7604.8675,
            -7588.4139,
            -7570.3847,
            -7550
           ],
           "yaxis": "y"
          }
         ],
         "name": "91"
        },
        {
         "data": [
          {
           "hovertemplate": "Odd Neutron=True<br>Proton Number [Z]=92<br>Neutron Number [N]=%{x}<br>Deficit [MeV]=%{y}<extra></extra>",
           "legendgroup": "True",
           "marker": {
            "color": "#636efa",
            "symbol": "circle"
           },
           "mode": "markers",
           "name": "True",
           "orientation": "v",
           "showlegend": true,
           "type": "scatter",
           "x": [
            123,
            125,
            127,
            129,
            131,
            133,
            135,
            137,
            139,
            141,
            143,
            145,
            147,
            149,
            151,
            153,
            155,
            157,
            159,
            161,
            163
           ],
           "xaxis": "x",
           "y": [
            -7620.7821,
            -7634,
            -7636.2867,
            -7634.6849,
            -7631.7611,
            -7629.7717,
            -7626.2918,
            -7620.7218,
            -7613.3879,
            -7603.9574,
            -7590.9151,
            -7576.1026,
            -7558.5624,
            -7539,
            -7518,
            null,
            null,
            null,
            null,
            null,
            null
           ],
           "yaxis": "y"
          },
          {
           "hovertemplate": "Odd Neutron=False<br>Proton Number [Z]=92<br>Neutron Number [N]=%{x}<br>Deficit [MeV]=%{y}<extra></extra>",
           "legendgroup": "False",
           "marker": {
            "color": "#EF553B",
            "symbol": "circle"
           },
           "mode": "markers",
           "name": "False",
           "orientation": "v",
           "showlegend": true,
           "type": "scatter",
           "x": [
            122,
            124,
            126,
            130,
            132,
            134,
            136,
            138,
            140,
            142,
            144,
            146,
            148,
            150,
            152,
            154,
            156,
            158,
            162
           ],
           "xaxis": "x",
           "y": [
            null,
            -7631.3072,
            -7640.7191,
            -7637.7651,
            -7635.0742,
            -7631.9166,
            -7627.4763,
            -7620.9227,
            -7611.8984,
            -7600.716,
            -7586.4854,
            -7570.1262,
            -7551.7705,
            -7532,
            null,
            null,
            null,
            null,
            null
           ],
           "yaxis": "y"
          }
         ],
         "name": "92"
        },
        {
         "data": [
          {
           "hovertemplate": "Odd Neutron=True<br>Proton Number [Z]=93<br>Neutron Number [N]=%{x}<br>Deficit [MeV]=%{y}<extra></extra>",
           "legendgroup": "True",
           "marker": {
            "color": "#636efa",
            "symbol": "circle"
           },
           "mode": "markers",
           "name": "True",
           "orientation": "v",
           "showlegend": true,
           "type": "scatter",
           "x": [
            127,
            129,
            131,
            133,
            135,
            137,
            139,
            141,
            143,
            145,
            147,
            149,
            151
           ],
           "xaxis": "x",
           "y": [
            -7602.0758,
            -7602.7013,
            -7603.5032,
            -7604.1714,
            -7604,
            -7601.7751,
            -7597,
            -7589.6382,
            -7579.2148,
            -7566.222,
            -7550.1743,
            -7533.4042,
            -7514
           ],
           "yaxis": "y"
          },
          {
           "hovertemplate": "Odd Neutron=False<br>Proton Number [Z]=93<br>Neutron Number [N]=%{x}<br>Deficit [MeV]=%{y}<extra></extra>",
           "legendgroup": "False",
           "marker": {
            "color": "#EF553B",
            "symbol": "circle"
           },
           "mode": "markers",
           "name": "False",
           "orientation": "v",
           "showlegend": true,
           "type": "scatter",
           "x": [
            126,
            130,
            132,
            134,
            136,
            138,
            140,
            142,
            144,
            146,
            148,
            150
           ],
           "xaxis": "x",
           "y": [
            -7604.6732,
            -7607.5654,
            -7607.4231,
            -7607.2771,
            -7605.9921,
            -7602.1321,
            -7596.1816,
            -7587.0571,
            -7574.9895,
            -7560.568,
            -7544.0426,
            -7526
           ],
           "yaxis": "y"
          }
         ],
         "name": "93"
        },
        {
         "data": [
          {
           "hovertemplate": "Odd Neutron=True<br>Proton Number [Z]=94<br>Neutron Number [N]=%{x}<br>Deficit [MeV]=%{y}<extra></extra>",
           "legendgroup": "True",
           "marker": {
            "color": "#636efa",
            "symbol": "circle"
           },
           "mode": "markers",
           "name": "True",
           "orientation": "v",
           "showlegend": true,
           "type": "scatter",
           "x": [
            135,
            137,
            139,
            141,
            143,
            145,
            147,
            149,
            151,
            153
           ],
           "xaxis": "x",
           "y": [
            -7586.8834,
            -7587.1224,
            -7583.7968,
            -7578.8799,
            -7570.7599,
            -7560.3187,
            -7546.4395,
            -7531.0087,
            -7513.2822,
            -7493
           ],
           "yaxis": "y"
          },
          {
           "hovertemplate": "Odd Neutron=False<br>Proton Number [Z]=94<br>Neutron Number [N]=%{x}<br>Deficit [MeV]=%{y}<extra></extra>",
           "legendgroup": "False",
           "marker": {
            "color": "#EF553B",
            "symbol": "circle"
           },
           "mode": "markers",
           "name": "False",
           "orientation": "v",
           "showlegend": true,
           "type": "scatter",
           "x": [
            134,
            136,
            138,
            140,
            142,
            144,
            146,
            148,
            150,
            152
           ],
           "xaxis": "x",
           "y": [
            -7590.4039,
            -7591.0016,
            -7588.9839,
            -7584.6061,
            -7577.9192,
            -7568.3611,
            -7556.0433,
            -7541.3284,
            -7524.8154,
            -7506.5401
           ],
           "yaxis": "y"
          }
         ],
         "name": "94"
        },
        {
         "data": [
          {
           "hovertemplate": "Odd Neutron=True<br>Proton Number [Z]=95<br>Neutron Number [N]=%{x}<br>Deficit [MeV]=%{y}<extra></extra>",
           "legendgroup": "True",
           "marker": {
            "color": "#636efa",
            "symbol": "circle"
           },
           "mode": "markers",
           "name": "True",
           "orientation": "v",
           "showlegend": true,
           "type": "scatter",
           "x": [
            135,
            137,
            139,
            141,
            143,
            145,
            147,
            149,
            151,
            153
           ],
           "xaxis": "x",
           "y": [
            -7562,
            -7564,
            -7564,
            -7561,
            -7555.5853,
            -7547.0136,
            -7534.9917,
            -7521.3095,
            -7505,
            -7487
           ],
           "yaxis": "y"
          },
          {
           "hovertemplate": "Odd Neutron=False<br>Proton Number [Z]=95<br>Neutron Number [N]=%{x}<br>Deficit [MeV]=%{y}<extra></extra>",
           "legendgroup": "False",
           "marker": {
            "color": "#EF553B",
            "symbol": "circle"
           },
           "mode": "markers",
           "name": "False",
           "orientation": "v",
           "showlegend": true,
           "type": "scatter",
           "x": [
            128,
            134,
            138,
            140,
            142,
            144,
            146,
            148,
            150,
            152
           ],
           "xaxis": "x",
           "y": [
            -7547,
            -7562.5697,
            -7567,
            -7565.1582,
            -7561,
            -7553.6891,
            -7543.2795,
            -7530.1742,
            -7515.3043,
            -7499
           ],
           "yaxis": "y"
          }
         ],
         "name": "95"
        },
        {
         "data": [
          {
           "hovertemplate": "Odd Neutron=True<br>Proton Number [Z]=96<br>Neutron Number [N]=%{x}<br>Deficit [MeV]=%{y}<extra></extra>",
           "legendgroup": "True",
           "marker": {
            "color": "#636efa",
            "symbol": "circle"
           },
           "mode": "markers",
           "name": "True",
           "orientation": "v",
           "showlegend": true,
           "type": "scatter",
           "x": [
            137,
            139,
            141,
            143,
            145,
            147,
            149,
            151,
            153,
            155
           ],
           "xaxis": "x",
           "y": [
            -7546.002,
            -7547,
            -7546.6241,
            -7543.0659,
            -7536.8488,
            -7526.9261,
            -7515.7677,
            -7501.9318,
            -7485.551,
            -7466.7233
           ],
           "yaxis": "y"
          },
          {
           "hovertemplate": "Odd Neutron=False<br>Proton Number [Z]=96<br>Neutron Number [N]=%{x}<br>Deficit [MeV]=%{y}<extra></extra>",
           "legendgroup": "False",
           "marker": {
            "color": "#EF553B",
            "symbol": "circle"
           },
           "mode": "markers",
           "name": "False",
           "orientation": "v",
           "showlegend": true,
           "type": "scatter",
           "x": [
            138,
            140,
            142,
            144,
            146,
            148,
            150,
            152,
            154
           ],
           "xaxis": "x",
           "y": [
            -7550.6868,
            -7550.309,
            -7547.9966,
            -7542.8617,
            -7534.504,
            -7523.9527,
            -7511.4716,
            -7496.7291,
            -7478.9385
           ],
           "yaxis": "y"
          }
         ],
         "name": "96"
        },
        {
         "data": [
          {
           "hovertemplate": "Odd Neutron=True<br>Proton Number [Z]=97<br>Neutron Number [N]=%{x}<br>Deficit [MeV]=%{y}<extra></extra>",
           "legendgroup": "True",
           "marker": {
            "color": "#636efa",
            "symbol": "circle"
           },
           "mode": "markers",
           "name": "True",
           "orientation": "v",
           "showlegend": true,
           "type": "scatter",
           "x": [
            137,
            139,
            141,
            143,
            145,
            147,
            149,
            151,
            153
           ],
           "xaxis": "x",
           "y": [
            -7519,
            -7523,
            -7525,
            -7523,
            -7519,
            -7511.4759,
            -7502.8035,
            -7490.5975,
            -7475.9594
           ],
           "yaxis": "y"
          },
          {
           "hovertemplate": "Odd Neutron=False<br>Proton Number [Z]=97<br>Neutron Number [N]=%{x}<br>Deficit [MeV]=%{y}<extra></extra>",
           "legendgroup": "False",
           "marker": {
            "color": "#EF553B",
            "symbol": "circle"
           },
           "mode": "markers",
           "name": "False",
           "orientation": "v",
           "showlegend": true,
           "type": "scatter",
           "x": [
            136,
            142,
            144,
            146,
            148,
            150,
            152,
            154,
            156
           ],
           "xaxis": "x",
           "y": [
            -7519,
            -7527,
            -7524,
            -7517.5021,
            -7509.2714,
            -7498.9408,
            -7486.041,
            -7469.2637,
            -7451
           ],
           "yaxis": "y"
          }
         ],
         "name": "97"
        },
        {
         "data": [
          {
           "hovertemplate": "Odd Neutron=True<br>Proton Number [Z]=98<br>Neutron Number [N]=%{x}<br>Deficit [MeV]=%{y}<extra></extra>",
           "legendgroup": "True",
           "marker": {
            "color": "#636efa",
            "symbol": "circle"
           },
           "mode": "markers",
           "name": "True",
           "orientation": "v",
           "showlegend": true,
           "type": "scatter",
           "x": [
            139,
            141,
            143,
            145,
            147,
            149,
            151,
            153,
            155,
            157
           ],
           "xaxis": "x",
           "y": [
            -7503.3507,
            -7507,
            -7507,
            -7505,
            -7499.6644,
            -7493.2638,
            -7483.3954,
            -7470.5014,
            -7454.8297,
            -7438
           ],
           "yaxis": "y"
          },
          {
           "hovertemplate": "Odd Neutron=False<br>Proton Number [Z]=98<br>Neutron Number [N]=%{x}<br>Deficit [MeV]=%{y}<extra></extra>",
           "legendgroup": "False",
           "marker": {
            "color": "#EF553B",
            "symbol": "circle"
           },
           "mode": "markers",
           "name": "False",
           "orientation": "v",
           "showlegend": true,
           "type": "scatter",
           "x": [
            138,
            140,
            142,
            144,
            146,
            148,
            150,
            152,
            154,
            156,
            158
           ],
           "xaxis": "x",
           "y": [
            null,
            -7509,
            -7510.24,
            -7509.0991,
            -7505.1373,
            -7499.122,
            -7491.044,
            -7479.9567,
            -7465.3474,
            -7449.2259,
            -7432
           ],
           "yaxis": "y"
          }
         ],
         "name": "98"
        },
        {
         "data": [
          {
           "hovertemplate": "Odd Neutron=True<br>Proton Number [Z]=99<br>Neutron Number [N]=%{x}<br>Deficit [MeV]=%{y}<extra></extra>",
           "legendgroup": "True",
           "marker": {
            "color": "#636efa",
            "symbol": "circle"
           },
           "mode": "markers",
           "name": "True",
           "orientation": "v",
           "showlegend": true,
           "type": "scatter",
           "x": [
            141,
            143,
            145,
            147,
            149,
            151,
            153,
            155,
            157
           ],
           "xaxis": "x",
           "y": [
            -7481,
            -7483,
            -7483,
            -7480.7849,
            -7476,
            -7469,
            -7457.2428,
            -7443.5759,
            -7428
           ],
           "yaxis": "y"
          },
          {
           "hovertemplate": "Odd Neutron=False<br>Proton Number [Z]=99<br>Neutron Number [N]=%{x}<br>Deficit [MeV]=%{y}<extra></extra>",
           "legendgroup": "False",
           "marker": {
            "color": "#EF553B",
            "symbol": "circle"
           },
           "mode": "markers",
           "name": "False",
           "orientation": "v",
           "showlegend": true,
           "type": "scatter",
           "x": [
            142,
            144,
            146,
            148,
            150,
            152,
            154,
            156,
            158
           ],
           "xaxis": "x",
           "y": [
            -7485,
            -7486,
            -7485,
            -7480.1005,
            -7474,
            -7465.8842,
            -7452.8879,
            -7437.8216,
            -7422
           ],
           "yaxis": "y"
          }
         ],
         "name": "99"
        },
        {
         "data": [
          {
           "hovertemplate": "Odd Neutron=True<br>Proton Number [Z]=100<br>Neutron Number [N]=%{x}<br>Deficit [MeV]=%{y}<extra></extra>",
           "legendgroup": "True",
           "marker": {
            "color": "#636efa",
            "symbol": "circle"
           },
           "mode": "markers",
           "name": "True",
           "orientation": "v",
           "showlegend": true,
           "type": "scatter",
           "x": [
            141,
            143,
            145,
            147,
            149,
            151,
            153,
            155,
            157,
            159
           ],
           "xaxis": "x",
           "y": [
            -7459,
            -7464,
            -7465,
            -7464,
            -7461.8649,
            -7457.0013,
            -7448.4712,
            -7435.886,
            -7422.1942,
            -7407
           ],
           "yaxis": "y"
          },
          {
           "hovertemplate": "Odd Neutron=False<br>Proton Number [Z]=100<br>Neutron Number [N]=%{x}<br>Deficit [MeV]=%{y}<extra></extra>",
           "legendgroup": "False",
           "marker": {
            "color": "#EF553B",
            "symbol": "circle"
           },
           "mode": "markers",
           "name": "False",
           "orientation": "v",
           "showlegend": true,
           "type": "scatter",
           "x": [
            142,
            144,
            146,
            148,
            150,
            152,
            154,
            156,
            158
           ],
           "xaxis": "x",
           "y": [
            -7465,
            -7468,
            -7467.9608,
            -7465.9451,
            -7462.0905,
            -7456.0351,
            -7444.7936,
            -7431.7888,
            -7418
           ],
           "yaxis": "y"
          }
         ],
         "name": "100"
        },
        {
         "data": [
          {
           "hovertemplate": "Odd Neutron=True<br>Proton Number [Z]=101<br>Neutron Number [N]=%{x}<br>Deficit [MeV]=%{y}<extra></extra>",
           "legendgroup": "True",
           "marker": {
            "color": "#636efa",
            "symbol": "circle"
           },
           "mode": "markers",
           "name": "True",
           "orientation": "v",
           "showlegend": true,
           "type": "scatter",
           "x": [
            143,
            145,
            147,
            149,
            151,
            153,
            155,
            157,
            159
           ],
           "xaxis": "x",
           "y": [
            -7438,
            -7441,
            -7442,
            -7441.6533,
            -7438.4444,
            -7432,
            -7421,
            -7409.6615,
            -7396
           ],
           "yaxis": "y"
          },
          {
           "hovertemplate": "Odd Neutron=False<br>Proton Number [Z]=101<br>Neutron Number [N]=%{x}<br>Deficit [MeV]=%{y}<extra></extra>",
           "legendgroup": "False",
           "marker": {
            "color": "#EF553B",
            "symbol": "circle"
           },
           "mode": "markers",
           "name": "False",
           "orientation": "v",
           "showlegend": true,
           "type": "scatter",
           "x": [
            144,
            146,
            148,
            150,
            152,
            154,
            156,
            158
           ],
           "xaxis": "x",
           "y": [
            -7441,
            -7444,
            -7444.0169,
            -7441.9005,
            -7438,
            -7428.7333,
            -7417.5845,
            -7405
           ],
           "yaxis": "y"
          }
         ],
         "name": "101"
        },
        {
         "data": [
          {
           "hovertemplate": "Odd Neutron=True<br>Proton Number [Z]=102<br>Neutron Number [N]=%{x}<br>Deficit [MeV]=%{y}<extra></extra>",
           "legendgroup": "True",
           "marker": {
            "color": "#636efa",
            "symbol": "circle"
           },
           "mode": "markers",
           "name": "True",
           "orientation": "v",
           "showlegend": true,
           "type": "scatter",
           "x": [
            147,
            149,
            151,
            153,
            155,
            157
           ],
           "xaxis": "x",
           "y": [
            -7422,
            -7423,
            -7422.4719,
            -7417.9403,
            -7409.6587,
            -7399.9714
           ],
           "yaxis": "y"
          },
          {
           "hovertemplate": "Odd Neutron=False<br>Proton Number [Z]=102<br>Neutron Number [N]=%{x}<br>Deficit [MeV]=%{y}<extra></extra>",
           "legendgroup": "False",
           "marker": {
            "color": "#EF553B",
            "symbol": "circle"
           },
           "mode": "markers",
           "name": "False",
           "orientation": "v",
           "showlegend": true,
           "type": "scatter",
           "x": [
            146,
            148,
            150,
            152,
            154,
            156,
            158,
            160
           ],
           "xaxis": "x",
           "y": [
            -7424,
            -7426,
            -7425.7992,
            -7423.5909,
            -7416.5429,
            -7407,
            -7397,
            -7385
           ],
           "yaxis": "y"
          }
         ],
         "name": "102"
        },
        {
         "data": [
          {
           "hovertemplate": "Odd Neutron=True<br>Proton Number [Z]=103<br>Neutron Number [N]=%{x}<br>Deficit [MeV]=%{y}<extra></extra>",
           "legendgroup": "True",
           "marker": {
            "color": "#636efa",
            "symbol": "circle"
           },
           "mode": "markers",
           "name": "True",
           "orientation": "v",
           "showlegend": true,
           "type": "scatter",
           "x": [
            149,
            151,
            153,
            155,
            157,
            159,
            161,
            163
           ],
           "xaxis": "x",
           "y": [
            -7400,
            -7401.1306,
            -7398.1605,
            -7392,
            -7383,
            -7374,
            -7363,
            -7349
           ],
           "yaxis": "y"
          },
          {
           "hovertemplate": "Odd Neutron=False<br>Proton Number [Z]=103<br>Neutron Number [N]=%{x}<br>Deficit [MeV]=%{y}<extra></extra>",
           "legendgroup": "False",
           "marker": {
            "color": "#EF553B",
            "symbol": "circle"
           },
           "mode": "markers",
           "name": "False",
           "orientation": "v",
           "showlegend": true,
           "type": "scatter",
           "x": [
            150,
            152,
            154,
            156,
            158
           ],
           "xaxis": "x",
           "y": [
            -7402.918,
            -7402.5767,
            -7397,
            -7390,
            -7381
           ],
           "yaxis": "y"
          }
         ],
         "name": "103"
        },
        {
         "data": [
          {
           "hovertemplate": "Odd Neutron=True<br>Proton Number [Z]=104<br>Neutron Number [N]=%{x}<br>Deficit [MeV]=%{y}<extra></extra>",
           "legendgroup": "True",
           "marker": {
            "color": "#636efa",
            "symbol": "circle"
           },
           "mode": "markers",
           "name": "True",
           "orientation": "v",
           "showlegend": true,
           "type": "scatter",
           "x": [
            149,
            151,
            153,
            155,
            157,
            159,
            161,
            163
           ],
           "xaxis": "x",
           "y": [
            -7380,
            -7382,
            -7381.7053,
            -7377,
            -7371.3858,
            -7364,
            -7354,
            -7342
           ],
           "yaxis": "y"
          },
          {
           "hovertemplate": "Odd Neutron=False<br>Proton Number [Z]=104<br>Neutron Number [N]=%{x}<br>Deficit [MeV]=%{y}<extra></extra>",
           "legendgroup": "False",
           "marker": {
            "color": "#EF553B",
            "symbol": "circle"
           },
           "mode": "markers",
           "name": "False",
           "orientation": "v",
           "showlegend": true,
           "type": "scatter",
           "x": [
            150,
            152,
            154,
            156,
            158
           ],
           "xaxis": "x",
           "y": [
            -7384,
            -7385.4349,
            -7382.5257,
            -7377,
            -7370
           ],
           "yaxis": "y"
          }
         ],
         "name": "104"
        },
        {
         "data": [
          {
           "hovertemplate": "Odd Neutron=True<br>Proton Number [Z]=105<br>Neutron Number [N]=%{x}<br>Deficit [MeV]=%{y}<extra></extra>",
           "legendgroup": "True",
           "marker": {
            "color": "#636efa",
            "symbol": "circle"
           },
           "mode": "markers",
           "name": "True",
           "orientation": "v",
           "showlegend": true,
           "type": "scatter",
           "x": [
            151,
            153,
            155,
            157,
            161,
            163,
            165
           ],
           "xaxis": "x",
           "y": [
            -7359,
            -7359.4803,
            -7357,
            -7352,
            -7339,
            -7328,
            -7314
           ],
           "yaxis": "y"
          },
          {
           "hovertemplate": "Odd Neutron=False<br>Proton Number [Z]=105<br>Neutron Number [N]=%{x}<br>Deficit [MeV]=%{y}<extra></extra>",
           "legendgroup": "False",
           "marker": {
            "color": "#EF553B",
            "symbol": "circle"
           },
           "mode": "markers",
           "name": "False",
           "orientation": "v",
           "showlegend": true,
           "type": "scatter",
           "x": [
            150,
            152,
            154,
            156,
            158,
            162
           ],
           "xaxis": "x",
           "y": [
            -7359,
            -7361.9767,
            -7360.3626,
            -7357,
            -7352,
            -7337
           ],
           "yaxis": "y"
          }
         ],
         "name": "105"
        },
        {
         "data": [
          {
           "hovertemplate": "Odd Neutron=True<br>Proton Number [Z]=106<br>Neutron Number [N]=%{x}<br>Deficit [MeV]=%{y}<extra></extra>",
           "legendgroup": "True",
           "marker": {
            "color": "#636efa",
            "symbol": "circle"
           },
           "mode": "markers",
           "name": "True",
           "orientation": "v",
           "showlegend": true,
           "type": "scatter",
           "x": [
            153,
            155,
            157,
            159,
            161,
            163,
            165
           ],
           "xaxis": "x",
           "y": [
            -7340,
            -7339.771,
            -7337,
            -7333,
            -7327,
            -7318,
            -7305
           ],
           "yaxis": "y"
          },
          {
           "hovertemplate": "Odd Neutron=False<br>Proton Number [Z]=106<br>Neutron Number [N]=%{x}<br>Deficit [MeV]=%{y}<extra></extra>",
           "legendgroup": "False",
           "marker": {
            "color": "#EF553B",
            "symbol": "circle"
           },
           "mode": "markers",
           "name": "False",
           "orientation": "v",
           "showlegend": true,
           "type": "scatter",
           "x": [
            152,
            154,
            156,
            158,
            160
           ],
           "xaxis": "x",
           "y": [
            -7342,
            -7342.5632,
            -7341.1736,
            -7338,
            -7332
           ],
           "yaxis": "y"
          }
         ],
         "name": "106"
        },
        {
         "data": [
          {
           "hovertemplate": "Odd Neutron=True<br>Proton Number [Z]=107<br>Neutron Number [N]=%{x}<br>Deficit [MeV]=%{y}<extra></extra>",
           "legendgroup": "True",
           "marker": {
            "color": "#636efa",
            "symbol": "circle"
           },
           "mode": "markers",
           "name": "True",
           "orientation": "v",
           "showlegend": true,
           "type": "scatter",
           "x": [
            153,
            155,
            157,
            159,
            163,
            165,
            167,
            171
           ],
           "xaxis": "x",
           "y": [
            -7314,
            -7315.7331,
            -7315,
            -7313,
            -7301,
            -7290,
            -7278,
            -7251
           ],
           "yaxis": "y"
          },
          {
           "hovertemplate": "Odd Neutron=False<br>Proton Number [Z]=107<br>Neutron Number [N]=%{x}<br>Deficit [MeV]=%{y}<extra></extra>",
           "legendgroup": "False",
           "marker": {
            "color": "#EF553B",
            "symbol": "circle"
           },
           "mode": "markers",
           "name": "False",
           "orientation": "v",
           "showlegend": true,
           "type": "scatter",
           "x": [
            154,
            156,
            158,
            160,
            164
           ],
           "xaxis": "x",
           "y": [
            -7317.3313,
            -7318,
            -7316,
            -7313,
            -7298
           ],
           "yaxis": "y"
          }
         ],
         "name": "107"
        },
        {
         "data": [
          {
           "hovertemplate": "Odd Neutron=True<br>Proton Number [Z]=108<br>Neutron Number [N]=%{x}<br>Deficit [MeV]=%{y}<extra></extra>",
           "legendgroup": "True",
           "marker": {
            "color": "#636efa",
            "symbol": "circle"
           },
           "mode": "markers",
           "name": "True",
           "orientation": "v",
           "showlegend": true,
           "type": "scatter",
           "x": [
            155,
            157,
            159,
            161,
            163,
            165,
            167,
            169
           ],
           "xaxis": "x",
           "y": [
            -7295,
            -7296.2474,
            -7295,
            -7294,
            -7288,
            -7279,
            -7268,
            -7256
           ],
           "yaxis": "y"
          },
          {
           "hovertemplate": "Odd Neutron=False<br>Proton Number [Z]=108<br>Neutron Number [N]=%{x}<br>Deficit [MeV]=%{y}<extra></extra>",
           "legendgroup": "False",
           "marker": {
            "color": "#EF553B",
            "symbol": "circle"
           },
           "mode": "markers",
           "name": "False",
           "orientation": "v",
           "showlegend": true,
           "type": "scatter",
           "x": [
            156,
            158,
            160,
            162,
            170
           ],
           "xaxis": "x",
           "y": [
            -7298.3762,
            -7298.2611,
            -7297,
            -7295,
            -7252
           ],
           "yaxis": "y"
          }
         ],
         "name": "108"
        },
        {
         "data": [
          {
           "hovertemplate": "Odd Neutron=True<br>Proton Number [Z]=109<br>Neutron Number [N]=%{x}<br>Deficit [MeV]=%{y}<extra></extra>",
           "legendgroup": "True",
           "marker": {
            "color": "#636efa",
            "symbol": "circle"
           },
           "mode": "markers",
           "name": "True",
           "orientation": "v",
           "showlegend": true,
           "type": "scatter",
           "x": [
            157,
            159,
            161,
            165,
            167,
            169,
            173
           ],
           "xaxis": "x",
           "y": [
            -7270.7598,
            -7271,
            -7271,
            -7259,
            -7250,
            -7240,
            -7218
           ],
           "yaxis": "y"
          },
          {
           "hovertemplate": "Odd Neutron=False<br>Proton Number [Z]=109<br>Neutron Number [N]=%{x}<br>Deficit [MeV]=%{y}<extra></extra>",
           "legendgroup": "False",
           "marker": {
            "color": "#EF553B",
            "symbol": "circle"
           },
           "mode": "markers",
           "name": "False",
           "orientation": "v",
           "showlegend": true,
           "type": "scatter",
           "x": [
            166,
            168
           ],
           "xaxis": "x",
           "y": [
            -7257,
            -7247
           ],
           "yaxis": "y"
          }
         ],
         "name": "109"
        },
        {
         "data": [
          {
           "hovertemplate": "Odd Neutron=True<br>Proton Number [Z]=110<br>Neutron Number [N]=%{x}<br>Deficit [MeV]=%{y}<extra></extra>",
           "legendgroup": "True",
           "marker": {
            "color": "#636efa",
            "symbol": "circle"
           },
           "mode": "markers",
           "name": "True",
           "orientation": "v",
           "showlegend": true,
           "type": "scatter",
           "x": [
            157,
            159,
            161,
            163,
            167,
            169,
            171
           ],
           "xaxis": "x",
           "y": [
            -7248,
            -7250.1551,
            -7252,
            -7250,
            -7237,
            -7229,
            -7220
           ],
           "yaxis": "y"
          },
          {
           "hovertemplate": "Odd Neutron=False<br>Proton Number [Z]=110<br>Neutron Number [N]=%{x}<br>Deficit [MeV]=%{y}<extra></extra>",
           "legendgroup": "False",
           "marker": {
            "color": "#EF553B",
            "symbol": "circle"
           },
           "mode": "markers",
           "name": "False",
           "orientation": "v",
           "showlegend": true,
           "type": "scatter",
           "x": [
            160,
            170,
            172
           ],
           "xaxis": "x",
           "y": [
            -7253.7634,
            -7227,
            -7217
           ],
           "yaxis": "y"
          }
         ],
         "name": "110"
        },
        {
         "data": [
          {
           "hovertemplate": "Odd Neutron=True<br>Proton Number [Z]=111<br>Neutron Number [N]=%{x}<br>Deficit [MeV]=%{y}<extra></extra>",
           "legendgroup": "True",
           "marker": {
            "color": "#636efa",
            "symbol": "circle"
           },
           "mode": "markers",
           "name": "True",
           "orientation": "v",
           "showlegend": true,
           "type": "scatter",
           "x": [
            161,
            163,
            167,
            169,
            171,
            175
           ],
           "xaxis": "x",
           "y": [
            -7227,
            -7227,
            -7218,
            -7212,
            -7204,
            -7185
           ],
           "yaxis": "y"
          },
          {
           "hovertemplate": "Odd Neutron=False<br>Proton Number [Z]=111<br>Neutron Number [N]=%{x}<br>Deficit [MeV]=%{y}<extra></extra>",
           "legendgroup": "False",
           "marker": {
            "color": "#EF553B",
            "symbol": "circle"
           },
           "mode": "markers",
           "name": "False",
           "orientation": "v",
           "showlegend": true,
           "type": "scatter",
           "x": [
            168,
            170
           ],
           "xaxis": "x",
           "y": [
            -7216,
            -7209
           ],
           "yaxis": "y"
          }
         ],
         "name": "111"
        },
        {
         "data": [
          {
           "hovertemplate": "Odd Neutron=True<br>Proton Number [Z]=112<br>Neutron Number [N]=%{x}<br>Deficit [MeV]=%{y}<extra></extra>",
           "legendgroup": "True",
           "marker": {
            "color": "#636efa",
            "symbol": "circle"
           },
           "mode": "markers",
           "name": "True",
           "orientation": "v",
           "showlegend": true,
           "type": "scatter",
           "x": [
            165,
            169,
            171,
            173
           ],
           "xaxis": "x",
           "y": [
            -7205,
            -7197,
            -7192,
            -7185
           ],
           "yaxis": "y"
          },
          {
           "hovertemplate": "Odd Neutron=False<br>Proton Number [Z]=112<br>Neutron Number [N]=%{x}<br>Deficit [MeV]=%{y}<extra></extra>",
           "legendgroup": "False",
           "marker": {
            "color": "#EF553B",
            "symbol": "circle"
           },
           "mode": "markers",
           "name": "False",
           "orientation": "v",
           "showlegend": true,
           "type": "scatter",
           "x": [
            170,
            172,
            174
           ],
           "xaxis": "x",
           "y": [
            -7197,
            -7191,
            -7183
           ],
           "yaxis": "y"
          }
         ],
         "name": "112"
        },
        {
         "data": [
          {
           "hovertemplate": "Odd Neutron=True<br>Proton Number [Z]=113<br>Neutron Number [N]=%{x}<br>Deficit [MeV]=%{y}<extra></extra>",
           "legendgroup": "True",
           "marker": {
            "color": "#636efa",
            "symbol": "circle"
           },
           "mode": "markers",
           "name": "True",
           "orientation": "v",
           "showlegend": true,
           "type": "scatter",
           "x": [
            165,
            169,
            171,
            173,
            177
           ],
           "xaxis": "x",
           "y": [
            -7181,
            -7177,
            -7173,
            -7168,
            -7152
           ],
           "yaxis": "y"
          },
          {
           "hovertemplate": "Odd Neutron=False<br>Proton Number [Z]=113<br>Neutron Number [N]=%{x}<br>Deficit [MeV]=%{y}<extra></extra>",
           "legendgroup": "False",
           "marker": {
            "color": "#EF553B",
            "symbol": "circle"
           },
           "mode": "markers",
           "name": "False",
           "orientation": "v",
           "showlegend": true,
           "type": "scatter",
           "x": [
            170,
            172
           ],
           "xaxis": "x",
           "y": [
            -7177,
            -7172
           ],
           "yaxis": "y"
          }
         ],
         "name": "113"
        },
        {
         "data": [
          {
           "hovertemplate": "Odd Neutron=True<br>Proton Number [Z]=114<br>Neutron Number [N]=%{x}<br>Deficit [MeV]=%{y}<extra></extra>",
           "legendgroup": "True",
           "marker": {
            "color": "#636efa",
            "symbol": "circle"
           },
           "mode": "markers",
           "name": "True",
           "orientation": "v",
           "showlegend": true,
           "type": "scatter",
           "x": [
            171,
            173,
            175
           ],
           "xaxis": "x",
           "y": [
            -7159,
            -7155,
            -7149
           ],
           "yaxis": "y"
          },
          {
           "hovertemplate": "Odd Neutron=False<br>Proton Number [Z]=114<br>Neutron Number [N]=%{x}<br>Deficit [MeV]=%{y}<extra></extra>",
           "legendgroup": "False",
           "marker": {
            "color": "#EF553B",
            "symbol": "circle"
           },
           "mode": "markers",
           "name": "False",
           "orientation": "v",
           "showlegend": true,
           "type": "scatter",
           "x": [
            170,
            172,
            174,
            176
           ],
           "xaxis": "x",
           "y": [
            -7163,
            -7159,
            -7154,
            -7147
           ],
           "yaxis": "y"
          }
         ],
         "name": "114"
        },
        {
         "data": [
          {
           "hovertemplate": "Odd Neutron=True<br>Proton Number [Z]=115<br>Neutron Number [N]=%{x}<br>Deficit [MeV]=%{y}<extra></extra>",
           "legendgroup": "True",
           "marker": {
            "color": "#636efa",
            "symbol": "circle"
           },
           "mode": "markers",
           "name": "True",
           "orientation": "v",
           "showlegend": true,
           "type": "scatter",
           "x": [
            173,
            175
           ],
           "xaxis": "x",
           "y": [
            -7135,
            -7131
           ],
           "yaxis": "y"
          },
          {
           "hovertemplate": "Odd Neutron=False<br>Proton Number [Z]=115<br>Neutron Number [N]=%{x}<br>Deficit [MeV]=%{y}<extra></extra>",
           "legendgroup": "False",
           "marker": {
            "color": "#EF553B",
            "symbol": "circle"
           },
           "mode": "markers",
           "name": "False",
           "orientation": "v",
           "showlegend": true,
           "type": "scatter",
           "x": [
            172,
            174
           ],
           "xaxis": "x",
           "y": [
            -7139,
            -7135
           ],
           "yaxis": "y"
          }
         ],
         "name": "115"
        },
        {
         "data": [
          {
           "hovertemplate": "Odd Neutron=True<br>Proton Number [Z]=116<br>Neutron Number [N]=%{x}<br>Deficit [MeV]=%{y}<extra></extra>",
           "legendgroup": "True",
           "marker": {
            "color": "#636efa",
            "symbol": "circle"
           },
           "mode": "markers",
           "name": "True",
           "orientation": "v",
           "showlegend": true,
           "type": "scatter",
           "x": [
            175,
            177
           ],
           "xaxis": "x",
           "y": [
            -7116,
            -7111
           ],
           "yaxis": "y"
          },
          {
           "hovertemplate": "Odd Neutron=False<br>Proton Number [Z]=116<br>Neutron Number [N]=%{x}<br>Deficit [MeV]=%{y}<extra></extra>",
           "legendgroup": "False",
           "marker": {
            "color": "#EF553B",
            "symbol": "circle"
           },
           "mode": "markers",
           "name": "False",
           "orientation": "v",
           "showlegend": true,
           "type": "scatter",
           "x": [
            174,
            176,
            178
           ],
           "xaxis": "x",
           "y": [
            -7120,
            -7116,
            null
           ],
           "yaxis": "y"
          }
         ],
         "name": "116"
        },
        {
         "data": [
          {
           "hovertemplate": "Odd Neutron=True<br>Proton Number [Z]=117<br>Neutron Number [N]=%{x}<br>Deficit [MeV]=%{y}<extra></extra>",
           "legendgroup": "True",
           "marker": {
            "color": "#636efa",
            "symbol": "circle"
           },
           "mode": "markers",
           "name": "True",
           "orientation": "v",
           "showlegend": true,
           "type": "scatter",
           "x": [
            177
           ],
           "xaxis": "x",
           "y": [
            -7092
           ],
           "yaxis": "y"
          },
          {
           "hovertemplate": "Odd Neutron=False<br>Proton Number [Z]=117<br>Neutron Number [N]=%{x}<br>Deficit [MeV]=%{y}<extra></extra>",
           "legendgroup": "False",
           "marker": {
            "color": "#EF553B",
            "symbol": "circle"
           },
           "mode": "markers",
           "name": "False",
           "orientation": "v",
           "showlegend": true,
           "type": "scatter",
           "x": [
            176
           ],
           "xaxis": "x",
           "y": [
            -7095
           ],
           "yaxis": "y"
          }
         ],
         "name": "117"
        },
        {
         "data": [
          {
           "hovertemplate": "Odd Neutron=False<br>Proton Number [Z]=118<br>Neutron Number [N]=%{x}<br>Deficit [MeV]=%{y}<extra></extra>",
           "legendgroup": "False",
           "marker": {
            "color": "#EF553B",
            "symbol": "circle"
           },
           "mode": "markers",
           "name": "False",
           "orientation": "v",
           "showlegend": true,
           "type": "scatter",
           "x": [
            176
           ],
           "xaxis": "x",
           "y": [
            -7079
           ],
           "yaxis": "y"
          }
         ],
         "name": "118"
        }
       ],
       "layout": {
        "legend": {
         "title": {
          "text": "Odd Neutron"
         },
         "tracegroupgap": 0
        },
        "margin": {
         "t": 60
        },
        "sliders": [
         {
          "active": 0,
          "currentvalue": {
           "prefix": "Proton Number [Z]="
          },
          "len": 0.9,
          "pad": {
           "b": 10,
           "t": 60
          },
          "steps": [
           {
            "args": [
             [
              "0"
             ],
             {
              "frame": {
               "duration": 0,
               "redraw": false
              },
              "fromcurrent": true,
              "mode": "immediate",
              "transition": {
               "duration": 0,
               "easing": "linear"
              }
             }
            ],
            "label": "0",
            "method": "animate"
           },
           {
            "args": [
             [
              "1"
             ],
             {
              "frame": {
               "duration": 0,
               "redraw": false
              },
              "fromcurrent": true,
              "mode": "immediate",
              "transition": {
               "duration": 0,
               "easing": "linear"
              }
             }
            ],
            "label": "1",
            "method": "animate"
           },
           {
            "args": [
             [
              "2"
             ],
             {
              "frame": {
               "duration": 0,
               "redraw": false
              },
              "fromcurrent": true,
              "mode": "immediate",
              "transition": {
               "duration": 0,
               "easing": "linear"
              }
             }
            ],
            "label": "2",
            "method": "animate"
           },
           {
            "args": [
             [
              "3"
             ],
             {
              "frame": {
               "duration": 0,
               "redraw": false
              },
              "fromcurrent": true,
              "mode": "immediate",
              "transition": {
               "duration": 0,
               "easing": "linear"
              }
             }
            ],
            "label": "3",
            "method": "animate"
           },
           {
            "args": [
             [
              "4"
             ],
             {
              "frame": {
               "duration": 0,
               "redraw": false
              },
              "fromcurrent": true,
              "mode": "immediate",
              "transition": {
               "duration": 0,
               "easing": "linear"
              }
             }
            ],
            "label": "4",
            "method": "animate"
           },
           {
            "args": [
             [
              "5"
             ],
             {
              "frame": {
               "duration": 0,
               "redraw": false
              },
              "fromcurrent": true,
              "mode": "immediate",
              "transition": {
               "duration": 0,
               "easing": "linear"
              }
             }
            ],
            "label": "5",
            "method": "animate"
           },
           {
            "args": [
             [
              "6"
             ],
             {
              "frame": {
               "duration": 0,
               "redraw": false
              },
              "fromcurrent": true,
              "mode": "immediate",
              "transition": {
               "duration": 0,
               "easing": "linear"
              }
             }
            ],
            "label": "6",
            "method": "animate"
           },
           {
            "args": [
             [
              "7"
             ],
             {
              "frame": {
               "duration": 0,
               "redraw": false
              },
              "fromcurrent": true,
              "mode": "immediate",
              "transition": {
               "duration": 0,
               "easing": "linear"
              }
             }
            ],
            "label": "7",
            "method": "animate"
           },
           {
            "args": [
             [
              "8"
             ],
             {
              "frame": {
               "duration": 0,
               "redraw": false
              },
              "fromcurrent": true,
              "mode": "immediate",
              "transition": {
               "duration": 0,
               "easing": "linear"
              }
             }
            ],
            "label": "8",
            "method": "animate"
           },
           {
            "args": [
             [
              "9"
             ],
             {
              "frame": {
               "duration": 0,
               "redraw": false
              },
              "fromcurrent": true,
              "mode": "immediate",
              "transition": {
               "duration": 0,
               "easing": "linear"
              }
             }
            ],
            "label": "9",
            "method": "animate"
           },
           {
            "args": [
             [
              "10"
             ],
             {
              "frame": {
               "duration": 0,
               "redraw": false
              },
              "fromcurrent": true,
              "mode": "immediate",
              "transition": {
               "duration": 0,
               "easing": "linear"
              }
             }
            ],
            "label": "10",
            "method": "animate"
           },
           {
            "args": [
             [
              "11"
             ],
             {
              "frame": {
               "duration": 0,
               "redraw": false
              },
              "fromcurrent": true,
              "mode": "immediate",
              "transition": {
               "duration": 0,
               "easing": "linear"
              }
             }
            ],
            "label": "11",
            "method": "animate"
           },
           {
            "args": [
             [
              "12"
             ],
             {
              "frame": {
               "duration": 0,
               "redraw": false
              },
              "fromcurrent": true,
              "mode": "immediate",
              "transition": {
               "duration": 0,
               "easing": "linear"
              }
             }
            ],
            "label": "12",
            "method": "animate"
           },
           {
            "args": [
             [
              "13"
             ],
             {
              "frame": {
               "duration": 0,
               "redraw": false
              },
              "fromcurrent": true,
              "mode": "immediate",
              "transition": {
               "duration": 0,
               "easing": "linear"
              }
             }
            ],
            "label": "13",
            "method": "animate"
           },
           {
            "args": [
             [
              "14"
             ],
             {
              "frame": {
               "duration": 0,
               "redraw": false
              },
              "fromcurrent": true,
              "mode": "immediate",
              "transition": {
               "duration": 0,
               "easing": "linear"
              }
             }
            ],
            "label": "14",
            "method": "animate"
           },
           {
            "args": [
             [
              "15"
             ],
             {
              "frame": {
               "duration": 0,
               "redraw": false
              },
              "fromcurrent": true,
              "mode": "immediate",
              "transition": {
               "duration": 0,
               "easing": "linear"
              }
             }
            ],
            "label": "15",
            "method": "animate"
           },
           {
            "args": [
             [
              "16"
             ],
             {
              "frame": {
               "duration": 0,
               "redraw": false
              },
              "fromcurrent": true,
              "mode": "immediate",
              "transition": {
               "duration": 0,
               "easing": "linear"
              }
             }
            ],
            "label": "16",
            "method": "animate"
           },
           {
            "args": [
             [
              "17"
             ],
             {
              "frame": {
               "duration": 0,
               "redraw": false
              },
              "fromcurrent": true,
              "mode": "immediate",
              "transition": {
               "duration": 0,
               "easing": "linear"
              }
             }
            ],
            "label": "17",
            "method": "animate"
           },
           {
            "args": [
             [
              "18"
             ],
             {
              "frame": {
               "duration": 0,
               "redraw": false
              },
              "fromcurrent": true,
              "mode": "immediate",
              "transition": {
               "duration": 0,
               "easing": "linear"
              }
             }
            ],
            "label": "18",
            "method": "animate"
           },
           {
            "args": [
             [
              "19"
             ],
             {
              "frame": {
               "duration": 0,
               "redraw": false
              },
              "fromcurrent": true,
              "mode": "immediate",
              "transition": {
               "duration": 0,
               "easing": "linear"
              }
             }
            ],
            "label": "19",
            "method": "animate"
           },
           {
            "args": [
             [
              "20"
             ],
             {
              "frame": {
               "duration": 0,
               "redraw": false
              },
              "fromcurrent": true,
              "mode": "immediate",
              "transition": {
               "duration": 0,
               "easing": "linear"
              }
             }
            ],
            "label": "20",
            "method": "animate"
           },
           {
            "args": [
             [
              "21"
             ],
             {
              "frame": {
               "duration": 0,
               "redraw": false
              },
              "fromcurrent": true,
              "mode": "immediate",
              "transition": {
               "duration": 0,
               "easing": "linear"
              }
             }
            ],
            "label": "21",
            "method": "animate"
           },
           {
            "args": [
             [
              "22"
             ],
             {
              "frame": {
               "duration": 0,
               "redraw": false
              },
              "fromcurrent": true,
              "mode": "immediate",
              "transition": {
               "duration": 0,
               "easing": "linear"
              }
             }
            ],
            "label": "22",
            "method": "animate"
           },
           {
            "args": [
             [
              "23"
             ],
             {
              "frame": {
               "duration": 0,
               "redraw": false
              },
              "fromcurrent": true,
              "mode": "immediate",
              "transition": {
               "duration": 0,
               "easing": "linear"
              }
             }
            ],
            "label": "23",
            "method": "animate"
           },
           {
            "args": [
             [
              "24"
             ],
             {
              "frame": {
               "duration": 0,
               "redraw": false
              },
              "fromcurrent": true,
              "mode": "immediate",
              "transition": {
               "duration": 0,
               "easing": "linear"
              }
             }
            ],
            "label": "24",
            "method": "animate"
           },
           {
            "args": [
             [
              "25"
             ],
             {
              "frame": {
               "duration": 0,
               "redraw": false
              },
              "fromcurrent": true,
              "mode": "immediate",
              "transition": {
               "duration": 0,
               "easing": "linear"
              }
             }
            ],
            "label": "25",
            "method": "animate"
           },
           {
            "args": [
             [
              "26"
             ],
             {
              "frame": {
               "duration": 0,
               "redraw": false
              },
              "fromcurrent": true,
              "mode": "immediate",
              "transition": {
               "duration": 0,
               "easing": "linear"
              }
             }
            ],
            "label": "26",
            "method": "animate"
           },
           {
            "args": [
             [
              "27"
             ],
             {
              "frame": {
               "duration": 0,
               "redraw": false
              },
              "fromcurrent": true,
              "mode": "immediate",
              "transition": {
               "duration": 0,
               "easing": "linear"
              }
             }
            ],
            "label": "27",
            "method": "animate"
           },
           {
            "args": [
             [
              "28"
             ],
             {
              "frame": {
               "duration": 0,
               "redraw": false
              },
              "fromcurrent": true,
              "mode": "immediate",
              "transition": {
               "duration": 0,
               "easing": "linear"
              }
             }
            ],
            "label": "28",
            "method": "animate"
           },
           {
            "args": [
             [
              "29"
             ],
             {
              "frame": {
               "duration": 0,
               "redraw": false
              },
              "fromcurrent": true,
              "mode": "immediate",
              "transition": {
               "duration": 0,
               "easing": "linear"
              }
             }
            ],
            "label": "29",
            "method": "animate"
           },
           {
            "args": [
             [
              "30"
             ],
             {
              "frame": {
               "duration": 0,
               "redraw": false
              },
              "fromcurrent": true,
              "mode": "immediate",
              "transition": {
               "duration": 0,
               "easing": "linear"
              }
             }
            ],
            "label": "30",
            "method": "animate"
           },
           {
            "args": [
             [
              "31"
             ],
             {
              "frame": {
               "duration": 0,
               "redraw": false
              },
              "fromcurrent": true,
              "mode": "immediate",
              "transition": {
               "duration": 0,
               "easing": "linear"
              }
             }
            ],
            "label": "31",
            "method": "animate"
           },
           {
            "args": [
             [
              "32"
             ],
             {
              "frame": {
               "duration": 0,
               "redraw": false
              },
              "fromcurrent": true,
              "mode": "immediate",
              "transition": {
               "duration": 0,
               "easing": "linear"
              }
             }
            ],
            "label": "32",
            "method": "animate"
           },
           {
            "args": [
             [
              "33"
             ],
             {
              "frame": {
               "duration": 0,
               "redraw": false
              },
              "fromcurrent": true,
              "mode": "immediate",
              "transition": {
               "duration": 0,
               "easing": "linear"
              }
             }
            ],
            "label": "33",
            "method": "animate"
           },
           {
            "args": [
             [
              "34"
             ],
             {
              "frame": {
               "duration": 0,
               "redraw": false
              },
              "fromcurrent": true,
              "mode": "immediate",
              "transition": {
               "duration": 0,
               "easing": "linear"
              }
             }
            ],
            "label": "34",
            "method": "animate"
           },
           {
            "args": [
             [
              "35"
             ],
             {
              "frame": {
               "duration": 0,
               "redraw": false
              },
              "fromcurrent": true,
              "mode": "immediate",
              "transition": {
               "duration": 0,
               "easing": "linear"
              }
             }
            ],
            "label": "35",
            "method": "animate"
           },
           {
            "args": [
             [
              "36"
             ],
             {
              "frame": {
               "duration": 0,
               "redraw": false
              },
              "fromcurrent": true,
              "mode": "immediate",
              "transition": {
               "duration": 0,
               "easing": "linear"
              }
             }
            ],
            "label": "36",
            "method": "animate"
           },
           {
            "args": [
             [
              "37"
             ],
             {
              "frame": {
               "duration": 0,
               "redraw": false
              },
              "fromcurrent": true,
              "mode": "immediate",
              "transition": {
               "duration": 0,
               "easing": "linear"
              }
             }
            ],
            "label": "37",
            "method": "animate"
           },
           {
            "args": [
             [
              "38"
             ],
             {
              "frame": {
               "duration": 0,
               "redraw": false
              },
              "fromcurrent": true,
              "mode": "immediate",
              "transition": {
               "duration": 0,
               "easing": "linear"
              }
             }
            ],
            "label": "38",
            "method": "animate"
           },
           {
            "args": [
             [
              "39"
             ],
             {
              "frame": {
               "duration": 0,
               "redraw": false
              },
              "fromcurrent": true,
              "mode": "immediate",
              "transition": {
               "duration": 0,
               "easing": "linear"
              }
             }
            ],
            "label": "39",
            "method": "animate"
           },
           {
            "args": [
             [
              "40"
             ],
             {
              "frame": {
               "duration": 0,
               "redraw": false
              },
              "fromcurrent": true,
              "mode": "immediate",
              "transition": {
               "duration": 0,
               "easing": "linear"
              }
             }
            ],
            "label": "40",
            "method": "animate"
           },
           {
            "args": [
             [
              "41"
             ],
             {
              "frame": {
               "duration": 0,
               "redraw": false
              },
              "fromcurrent": true,
              "mode": "immediate",
              "transition": {
               "duration": 0,
               "easing": "linear"
              }
             }
            ],
            "label": "41",
            "method": "animate"
           },
           {
            "args": [
             [
              "42"
             ],
             {
              "frame": {
               "duration": 0,
               "redraw": false
              },
              "fromcurrent": true,
              "mode": "immediate",
              "transition": {
               "duration": 0,
               "easing": "linear"
              }
             }
            ],
            "label": "42",
            "method": "animate"
           },
           {
            "args": [
             [
              "43"
             ],
             {
              "frame": {
               "duration": 0,
               "redraw": false
              },
              "fromcurrent": true,
              "mode": "immediate",
              "transition": {
               "duration": 0,
               "easing": "linear"
              }
             }
            ],
            "label": "43",
            "method": "animate"
           },
           {
            "args": [
             [
              "44"
             ],
             {
              "frame": {
               "duration": 0,
               "redraw": false
              },
              "fromcurrent": true,
              "mode": "immediate",
              "transition": {
               "duration": 0,
               "easing": "linear"
              }
             }
            ],
            "label": "44",
            "method": "animate"
           },
           {
            "args": [
             [
              "45"
             ],
             {
              "frame": {
               "duration": 0,
               "redraw": false
              },
              "fromcurrent": true,
              "mode": "immediate",
              "transition": {
               "duration": 0,
               "easing": "linear"
              }
             }
            ],
            "label": "45",
            "method": "animate"
           },
           {
            "args": [
             [
              "46"
             ],
             {
              "frame": {
               "duration": 0,
               "redraw": false
              },
              "fromcurrent": true,
              "mode": "immediate",
              "transition": {
               "duration": 0,
               "easing": "linear"
              }
             }
            ],
            "label": "46",
            "method": "animate"
           },
           {
            "args": [
             [
              "47"
             ],
             {
              "frame": {
               "duration": 0,
               "redraw": false
              },
              "fromcurrent": true,
              "mode": "immediate",
              "transition": {
               "duration": 0,
               "easing": "linear"
              }
             }
            ],
            "label": "47",
            "method": "animate"
           },
           {
            "args": [
             [
              "48"
             ],
             {
              "frame": {
               "duration": 0,
               "redraw": false
              },
              "fromcurrent": true,
              "mode": "immediate",
              "transition": {
               "duration": 0,
               "easing": "linear"
              }
             }
            ],
            "label": "48",
            "method": "animate"
           },
           {
            "args": [
             [
              "49"
             ],
             {
              "frame": {
               "duration": 0,
               "redraw": false
              },
              "fromcurrent": true,
              "mode": "immediate",
              "transition": {
               "duration": 0,
               "easing": "linear"
              }
             }
            ],
            "label": "49",
            "method": "animate"
           },
           {
            "args": [
             [
              "50"
             ],
             {
              "frame": {
               "duration": 0,
               "redraw": false
              },
              "fromcurrent": true,
              "mode": "immediate",
              "transition": {
               "duration": 0,
               "easing": "linear"
              }
             }
            ],
            "label": "50",
            "method": "animate"
           },
           {
            "args": [
             [
              "51"
             ],
             {
              "frame": {
               "duration": 0,
               "redraw": false
              },
              "fromcurrent": true,
              "mode": "immediate",
              "transition": {
               "duration": 0,
               "easing": "linear"
              }
             }
            ],
            "label": "51",
            "method": "animate"
           },
           {
            "args": [
             [
              "52"
             ],
             {
              "frame": {
               "duration": 0,
               "redraw": false
              },
              "fromcurrent": true,
              "mode": "immediate",
              "transition": {
               "duration": 0,
               "easing": "linear"
              }
             }
            ],
            "label": "52",
            "method": "animate"
           },
           {
            "args": [
             [
              "53"
             ],
             {
              "frame": {
               "duration": 0,
               "redraw": false
              },
              "fromcurrent": true,
              "mode": "immediate",
              "transition": {
               "duration": 0,
               "easing": "linear"
              }
             }
            ],
            "label": "53",
            "method": "animate"
           },
           {
            "args": [
             [
              "54"
             ],
             {
              "frame": {
               "duration": 0,
               "redraw": false
              },
              "fromcurrent": true,
              "mode": "immediate",
              "transition": {
               "duration": 0,
               "easing": "linear"
              }
             }
            ],
            "label": "54",
            "method": "animate"
           },
           {
            "args": [
             [
              "55"
             ],
             {
              "frame": {
               "duration": 0,
               "redraw": false
              },
              "fromcurrent": true,
              "mode": "immediate",
              "transition": {
               "duration": 0,
               "easing": "linear"
              }
             }
            ],
            "label": "55",
            "method": "animate"
           },
           {
            "args": [
             [
              "56"
             ],
             {
              "frame": {
               "duration": 0,
               "redraw": false
              },
              "fromcurrent": true,
              "mode": "immediate",
              "transition": {
               "duration": 0,
               "easing": "linear"
              }
             }
            ],
            "label": "56",
            "method": "animate"
           },
           {
            "args": [
             [
              "57"
             ],
             {
              "frame": {
               "duration": 0,
               "redraw": false
              },
              "fromcurrent": true,
              "mode": "immediate",
              "transition": {
               "duration": 0,
               "easing": "linear"
              }
             }
            ],
            "label": "57",
            "method": "animate"
           },
           {
            "args": [
             [
              "58"
             ],
             {
              "frame": {
               "duration": 0,
               "redraw": false
              },
              "fromcurrent": true,
              "mode": "immediate",
              "transition": {
               "duration": 0,
               "easing": "linear"
              }
             }
            ],
            "label": "58",
            "method": "animate"
           },
           {
            "args": [
             [
              "59"
             ],
             {
              "frame": {
               "duration": 0,
               "redraw": false
              },
              "fromcurrent": true,
              "mode": "immediate",
              "transition": {
               "duration": 0,
               "easing": "linear"
              }
             }
            ],
            "label": "59",
            "method": "animate"
           },
           {
            "args": [
             [
              "60"
             ],
             {
              "frame": {
               "duration": 0,
               "redraw": false
              },
              "fromcurrent": true,
              "mode": "immediate",
              "transition": {
               "duration": 0,
               "easing": "linear"
              }
             }
            ],
            "label": "60",
            "method": "animate"
           },
           {
            "args": [
             [
              "61"
             ],
             {
              "frame": {
               "duration": 0,
               "redraw": false
              },
              "fromcurrent": true,
              "mode": "immediate",
              "transition": {
               "duration": 0,
               "easing": "linear"
              }
             }
            ],
            "label": "61",
            "method": "animate"
           },
           {
            "args": [
             [
              "62"
             ],
             {
              "frame": {
               "duration": 0,
               "redraw": false
              },
              "fromcurrent": true,
              "mode": "immediate",
              "transition": {
               "duration": 0,
               "easing": "linear"
              }
             }
            ],
            "label": "62",
            "method": "animate"
           },
           {
            "args": [
             [
              "63"
             ],
             {
              "frame": {
               "duration": 0,
               "redraw": false
              },
              "fromcurrent": true,
              "mode": "immediate",
              "transition": {
               "duration": 0,
               "easing": "linear"
              }
             }
            ],
            "label": "63",
            "method": "animate"
           },
           {
            "args": [
             [
              "64"
             ],
             {
              "frame": {
               "duration": 0,
               "redraw": false
              },
              "fromcurrent": true,
              "mode": "immediate",
              "transition": {
               "duration": 0,
               "easing": "linear"
              }
             }
            ],
            "label": "64",
            "method": "animate"
           },
           {
            "args": [
             [
              "65"
             ],
             {
              "frame": {
               "duration": 0,
               "redraw": false
              },
              "fromcurrent": true,
              "mode": "immediate",
              "transition": {
               "duration": 0,
               "easing": "linear"
              }
             }
            ],
            "label": "65",
            "method": "animate"
           },
           {
            "args": [
             [
              "66"
             ],
             {
              "frame": {
               "duration": 0,
               "redraw": false
              },
              "fromcurrent": true,
              "mode": "immediate",
              "transition": {
               "duration": 0,
               "easing": "linear"
              }
             }
            ],
            "label": "66",
            "method": "animate"
           },
           {
            "args": [
             [
              "67"
             ],
             {
              "frame": {
               "duration": 0,
               "redraw": false
              },
              "fromcurrent": true,
              "mode": "immediate",
              "transition": {
               "duration": 0,
               "easing": "linear"
              }
             }
            ],
            "label": "67",
            "method": "animate"
           },
           {
            "args": [
             [
              "68"
             ],
             {
              "frame": {
               "duration": 0,
               "redraw": false
              },
              "fromcurrent": true,
              "mode": "immediate",
              "transition": {
               "duration": 0,
               "easing": "linear"
              }
             }
            ],
            "label": "68",
            "method": "animate"
           },
           {
            "args": [
             [
              "69"
             ],
             {
              "frame": {
               "duration": 0,
               "redraw": false
              },
              "fromcurrent": true,
              "mode": "immediate",
              "transition": {
               "duration": 0,
               "easing": "linear"
              }
             }
            ],
            "label": "69",
            "method": "animate"
           },
           {
            "args": [
             [
              "70"
             ],
             {
              "frame": {
               "duration": 0,
               "redraw": false
              },
              "fromcurrent": true,
              "mode": "immediate",
              "transition": {
               "duration": 0,
               "easing": "linear"
              }
             }
            ],
            "label": "70",
            "method": "animate"
           },
           {
            "args": [
             [
              "71"
             ],
             {
              "frame": {
               "duration": 0,
               "redraw": false
              },
              "fromcurrent": true,
              "mode": "immediate",
              "transition": {
               "duration": 0,
               "easing": "linear"
              }
             }
            ],
            "label": "71",
            "method": "animate"
           },
           {
            "args": [
             [
              "72"
             ],
             {
              "frame": {
               "duration": 0,
               "redraw": false
              },
              "fromcurrent": true,
              "mode": "immediate",
              "transition": {
               "duration": 0,
               "easing": "linear"
              }
             }
            ],
            "label": "72",
            "method": "animate"
           },
           {
            "args": [
             [
              "73"
             ],
             {
              "frame": {
               "duration": 0,
               "redraw": false
              },
              "fromcurrent": true,
              "mode": "immediate",
              "transition": {
               "duration": 0,
               "easing": "linear"
              }
             }
            ],
            "label": "73",
            "method": "animate"
           },
           {
            "args": [
             [
              "74"
             ],
             {
              "frame": {
               "duration": 0,
               "redraw": false
              },
              "fromcurrent": true,
              "mode": "immediate",
              "transition": {
               "duration": 0,
               "easing": "linear"
              }
             }
            ],
            "label": "74",
            "method": "animate"
           },
           {
            "args": [
             [
              "75"
             ],
             {
              "frame": {
               "duration": 0,
               "redraw": false
              },
              "fromcurrent": true,
              "mode": "immediate",
              "transition": {
               "duration": 0,
               "easing": "linear"
              }
             }
            ],
            "label": "75",
            "method": "animate"
           },
           {
            "args": [
             [
              "76"
             ],
             {
              "frame": {
               "duration": 0,
               "redraw": false
              },
              "fromcurrent": true,
              "mode": "immediate",
              "transition": {
               "duration": 0,
               "easing": "linear"
              }
             }
            ],
            "label": "76",
            "method": "animate"
           },
           {
            "args": [
             [
              "77"
             ],
             {
              "frame": {
               "duration": 0,
               "redraw": false
              },
              "fromcurrent": true,
              "mode": "immediate",
              "transition": {
               "duration": 0,
               "easing": "linear"
              }
             }
            ],
            "label": "77",
            "method": "animate"
           },
           {
            "args": [
             [
              "78"
             ],
             {
              "frame": {
               "duration": 0,
               "redraw": false
              },
              "fromcurrent": true,
              "mode": "immediate",
              "transition": {
               "duration": 0,
               "easing": "linear"
              }
             }
            ],
            "label": "78",
            "method": "animate"
           },
           {
            "args": [
             [
              "79"
             ],
             {
              "frame": {
               "duration": 0,
               "redraw": false
              },
              "fromcurrent": true,
              "mode": "immediate",
              "transition": {
               "duration": 0,
               "easing": "linear"
              }
             }
            ],
            "label": "79",
            "method": "animate"
           },
           {
            "args": [
             [
              "80"
             ],
             {
              "frame": {
               "duration": 0,
               "redraw": false
              },
              "fromcurrent": true,
              "mode": "immediate",
              "transition": {
               "duration": 0,
               "easing": "linear"
              }
             }
            ],
            "label": "80",
            "method": "animate"
           },
           {
            "args": [
             [
              "81"
             ],
             {
              "frame": {
               "duration": 0,
               "redraw": false
              },
              "fromcurrent": true,
              "mode": "immediate",
              "transition": {
               "duration": 0,
               "easing": "linear"
              }
             }
            ],
            "label": "81",
            "method": "animate"
           },
           {
            "args": [
             [
              "82"
             ],
             {
              "frame": {
               "duration": 0,
               "redraw": false
              },
              "fromcurrent": true,
              "mode": "immediate",
              "transition": {
               "duration": 0,
               "easing": "linear"
              }
             }
            ],
            "label": "82",
            "method": "animate"
           },
           {
            "args": [
             [
              "83"
             ],
             {
              "frame": {
               "duration": 0,
               "redraw": false
              },
              "fromcurrent": true,
              "mode": "immediate",
              "transition": {
               "duration": 0,
               "easing": "linear"
              }
             }
            ],
            "label": "83",
            "method": "animate"
           },
           {
            "args": [
             [
              "84"
             ],
             {
              "frame": {
               "duration": 0,
               "redraw": false
              },
              "fromcurrent": true,
              "mode": "immediate",
              "transition": {
               "duration": 0,
               "easing": "linear"
              }
             }
            ],
            "label": "84",
            "method": "animate"
           },
           {
            "args": [
             [
              "85"
             ],
             {
              "frame": {
               "duration": 0,
               "redraw": false
              },
              "fromcurrent": true,
              "mode": "immediate",
              "transition": {
               "duration": 0,
               "easing": "linear"
              }
             }
            ],
            "label": "85",
            "method": "animate"
           },
           {
            "args": [
             [
              "86"
             ],
             {
              "frame": {
               "duration": 0,
               "redraw": false
              },
              "fromcurrent": true,
              "mode": "immediate",
              "transition": {
               "duration": 0,
               "easing": "linear"
              }
             }
            ],
            "label": "86",
            "method": "animate"
           },
           {
            "args": [
             [
              "87"
             ],
             {
              "frame": {
               "duration": 0,
               "redraw": false
              },
              "fromcurrent": true,
              "mode": "immediate",
              "transition": {
               "duration": 0,
               "easing": "linear"
              }
             }
            ],
            "label": "87",
            "method": "animate"
           },
           {
            "args": [
             [
              "88"
             ],
             {
              "frame": {
               "duration": 0,
               "redraw": false
              },
              "fromcurrent": true,
              "mode": "immediate",
              "transition": {
               "duration": 0,
               "easing": "linear"
              }
             }
            ],
            "label": "88",
            "method": "animate"
           },
           {
            "args": [
             [
              "89"
             ],
             {
              "frame": {
               "duration": 0,
               "redraw": false
              },
              "fromcurrent": true,
              "mode": "immediate",
              "transition": {
               "duration": 0,
               "easing": "linear"
              }
             }
            ],
            "label": "89",
            "method": "animate"
           },
           {
            "args": [
             [
              "90"
             ],
             {
              "frame": {
               "duration": 0,
               "redraw": false
              },
              "fromcurrent": true,
              "mode": "immediate",
              "transition": {
               "duration": 0,
               "easing": "linear"
              }
             }
            ],
            "label": "90",
            "method": "animate"
           },
           {
            "args": [
             [
              "91"
             ],
             {
              "frame": {
               "duration": 0,
               "redraw": false
              },
              "fromcurrent": true,
              "mode": "immediate",
              "transition": {
               "duration": 0,
               "easing": "linear"
              }
             }
            ],
            "label": "91",
            "method": "animate"
           },
           {
            "args": [
             [
              "92"
             ],
             {
              "frame": {
               "duration": 0,
               "redraw": false
              },
              "fromcurrent": true,
              "mode": "immediate",
              "transition": {
               "duration": 0,
               "easing": "linear"
              }
             }
            ],
            "label": "92",
            "method": "animate"
           },
           {
            "args": [
             [
              "93"
             ],
             {
              "frame": {
               "duration": 0,
               "redraw": false
              },
              "fromcurrent": true,
              "mode": "immediate",
              "transition": {
               "duration": 0,
               "easing": "linear"
              }
             }
            ],
            "label": "93",
            "method": "animate"
           },
           {
            "args": [
             [
              "94"
             ],
             {
              "frame": {
               "duration": 0,
               "redraw": false
              },
              "fromcurrent": true,
              "mode": "immediate",
              "transition": {
               "duration": 0,
               "easing": "linear"
              }
             }
            ],
            "label": "94",
            "method": "animate"
           },
           {
            "args": [
             [
              "95"
             ],
             {
              "frame": {
               "duration": 0,
               "redraw": false
              },
              "fromcurrent": true,
              "mode": "immediate",
              "transition": {
               "duration": 0,
               "easing": "linear"
              }
             }
            ],
            "label": "95",
            "method": "animate"
           },
           {
            "args": [
             [
              "96"
             ],
             {
              "frame": {
               "duration": 0,
               "redraw": false
              },
              "fromcurrent": true,
              "mode": "immediate",
              "transition": {
               "duration": 0,
               "easing": "linear"
              }
             }
            ],
            "label": "96",
            "method": "animate"
           },
           {
            "args": [
             [
              "97"
             ],
             {
              "frame": {
               "duration": 0,
               "redraw": false
              },
              "fromcurrent": true,
              "mode": "immediate",
              "transition": {
               "duration": 0,
               "easing": "linear"
              }
             }
            ],
            "label": "97",
            "method": "animate"
           },
           {
            "args": [
             [
              "98"
             ],
             {
              "frame": {
               "duration": 0,
               "redraw": false
              },
              "fromcurrent": true,
              "mode": "immediate",
              "transition": {
               "duration": 0,
               "easing": "linear"
              }
             }
            ],
            "label": "98",
            "method": "animate"
           },
           {
            "args": [
             [
              "99"
             ],
             {
              "frame": {
               "duration": 0,
               "redraw": false
              },
              "fromcurrent": true,
              "mode": "immediate",
              "transition": {
               "duration": 0,
               "easing": "linear"
              }
             }
            ],
            "label": "99",
            "method": "animate"
           },
           {
            "args": [
             [
              "100"
             ],
             {
              "frame": {
               "duration": 0,
               "redraw": false
              },
              "fromcurrent": true,
              "mode": "immediate",
              "transition": {
               "duration": 0,
               "easing": "linear"
              }
             }
            ],
            "label": "100",
            "method": "animate"
           },
           {
            "args": [
             [
              "101"
             ],
             {
              "frame": {
               "duration": 0,
               "redraw": false
              },
              "fromcurrent": true,
              "mode": "immediate",
              "transition": {
               "duration": 0,
               "easing": "linear"
              }
             }
            ],
            "label": "101",
            "method": "animate"
           },
           {
            "args": [
             [
              "102"
             ],
             {
              "frame": {
               "duration": 0,
               "redraw": false
              },
              "fromcurrent": true,
              "mode": "immediate",
              "transition": {
               "duration": 0,
               "easing": "linear"
              }
             }
            ],
            "label": "102",
            "method": "animate"
           },
           {
            "args": [
             [
              "103"
             ],
             {
              "frame": {
               "duration": 0,
               "redraw": false
              },
              "fromcurrent": true,
              "mode": "immediate",
              "transition": {
               "duration": 0,
               "easing": "linear"
              }
             }
            ],
            "label": "103",
            "method": "animate"
           },
           {
            "args": [
             [
              "104"
             ],
             {
              "frame": {
               "duration": 0,
               "redraw": false
              },
              "fromcurrent": true,
              "mode": "immediate",
              "transition": {
               "duration": 0,
               "easing": "linear"
              }
             }
            ],
            "label": "104",
            "method": "animate"
           },
           {
            "args": [
             [
              "105"
             ],
             {
              "frame": {
               "duration": 0,
               "redraw": false
              },
              "fromcurrent": true,
              "mode": "immediate",
              "transition": {
               "duration": 0,
               "easing": "linear"
              }
             }
            ],
            "label": "105",
            "method": "animate"
           },
           {
            "args": [
             [
              "106"
             ],
             {
              "frame": {
               "duration": 0,
               "redraw": false
              },
              "fromcurrent": true,
              "mode": "immediate",
              "transition": {
               "duration": 0,
               "easing": "linear"
              }
             }
            ],
            "label": "106",
            "method": "animate"
           },
           {
            "args": [
             [
              "107"
             ],
             {
              "frame": {
               "duration": 0,
               "redraw": false
              },
              "fromcurrent": true,
              "mode": "immediate",
              "transition": {
               "duration": 0,
               "easing": "linear"
              }
             }
            ],
            "label": "107",
            "method": "animate"
           },
           {
            "args": [
             [
              "108"
             ],
             {
              "frame": {
               "duration": 0,
               "redraw": false
              },
              "fromcurrent": true,
              "mode": "immediate",
              "transition": {
               "duration": 0,
               "easing": "linear"
              }
             }
            ],
            "label": "108",
            "method": "animate"
           },
           {
            "args": [
             [
              "109"
             ],
             {
              "frame": {
               "duration": 0,
               "redraw": false
              },
              "fromcurrent": true,
              "mode": "immediate",
              "transition": {
               "duration": 0,
               "easing": "linear"
              }
             }
            ],
            "label": "109",
            "method": "animate"
           },
           {
            "args": [
             [
              "110"
             ],
             {
              "frame": {
               "duration": 0,
               "redraw": false
              },
              "fromcurrent": true,
              "mode": "immediate",
              "transition": {
               "duration": 0,
               "easing": "linear"
              }
             }
            ],
            "label": "110",
            "method": "animate"
           },
           {
            "args": [
             [
              "111"
             ],
             {
              "frame": {
               "duration": 0,
               "redraw": false
              },
              "fromcurrent": true,
              "mode": "immediate",
              "transition": {
               "duration": 0,
               "easing": "linear"
              }
             }
            ],
            "label": "111",
            "method": "animate"
           },
           {
            "args": [
             [
              "112"
             ],
             {
              "frame": {
               "duration": 0,
               "redraw": false
              },
              "fromcurrent": true,
              "mode": "immediate",
              "transition": {
               "duration": 0,
               "easing": "linear"
              }
             }
            ],
            "label": "112",
            "method": "animate"
           },
           {
            "args": [
             [
              "113"
             ],
             {
              "frame": {
               "duration": 0,
               "redraw": false
              },
              "fromcurrent": true,
              "mode": "immediate",
              "transition": {
               "duration": 0,
               "easing": "linear"
              }
             }
            ],
            "label": "113",
            "method": "animate"
           },
           {
            "args": [
             [
              "114"
             ],
             {
              "frame": {
               "duration": 0,
               "redraw": false
              },
              "fromcurrent": true,
              "mode": "immediate",
              "transition": {
               "duration": 0,
               "easing": "linear"
              }
             }
            ],
            "label": "114",
            "method": "animate"
           },
           {
            "args": [
             [
              "115"
             ],
             {
              "frame": {
               "duration": 0,
               "redraw": false
              },
              "fromcurrent": true,
              "mode": "immediate",
              "transition": {
               "duration": 0,
               "easing": "linear"
              }
             }
            ],
            "label": "115",
            "method": "animate"
           },
           {
            "args": [
             [
              "116"
             ],
             {
              "frame": {
               "duration": 0,
               "redraw": false
              },
              "fromcurrent": true,
              "mode": "immediate",
              "transition": {
               "duration": 0,
               "easing": "linear"
              }
             }
            ],
            "label": "116",
            "method": "animate"
           },
           {
            "args": [
             [
              "117"
             ],
             {
              "frame": {
               "duration": 0,
               "redraw": false
              },
              "fromcurrent": true,
              "mode": "immediate",
              "transition": {
               "duration": 0,
               "easing": "linear"
              }
             }
            ],
            "label": "117",
            "method": "animate"
           },
           {
            "args": [
             [
              "118"
             ],
             {
              "frame": {
               "duration": 0,
               "redraw": false
              },
              "fromcurrent": true,
              "mode": "immediate",
              "transition": {
               "duration": 0,
               "easing": "linear"
              }
             }
            ],
            "label": "118",
            "method": "animate"
           }
          ],
          "x": 0.1,
          "xanchor": "left",
          "y": 0,
          "yanchor": "top"
         }
        ],
        "template": {
         "data": {
          "bar": [
           {
            "error_x": {
             "color": "#2a3f5f"
            },
            "error_y": {
             "color": "#2a3f5f"
            },
            "marker": {
             "line": {
              "color": "#E5ECF6",
              "width": 0.5
             },
             "pattern": {
              "fillmode": "overlay",
              "size": 10,
              "solidity": 0.2
             }
            },
            "type": "bar"
           }
          ],
          "barpolar": [
           {
            "marker": {
             "line": {
              "color": "#E5ECF6",
              "width": 0.5
             },
             "pattern": {
              "fillmode": "overlay",
              "size": 10,
              "solidity": 0.2
             }
            },
            "type": "barpolar"
           }
          ],
          "carpet": [
           {
            "aaxis": {
             "endlinecolor": "#2a3f5f",
             "gridcolor": "white",
             "linecolor": "white",
             "minorgridcolor": "white",
             "startlinecolor": "#2a3f5f"
            },
            "baxis": {
             "endlinecolor": "#2a3f5f",
             "gridcolor": "white",
             "linecolor": "white",
             "minorgridcolor": "white",
             "startlinecolor": "#2a3f5f"
            },
            "type": "carpet"
           }
          ],
          "choropleth": [
           {
            "colorbar": {
             "outlinewidth": 0,
             "ticks": ""
            },
            "type": "choropleth"
           }
          ],
          "contour": [
           {
            "colorbar": {
             "outlinewidth": 0,
             "ticks": ""
            },
            "colorscale": [
             [
              0,
              "#0d0887"
             ],
             [
              0.1111111111111111,
              "#46039f"
             ],
             [
              0.2222222222222222,
              "#7201a8"
             ],
             [
              0.3333333333333333,
              "#9c179e"
             ],
             [
              0.4444444444444444,
              "#bd3786"
             ],
             [
              0.5555555555555556,
              "#d8576b"
             ],
             [
              0.6666666666666666,
              "#ed7953"
             ],
             [
              0.7777777777777778,
              "#fb9f3a"
             ],
             [
              0.8888888888888888,
              "#fdca26"
             ],
             [
              1,
              "#f0f921"
             ]
            ],
            "type": "contour"
           }
          ],
          "contourcarpet": [
           {
            "colorbar": {
             "outlinewidth": 0,
             "ticks": ""
            },
            "type": "contourcarpet"
           }
          ],
          "heatmap": [
           {
            "colorbar": {
             "outlinewidth": 0,
             "ticks": ""
            },
            "colorscale": [
             [
              0,
              "#0d0887"
             ],
             [
              0.1111111111111111,
              "#46039f"
             ],
             [
              0.2222222222222222,
              "#7201a8"
             ],
             [
              0.3333333333333333,
              "#9c179e"
             ],
             [
              0.4444444444444444,
              "#bd3786"
             ],
             [
              0.5555555555555556,
              "#d8576b"
             ],
             [
              0.6666666666666666,
              "#ed7953"
             ],
             [
              0.7777777777777778,
              "#fb9f3a"
             ],
             [
              0.8888888888888888,
              "#fdca26"
             ],
             [
              1,
              "#f0f921"
             ]
            ],
            "type": "heatmap"
           }
          ],
          "heatmapgl": [
           {
            "colorbar": {
             "outlinewidth": 0,
             "ticks": ""
            },
            "colorscale": [
             [
              0,
              "#0d0887"
             ],
             [
              0.1111111111111111,
              "#46039f"
             ],
             [
              0.2222222222222222,
              "#7201a8"
             ],
             [
              0.3333333333333333,
              "#9c179e"
             ],
             [
              0.4444444444444444,
              "#bd3786"
             ],
             [
              0.5555555555555556,
              "#d8576b"
             ],
             [
              0.6666666666666666,
              "#ed7953"
             ],
             [
              0.7777777777777778,
              "#fb9f3a"
             ],
             [
              0.8888888888888888,
              "#fdca26"
             ],
             [
              1,
              "#f0f921"
             ]
            ],
            "type": "heatmapgl"
           }
          ],
          "histogram": [
           {
            "marker": {
             "pattern": {
              "fillmode": "overlay",
              "size": 10,
              "solidity": 0.2
             }
            },
            "type": "histogram"
           }
          ],
          "histogram2d": [
           {
            "colorbar": {
             "outlinewidth": 0,
             "ticks": ""
            },
            "colorscale": [
             [
              0,
              "#0d0887"
             ],
             [
              0.1111111111111111,
              "#46039f"
             ],
             [
              0.2222222222222222,
              "#7201a8"
             ],
             [
              0.3333333333333333,
              "#9c179e"
             ],
             [
              0.4444444444444444,
              "#bd3786"
             ],
             [
              0.5555555555555556,
              "#d8576b"
             ],
             [
              0.6666666666666666,
              "#ed7953"
             ],
             [
              0.7777777777777778,
              "#fb9f3a"
             ],
             [
              0.8888888888888888,
              "#fdca26"
             ],
             [
              1,
              "#f0f921"
             ]
            ],
            "type": "histogram2d"
           }
          ],
          "histogram2dcontour": [
           {
            "colorbar": {
             "outlinewidth": 0,
             "ticks": ""
            },
            "colorscale": [
             [
              0,
              "#0d0887"
             ],
             [
              0.1111111111111111,
              "#46039f"
             ],
             [
              0.2222222222222222,
              "#7201a8"
             ],
             [
              0.3333333333333333,
              "#9c179e"
             ],
             [
              0.4444444444444444,
              "#bd3786"
             ],
             [
              0.5555555555555556,
              "#d8576b"
             ],
             [
              0.6666666666666666,
              "#ed7953"
             ],
             [
              0.7777777777777778,
              "#fb9f3a"
             ],
             [
              0.8888888888888888,
              "#fdca26"
             ],
             [
              1,
              "#f0f921"
             ]
            ],
            "type": "histogram2dcontour"
           }
          ],
          "mesh3d": [
           {
            "colorbar": {
             "outlinewidth": 0,
             "ticks": ""
            },
            "type": "mesh3d"
           }
          ],
          "parcoords": [
           {
            "line": {
             "colorbar": {
              "outlinewidth": 0,
              "ticks": ""
             }
            },
            "type": "parcoords"
           }
          ],
          "pie": [
           {
            "automargin": true,
            "type": "pie"
           }
          ],
          "scatter": [
           {
            "fillpattern": {
             "fillmode": "overlay",
             "size": 10,
             "solidity": 0.2
            },
            "type": "scatter"
           }
          ],
          "scatter3d": [
           {
            "line": {
             "colorbar": {
              "outlinewidth": 0,
              "ticks": ""
             }
            },
            "marker": {
             "colorbar": {
              "outlinewidth": 0,
              "ticks": ""
             }
            },
            "type": "scatter3d"
           }
          ],
          "scattercarpet": [
           {
            "marker": {
             "colorbar": {
              "outlinewidth": 0,
              "ticks": ""
             }
            },
            "type": "scattercarpet"
           }
          ],
          "scattergeo": [
           {
            "marker": {
             "colorbar": {
              "outlinewidth": 0,
              "ticks": ""
             }
            },
            "type": "scattergeo"
           }
          ],
          "scattergl": [
           {
            "marker": {
             "colorbar": {
              "outlinewidth": 0,
              "ticks": ""
             }
            },
            "type": "scattergl"
           }
          ],
          "scattermapbox": [
           {
            "marker": {
             "colorbar": {
              "outlinewidth": 0,
              "ticks": ""
             }
            },
            "type": "scattermapbox"
           }
          ],
          "scatterpolar": [
           {
            "marker": {
             "colorbar": {
              "outlinewidth": 0,
              "ticks": ""
             }
            },
            "type": "scatterpolar"
           }
          ],
          "scatterpolargl": [
           {
            "marker": {
             "colorbar": {
              "outlinewidth": 0,
              "ticks": ""
             }
            },
            "type": "scatterpolargl"
           }
          ],
          "scatterternary": [
           {
            "marker": {
             "colorbar": {
              "outlinewidth": 0,
              "ticks": ""
             }
            },
            "type": "scatterternary"
           }
          ],
          "surface": [
           {
            "colorbar": {
             "outlinewidth": 0,
             "ticks": ""
            },
            "colorscale": [
             [
              0,
              "#0d0887"
             ],
             [
              0.1111111111111111,
              "#46039f"
             ],
             [
              0.2222222222222222,
              "#7201a8"
             ],
             [
              0.3333333333333333,
              "#9c179e"
             ],
             [
              0.4444444444444444,
              "#bd3786"
             ],
             [
              0.5555555555555556,
              "#d8576b"
             ],
             [
              0.6666666666666666,
              "#ed7953"
             ],
             [
              0.7777777777777778,
              "#fb9f3a"
             ],
             [
              0.8888888888888888,
              "#fdca26"
             ],
             [
              1,
              "#f0f921"
             ]
            ],
            "type": "surface"
           }
          ],
          "table": [
           {
            "cells": {
             "fill": {
              "color": "#EBF0F8"
             },
             "line": {
              "color": "white"
             }
            },
            "header": {
             "fill": {
              "color": "#C8D4E3"
             },
             "line": {
              "color": "white"
             }
            },
            "type": "table"
           }
          ]
         },
         "layout": {
          "annotationdefaults": {
           "arrowcolor": "#2a3f5f",
           "arrowhead": 0,
           "arrowwidth": 1
          },
          "autotypenumbers": "strict",
          "coloraxis": {
           "colorbar": {
            "outlinewidth": 0,
            "ticks": ""
           }
          },
          "colorscale": {
           "diverging": [
            [
             0,
             "#8e0152"
            ],
            [
             0.1,
             "#c51b7d"
            ],
            [
             0.2,
             "#de77ae"
            ],
            [
             0.3,
             "#f1b6da"
            ],
            [
             0.4,
             "#fde0ef"
            ],
            [
             0.5,
             "#f7f7f7"
            ],
            [
             0.6,
             "#e6f5d0"
            ],
            [
             0.7,
             "#b8e186"
            ],
            [
             0.8,
             "#7fbc41"
            ],
            [
             0.9,
             "#4d9221"
            ],
            [
             1,
             "#276419"
            ]
           ],
           "sequential": [
            [
             0,
             "#0d0887"
            ],
            [
             0.1111111111111111,
             "#46039f"
            ],
            [
             0.2222222222222222,
             "#7201a8"
            ],
            [
             0.3333333333333333,
             "#9c179e"
            ],
            [
             0.4444444444444444,
             "#bd3786"
            ],
            [
             0.5555555555555556,
             "#d8576b"
            ],
            [
             0.6666666666666666,
             "#ed7953"
            ],
            [
             0.7777777777777778,
             "#fb9f3a"
            ],
            [
             0.8888888888888888,
             "#fdca26"
            ],
            [
             1,
             "#f0f921"
            ]
           ],
           "sequentialminus": [
            [
             0,
             "#0d0887"
            ],
            [
             0.1111111111111111,
             "#46039f"
            ],
            [
             0.2222222222222222,
             "#7201a8"
            ],
            [
             0.3333333333333333,
             "#9c179e"
            ],
            [
             0.4444444444444444,
             "#bd3786"
            ],
            [
             0.5555555555555556,
             "#d8576b"
            ],
            [
             0.6666666666666666,
             "#ed7953"
            ],
            [
             0.7777777777777778,
             "#fb9f3a"
            ],
            [
             0.8888888888888888,
             "#fdca26"
            ],
            [
             1,
             "#f0f921"
            ]
           ]
          },
          "colorway": [
           "#636efa",
           "#EF553B",
           "#00cc96",
           "#ab63fa",
           "#FFA15A",
           "#19d3f3",
           "#FF6692",
           "#B6E880",
           "#FF97FF",
           "#FECB52"
          ],
          "font": {
           "color": "#2a3f5f"
          },
          "geo": {
           "bgcolor": "white",
           "lakecolor": "white",
           "landcolor": "#E5ECF6",
           "showlakes": true,
           "showland": true,
           "subunitcolor": "white"
          },
          "hoverlabel": {
           "align": "left"
          },
          "hovermode": "closest",
          "mapbox": {
           "style": "light"
          },
          "paper_bgcolor": "white",
          "plot_bgcolor": "#E5ECF6",
          "polar": {
           "angularaxis": {
            "gridcolor": "white",
            "linecolor": "white",
            "ticks": ""
           },
           "bgcolor": "#E5ECF6",
           "radialaxis": {
            "gridcolor": "white",
            "linecolor": "white",
            "ticks": ""
           }
          },
          "scene": {
           "xaxis": {
            "backgroundcolor": "#E5ECF6",
            "gridcolor": "white",
            "gridwidth": 2,
            "linecolor": "white",
            "showbackground": true,
            "ticks": "",
            "zerolinecolor": "white"
           },
           "yaxis": {
            "backgroundcolor": "#E5ECF6",
            "gridcolor": "white",
            "gridwidth": 2,
            "linecolor": "white",
            "showbackground": true,
            "ticks": "",
            "zerolinecolor": "white"
           },
           "zaxis": {
            "backgroundcolor": "#E5ECF6",
            "gridcolor": "white",
            "gridwidth": 2,
            "linecolor": "white",
            "showbackground": true,
            "ticks": "",
            "zerolinecolor": "white"
           }
          },
          "shapedefaults": {
           "line": {
            "color": "#2a3f5f"
           }
          },
          "ternary": {
           "aaxis": {
            "gridcolor": "white",
            "linecolor": "white",
            "ticks": ""
           },
           "baxis": {
            "gridcolor": "white",
            "linecolor": "white",
            "ticks": ""
           },
           "bgcolor": "#E5ECF6",
           "caxis": {
            "gridcolor": "white",
            "linecolor": "white",
            "ticks": ""
           }
          },
          "title": {
           "x": 0.05
          },
          "xaxis": {
           "automargin": true,
           "gridcolor": "white",
           "linecolor": "white",
           "ticks": "",
           "title": {
            "standoff": 15
           },
           "zerolinecolor": "white",
           "zerolinewidth": 2
          },
          "yaxis": {
           "automargin": true,
           "gridcolor": "white",
           "linecolor": "white",
           "ticks": "",
           "title": {
            "standoff": 15
           },
           "zerolinecolor": "white",
           "zerolinewidth": 2
          }
         }
        },
        "updatemenus": [
         {
          "buttons": [
           {
            "args": [
             null,
             {
              "frame": {
               "duration": 500,
               "redraw": false
              },
              "fromcurrent": true,
              "mode": "immediate",
              "transition": {
               "duration": 500,
               "easing": "linear"
              }
             }
            ],
            "label": "&#9654;",
            "method": "animate"
           },
           {
            "args": [
             [
              null
             ],
             {
              "frame": {
               "duration": 0,
               "redraw": false
              },
              "fromcurrent": true,
              "mode": "immediate",
              "transition": {
               "duration": 0,
               "easing": "linear"
              }
             }
            ],
            "label": "&#9724;",
            "method": "animate"
           }
          ],
          "direction": "left",
          "pad": {
           "r": 10,
           "t": 70
          },
          "showactive": false,
          "type": "buttons",
          "x": 0.1,
          "xanchor": "right",
          "y": 0,
          "yanchor": "top"
         }
        ],
        "xaxis": {
         "anchor": "y",
         "domain": [
          0,
          1
         ],
         "range": [
          0,
          200
         ],
         "title": {
          "text": "Neutron Number [N]"
         }
        },
        "yaxis": {
         "anchor": "x",
         "domain": [
          0,
          1
         ],
         "range": [
          -10000,
          0
         ],
         "title": {
          "text": "Deficit [MeV]"
         }
        }
       }
      }
     },
     "metadata": {},
     "output_type": "display_data"
    }
   ],
   "source": [
    "import matplotlib.pyplot as plt\n",
    "import numpy as np\n",
    "import pandas as pd\n",
    "import plotly.express as px\n",
    "import plotly.graph_objects as go\n",
    "# the service URL\n",
    "livechart = \"https://nds.iaea.org/relnsd/v0/data?\"\n",
    "import urllib.request\n",
    "def lc_pd_dataframe(url):\n",
    "    req = urllib.request.Request(url)\n",
    "    req.add_header('User-Agent', 'Mozilla/5.0 (X11; Ubuntu; Linux x86_64; rv:77.0) Gecko/20100101 Firefox/77.0')\n",
    "    return pd.read_csv(urllib.request.urlopen(req))\n",
    "df = lc_pd_dataframe(livechart + \"fields=ground_states&nuclides=all\")\n",
    "df[\"a\"]=df[\"z\"] + df[\"n\"]\n",
    "df[\"b_over_a\"] = df[\"binding\"]\n",
    "\n",
    "import plotly.express as px\n",
    "\n",
    "df[\"Proton Number [Z]\"] = df[\"z\"]\n",
    "df[\"Neutron Number [N]\"] = df[\"n\"]\n",
    "df[\"Deficit [MeV]\"] = -df[\"binding\"]/1000.0\n",
    "df[\"Odd Neutron\"] = df[\"n\"] % 2 == 1\n",
    "fig = px.scatter(\n",
    "    df,\n",
    "    x=\"Neutron Number [N]\",\n",
    "    y=\"Deficit [MeV]\", range_y=[-10.0,0.0], range_x=[0.0,200.0],\n",
    "    color='Odd Neutron',\n",
    "    animation_frame=\"Proton Number [Z]\", # Use animation_frame to specify which variable to measure for change\n",
    ")\n",
    "\n",
    "fig.add_traces(\n",
    "    list(px.line(df, x=\"Neutron Number [N]\", y=\"Deficit [MeV]\", animation_frame=\"Proton Number [Z]\" ).select_traces())\n",
    ")\n",
    "\n",
    "fig.show()\n",
    "\n",
    "\n"
   ]
  }
 ],
 "metadata": {
  "kernelspec": {
   "display_name": "Python 3 (ipykernel)",
   "language": "python",
   "name": "python3"
  },
  "language_info": {
   "codemirror_mode": {
    "name": "ipython",
    "version": 3
   },
   "file_extension": ".py",
   "mimetype": "text/x-python",
   "name": "python",
   "nbconvert_exporter": "python",
   "pygments_lexer": "ipython3",
   "version": "3.11.7"
  }
 },
 "nbformat": 4,
 "nbformat_minor": 5
}
