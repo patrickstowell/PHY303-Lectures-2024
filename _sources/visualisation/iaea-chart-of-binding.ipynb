{
 "cells": [
  {
   "cell_type": "markdown",
   "id": "2987fc1e",
   "metadata": {},
   "source": [
    "# Charts of Binding Energy \n",
    "\n",
    "The IAEA chart of nuclides datasets offer detailed nuclear properties like half-lives, decay modes, and energy levels, invaluable for research and applications in nuclear physics, medicine, and energy due to their comprehensive coverage and well validated datasets."
   ]
  },
  {
   "cell_type": "code",
   "execution_count": null,
   "id": "198076ce",
   "metadata": {
    "tags": [
     "remove-input"
    ]
   },
   "outputs": [],
   "source": [
    "print (\"Loading Jupyter STUFF\")\n",
    "\n",
    "import matplotlib.pyplot as plt\n",
    "import numpy as np\n",
    "import pandas as pd\n",
    "import plotly.express as px\n",
    "import plotly.graph_objects as go\n",
    "\n",
    "# the service URL\n",
    "livechart = \"https://nds.iaea.org/relnsd/v0/data?\"\n",
    "import urllib.request\n",
    "def lc_pd_dataframe(url):\n",
    "    req = urllib.request.Request(url)\n",
    "    req.add_header('User-Agent', 'Mozilla/5.0 (X11; Ubuntu; Linux x86_64; rv:77.0) Gecko/20100101 Firefox/77.0')\n",
    "    return pd.read_csv(urllib.request.urlopen(req))\n",
    "df = lc_pd_dataframe(livechart + \"fields=ground_states&nuclides=all\")\n",
    "df[\"a\"]=df[\"z\"] + df[\"n\"]\n",
    "df[\"b_over_a\"] = df[\"binding\"]\n",
    "\n",
    "import plotly.express as px\n",
    "\n",
    "df[\"Atomic Number [A]\"] = df[\"z\"]  + df[\"a\"]\n",
    "df[\"Proton Number [Z]\"] = df[\"z\"]\n",
    "df[\"Neutron Number [N]\"] = df[\"n\"]\n",
    "df[\"Binding Energy [MeV]\"] = df[\"binding\"] / 1000.0\n",
    "df[\"Symbol\"] = df[\"symbol\"] \n",
    "df[\"Dominant Decay\"] = df[\"decay_1\"] \n",
    "\n",
    "fig = px.scatter(df, x=\"Neutron Number [N]\",y=\"Proton Number [Z]\", color=\"Binding Energy [MeV]\", hover_data=[\"Symbol\",\"Neutron Number [N]\",\"Proton Number [Z]\",\"Binding Energy [MeV]\", \"Dominant Decay\"])\n",
    "fig.show(renderer=\"iframe\")\n",
    "\n",
    "def volume(A):\n",
    "    return 15.56 * A\n",
    "\n",
    "def surface(A):\n",
    "    return -17.23 * A**(2.0/3.0)\n",
    "\n",
    "def coulomb(A,Z):\n",
    "    return -0.72*Z*(Z-1) / A**(1.0/3.0)\n",
    "\n",
    "def assym(A,Z):\n",
    "    p_aa = 93.14\n",
    "    B_a=-p_aa*(Z-A/2)**2/A\n",
    "    return B_a\n",
    "\n",
    "def pair(A,Z):\n",
    "    p_ap=12.0\n",
    "    B_p=-p_ap/A**(1/2) \n",
    "    N=A-Z\n",
    "    \n",
    "    CV = np.array(Z%2 + N%2)\n",
    "    B_p = np.array(B_p)\n",
    "    B_p[ CV == 1 ] = -B_p[ CV == 1 ]\n",
    "    B_p[ CV == 0 ] = 0\n",
    "\n",
    "    return B_p\n",
    "\n",
    "df[\"semf\"] = (volume(df.a)+assym(df.a, df.z) + pair(df.a, df.z) + coulomb(df.a, Z=np.array(df.z)) + surface(df.a))/df.a/1E-3\n",
    "df[\"LDM Ratio\"] = df[\"semf\"] / df[\"binding\"]\n",
    "\n",
    "\n",
    "df.loc[df[\"LDM Ratio\"] < 0.975, \"LDM Ratio\"] = 0.975\n",
    "df.loc[df[\"LDM Ratio\"] > 1.025, \"LDM Ratio\"] = 1.025\n",
    "\n",
    "\n",
    "fig = px.scatter(df, x=\"Neutron Number [N]\",y=\"Proton Number [Z]\", color=\"LDM Ratio\", hover_data=[\"Symbol\",\"Neutron Number [N]\",\"Proton Number [Z]\",\"Binding Energy [MeV]\", \"Dominant Decay\"])\n",
    "fig.show()\n",
    "\n",
    "\n",
    "#df[\"Proton/Neutron Ratio\"] = df[\"n\"]/df[\"z\"]\n",
    "#fig = px.scatter(df, x=\"Atomic Number [A]\",y=\"Binding Energy [MeV]\", color=\"Proton/Neutron Ratio\", hover_data=[\"Symbol\",\"Neutron Number [N]\",\"Proton Number [Z]\",\"Binding Energy [MeV]\", \"Dominant Decay\"])\n",
    "# fig.show()\n"
   ]
  },
  {
   "cell_type": "markdown",
   "id": "d81e6730",
   "metadata": {},
   "source": [
    "```{raw} html\n",
    ":file: figures/my-plot.html\n",
    "```"
   ]
  }
 ],
 "metadata": {
  "kernelspec": {
   "display_name": "Python 3 (ipykernel)",
   "language": "python",
   "name": "python3"
  },
  "language_info": {
   "codemirror_mode": {
    "name": "ipython",
    "version": 3
   },
   "file_extension": ".py",
   "mimetype": "text/x-python",
   "name": "python",
   "nbconvert_exporter": "python",
   "pygments_lexer": "ipython3",
   "version": "3.11.9"
  }
 },
 "nbformat": 4,
 "nbformat_minor": 5
}
