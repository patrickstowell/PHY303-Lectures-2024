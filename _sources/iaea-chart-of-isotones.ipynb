{
 "cells": [
  {
   "cell_type": "markdown",
   "id": "2987fc1e",
   "metadata": {},
   "source": [
    "## IAEA Chart of Isotones\n",
    "\n",
    "The IAEA chart of nuclides datasets offer detailed nuclear properties like half-lives, decay modes, and energy levels, invaluable for research and applications in nuclear physics, medicine, and energy due to their comprehensive coverage and well validated datasets."
   ]
  },
  {
   "cell_type": "code",
   "execution_count": 8,
   "id": "198076ce",
   "metadata": {
    "tags": [
     "remove-inputt",
     "remove-input",
     "hide_cell"
    ]
   },
   "outputs": [
    {
     "data": {
      "application/vnd.plotly.v1+json": {
       "config": {
        "plotlyServerURL": "https://plot.ly"
       },
       "data": [
        {
         "hovertemplate": "Odd Proton=False<br>Neutron Number [N]=1<br>Proton Number [Z]=%{x}<br>Deficit [MeV]=%{y}<extra></extra>",
         "legendgroup": "False",
         "marker": {
          "color": "#636efa",
          "symbol": "circle"
         },
         "mode": "markers",
         "name": "False",
         "orientation": "v",
         "showlegend": true,
         "type": "scatter",
         "x": [
          0,
          2
         ],
         "xaxis": "x",
         "y": [
          0,
          -2.57268044
         ],
         "yaxis": "y"
        },
        {
         "hovertemplate": "Odd Proton=True<br>Neutron Number [N]=1<br>Proton Number [Z]=%{x}<br>Deficit [MeV]=%{y}<extra></extra>",
         "legendgroup": "True",
         "marker": {
          "color": "#EF553B",
          "symbol": "circle"
         },
         "mode": "markers",
         "name": "True",
         "orientation": "v",
         "showlegend": true,
         "type": "scatter",
         "x": [
          1,
          3
         ],
         "xaxis": "x",
         "y": [
          -1.1122831000000002,
          -1.1537602999999998
         ],
         "yaxis": "y"
        }
       ],
       "frames": [
        {
         "data": [
          {
           "hovertemplate": "Odd Proton=False<br>Neutron Number [N]=1<br>Proton Number [Z]=%{x}<br>Deficit [MeV]=%{y}<extra></extra>",
           "legendgroup": "False",
           "marker": {
            "color": "#636efa",
            "symbol": "circle"
           },
           "mode": "markers",
           "name": "False",
           "orientation": "v",
           "showlegend": true,
           "type": "scatter",
           "x": [
            0,
            2
           ],
           "xaxis": "x",
           "y": [
            0,
            -2.57268044
           ],
           "yaxis": "y"
          },
          {
           "hovertemplate": "Odd Proton=True<br>Neutron Number [N]=1<br>Proton Number [Z]=%{x}<br>Deficit [MeV]=%{y}<extra></extra>",
           "legendgroup": "True",
           "marker": {
            "color": "#EF553B",
            "symbol": "circle"
           },
           "mode": "markers",
           "name": "True",
           "orientation": "v",
           "showlegend": true,
           "type": "scatter",
           "x": [
            1,
            3
           ],
           "xaxis": "x",
           "y": [
            -1.1122831000000002,
            -1.1537602999999998
           ],
           "yaxis": "y"
          }
         ],
         "name": "1"
        },
        {
         "data": [
          {
           "hovertemplate": "Odd Proton=False<br>Neutron Number [N]=4<br>Proton Number [Z]=%{x}<br>Deficit [MeV]=%{y}<extra></extra>",
           "legendgroup": "False",
           "marker": {
            "color": "#636efa",
            "symbol": "circle"
           },
           "mode": "markers",
           "name": "False",
           "orientation": "v",
           "showlegend": true,
           "type": "scatter",
           "x": [
            0,
            2,
            4,
            6,
            8
           ],
           "xaxis": "x",
           "y": [
            null,
            -4.878519900000001,
            -7.0624356,
            -6.0320426,
            -4.881975499999999
           ],
           "yaxis": "y"
          },
          {
           "hovertemplate": "Odd Proton=True<br>Neutron Number [N]=4<br>Proton Number [Z]=%{x}<br>Deficit [MeV]=%{y}<extra></extra>",
           "legendgroup": "True",
           "marker": {
            "color": "#EF553B",
            "symbol": "circle"
           },
           "mode": "markers",
           "name": "True",
           "orientation": "v",
           "showlegend": true,
           "type": "scatter",
           "x": [
            1,
            3,
            5,
            7,
            9
           ],
           "xaxis": "x",
           "y": [
            -1.3363592000000002,
            -5.6064400999999995,
            -6.2570713,
            -5.3584023,
            -4.297
           ],
           "yaxis": "y"
          }
         ],
         "name": "4"
        },
        {
         "data": [
          {
           "hovertemplate": "Odd Proton=False<br>Neutron Number [N]=6<br>Proton Number [Z]=%{x}<br>Deficit [MeV]=%{y}<extra></extra>",
           "legendgroup": "False",
           "marker": {
            "color": "#636efa",
            "symbol": "circle"
           },
           "mode": "markers",
           "name": "False",
           "orientation": "v",
           "showlegend": true,
           "type": "scatter",
           "x": [
            0,
            2,
            4,
            6,
            8,
            10,
            12
           ],
           "xaxis": "x",
           "y": [
            null,
            -3.9245210000000004,
            -6.497630600000001,
            -7.680144599999999,
            -7.0522783,
            -6.0831777,
            null
           ],
           "yaxis": "y"
          },
          {
           "hovertemplate": "Odd Proton=True<br>Neutron Number [N]=6<br>Proton Number [Z]=%{x}<br>Deficit [MeV]=%{y}<extra></extra>",
           "legendgroup": "True",
           "marker": {
            "color": "#EF553B",
            "symbol": "circle"
           },
           "mode": "markers",
           "name": "True",
           "orientation": "v",
           "showlegend": true,
           "type": "scatter",
           "x": [
            1,
            3,
            5,
            7,
            9,
            11
           ],
           "xaxis": "x",
           "y": [
            -0.94,
            -5.0377685,
            -6.9277323,
            -7.2388634000000005,
            -6.4974597,
            -5.5227653
           ],
           "yaxis": "y"
          }
         ],
         "name": "6"
        },
        {
         "data": [
          {
           "hovertemplate": "Odd Proton=True<br>Neutron Number [N]=0<br>Proton Number [Z]=%{x}<br>Deficit [MeV]=%{y}<extra></extra>",
           "legendgroup": "True",
           "marker": {
            "color": "#EF553B",
            "symbol": "circle"
           },
           "mode": "markers",
           "name": "True",
           "orientation": "v",
           "showlegend": true,
           "type": "scatter",
           "x": [
            1
           ],
           "xaxis": "x",
           "y": [
            0
           ],
           "yaxis": "y"
          }
         ],
         "name": "0"
        },
        {
         "data": [
          {
           "hovertemplate": "Odd Proton=False<br>Neutron Number [N]=2<br>Proton Number [Z]=%{x}<br>Deficit [MeV]=%{y}<extra></extra>",
           "legendgroup": "False",
           "marker": {
            "color": "#636efa",
            "symbol": "circle"
           },
           "mode": "markers",
           "name": "False",
           "orientation": "v",
           "showlegend": true,
           "type": "scatter",
           "x": [
            2,
            4,
            6
           ],
           "xaxis": "x",
           "y": [
            -7.0739156,
            -4.4872478000000005,
            -3.1015241999999996
           ],
           "yaxis": "y"
          },
          {
           "hovertemplate": "Odd Proton=True<br>Neutron Number [N]=2<br>Proton Number [Z]=%{x}<br>Deficit [MeV]=%{y}<extra></extra>",
           "legendgroup": "True",
           "marker": {
            "color": "#EF553B",
            "symbol": "circle"
           },
           "mode": "markers",
           "name": "True",
           "orientation": "v",
           "showlegend": true,
           "type": "scatter",
           "x": [
            1,
            3,
            5
           ],
           "xaxis": "x",
           "y": [
            -2.8272654000000004,
            -5.266132499999999,
            -3.5587055
           ],
           "yaxis": "y"
          }
         ],
         "name": "2"
        },
        {
         "data": [
          {
           "hovertemplate": "Odd Proton=False<br>Neutron Number [N]=3<br>Proton Number [Z]=%{x}<br>Deficit [MeV]=%{y}<extra></extra>",
           "legendgroup": "False",
           "marker": {
            "color": "#636efa",
            "symbol": "circle"
           },
           "mode": "markers",
           "name": "False",
           "orientation": "v",
           "showlegend": true,
           "type": "scatter",
           "x": [
            2,
            4,
            6,
            8
           ],
           "xaxis": "x",
           "y": [
            -5.5121325,
            -5.3715487,
            -4.3374233,
            -3.1624372
           ],
           "yaxis": "y"
          },
          {
           "hovertemplate": "Odd Proton=True<br>Neutron Number [N]=3<br>Proton Number [Z]=%{x}<br>Deficit [MeV]=%{y}<extra></extra>",
           "legendgroup": "True",
           "marker": {
            "color": "#EF553B",
            "symbol": "circle"
           },
           "mode": "markers",
           "name": "True",
           "orientation": "v",
           "showlegend": true,
           "type": "scatter",
           "x": [
            1,
            3,
            5,
            7
           ],
           "xaxis": "x",
           "y": [
            -1.7204491,
            -5.3323312,
            -4.7171551,
            -3.6436724
           ],
           "yaxis": "y"
          }
         ],
         "name": "3"
        },
        {
         "data": [
          {
           "hovertemplate": "Odd Proton=False<br>Neutron Number [N]=5<br>Proton Number [Z]=%{x}<br>Deficit [MeV]=%{y}<extra></extra>",
           "legendgroup": "False",
           "marker": {
            "color": "#636efa",
            "symbol": "circle"
           },
           "mode": "markers",
           "name": "False",
           "orientation": "v",
           "showlegend": true,
           "type": "scatter",
           "x": [
            2,
            4,
            6,
            8,
            10
           ],
           "xaxis": "x",
           "y": [
            -4.1230578,
            -6.4626693,
            -6.6764563,
            -5.8117636,
            -4.8687285000000005
           ],
           "yaxis": "y"
          },
          {
           "hovertemplate": "Odd Proton=True<br>Neutron Number [N]=5<br>Proton Number [Z]=%{x}<br>Deficit [MeV]=%{y}<extra></extra>",
           "legendgroup": "True",
           "marker": {
            "color": "#EF553B",
            "symbol": "circle"
           },
           "mode": "markers",
           "name": "True",
           "orientation": "v",
           "showlegend": true,
           "type": "scatter",
           "x": [
            1,
            3,
            5,
            7,
            9
           ],
           "xaxis": "x",
           "y": [
            -0.9616395,
            -5.1597124,
            -6.475083499999999,
            -6.170109999999999,
            -5.2852091
           ],
           "yaxis": "y"
          }
         ],
         "name": "5"
        },
        {
         "data": [
          {
           "hovertemplate": "Odd Proton=False<br>Neutron Number [N]=7<br>Proton Number [Z]=%{x}<br>Deficit [MeV]=%{y}<extra></extra>",
           "legendgroup": "False",
           "marker": {
            "color": "#636efa",
            "symbol": "circle"
           },
           "mode": "markers",
           "name": "False",
           "orientation": "v",
           "showlegend": true,
           "type": "scatter",
           "x": [
            2,
            4,
            6,
            8,
            10,
            12
           ],
           "xaxis": "x",
           "y": [
            -3.349038,
            -5.9525402000000005,
            -7.4698495000000005,
            -7.4636914999999995,
            -6.6404991,
            -5.9014992
           ],
           "yaxis": "y"
          },
          {
           "hovertemplate": "Odd Proton=True<br>Neutron Number [N]=7<br>Proton Number [Z]=%{x}<br>Deficit [MeV]=%{y}<extra></extra>",
           "legendgroup": "True",
           "marker": {
            "color": "#EF553B",
            "symbol": "circle"
           },
           "mode": "markers",
           "name": "True",
           "orientation": "v",
           "showlegend": true,
           "type": "scatter",
           "x": [
            3,
            5,
            7,
            9,
            11
           ],
           "xaxis": "x",
           "y": [
            -4.5313512000000005,
            -6.6312237,
            -7.475614800000001,
            -6.964049,
            -6.2022176
           ],
           "yaxis": "y"
          }
         ],
         "name": "7"
        },
        {
         "data": [
          {
           "hovertemplate": "Odd Proton=False<br>Neutron Number [N]=8<br>Proton Number [Z]=%{x}<br>Deficit [MeV]=%{y}<extra></extra>",
           "legendgroup": "False",
           "marker": {
            "color": "#636efa",
            "symbol": "circle"
           },
           "mode": "markers",
           "name": "False",
           "orientation": "v",
           "showlegend": true,
           "type": "scatter",
           "x": [
            2,
            4,
            6,
            8,
            10,
            12,
            14
           ],
           "xaxis": "x",
           "y": [
            -2.995134,
            -5.7207223,
            -7.5203198,
            -7.9762072,
            -7.3412577,
            -6.7280252,
            -6.044
           ],
           "yaxis": "y"
          },
          {
           "hovertemplate": "Odd Proton=True<br>Neutron Number [N]=8<br>Proton Number [Z]=%{x}<br>Deficit [MeV]=%{y}<extra></extra>",
           "legendgroup": "True",
           "marker": {
            "color": "#EF553B",
            "symbol": "circle"
           },
           "mode": "markers",
           "name": "True",
           "orientation": "v",
           "showlegend": true,
           "type": "scatter",
           "x": [
            3,
            5,
            7,
            9,
            11,
            13
           ],
           "xaxis": "x",
           "y": [
            -4.1553816999999995,
            -6.4964194,
            -7.6994603,
            -7.542328400000001,
            -6.9378864,
            -6.297
           ],
           "yaxis": "y"
          }
         ],
         "name": "8"
        },
        {
         "data": [
          {
           "hovertemplate": "Odd Proton=False<br>Neutron Number [N]=9<br>Proton Number [Z]=%{x}<br>Deficit [MeV]=%{y}<extra></extra>",
           "legendgroup": "False",
           "marker": {
            "color": "#636efa",
            "symbol": "circle"
           },
           "mode": "markers",
           "name": "False",
           "orientation": "v",
           "showlegend": true,
           "type": "scatter",
           "x": [
            4,
            6,
            8,
            10,
            12,
            14
           ],
           "xaxis": "x",
           "y": [
            -5.241435900000001,
            -7.1001696,
            -7.750729099999999,
            -7.5673431,
            -7.1050317,
            -6.554
           ],
           "yaxis": "y"
          },
          {
           "hovertemplate": "Odd Proton=True<br>Neutron Number [N]=9<br>Proton Number [Z]=%{x}<br>Deficit [MeV]=%{y}<extra></extra>",
           "legendgroup": "True",
           "marker": {
            "color": "#EF553B",
            "symbol": "circle"
           },
           "mode": "markers",
           "name": "True",
           "orientation": "v",
           "showlegend": true,
           "type": "scatter",
           "x": [
            3,
            5,
            7,
            9,
            11,
            13
           ],
           "xaxis": "x",
           "y": [
            -3.7915999,
            -6.1016451,
            -7.3737971,
            -7.6316383,
            -7.2985028000000005,
            -6.782
           ],
           "yaxis": "y"
          }
         ],
         "name": "9"
        },
        {
         "data": [
          {
           "hovertemplate": "Odd Proton=False<br>Neutron Number [N]=10<br>Proton Number [Z]=%{x}<br>Deficit [MeV]=%{y}<extra></extra>",
           "legendgroup": "False",
           "marker": {
            "color": "#636efa",
            "symbol": "circle"
           },
           "mode": "markers",
           "name": "False",
           "orientation": "v",
           "showlegend": true,
           "type": "scatter",
           "x": [
            4,
            6,
            8,
            10,
            12,
            14,
            16
           ],
           "xaxis": "x",
           "y": [
            -4.9938972999999995,
            -6.9220546,
            -7.7670981,
            -8.0322412,
            -7.662764500000001,
            -7.1672329,
            -6.525
           ],
           "yaxis": "y"
          },
          {
           "hovertemplate": "Odd Proton=True<br>Neutron Number [N]=10<br>Proton Number [Z]=%{x}<br>Deficit [MeV]=%{y}<extra></extra>",
           "legendgroup": "True",
           "marker": {
            "color": "#EF553B",
            "symbol": "circle"
           },
           "mode": "markers",
           "name": "True",
           "orientation": "v",
           "showlegend": true,
           "type": "scatter",
           "x": [
            5,
            7,
            9,
            11,
            13,
            15
           ],
           "xaxis": "x",
           "y": [
            -5.8800438,
            -7.2862294,
            -7.7790192,
            -7.7655581,
            -7.3357275,
            -6.794
           ],
           "yaxis": "y"
          }
         ],
         "name": "10"
        },
        {
         "data": [
          {
           "hovertemplate": "Odd Proton=False<br>Neutron Number [N]=11<br>Proton Number [Z]=%{x}<br>Deficit [MeV]=%{y}<extra></extra>",
           "legendgroup": "False",
           "marker": {
            "color": "#636efa",
            "symbol": "circle"
           },
           "mode": "markers",
           "name": "False",
           "orientation": "v",
           "showlegend": true,
           "type": "scatter",
           "x": [
            4,
            6,
            8,
            10,
            12,
            14,
            16
           ],
           "xaxis": "x",
           "y": [
            -4.5409708,
            -6.5580262000000005,
            -7.5664952,
            -7.9717136,
            -7.901122900000001,
            -7.4801109,
            -6.96
           ],
           "yaxis": "y"
          },
          {
           "hovertemplate": "Odd Proton=True<br>Neutron Number [N]=11<br>Proton Number [Z]=%{x}<br>Deficit [MeV]=%{y}<extra></extra>",
           "legendgroup": "True",
           "marker": {
            "color": "#EF553B",
            "symbol": "circle"
           },
           "mode": "markers",
           "name": "True",
           "orientation": "v",
           "showlegend": true,
           "type": "scatter",
           "x": [
            5,
            7,
            9,
            11,
            13,
            15
           ],
           "xaxis": "x",
           "y": [
            -5.5073535,
            -7.038562700000001,
            -7.7201351,
            -7.9156624,
            -7.6495806,
            -7.198
           ],
           "yaxis": "y"
          }
         ],
         "name": "11"
        },
        {
         "data": [
          {
           "hovertemplate": "Odd Proton=False<br>Neutron Number [N]=12<br>Proton Number [Z]=%{x}<br>Deficit [MeV]=%{y}<extra></extra>",
           "legendgroup": "False",
           "marker": {
            "color": "#636efa",
            "symbol": "circle"
           },
           "mode": "markers",
           "name": "False",
           "orientation": "v",
           "showlegend": true,
           "type": "scatter",
           "x": [
            4,
            6,
            8,
            10,
            12,
            14,
            16,
            18
           ],
           "xaxis": "x",
           "y": [
            -4.2852851,
            -6.4261321,
            -7.5685707,
            -8.0804656,
            -8.260710300000001,
            -7.9247083,
            -7.4787911000000005,
            -6.866
           ],
           "yaxis": "y"
          },
          {
           "hovertemplate": "Odd Proton=True<br>Neutron Number [N]=12<br>Proton Number [Z]=%{x}<br>Deficit [MeV]=%{y}<extra></extra>",
           "legendgroup": "True",
           "marker": {
            "color": "#EF553B",
            "symbol": "circle"
           },
           "mode": "markers",
           "name": "True",
           "orientation": "v",
           "showlegend": true,
           "type": "scatter",
           "x": [
            5,
            7,
            9,
            11,
            13,
            15,
            17,
            19
           ],
           "xaxis": "x",
           "y": [
            -5.2696677,
            -6.9485452,
            -7.7382934,
            -8.1114936,
            -8.0211366,
            -7.6610894,
            -7.129,
            -6.487
           ],
           "yaxis": "y"
          }
         ],
         "name": "12"
        },
        {
         "data": [
          {
           "hovertemplate": "Odd Proton=False<br>Neutron Number [N]=13<br>Proton Number [Z]=%{x}<br>Deficit [MeV]=%{y}<extra></extra>",
           "legendgroup": "False",
           "marker": {
            "color": "#636efa",
            "symbol": "circle"
           },
           "mode": "markers",
           "name": "False",
           "orientation": "v",
           "showlegend": true,
           "type": "scatter",
           "x": [
            6,
            8,
            10,
            12,
            14,
            16,
            18
           ],
           "xaxis": "x",
           "y": [
            -6.118274,
            -7.3893747,
            -7.9552561,
            -8.2235028,
            -8.124342,
            -7.7463826,
            -7.252
           ],
           "yaxis": "y"
          },
          {
           "hovertemplate": "Odd Proton=True<br>Neutron Number [N]=13<br>Proton Number [Z]=%{x}<br>Deficit [MeV]=%{y}<extra></extra>",
           "legendgroup": "True",
           "marker": {
            "color": "#EF553B",
            "symbol": "circle"
           },
           "mode": "markers",
           "name": "True",
           "orientation": "v",
           "showlegend": true,
           "type": "scatter",
           "x": [
            5,
            7,
            9,
            11,
            13,
            15,
            17
           ],
           "xaxis": "x",
           "y": [
            -4.9766306,
            -6.7091717,
            -7.6242954,
            -8.0634882,
            -8.1497653,
            -7.9074842,
            -7.4721698
           ],
           "yaxis": "y"
          }
         ],
         "name": "13"
        },
        {
         "data": [
          {
           "hovertemplate": "Odd Proton=False<br>Neutron Number [N]=14<br>Proton Number [Z]=%{x}<br>Deficit [MeV]=%{y}<extra></extra>",
           "legendgroup": "False",
           "marker": {
            "color": "#636efa",
            "symbol": "circle"
           },
           "mode": "markers",
           "name": "False",
           "orientation": "v",
           "showlegend": true,
           "type": "scatter",
           "x": [
            6,
            8,
            10,
            12,
            14,
            16,
            18,
            20
           ],
           "xaxis": "x",
           "y": [
            -5.9614356,
            -7.3648722,
            -7.9933252,
            -8.3338711,
            -8.4477445,
            -8.1227081,
            -7.700008899999999,
            -7.173
           ],
           "yaxis": "y"
          },
          {
           "hovertemplate": "Odd Proton=True<br>Neutron Number [N]=14<br>Proton Number [Z]=%{x}<br>Deficit [MeV]=%{y}<extra></extra>",
           "legendgroup": "True",
           "marker": {
            "color": "#EF553B",
            "symbol": "circle"
           },
           "mode": "markers",
           "name": "True",
           "orientation": "v",
           "showlegend": true,
           "type": "scatter",
           "x": [
            5,
            7,
            9,
            11,
            13,
            15,
            17,
            19
           ],
           "xaxis": "x",
           "y": [
            -4.7196346,
            -6.6090159,
            -7.622344699999999,
            -8.1013979,
            -8.3315533,
            -8.251236800000001,
            -7.8692101,
            -7.392
           ],
           "yaxis": "y"
          }
         ],
         "name": "14"
        },
        {
         "data": [
          {
           "hovertemplate": "Odd Proton=False<br>Neutron Number [N]=15<br>Proton Number [Z]=%{x}<br>Deficit [MeV]=%{y}<extra></extra>",
           "legendgroup": "False",
           "marker": {
            "color": "#636efa",
            "symbol": "circle"
           },
           "mode": "markers",
           "name": "False",
           "orientation": "v",
           "showlegend": true,
           "type": "scatter",
           "x": [
            8,
            10,
            12,
            14,
            16,
            18,
            20
           ],
           "xaxis": "x",
           "y": [
            -7.1634856,
            -7.8397993999999995,
            -8.2638525,
            -8.4486361,
            -8.2818013,
            -7.9289559,
            -7.476
           ],
           "yaxis": "y"
          },
          {
           "hovertemplate": "Odd Proton=True<br>Neutron Number [N]=15<br>Proton Number [Z]=%{x}<br>Deficit [MeV]=%{y}<extra></extra>",
           "legendgroup": "True",
           "marker": {
            "color": "#EF553B",
            "symbol": "circle"
           },
           "mode": "markers",
           "name": "True",
           "orientation": "v",
           "showlegend": true,
           "type": "scatter",
           "x": [
            5,
            7,
            9,
            11,
            13,
            15,
            17,
            19
           ],
           "xaxis": "x",
           "y": [
            -4.4056529,
            -6.3785347,
            -7.4635831,
            -8.0042013,
            -8.3098969,
            -8.3535064,
            -8.0724058,
            -7.67
           ],
           "yaxis": "y"
          }
         ],
         "name": "15"
        },
        {
         "data": [
          {
           "hovertemplate": "Odd Proton=False<br>Neutron Number [N]=16<br>Proton Number [Z]=%{x}<br>Deficit [MeV]=%{y}<extra></extra>",
           "legendgroup": "False",
           "marker": {
            "color": "#636efa",
            "symbol": "circle"
           },
           "mode": "markers",
           "name": "False",
           "orientation": "v",
           "showlegend": true,
           "type": "scatter",
           "x": [
            6,
            8,
            10,
            12,
            14,
            16,
            18,
            20,
            22
           ],
           "xaxis": "x",
           "y": [
            -5.4210778,
            -7.039685499999999,
            -7.751911,
            -8.2724531,
            -8.5206549,
            -8.4931301,
            -8.1976724,
            -7.8158799,
            -7.319
           ],
           "yaxis": "y"
          },
          {
           "hovertemplate": "Odd Proton=True<br>Neutron Number [N]=16<br>Proton Number [Z]=%{x}<br>Deficit [MeV]=%{y}<extra></extra>",
           "legendgroup": "True",
           "marker": {
            "color": "#EF553B",
            "symbol": "circle"
           },
           "mode": "markers",
           "name": "True",
           "orientation": "v",
           "showlegend": true,
           "type": "scatter",
           "x": [
            5,
            7,
            9,
            11,
            13,
            15,
            17,
            19
           ],
           "xaxis": "x",
           "y": [
            -4.1525265,
            -6.2366721,
            -7.3363065,
            -7.9569467000000005,
            -8.348464700000001,
            -8.4811677,
            -8.3047557,
            -7.9658409
           ],
           "yaxis": "y"
          }
         ],
         "name": "16"
        },
        {
         "data": [
          {
           "hovertemplate": "Odd Proton=False<br>Neutron Number [N]=17<br>Proton Number [Z]=%{x}<br>Deficit [MeV]=%{y}<extra></extra>",
           "legendgroup": "False",
           "marker": {
            "color": "#636efa",
            "symbol": "circle"
           },
           "mode": "markers",
           "name": "False",
           "orientation": "v",
           "showlegend": true,
           "type": "scatter",
           "x": [
            8,
            10,
            12,
            14,
            16,
            18,
            20,
            22
           ],
           "xaxis": "x",
           "y": [
            -6.7278058000000005,
            -7.5204151,
            -8.1135317,
            -8.4582916,
            -8.4976304,
            -8.3274621,
            -8.0034567,
            -7.566
           ],
           "yaxis": "y"
          },
          {
           "hovertemplate": "Odd Proton=True<br>Neutron Number [N]=17<br>Proton Number [Z]=%{x}<br>Deficit [MeV]=%{y}<extra></extra>",
           "legendgroup": "True",
           "marker": {
            "color": "#EF553B",
            "symbol": "circle"
           },
           "mode": "markers",
           "name": "True",
           "orientation": "v",
           "showlegend": true,
           "type": "scatter",
           "x": [
            7,
            9,
            11,
            13,
            15,
            17,
            19,
            21
           ],
           "xaxis": "x",
           "y": [
            -5.887,
            -7.0822497,
            -7.7992644,
            -8.2611049,
            -8.464120300000001,
            -8.3989706,
            -8.1422233,
            -7.751
           ],
           "yaxis": "y"
          }
         ],
         "name": "17"
        },
        {
         "data": [
          {
           "hovertemplate": "Odd Proton=False<br>Neutron Number [N]=18<br>Proton Number [Z]=%{x}<br>Deficit [MeV]=%{y}<extra></extra>",
           "legendgroup": "False",
           "marker": {
            "color": "#636efa",
            "symbol": "circle"
           },
           "mode": "markers",
           "name": "False",
           "orientation": "v",
           "showlegend": true,
           "type": "scatter",
           "x": [
            8,
            10,
            12,
            14,
            16,
            18,
            20,
            22,
            24
           ],
           "xaxis": "x",
           "y": [
            -6.497479,
            -7.3883463,
            -8.054425,
            -8.481468999999999,
            -8.5834986,
            -8.5199096,
            -8.240043400000001,
            -7.8658632,
            -7.456
           ],
           "yaxis": "y"
          },
          {
           "hovertemplate": "Odd Proton=True<br>Neutron Number [N]=18<br>Proton Number [Z]=%{x}<br>Deficit [MeV]=%{y}<extra></extra>",
           "legendgroup": "True",
           "marker": {
            "color": "#EF553B",
            "symbol": "circle"
           },
           "mode": "markers",
           "name": "True",
           "orientation": "v",
           "showlegend": true,
           "type": "scatter",
           "x": [
            9,
            11,
            13,
            15,
            17,
            19,
            21
           ],
           "xaxis": "x",
           "y": [
            -6.8796662,
            -7.682152200000001,
            -8.225518,
            -8.5138073,
            -8.520279,
            -8.339848,
            -8.013457500000001
           ],
           "yaxis": "y"
          }
         ],
         "name": "18"
        },
        {
         "data": [
          {
           "hovertemplate": "Odd Proton=False<br>Neutron Number [N]=19<br>Proton Number [Z]=%{x}<br>Deficit [MeV]=%{y}<extra></extra>",
           "legendgroup": "False",
           "marker": {
            "color": "#636efa",
            "symbol": "circle"
           },
           "mode": "markers",
           "name": "False",
           "orientation": "v",
           "showlegend": true,
           "type": "scatter",
           "x": [
            10,
            12,
            14,
            16,
            18,
            20,
            22,
            24,
            26
           ],
           "xaxis": "x",
           "y": [
            -7.167067299999999,
            -7.8691886,
            -8.3610596,
            -8.5378511,
            -8.527140600000001,
            -8.3696711,
            -8.0343889,
            -7.68,
            -7.299
           ],
           "yaxis": "y"
          },
          {
           "hovertemplate": "Odd Proton=True<br>Neutron Number [N]=19<br>Proton Number [Z]=%{x}<br>Deficit [MeV]=%{y}<extra></extra>",
           "legendgroup": "True",
           "marker": {
            "color": "#EF553B",
            "symbol": "circle"
           },
           "mode": "markers",
           "name": "True",
           "orientation": "v",
           "showlegend": true,
           "type": "scatter",
           "x": [
            9,
            11,
            13,
            15,
            17,
            19,
            21,
            23,
            25
           ],
           "xaxis": "x",
           "y": [
            -6.6268567,
            -7.5019685,
            -8.1003449,
            -8.4481856,
            -8.521932199999998,
            -8.4380593,
            -8.1736697,
            -7.824,
            -7.457
           ],
           "yaxis": "y"
          }
         ],
         "name": "19"
        },
        {
         "data": [
          {
           "hovertemplate": "Odd Proton=False<br>Neutron Number [N]=20<br>Proton Number [Z]=%{x}<br>Deficit [MeV]=%{y}<extra></extra>",
           "legendgroup": "False",
           "marker": {
            "color": "#636efa",
            "symbol": "circle"
           },
           "mode": "markers",
           "name": "False",
           "orientation": "v",
           "showlegend": true,
           "type": "scatter",
           "x": [
            10,
            12,
            14,
            16,
            18,
            20,
            22,
            24,
            26,
            28
           ],
           "xaxis": "x",
           "y": [
            -7.0345317,
            -7.8038411,
            -8.3371659,
            -8.575389999999999,
            -8.6142807,
            -8.5513046,
            -8.25924,
            -7.9496265,
            -7.603,
            -7.236
           ],
           "yaxis": "y"
          },
          {
           "hovertemplate": "Odd Proton=True<br>Neutron Number [N]=20<br>Proton Number [Z]=%{x}<br>Deficit [MeV]=%{y}<extra></extra>",
           "legendgroup": "True",
           "marker": {
            "color": "#EF553B",
            "symbol": "circle"
           },
           "mode": "markers",
           "name": "True",
           "orientation": "v",
           "showlegend": true,
           "type": "scatter",
           "x": [
            9,
            11,
            13,
            15,
            17,
            19,
            21,
            23,
            25
           ],
           "xaxis": "x",
           "y": [
            -6.4440314,
            -7.398677800000001,
            -8.0206172,
            -8.4462496,
            -8.5702816,
            -8.5570258,
            -8.3691979,
            -8.0695129,
            -7.747
           ],
           "yaxis": "y"
          }
         ],
         "name": "20"
        },
        {
         "data": [
          {
           "hovertemplate": "Odd Proton=False<br>Neutron Number [N]=21<br>Proton Number [Z]=%{x}<br>Deficit [MeV]=%{y}<extra></extra>",
           "legendgroup": "False",
           "marker": {
            "color": "#636efa",
            "symbol": "circle"
           },
           "mode": "markers",
           "name": "False",
           "orientation": "v",
           "showlegend": true,
           "type": "scatter",
           "x": [
            10,
            12,
            14,
            16,
            18,
            20,
            22,
            24,
            26,
            28
           ],
           "xaxis": "x",
           "y": [
            -6.8130901999999995,
            -7.6364382,
            -8.1695644,
            -8.459936299999999,
            -8.5625988,
            -8.5467075,
            -8.3528054,
            -8.0877286,
            -7.79,
            -7.45
           ],
           "yaxis": "y"
          },
          {
           "hovertemplate": "Odd Proton=True<br>Neutron Number [N]=21<br>Proton Number [Z]=%{x}<br>Deficit [MeV]=%{y}<extra></extra>",
           "legendgroup": "True",
           "marker": {
            "color": "#EF553B",
            "symbol": "circle"
           },
           "mode": "markers",
           "name": "True",
           "orientation": "v",
           "showlegend": true,
           "type": "scatter",
           "x": [
            9,
            11,
            13,
            15,
            17,
            19,
            21,
            23,
            25,
            27
           ],
           "xaxis": "x",
           "y": [
            -6.205,
            -7.2198815000000005,
            -7.860350599999999,
            -8.307869199999999,
            -8.5054817,
            -8.538090700000001,
            -8.4449303,
            -8.2034567,
            -7.9160805,
            -7.595
           ],
           "yaxis": "y"
          }
         ],
         "name": "21"
        },
        {
         "data": [
          {
           "hovertemplate": "Odd Proton=False<br>Neutron Number [N]=22<br>Proton Number [Z]=%{x}<br>Deficit [MeV]=%{y}<extra></extra>",
           "legendgroup": "False",
           "marker": {
            "color": "#636efa",
            "symbol": "circle"
           },
           "mode": "markers",
           "name": "False",
           "orientation": "v",
           "showlegend": true,
           "type": "scatter",
           "x": [
            10,
            12,
            14,
            16,
            18,
            20,
            22,
            24,
            26,
            28
           ],
           "xaxis": "x",
           "y": [
            -6.671,
            -7.550391899999999,
            -8.1125199,
            -8.4487829,
            -8.595259400000002,
            -8.6165646,
            -8.5335215,
            -8.3038233,
            -8.0227254,
            -7.702
           ],
           "yaxis": "y"
          },
          {
           "hovertemplate": "Odd Proton=True<br>Neutron Number [N]=22<br>Proton Number [Z]=%{x}<br>Deficit [MeV]=%{y}<extra></extra>",
           "legendgroup": "True",
           "marker": {
            "color": "#EF553B",
            "symbol": "circle"
           },
           "mode": "markers",
           "name": "True",
           "orientation": "v",
           "showlegend": true,
           "type": "scatter",
           "x": [
            9,
            11,
            13,
            15,
            17,
            19,
            21,
            23,
            25
           ],
           "xaxis": "x",
           "y": [
            -6.011,
            -7.0899262,
            -7.7871243,
            -8.2675561,
            -8.4944032,
            -8.5760731,
            -8.5308265,
            -8.3800394,
            -8.1353117
           ],
           "yaxis": "y"
          }
         ],
         "name": "22"
        },
        {
         "data": [
          {
           "hovertemplate": "Odd Proton=False<br>Neutron Number [N]=23<br>Proton Number [Z]=%{x}<br>Deficit [MeV]=%{y}<extra></extra>",
           "legendgroup": "False",
           "marker": {
            "color": "#636efa",
            "symbol": "circle"
           },
           "mode": "markers",
           "name": "False",
           "orientation": "v",
           "showlegend": true,
           "type": "scatter",
           "x": [
            10,
            12,
            14,
            16,
            18,
            20,
            22,
            24,
            26,
            28
           ],
           "xaxis": "x",
           "y": [
            -6.436,
            -7.3562338,
            -7.9529033,
            -8.3442698,
            -8.534373299999999,
            -8.600665300000001,
            -8.555732099999998,
            -8.407206700000001,
            -8.1613121,
            -7.87
           ],
           "yaxis": "y"
          },
          {
           "hovertemplate": "Odd Proton=True<br>Neutron Number [N]=23<br>Proton Number [Z]=%{x}<br>Deficit [MeV]=%{y}<extra></extra>",
           "legendgroup": "True",
           "marker": {
            "color": "#EF553B",
            "symbol": "circle"
           },
           "mode": "markers",
           "name": "True",
           "orientation": "v",
           "showlegend": true,
           "type": "scatter",
           "x": [
            11,
            13,
            15,
            17,
            19,
            21,
            23,
            25,
            27
           ],
           "xaxis": "x",
           "y": [
            -6.8864377,
            -7.6235154000000005,
            -8.147274900000001,
            -8.427766,
            -8.5512571,
            -8.557380499999999,
            -8.4861423,
            -8.2741924,
            -8.0006387
           ],
           "yaxis": "y"
          }
         ],
         "name": "23"
        },
        {
         "data": [
          {
           "hovertemplate": "Odd Proton=False<br>Neutron Number [N]=24<br>Proton Number [Z]=%{x}<br>Deficit [MeV]=%{y}<extra></extra>",
           "legendgroup": "False",
           "marker": {
            "color": "#636efa",
            "symbol": "circle"
           },
           "mode": "markers",
           "name": "False",
           "orientation": "v",
           "showlegend": true,
           "type": "scatter",
           "x": [
            10,
            12,
            14,
            16,
            18,
            20,
            22,
            24,
            26,
            28,
            30
           ],
           "xaxis": "x",
           "y": [
            -6.287,
            -7.2444201999999995,
            -7.8928297,
            -8.329325500000001,
            -8.555614100000001,
            -8.6581769,
            -8.6564623,
            -8.5722553,
            -8.3540268,
            -8.0838977,
            -7.742
           ],
           "yaxis": "y"
          },
          {
           "hovertemplate": "Odd Proton=True<br>Neutron Number [N]=24<br>Proton Number [Z]=%{x}<br>Deficit [MeV]=%{y}<extra></extra>",
           "legendgroup": "True",
           "marker": {
            "color": "#EF553B",
            "symbol": "circle"
           },
           "mode": "markers",
           "name": "True",
           "orientation": "v",
           "showlegend": true,
           "type": "scatter",
           "x": [
            11,
            13,
            15,
            17,
            19,
            21,
            23,
            25,
            27,
            29
           ],
           "xaxis": "x",
           "y": [
            -6.745,
            -7.5313159999999995,
            -8.0979701,
            -8.4129593,
            -8.5762204,
            -8.618941000000001,
            -8.5822348,
            -8.439915000000001,
            -8.1932549,
            -7.891
           ],
           "yaxis": "y"
          }
         ],
         "name": "24"
        },
        {
         "data": [
          {
           "hovertemplate": "Odd Proton=False<br>Neutron Number [N]=25<br>Proton Number [Z]=%{x}<br>Deficit [MeV]=%{y}<extra></extra>",
           "legendgroup": "False",
           "marker": {
            "color": "#636efa",
            "symbol": "circle"
           },
           "mode": "markers",
           "name": "False",
           "orientation": "v",
           "showlegend": true,
           "type": "scatter",
           "x": [
            12,
            14,
            16,
            18,
            20,
            22,
            24,
            26,
            28,
            30
           ],
           "xaxis": "x",
           "y": [
            -7.0551115,
            -7.7309792999999996,
            -8.2296358,
            -8.4882382,
            -8.6305467,
            -8.6612325,
            -8.613277700000001,
            -8.4604977,
            -8.2170749,
            -7.904
           ],
           "yaxis": "y"
          },
          {
           "hovertemplate": "Odd Proton=True<br>Neutron Number [N]=25<br>Proton Number [Z]=%{x}<br>Deficit [MeV]=%{y}<extra></extra>",
           "legendgroup": "True",
           "marker": {
            "color": "#EF553B",
            "symbol": "circle"
           },
           "mode": "markers",
           "name": "True",
           "orientation": "v",
           "showlegend": true,
           "type": "scatter",
           "x": [
            11,
            13,
            15,
            17,
            19,
            21,
            23,
            25,
            27,
            29
           ],
           "xaxis": "x",
           "y": [
            -6.557,
            -7.37,
            -7.9814177,
            -8.3458864,
            -8.546702300000002,
            -8.6220215,
            -8.6230686,
            -8.532682300000001,
            -8.325560600000001,
            -8.045
           ],
           "yaxis": "y"
          }
         ],
         "name": "25"
        },
        {
         "data": [
          {
           "hovertemplate": "Odd Proton=False<br>Neutron Number [N]=26<br>Proton Number [Z]=%{x}<br>Deficit [MeV]=%{y}<extra></extra>",
           "legendgroup": "False",
           "marker": {
            "color": "#636efa",
            "symbol": "circle"
           },
           "mode": "markers",
           "name": "False",
           "orientation": "v",
           "showlegend": true,
           "type": "scatter",
           "x": [
            12,
            14,
            16,
            18,
            20,
            22,
            24,
            26,
            28,
            30
           ],
           "xaxis": "x",
           "y": [
            -6.928,
            -7.6558247,
            -8.1932275,
            -8.4938411,
            -8.6689848,
            -8.7230122,
            -8.7010188,
            -8.6096079,
            -8.3930328,
            -8.106
           ],
           "yaxis": "y"
          },
          {
           "hovertemplate": "Odd Proton=True<br>Neutron Number [N]=26<br>Proton Number [Z]=%{x}<br>Deficit [MeV]=%{y}<extra></extra>",
           "legendgroup": "True",
           "marker": {
            "color": "#EF553B",
            "symbol": "circle"
           },
           "mode": "markers",
           "name": "True",
           "orientation": "v",
           "showlegend": true,
           "type": "scatter",
           "x": [
            11,
            13,
            15,
            17,
            19,
            21,
            23,
            25,
            27,
            29
           ],
           "xaxis": "x",
           "y": [
            -6.403,
            -7.26,
            -7.9065513,
            -8.3238672,
            -8.5546747,
            -8.6650958,
            -8.6829135,
            -8.633760200000001,
            -8.477657800000001,
            -8.233996999999999
           ],
           "yaxis": "y"
          }
         ],
         "name": "26"
        },
        {
         "data": [
          {
           "hovertemplate": "Odd Proton=False<br>Neutron Number [N]=27<br>Proton Number [Z]=%{x}<br>Deficit [MeV]=%{y}<extra></extra>",
           "legendgroup": "False",
           "marker": {
            "color": "#636efa",
            "symbol": "circle"
           },
           "mode": "markers",
           "name": "False",
           "orientation": "v",
           "showlegend": true,
           "type": "scatter",
           "x": [
            12,
            14,
            16,
            18,
            20,
            22,
            24,
            26,
            28,
            30,
            32
           ],
           "xaxis": "x",
           "y": [
            -6.734,
            -7.482,
            -8.0638276,
            -8.4199526,
            -8.6393548,
            -8.7111625,
            -8.7119923,
            -8.648798500000002,
            -8.497322500000001,
            -8.231,
            -7.924
           ],
           "yaxis": "y"
          },
          {
           "hovertemplate": "Odd Proton=True<br>Neutron Number [N]=27<br>Proton Number [Z]=%{x}<br>Deficit [MeV]=%{y}<extra></extra>",
           "legendgroup": "True",
           "marker": {
            "color": "#EF553B",
            "symbol": "circle"
           },
           "mode": "markers",
           "name": "True",
           "orientation": "v",
           "showlegend": true,
           "type": "scatter",
           "x": [
            13,
            15,
            17,
            19,
            21,
            23,
            25,
            27,
            29
           ],
           "xaxis": "x",
           "y": [
            -7.097,
            -7.7659122,
            -8.234478800000002,
            -8.5180428,
            -8.6562097,
            -8.6959032,
            -8.6704087,
            -8.5692199,
            -8.3559907
           ],
           "yaxis": "y"
          }
         ],
         "name": "27"
        },
        {
         "data": [
          {
           "hovertemplate": "Odd Proton=False<br>Neutron Number [N]=28<br>Proton Number [Z]=%{x}<br>Deficit [MeV]=%{y}<extra></extra>",
           "legendgroup": "False",
           "marker": {
            "color": "#636efa",
            "symbol": "circle"
           },
           "mode": "markers",
           "name": "False",
           "orientation": "v",
           "showlegend": true,
           "type": "scatter",
           "x": [
            12,
            14,
            16,
            18,
            20,
            22,
            24,
            26,
            28,
            30,
            32
           ],
           "xaxis": "x",
           "y": [
            -6.598,
            -7.41,
            -7.9960154,
            -8.4123835,
            -8.6666916,
            -8.7557227,
            -8.7759946,
            -8.7363846,
            -8.6427811,
            -8.3959467,
            -8.113
           ],
           "yaxis": "y"
          },
          {
           "hovertemplate": "Odd Proton=True<br>Neutron Number [N]=28<br>Proton Number [Z]=%{x}<br>Deficit [MeV]=%{y}<extra></extra>",
           "legendgroup": "True",
           "marker": {
            "color": "#EF553B",
            "symbol": "circle"
           },
           "mode": "markers",
           "name": "True",
           "orientation": "v",
           "showlegend": true,
           "type": "scatter",
           "x": [
            13,
            15,
            17,
            19,
            21,
            23,
            25,
            27,
            29,
            31
           ],
           "xaxis": "x",
           "y": [
            -6.98,
            -7.681,
            -8.1815991,
            -8.5148795,
            -8.6862805,
            -8.7420852,
            -8.7341798,
            -8.6696204,
            -8.5032646,
            -8.232
           ],
           "yaxis": "y"
          }
         ],
         "name": "28"
        },
        {
         "data": [
          {
           "hovertemplate": "Odd Proton=False<br>Neutron Number [N]=29<br>Proton Number [Z]=%{x}<br>Deficit [MeV]=%{y}<extra></extra>",
           "legendgroup": "False",
           "marker": {
            "color": "#636efa",
            "symbol": "circle"
           },
           "mode": "markers",
           "name": "False",
           "orientation": "v",
           "showlegend": true,
           "type": "scatter",
           "x": [
            14,
            16,
            18,
            20,
            22,
            24,
            26,
            28,
            30,
            32,
            34
           ],
           "xaxis": "x",
           "y": [
            -7.251,
            -7.867,
            -8.311425,
            -8.594850000000001,
            -8.7089912,
            -8.7602103,
            -8.7465981,
            -8.6709364,
            -8.473780199999998,
            -8.215,
            -7.917
           ],
           "yaxis": "y"
          },
          {
           "hovertemplate": "Odd Proton=True<br>Neutron Number [N]=29<br>Proton Number [Z]=%{x}<br>Deficit [MeV]=%{y}<extra></extra>",
           "legendgroup": "True",
           "marker": {
            "color": "#EF553B",
            "symbol": "circle"
           },
           "mode": "markers",
           "name": "True",
           "orientation": "v",
           "showlegend": true,
           "type": "scatter",
           "x": [
            13,
            15,
            17,
            19,
            21,
            23,
            25,
            27,
            29,
            31
           ],
           "xaxis": "x",
           "y": [
            -6.829,
            -7.552,
            -8.0807757,
            -8.4342324,
            -8.6334747,
            -8.714569,
            -8.7379768,
            -8.694838599999999,
            -8.5709696,
            -8.327
           ],
           "yaxis": "y"
          }
         ],
         "name": "29"
        },
        {
         "data": [
          {
           "hovertemplate": "Odd Proton=False<br>Neutron Number [N]=30<br>Proton Number [Z]=%{x}<br>Deficit [MeV]=%{y}<extra></extra>",
           "legendgroup": "False",
           "marker": {
            "color": "#636efa",
            "symbol": "circle"
           },
           "mode": "markers",
           "name": "False",
           "orientation": "v",
           "showlegend": true,
           "type": "scatter",
           "x": [
            14,
            16,
            18,
            20,
            22,
            24,
            26,
            28,
            30,
            32,
            34
           ],
           "xaxis": "x",
           "y": [
            -7.156,
            -7.785,
            -8.2436656,
            -8.5501639,
            -8.691819299999999,
            -8.777967199999999,
            -8.7903563,
            -8.732062099999998,
            -8.5830524,
            -8.347,
            -8.075
           ],
           "yaxis": "y"
          },
          {
           "hovertemplate": "Odd Proton=True<br>Neutron Number [N]=30<br>Proton Number [Z]=%{x}<br>Deficit [MeV]=%{y}<extra></extra>",
           "legendgroup": "True",
           "marker": {
            "color": "#EF553B",
            "symbol": "circle"
           },
           "mode": "markers",
           "name": "True",
           "orientation": "v",
           "showlegend": true,
           "type": "scatter",
           "x": [
            13,
            15,
            17,
            19,
            21,
            23,
            25,
            27,
            29,
            31,
            33
           ],
           "xaxis": "x",
           "y": [
            -6.712,
            -7.456,
            -7.992,
            -8.3722753,
            -8.5972213,
            -8.7101425,
            -8.7650247,
            -8.7418845,
            -8.642002699999999,
            -8.4464313,
            -8.193
           ],
           "yaxis": "y"
          }
         ],
         "name": "30"
        },
        {
         "data": [
          {
           "hovertemplate": "Odd Proton=False<br>Neutron Number [N]=31<br>Proton Number [Z]=%{x}<br>Deficit [MeV]=%{y}<extra></extra>",
           "legendgroup": "False",
           "marker": {
            "color": "#636efa",
            "symbol": "circle"
           },
           "mode": "markers",
           "name": "False",
           "orientation": "v",
           "showlegend": true,
           "type": "scatter",
           "x": [
            18,
            20,
            22,
            24,
            26,
            28,
            30,
            32,
            34,
            36
           ],
           "xaxis": "x",
           "y": [
            -8.132,
            -8.4769135,
            -8.631125599999999,
            -8.7319362,
            -8.7702829,
            -8.736591200000001,
            -8.610309800000001,
            -8.418716700000001,
            -8.17,
            -7.883
           ],
           "yaxis": "y"
          },
          {
           "hovertemplate": "Odd Proton=True<br>Neutron Number [N]=31<br>Proton Number [Z]=%{x}<br>Deficit [MeV]=%{y}<extra></extra>",
           "legendgroup": "True",
           "marker": {
            "color": "#EF553B",
            "symbol": "circle"
           },
           "mode": "markers",
           "name": "True",
           "orientation": "v",
           "showlegend": true,
           "type": "scatter",
           "x": [
            15,
            17,
            19,
            21,
            23,
            25,
            27,
            29,
            31,
            33
           ],
           "xaxis": "x",
           "y": [
            -7.32,
            -7.883,
            -8.2885833,
            -8.5346695,
            -8.6621382,
            -8.738335800000002,
            -8.738971900000001,
            -8.6656047,
            -8.5186449,
            -8.286
           ],
           "yaxis": "y"
          }
         ],
         "name": "31"
        },
        {
         "data": [
          {
           "hovertemplate": "Odd Proton=False<br>Neutron Number [N]=32<br>Proton Number [Z]=%{x}<br>Deficit [MeV]=%{y}<extra></extra>",
           "legendgroup": "False",
           "marker": {
            "color": "#636efa",
            "symbol": "circle"
           },
           "mode": "markers",
           "name": "False",
           "orientation": "v",
           "showlegend": true,
           "type": "scatter",
           "x": [
            16,
            18,
            20,
            22,
            24,
            26,
            28,
            30,
            32,
            34,
            36
           ],
           "xaxis": "x",
           "y": [
            -7.552,
            -8.054,
            -8.429382100000002,
            -8.5996917,
            -8.7232609,
            -8.7922534,
            -8.780776900000001,
            -8.6793451,
            -8.5288243,
            -8.3,
            -8.034
           ],
           "yaxis": "y"
          },
          {
           "hovertemplate": "Odd Proton=True<br>Neutron Number [N]=32<br>Proton Number [Z]=%{x}<br>Deficit [MeV]=%{y}<extra></extra>",
           "legendgroup": "True",
           "marker": {
            "color": "#EF553B",
            "symbol": "circle"
           },
           "mode": "markers",
           "name": "True",
           "orientation": "v",
           "showlegend": true,
           "type": "scatter",
           "x": [
            17,
            19,
            21,
            23,
            25,
            27,
            29,
            31,
            33,
            35
           ],
           "xaxis": "x",
           "y": [
            -7.785,
            -8.221335,
            -8.4928325,
            -8.637339099999998,
            -8.736714599999999,
            -8.7680379,
            -8.715514800000001,
            -8.5839267,
            -8.3962351,
            -8.148
           ],
           "yaxis": "y"
          }
         ],
         "name": "32"
        },
        {
         "data": [
          {
           "hovertemplate": "Odd Proton=False<br>Neutron Number [N]=33<br>Proton Number [Z]=%{x}<br>Deficit [MeV]=%{y}<extra></extra>",
           "legendgroup": "False",
           "marker": {
            "color": "#636efa",
            "symbol": "circle"
           },
           "mode": "markers",
           "name": "False",
           "orientation": "v",
           "showlegend": true,
           "type": "scatter",
           "x": [
            18,
            20,
            22,
            24,
            26,
            28,
            30,
            32,
            34,
            36
           ],
           "xaxis": "x",
           "y": [
            -7.922,
            -8.330577799999999,
            -8.5189696,
            -8.663399799999999,
            -8.754774600000001,
            -8.7650281,
            -8.686286599999999,
            -8.5550584,
            -8.369534400000001,
            -8.129
           ],
           "yaxis": "y"
          },
          {
           "hovertemplate": "Odd Proton=True<br>Neutron Number [N]=33<br>Proton Number [Z]=%{x}<br>Deficit [MeV]=%{y}<extra></extra>",
           "legendgroup": "True",
           "marker": {
            "color": "#EF553B",
            "symbol": "circle"
           },
           "mode": "markers",
           "name": "True",
           "orientation": "v",
           "showlegend": true,
           "type": "scatter",
           "x": [
            17,
            19,
            21,
            23,
            25,
            27,
            29,
            31,
            33,
            35
           ],
           "xaxis": "x",
           "y": [
            -7.651,
            -8.1150303,
            -8.4048115,
            -8.5747006,
            -8.6966438,
            -8.746769200000001,
            -8.7180839,
            -8.6116317,
            -8.4684034,
            -8.239
           ],
           "yaxis": "y"
          }
         ],
         "name": "33"
        },
        {
         "data": [
          {
           "hovertemplate": "Odd Proton=False<br>Neutron Number [N]=34<br>Proton Number [Z]=%{x}<br>Deficit [MeV]=%{y}<extra></extra>",
           "legendgroup": "False",
           "marker": {
            "color": "#636efa",
            "symbol": "circle"
           },
           "mode": "markers",
           "name": "False",
           "orientation": "v",
           "showlegend": true,
           "type": "scatter",
           "x": [
            18,
            20,
            22,
            24,
            26,
            28,
            30,
            32,
            34,
            36
           ],
           "xaxis": "x",
           "y": [
            -7.827,
            -8.2474967,
            -8.467949500000001,
            -8.643998700000001,
            -8.7558539,
            -8.7945555,
            -8.7359057,
            -8.625438299999999,
            -8.477048199999999,
            -8.256
           ],
           "yaxis": "y"
          },
          {
           "hovertemplate": "Odd Proton=True<br>Neutron Number [N]=34<br>Proton Number [Z]=%{x}<br>Deficit [MeV]=%{y}<extra></extra>",
           "legendgroup": "True",
           "marker": {
            "color": "#EF553B",
            "symbol": "circle"
           },
           "mode": "markers",
           "name": "True",
           "orientation": "v",
           "showlegend": true,
           "type": "scatter",
           "x": [
            17,
            19,
            21,
            23,
            25,
            27,
            29,
            31,
            33,
            35
           ],
           "xaxis": "x",
           "y": [
            -7.53,
            -8.0228488,
            -8.333369399999999,
            -8.5351967,
            -8.6809224,
            -8.756151,
            -8.7521404,
            -8.6621601,
            -8.5305685,
            -8.3449026
           ],
           "yaxis": "y"
          }
         ],
         "name": "34"
        },
        {
         "data": [
          {
           "hovertemplate": "Odd Proton=False<br>Neutron Number [N]=35<br>Proton Number [Z]=%{x}<br>Deficit [MeV]=%{y}<extra></extra>",
           "legendgroup": "False",
           "marker": {
            "color": "#636efa",
            "symbol": "circle"
           },
           "mode": "markers",
           "name": "False",
           "orientation": "v",
           "showlegend": true,
           "type": "scatter",
           "x": [
            18,
            20,
            22,
            24,
            26,
            28,
            30,
            32,
            34,
            36,
            38
           ],
           "xaxis": "x",
           "y": [
            -7.677,
            -8.125926,
            -8.3729008,
            -8.5685995,
            -8.7037686,
            -8.763495500000001,
            -8.724266,
            -8.6330884,
            -8.503708199999998,
            -8.327131,
            -8.102
           ],
           "yaxis": "y"
          },
          {
           "hovertemplate": "Odd Proton=True<br>Neutron Number [N]=35<br>Proton Number [Z]=%{x}<br>Deficit [MeV]=%{y}<extra></extra>",
           "legendgroup": "True",
           "marker": {
            "color": "#EF553B",
            "symbol": "circle"
           },
           "mode": "markers",
           "name": "True",
           "orientation": "v",
           "showlegend": true,
           "type": "scatter",
           "x": [
            17,
            19,
            21,
            23,
            25,
            27,
            29,
            31,
            33,
            35,
            37
           ],
           "xaxis": "x",
           "y": [
            -7.386,
            -7.891,
            -8.2335781,
            -8.458156,
            -8.6281392,
            -8.7213347,
            -8.7390736,
            -8.6693631,
            -8.5577457,
            -8.414796399999998,
            -8.202
           ],
           "yaxis": "y"
          }
         ],
         "name": "35"
        },
        {
         "data": [
          {
           "hovertemplate": "Odd Proton=False<br>Neutron Number [N]=36<br>Proton Number [Z]=%{x}<br>Deficit [MeV]=%{y}<extra></extra>",
           "legendgroup": "False",
           "marker": {
            "color": "#636efa",
            "symbol": "circle"
           },
           "mode": "markers",
           "name": "False",
           "orientation": "v",
           "showlegend": true,
           "type": "scatter",
           "x": [
            20,
            22,
            24,
            26,
            28,
            30,
            32,
            34,
            36,
            38
           ],
           "xaxis": "x",
           "y": [
            -8.0331654,
            -8.307629,
            -8.5401876,
            -8.6928831,
            -8.7774637,
            -8.7596335,
            -8.6881371,
            -8.5760338,
            -8.4293193,
            -8.221
           ],
           "yaxis": "y"
          },
          {
           "hovertemplate": "Odd Proton=True<br>Neutron Number [N]=36<br>Proton Number [Z]=%{x}<br>Deficit [MeV]=%{y}<extra></extra>",
           "legendgroup": "True",
           "marker": {
            "color": "#EF553B",
            "symbol": "circle"
           },
           "mode": "markers",
           "name": "True",
           "orientation": "v",
           "showlegend": true,
           "type": "scatter",
           "x": [
            19,
            21,
            23,
            25,
            27,
            29,
            31,
            33,
            35,
            37
           ],
           "xaxis": "x",
           "y": [
            -7.792,
            -8.1581666,
            -8.403803400000001,
            -8.5989157,
            -8.717797200000001,
            -8.7570967,
            -8.707533,
            -8.6118214,
            -8.4814629,
            -8.3050821
           ],
           "yaxis": "y"
          }
         ],
         "name": "36"
        },
        {
         "data": [
          {
           "hovertemplate": "Odd Proton=False<br>Neutron Number [N]=37<br>Proton Number [Z]=%{x}<br>Deficit [MeV]=%{y}<extra></extra>",
           "legendgroup": "False",
           "marker": {
            "color": "#636efa",
            "symbol": "circle"
           },
           "mode": "markers",
           "name": "False",
           "orientation": "v",
           "showlegend": true,
           "type": "scatter",
           "x": [
            20,
            22,
            24,
            26,
            28,
            30,
            32,
            34,
            36,
            38,
            40
           ],
           "xaxis": "x",
           "y": [
            -7.912,
            -8.218,
            -8.4601734,
            -8.6315499,
            -8.736242399999998,
            -8.734153399999999,
            -8.680964,
            -8.586060600000001,
            -8.4601847,
            -8.2965116,
            -8.075
           ],
           "yaxis": "y"
          },
          {
           "hovertemplate": "Odd Proton=True<br>Neutron Number [N]=37<br>Proton Number [Z]=%{x}<br>Deficit [MeV]=%{y}<extra></extra>",
           "legendgroup": "True",
           "marker": {
            "color": "#EF553B",
            "symbol": "circle"
           },
           "mode": "markers",
           "name": "True",
           "orientation": "v",
           "showlegend": true,
           "type": "scatter",
           "x": [
            19,
            21,
            23,
            25,
            27,
            29,
            31,
            33,
            35,
            37,
            39
           ],
           "xaxis": "x",
           "y": [
            -7.663,
            -8.0549436,
            -8.3228751,
            -8.5385002,
            -8.6755223,
            -8.731473,
            -8.701219499999999,
            -8.621554099999999,
            -8.5113126,
            -8.381712299999998,
            -8.173
           ],
           "yaxis": "y"
          }
         ],
         "name": "37"
        },
        {
         "data": [
          {
           "hovertemplate": "Odd Proton=False<br>Neutron Number [N]=38<br>Proton Number [Z]=%{x}<br>Deficit [MeV]=%{y}<extra></extra>",
           "legendgroup": "False",
           "marker": {
            "color": "#636efa",
            "symbol": "circle"
           },
           "mode": "markers",
           "name": "False",
           "orientation": "v",
           "showlegend": true,
           "type": "scatter",
           "x": [
            20,
            22,
            24,
            26,
            28,
            30,
            32,
            34,
            36,
            38,
            40
           ],
           "xaxis": "x",
           "y": [
            -7.828,
            -8.1527858,
            -8.4273871,
            -8.612388800000002,
            -8.739508599999999,
            -8.755682,
            -8.7217028,
            -8.6444902,
            -8.533039,
            -8.393929400000001,
            -8.194
           ],
           "yaxis": "y"
          },
          {
           "hovertemplate": "Odd Proton=True<br>Neutron Number [N]=38<br>Proton Number [Z]=%{x}<br>Deficit [MeV]=%{y}<extra></extra>",
           "legendgroup": "True",
           "marker": {
            "color": "#EF553B",
            "symbol": "circle"
           },
           "mode": "markers",
           "name": "True",
           "orientation": "v",
           "showlegend": true,
           "type": "scatter",
           "x": [
            21,
            23,
            25,
            27,
            29,
            31,
            33,
            35,
            37,
            39
           ],
           "xaxis": "x",
           "y": [
            -7.9764073,
            -8.2710417,
            -8.505102,
            -8.6568848,
            -8.737459699999999,
            -8.724579799999999,
            -8.663934999999999,
            -8.5680803,
            -8.4482762,
            -8.278
           ],
           "yaxis": "y"
          }
         ],
         "name": "38"
        },
        {
         "data": [
          {
           "hovertemplate": "Odd Proton=False<br>Neutron Number [N]=40<br>Proton Number [Z]=%{x}<br>Deficit [MeV]=%{y}<extra></extra>",
           "legendgroup": "False",
           "marker": {
            "color": "#636efa",
            "symbol": "circle"
           },
           "mode": "markers",
           "name": "False",
           "orientation": "v",
           "showlegend": true,
           "type": "scatter",
           "x": [
            22,
            24,
            26,
            28,
            30,
            32,
            34,
            36,
            38,
            40,
            42
           ],
           "xaxis": "x",
           "y": [
            -7.99,
            -8.3035626,
            -8.5217245,
            -8.6824667,
            -8.7298086,
            -8.7317459,
            -8.6877155,
            -8.6088077,
            -8.500097100000001,
            -8.365,
            -8.163
           ],
           "yaxis": "y"
          },
          {
           "hovertemplate": "Odd Proton=True<br>Neutron Number [N]=40<br>Proton Number [Z]=%{x}<br>Deficit [MeV]=%{y}<extra></extra>",
           "legendgroup": "True",
           "marker": {
            "color": "#EF553B",
            "symbol": "circle"
           },
           "mode": "markers",
           "name": "True",
           "orientation": "v",
           "showlegend": true,
           "type": "scatter",
           "x": [
            21,
            23,
            25,
            27,
            29,
            31,
            33,
            35,
            37,
            39,
            41
           ],
           "xaxis": "x",
           "y": [
            -7.794,
            -8.1307809,
            -8.400682199999999,
            -8.5817422,
            -8.6952044,
            -8.717604999999999,
            -8.689609899999999,
            -8.6276497,
            -8.5373396,
            -8.4167788,
            -8.248
           ],
           "yaxis": "y"
          }
         ],
         "name": "40"
        },
        {
         "data": [
          {
           "hovertemplate": "Odd Proton=False<br>Neutron Number [N]=39<br>Proton Number [Z]=%{x}<br>Deficit [MeV]=%{y}<extra></extra>",
           "legendgroup": "False",
           "marker": {
            "color": "#636efa",
            "symbol": "circle"
           },
           "mode": "markers",
           "name": "False",
           "orientation": "v",
           "showlegend": true,
           "type": "scatter",
           "x": [
            22,
            24,
            26,
            28,
            30,
            32,
            34,
            36,
            38,
            40,
            42
           ],
           "xaxis": "x",
           "y": [
            -8.058,
            -8.3475398,
            -8.546346999999999,
            -8.6957505,
            -8.7227311,
            -8.7033118,
            -8.6415591,
            -8.553439899999999,
            -8.4359188,
            -8.267,
            -8.054
           ],
           "yaxis": "y"
          },
          {
           "hovertemplate": "Odd Proton=True<br>Neutron Number [N]=39<br>Proton Number [Z]=%{x}<br>Deficit [MeV]=%{y}<extra></extra>",
           "legendgroup": "True",
           "marker": {
            "color": "#EF553B",
            "symbol": "circle"
           },
           "mode": "markers",
           "name": "True",
           "orientation": "v",
           "showlegend": true,
           "type": "scatter",
           "x": [
            23,
            25,
            27,
            29,
            31,
            33,
            35,
            37,
            39
           ],
           "xaxis": "x",
           "y": [
            -8.1877565,
            -8.437417499999999,
            -8.6059419,
            -8.7018913,
            -8.7092808,
            -8.6603786,
            -8.5835615,
            -8.4862161,
            -8.349
           ],
           "yaxis": "y"
          }
         ],
         "name": "39"
        },
        {
         "data": [
          {
           "hovertemplate": "Odd Proton=False<br>Neutron Number [N]=41<br>Proton Number [Z]=%{x}<br>Deficit [MeV]=%{y}<extra></extra>",
           "legendgroup": "False",
           "marker": {
            "color": "#636efa",
            "symbol": "circle"
           },
           "mode": "markers",
           "name": "False",
           "orientation": "v",
           "showlegend": true,
           "type": "scatter",
           "x": [
            22,
            24,
            26,
            28,
            30,
            32,
            34,
            36,
            38,
            40,
            42,
            44
           ],
           "xaxis": "x",
           "y": [
            -7.891,
            -8.218,
            -8.4499359,
            -8.6230998,
            -8.6890417,
            -8.70505,
            -8.6789139,
            -8.616837,
            -8.5238558,
            -8.3951519,
            -8.234,
            -8.027
           ],
           "yaxis": "y"
          },
          {
           "hovertemplate": "Odd Proton=True<br>Neutron Number [N]=41<br>Proton Number [Z]=%{x}<br>Deficit [MeV]=%{y}<extra></extra>",
           "legendgroup": "True",
           "marker": {
            "color": "#EF553B",
            "symbol": "circle"
           },
           "mode": "markers",
           "name": "True",
           "orientation": "v",
           "showlegend": true,
           "type": "scatter",
           "x": [
            23,
            25,
            27,
            29,
            31,
            33,
            35,
            37,
            39,
            41
           ],
           "xaxis": "x",
           "y": [
            -8.045,
            -8.3317986,
            -8.520130100000001,
            -8.6468655,
            -8.6870893,
            -8.680002,
            -8.635883,
            -8.558351199999999,
            -8.4542759,
            -8.312
           ],
           "yaxis": "y"
          }
         ],
         "name": "41"
        },
        {
         "data": [
          {
           "hovertemplate": "Odd Proton=False<br>Neutron Number [N]=42<br>Proton Number [Z]=%{x}<br>Deficit [MeV]=%{y}<extra></extra>",
           "legendgroup": "False",
           "marker": {
            "color": "#636efa",
            "symbol": "circle"
           },
           "mode": "markers",
           "name": "False",
           "orientation": "v",
           "showlegend": true,
           "type": "scatter",
           "x": [
            22,
            24,
            26,
            28,
            30,
            32,
            34,
            36,
            38,
            40,
            42,
            44
           ],
           "xaxis": "x",
           "y": [
            -7.826,
            -8.168,
            -8.418,
            -8.6042917,
            -8.6918053,
            -8.7252011,
            -8.7114781,
            -8.6612385,
            -8.578596600000001,
            -8.4654666,
            -8.325,
            -8.133
           ],
           "yaxis": "y"
          },
          {
           "hovertemplate": "Odd Proton=True<br>Neutron Number [N]=42<br>Proton Number [Z]=%{x}<br>Deficit [MeV]=%{y}<extra></extra>",
           "legendgroup": "True",
           "marker": {
            "color": "#EF553B",
            "symbol": "circle"
           },
           "mode": "markers",
           "name": "True",
           "orientation": "v",
           "showlegend": true,
           "type": "scatter",
           "x": [
            23,
            25,
            27,
            29,
            31,
            33,
            35,
            37,
            39,
            41,
            43
           ],
           "xaxis": "x",
           "y": [
            -7.981,
            -8.281,
            -8.4954062,
            -8.6350233,
            -8.693874,
            -8.7008748,
            -8.6668073,
            -8.6011401,
            -8.5059031,
            -8.3789889,
            -8.215
           ],
           "yaxis": "y"
          }
         ],
         "name": "42"
        },
        {
         "data": [
          {
           "hovertemplate": "Odd Proton=False<br>Neutron Number [N]=43<br>Proton Number [Z]=%{x}<br>Deficit [MeV]=%{y}<extra></extra>",
           "legendgroup": "False",
           "marker": {
            "color": "#636efa",
            "symbol": "circle"
           },
           "mode": "markers",
           "name": "False",
           "orientation": "v",
           "showlegend": true,
           "type": "scatter",
           "x": [
            24,
            26,
            28,
            30,
            32,
            34,
            36,
            38,
            40,
            42,
            44
           ],
           "xaxis": "x",
           "y": [
            -8.079,
            -8.345,
            -8.543156399999999,
            -8.6483455,
            -8.6956096,
            -8.6946908,
            -8.657112999999999,
            -8.5873545,
            -8.4883997,
            -8.361332,
            -8.201
           ],
           "yaxis": "y"
          },
          {
           "hovertemplate": "Odd Proton=True<br>Neutron Number [N]=43<br>Proton Number [Z]=%{x}<br>Deficit [MeV]=%{y}<extra></extra>",
           "legendgroup": "True",
           "marker": {
            "color": "#EF553B",
            "symbol": "circle"
           },
           "mode": "markers",
           "name": "True",
           "orientation": "v",
           "showlegend": true,
           "type": "scatter",
           "x": [
            23,
            25,
            27,
            29,
            31,
            33,
            35,
            37,
            39,
            41,
            43
           ],
           "xaxis": "x",
           "y": [
            -7.894,
            -8.209,
            -8.434198,
            -8.586525600000002,
            -8.663167600000001,
            -8.682817199999999,
            -8.661959399999999,
            -8.611676,
            -8.5292762,
            -8.4179563,
            -8.28
           ],
           "yaxis": "y"
          }
         ],
         "name": "43"
        },
        {
         "data": [
          {
           "hovertemplate": "Odd Proton=False<br>Neutron Number [N]=44<br>Proton Number [Z]=%{x}<br>Deficit [MeV]=%{y}<extra></extra>",
           "legendgroup": "False",
           "marker": {
            "color": "#636efa",
            "symbol": "circle"
           },
           "mode": "markers",
           "name": "False",
           "orientation": "v",
           "showlegend": true,
           "type": "scatter",
           "x": [
            24,
            26,
            28,
            30,
            32,
            34,
            36,
            38,
            40,
            42,
            44,
            46
           ],
           "xaxis": "x",
           "y": [
            -8.026,
            -8.308,
            -8.520211799999998,
            -8.6427547,
            -8.7052364,
            -8.7178072,
            -8.6929301,
            -8.635719,
            -8.5490301,
            -8.434717500000001,
            -8.298,
            -8.113
           ],
           "yaxis": "y"
          },
          {
           "hovertemplate": "Odd Proton=True<br>Neutron Number [N]=44<br>Proton Number [Z]=%{x}<br>Deficit [MeV]=%{y}<extra></extra>",
           "legendgroup": "True",
           "marker": {
            "color": "#EF553B",
            "symbol": "circle"
           },
           "mode": "markers",
           "name": "True",
           "orientation": "v",
           "showlegend": true,
           "type": "scatter",
           "x": [
            23,
            25,
            27,
            29,
            31,
            33,
            35,
            37,
            39,
            41,
            43,
            45
           ],
           "xaxis": "x",
           "y": [
            -7.829,
            -8.155,
            -8.398734399999999,
            -8.5685699,
            -8.6607565,
            -8.6959789,
            -8.6875956,
            -8.6455139,
            -8.5736571,
            -8.473711699999999,
            -8.3477449,
            -8.189
           ],
           "yaxis": "y"
          }
         ],
         "name": "44"
        },
        {
         "data": [
          {
           "hovertemplate": "Odd Proton=False<br>Neutron Number [N]=45<br>Proton Number [Z]=%{x}<br>Deficit [MeV]=%{y}<extra></extra>",
           "legendgroup": "False",
           "marker": {
            "color": "#636efa",
            "symbol": "circle"
           },
           "mode": "markers",
           "name": "False",
           "orientation": "v",
           "showlegend": true,
           "type": "scatter",
           "x": [
            24,
            26,
            28,
            30,
            32,
            34,
            36,
            38,
            40,
            42,
            44,
            46
           ],
           "xaxis": "x",
           "y": [
            -7.939,
            -8.235,
            -8.4576529,
            -8.5924981,
            -8.6710293,
            -8.6955923,
            -8.6828206,
            -8.6384076,
            -8.5640394,
            -8.4624243,
            -8.340376000000001,
            -8.183
           ],
           "yaxis": "y"
          },
          {
           "hovertemplate": "Odd Proton=True<br>Neutron Number [N]=45<br>Proton Number [Z]=%{x}<br>Deficit [MeV]=%{y}<extra></extra>",
           "legendgroup": "True",
           "marker": {
            "color": "#EF553B",
            "symbol": "circle"
           },
           "mode": "markers",
           "name": "True",
           "orientation": "v",
           "showlegend": true,
           "type": "scatter",
           "x": [
            25,
            27,
            29,
            31,
            33,
            35,
            37,
            39,
            41,
            43,
            45,
            47
           ],
           "xaxis": "x",
           "y": [
            -8.084,
            -8.338,
            -8.5215633,
            -8.624527200000001,
            -8.673876,
            -8.6776541,
            -8.6474275,
            -8.5877812,
            -8.502223099999998,
            -8.3898338,
            -8.254,
            -8.08
           ],
           "yaxis": "y"
          }
         ],
         "name": "45"
        },
        {
         "data": [
          {
           "hovertemplate": "Odd Proton=False<br>Neutron Number [N]=46<br>Proton Number [Z]=%{x}<br>Deficit [MeV]=%{y}<extra></extra>",
           "legendgroup": "False",
           "marker": {
            "color": "#636efa",
            "symbol": "circle"
           },
           "mode": "markers",
           "name": "False",
           "orientation": "v",
           "showlegend": true,
           "type": "scatter",
           "x": [
            24,
            26,
            28,
            30,
            32,
            34,
            36,
            38,
            40,
            42,
            44,
            46,
            48
           ],
           "xaxis": "x",
           "y": [
            -7.884,
            -8.195,
            -8.433,
            -8.5822735,
            -8.6716636,
            -8.710814200000002,
            -8.7106754,
            -8.6775132,
            -8.614052299999999,
            -8.5239087,
            -8.4097684,
            -8.2755695,
            -8.102
           ],
           "yaxis": "y"
          },
          {
           "hovertemplate": "Odd Proton=True<br>Neutron Number [N]=46<br>Proton Number [Z]=%{x}<br>Deficit [MeV]=%{y}<extra></extra>",
           "legendgroup": "True",
           "marker": {
            "color": "#EF553B",
            "symbol": "circle"
           },
           "mode": "markers",
           "name": "True",
           "orientation": "v",
           "showlegend": true,
           "type": "scatter",
           "x": [
            27,
            29,
            31,
            33,
            35,
            37,
            39,
            41,
            43,
            45,
            47
           ],
           "xaxis": "x",
           "y": [
            -8.302,
            -8.4950801,
            -8.6133907,
            -8.6766172,
            -8.6959465,
            -8.6752193,
            -8.628148600000001,
            -8.5517579,
            -8.450575800000001,
            -8.328,
            -8.175
           ],
           "yaxis": "y"
          }
         ],
         "name": "46"
        },
        {
         "data": [
          {
           "hovertemplate": "Odd Proton=False<br>Neutron Number [N]=47<br>Proton Number [Z]=%{x}<br>Deficit [MeV]=%{y}<extra></extra>",
           "legendgroup": "False",
           "marker": {
            "color": "#636efa",
            "symbol": "circle"
           },
           "mode": "markers",
           "name": "False",
           "orientation": "v",
           "showlegend": true,
           "type": "scatter",
           "x": [
            26,
            28,
            30,
            32,
            34,
            36,
            38,
            40,
            42,
            44,
            46,
            48
           ],
           "xaxis": "x",
           "y": [
            -8.121,
            -8.369,
            -8.5300037,
            -8.6345089,
            -8.6859998,
            -8.695729499999999,
            -8.6757193,
            -8.6236545,
            -8.5449851,
            -8.4429287,
            -8.3185637,
            -8.171
           ],
           "yaxis": "y"
          },
          {
           "hovertemplate": "Odd Proton=True<br>Neutron Number [N]=47<br>Proton Number [Z]=%{x}<br>Deficit [MeV]=%{y}<extra></extra>",
           "legendgroup": "True",
           "marker": {
            "color": "#EF553B",
            "symbol": "circle"
           },
           "mode": "markers",
           "name": "True",
           "orientation": "v",
           "showlegend": true,
           "type": "scatter",
           "x": [
            25,
            27,
            29,
            31,
            33,
            35,
            37,
            39,
            41,
            43,
            45,
            47,
            49
           ],
           "xaxis": "x",
           "y": [
            -7.955,
            -8.239,
            -8.4436018,
            -8.5771043,
            -8.6512824,
            -8.682495300000001,
            -8.676224399999999,
            -8.6384293,
            -8.5724013,
            -8.483360000000001,
            -8.3734211,
            -8.238,
            -8.069
           ],
           "yaxis": "y"
          }
         ],
         "name": "47"
        },
        {
         "data": [
          {
           "hovertemplate": "Odd Proton=False<br>Neutron Number [N]=48<br>Proton Number [Z]=%{x}<br>Deficit [MeV]=%{y}<extra></extra>",
           "legendgroup": "False",
           "marker": {
            "color": "#636efa",
            "symbol": "circle"
           },
           "mode": "markers",
           "name": "False",
           "orientation": "v",
           "showlegend": true,
           "type": "scatter",
           "x": [
            26,
            28,
            30,
            32,
            34,
            36,
            38,
            40,
            42,
            44,
            46,
            48
           ],
           "xaxis": "x",
           "y": [
            -8.076,
            -8.338,
            -8.50738,
            -8.6275707,
            -8.6931973,
            -8.7174473,
            -8.7084566,
            -8.6660339,
            -8.5970285,
            -8.504774,
            -8.3916832,
            -8.259
           ],
           "yaxis": "y"
          },
          {
           "hovertemplate": "Odd Proton=True<br>Neutron Number [N]=48<br>Proton Number [Z]=%{x}<br>Deficit [MeV]=%{y}<extra></extra>",
           "legendgroup": "True",
           "marker": {
            "color": "#EF553B",
            "symbol": "circle"
           },
           "mode": "markers",
           "name": "True",
           "orientation": "v",
           "showlegend": true,
           "type": "scatter",
           "x": [
            25,
            27,
            29,
            31,
            33,
            35,
            37,
            39,
            41,
            43,
            45,
            47,
            49
           ],
           "xaxis": "x",
           "y": [
            -7.895,
            -8.197,
            -8.4112501,
            -8.5560725,
            -8.6480571,
            -8.6933852,
            -8.6974416,
            -8.6748451,
            -8.6168184,
            -8.5366558,
            -8.4348255,
            -8.315,
            -8.165
           ],
           "yaxis": "y"
          }
         ],
         "name": "48"
        },
        {
         "data": [
          {
           "hovertemplate": "Odd Proton=False<br>Neutron Number [N]=49<br>Proton Number [Z]=%{x}<br>Deficit [MeV]=%{y}<extra></extra>",
           "legendgroup": "False",
           "marker": {
            "color": "#636efa",
            "symbol": "circle"
           },
           "mode": "markers",
           "name": "False",
           "orientation": "v",
           "showlegend": true,
           "type": "scatter",
           "x": [
            26,
            28,
            30,
            32,
            34,
            36,
            38,
            40,
            42,
            44,
            46,
            48,
            50
           ],
           "xaxis": "x",
           "y": [
            -7.996,
            -8.272,
            -8.450582500000001,
            -8.5806587,
            -8.658556,
            -8.6985633,
            -8.705236300000001,
            -8.673386500000001,
            -8.6136286,
            -8.5314627,
            -8.4289807,
            -8.310301299999999,
            -8.161
           ],
           "yaxis": "y"
          },
          {
           "hovertemplate": "Odd Proton=True<br>Neutron Number [N]=49<br>Proton Number [Z]=%{x}<br>Deficit [MeV]=%{y}<extra></extra>",
           "legendgroup": "True",
           "marker": {
            "color": "#EF553B",
            "symbol": "circle"
           },
           "mode": "markers",
           "name": "True",
           "orientation": "v",
           "showlegend": true,
           "type": "scatter",
           "x": [
            27,
            29,
            31,
            33,
            35,
            37,
            39,
            41,
            43,
            45,
            47,
            49
           ],
           "xaxis": "x",
           "y": [
            -8.131,
            -8.3546695,
            -8.5084545,
            -8.6114153,
            -8.671329400000001,
            -8.6969014,
            -8.6825396,
            -8.633377000000001,
            -8.563544,
            -8.4724033,
            -8.3602903,
            -8.23
           ],
           "yaxis": "y"
          }
         ],
         "name": "49"
        },
        {
         "data": [
          {
           "hovertemplate": "Odd Proton=False<br>Neutron Number [N]=50<br>Proton Number [Z]=%{x}<br>Deficit [MeV]=%{y}<extra></extra>",
           "legendgroup": "False",
           "marker": {
            "color": "#636efa",
            "symbol": "circle"
           },
           "mode": "markers",
           "name": "False",
           "orientation": "v",
           "showlegend": true,
           "type": "scatter",
           "x": [
            26,
            28,
            30,
            32,
            34,
            36,
            38,
            40,
            42,
            44,
            46,
            48,
            50
           ],
           "xaxis": "x",
           "y": [
            -7.943,
            -8.238,
            -8.4235457,
            -8.5637567,
            -8.6587935,
            -8.7120295,
            -8.732595799999999,
            -8.7099699,
            -8.6577312,
            -8.583662,
            -8.490020699999999,
            -8.3782953,
            -8.251626
           ],
           "yaxis": "y"
          },
          {
           "hovertemplate": "Odd Proton=True<br>Neutron Number [N]=50<br>Proton Number [Z]=%{x}<br>Deficit [MeV]=%{y}<extra></extra>",
           "legendgroup": "True",
           "marker": {
            "color": "#EF553B",
            "symbol": "circle"
           },
           "mode": "markers",
           "name": "True",
           "orientation": "v",
           "showlegend": true,
           "type": "scatter",
           "x": [
            27,
            29,
            31,
            33,
            35,
            37,
            39,
            41,
            43,
            45,
            47,
            49
           ],
           "xaxis": "x",
           "y": [
            -8.082,
            -8.320938,
            -8.4833576,
            -8.599654000000001,
            -8.6735926,
            -8.7109843,
            -8.714011000000001,
            -8.670898300000001,
            -8.6085782,
            -8.5253707,
            -8.4232121,
            -8.304
           ],
           "yaxis": "y"
          }
         ],
         "name": "50"
        },
        {
         "data": [
          {
           "hovertemplate": "Odd Proton=False<br>Neutron Number [N]=51<br>Proton Number [Z]=%{x}<br>Deficit [MeV]=%{y}<extra></extra>",
           "legendgroup": "False",
           "marker": {
            "color": "#636efa",
            "symbol": "circle"
           },
           "mode": "markers",
           "name": "False",
           "orientation": "v",
           "showlegend": true,
           "type": "scatter",
           "x": [
            28,
            30,
            32,
            34,
            36,
            38,
            40,
            42,
            44,
            46,
            48,
            50
           ],
           "xaxis": "x",
           "y": [
            -8.15,
            -8.3519262,
            -8.5043462,
            -8.6103045,
            -8.675284,
            -8.705923,
            -8.693314899999999,
            -8.6514095,
            -8.587470600000001,
            -8.5024303,
            -8.3983734,
            -8.281103
           ],
           "yaxis": "y"
          },
          {
           "hovertemplate": "Odd Proton=True<br>Neutron Number [N]=51<br>Proton Number [Z]=%{x}<br>Deficit [MeV]=%{y}<extra></extra>",
           "legendgroup": "True",
           "marker": {
            "color": "#EF553B",
            "symbol": "circle"
           },
           "mode": "markers",
           "name": "True",
           "orientation": "v",
           "showlegend": true,
           "type": "scatter",
           "x": [
            27,
            29,
            31,
            33,
            35,
            37,
            39,
            41,
            43,
            45,
            47,
            49
           ],
           "xaxis": "x",
           "y": [
            -7.997,
            -8.246,
            -8.4210494,
            -8.5479385,
            -8.6323659,
            -8.681115400000001,
            -8.6933778,
            -8.6623731,
            -8.608737300000001,
            -8.5346735,
            -8.4416866,
            -8.3297495
           ],
           "yaxis": "y"
          }
         ],
         "name": "51"
        },
        {
         "data": [
          {
           "hovertemplate": "Odd Proton=False<br>Neutron Number [N]=52<br>Proton Number [Z]=%{x}<br>Deficit [MeV]=%{y}<extra></extra>",
           "legendgroup": "False",
           "marker": {
            "color": "#636efa",
            "symbol": "circle"
           },
           "mode": "markers",
           "name": "False",
           "orientation": "v",
           "showlegend": true,
           "type": "scatter",
           "x": [
            28,
            30,
            32,
            34,
            36,
            38,
            40,
            42,
            44,
            46,
            48,
            50,
            52
           ],
           "xaxis": "x",
           "y": [
            -8.088,
            -8.3011175,
            -8.4655244,
            -8.581822399999998,
            -8.6568499,
            -8.6960043,
            -8.692678299999999,
            -8.6623341,
            -8.609413,
            -8.5338999,
            -8.437737499999999,
            -8.3244313,
            -8.1573256
           ],
           "yaxis": "y"
          },
          {
           "hovertemplate": "Odd Proton=True<br>Neutron Number [N]=52<br>Proton Number [Z]=%{x}<br>Deficit [MeV]=%{y}<extra></extra>",
           "legendgroup": "True",
           "marker": {
            "color": "#EF553B",
            "symbol": "circle"
           },
           "mode": "markers",
           "name": "True",
           "orientation": "v",
           "showlegend": true,
           "type": "scatter",
           "x": [
            29,
            31,
            33,
            35,
            37,
            39,
            41,
            43,
            45,
            47,
            49,
            51
           ],
           "xaxis": "x",
           "y": [
            -8.185,
            -8.3725756,
            -8.5109851,
            -8.6059105,
            -8.6641895,
            -8.6849421,
            -8.6641849,
            -8.6226911,
            -8.5598949,
            -8.4747744,
            -8.370426,
            -8.234
           ],
           "yaxis": "y"
          }
         ],
         "name": "52"
        },
        {
         "data": [
          {
           "hovertemplate": "Odd Proton=False<br>Neutron Number [N]=53<br>Proton Number [Z]=%{x}<br>Deficit [MeV]=%{y}<extra></extra>",
           "legendgroup": "False",
           "marker": {
            "color": "#636efa",
            "symbol": "circle"
           },
           "mode": "markers",
           "name": "False",
           "orientation": "v",
           "showlegend": true,
           "type": "scatter",
           "x": [
            28,
            30,
            32,
            34,
            36,
            38,
            40,
            42,
            44,
            46,
            48,
            50,
            52
           ],
           "xaxis": "x",
           "y": [
            -8,
            -8.226,
            -8.401768899999999,
            -8.529092,
            -8.6148158,
            -8.663875899999999,
            -8.6716207,
            -8.6487212,
            -8.6042799,
            -8.5379332,
            -8.4503657,
            -8.343,
            -8.1868368
           ],
           "yaxis": "y"
          },
          {
           "hovertemplate": "Odd Proton=True<br>Neutron Number [N]=53<br>Proton Number [Z]=%{x}<br>Deficit [MeV]=%{y}<extra></extra>",
           "legendgroup": "True",
           "marker": {
            "color": "#EF553B",
            "symbol": "circle"
           },
           "mode": "markers",
           "name": "True",
           "orientation": "v",
           "showlegend": true,
           "type": "scatter",
           "x": [
            29,
            31,
            33,
            35,
            37,
            39,
            41,
            43,
            45,
            47,
            49,
            51
           ],
           "xaxis": "x",
           "y": [
            -8.108,
            -8.307525,
            -8.4567215,
            -8.563747900000001,
            -8.6315262,
            -8.6615894,
            -8.648901400000002,
            -8.6148673,
            -8.5608038,
            -8.4849947,
            -8.3885719,
            -8.258
           ],
           "yaxis": "y"
          }
         ],
         "name": "53"
        },
        {
         "data": [
          {
           "hovertemplate": "Odd Proton=False<br>Neutron Number [N]=54<br>Proton Number [Z]=%{x}<br>Deficit [MeV]=%{y}<extra></extra>",
           "legendgroup": "False",
           "marker": {
            "color": "#636efa",
            "symbol": "circle"
           },
           "mode": "markers",
           "name": "False",
           "orientation": "v",
           "showlegend": true,
           "type": "scatter",
           "x": [
            28,
            30,
            32,
            34,
            36,
            38,
            40,
            42,
            44,
            46,
            48,
            50,
            52,
            54
           ],
           "xaxis": "x",
           "y": [
            -7.935,
            -8.171,
            -8.354629999999998,
            -8.495004499999999,
            -8.591259899999999,
            -8.648907,
            -8.666801600000001,
            -8.653988,
            -8.620314,
            -8.5635652,
            -8.4841322,
            -8.3839114,
            -8.2367682,
            -8.0748886
           ],
           "yaxis": "y"
          },
          {
           "hovertemplate": "Odd Proton=True<br>Neutron Number [N]=54<br>Proton Number [Z]=%{x}<br>Deficit [MeV]=%{y}<extra></extra>",
           "legendgroup": "True",
           "marker": {
            "color": "#EF553B",
            "symbol": "circle"
           },
           "mode": "markers",
           "name": "True",
           "orientation": "v",
           "showlegend": true,
           "type": "scatter",
           "x": [
            29,
            31,
            33,
            35,
            37,
            39,
            41,
            43,
            45,
            47,
            49,
            51
           ],
           "xaxis": "x",
           "y": [
            -8.044,
            -8.2535687,
            -8.4138521,
            -8.530780199999999,
            -8.607562099999999,
            -8.6489054,
            -8.647213299999999,
            -8.6237254,
            -8.580195900000001,
            -8.512546500000001,
            -8.4237199,
            -8.3009923
           ],
           "yaxis": "y"
          }
         ],
         "name": "54"
        },
        {
         "data": [
          {
           "hovertemplate": "Odd Proton=False<br>Neutron Number [N]=55<br>Proton Number [Z]=%{x}<br>Deficit [MeV]=%{y}<extra></extra>",
           "legendgroup": "False",
           "marker": {
            "color": "#636efa",
            "symbol": "circle"
           },
           "mode": "markers",
           "name": "False",
           "orientation": "v",
           "showlegend": true,
           "type": "scatter",
           "x": [
            30,
            32,
            34,
            36,
            38,
            40,
            42,
            44,
            46,
            48,
            50,
            52,
            54
           ],
           "xaxis": "x",
           "y": [
            -8.09,
            -8.285,
            -8.4352799,
            -8.5417519,
            -8.6127875,
            -8.6435924,
            -8.6350926,
            -8.6087132,
            -8.5608644,
            -8.489754699999999,
            -8.397229,
            -8.258,
            -8.1073071
           ],
           "yaxis": "y"
          },
          {
           "hovertemplate": "Odd Proton=True<br>Neutron Number [N]=55<br>Proton Number [Z]=%{x}<br>Deficit [MeV]=%{y}<extra></extra>",
           "legendgroup": "True",
           "marker": {
            "color": "#EF553B",
            "symbol": "circle"
           },
           "mode": "markers",
           "name": "True",
           "orientation": "v",
           "showlegend": true,
           "type": "scatter",
           "x": [
            31,
            33,
            35,
            37,
            39,
            41,
            43,
            45,
            47,
            49,
            51,
            53
           ],
           "xaxis": "x",
           "y": [
            -8.182,
            -8.351,
            -8.4781865,
            -8.5694225,
            -8.622806800000001,
            -8.6288868,
            -8.6100047,
            -8.5751732,
            -8.517165,
            -8.435238,
            -8.3220124,
            -8.176
           ],
           "yaxis": "y"
          }
         ],
         "name": "55"
        },
        {
         "data": [
          {
           "hovertemplate": "Odd Proton=False<br>Neutron Number [N]=56<br>Proton Number [Z]=%{x}<br>Deficit [MeV]=%{y}<extra></extra>",
           "legendgroup": "False",
           "marker": {
            "color": "#636efa",
            "symbol": "circle"
           },
           "mode": "markers",
           "name": "False",
           "orientation": "v",
           "showlegend": true,
           "type": "scatter",
           "x": [
            32,
            34,
            36,
            38,
            40,
            42,
            44,
            46,
            48,
            50,
            52,
            54
           ],
           "xaxis": "x",
           "y": [
            -8.236,
            -8.3957672,
            -8.512675,
            -8.5938344,
            -8.6353283,
            -8.635169099999999,
            -8.6193593,
            -8.580288699999999,
            -8.5176232,
            -8.4320383,
            -8.303722100000002,
            -8.159280800000001
           ],
           "yaxis": "y"
          },
          {
           "hovertemplate": "Odd Proton=True<br>Neutron Number [N]=56<br>Proton Number [Z]=%{x}<br>Deficit [MeV]=%{y}<extra></extra>",
           "legendgroup": "True",
           "marker": {
            "color": "#EF553B",
            "symbol": "circle"
           },
           "mode": "markers",
           "name": "True",
           "orientation": "v",
           "showlegend": true,
           "type": "scatter",
           "x": [
            31,
            33,
            35,
            37,
            39,
            41,
            43,
            45,
            47,
            49,
            51,
            53
           ],
           "xaxis": "x",
           "y": [
            -8.124,
            -8.304,
            -8.441924199999999,
            -8.5409209,
            -8.6049644,
            -8.6231384,
            -8.6136105,
            -8.588217199999999,
            -8.537652,
            -8.4647045,
            -8.3587344,
            -8.2200164
           ],
           "yaxis": "y"
          }
         ],
         "name": "56"
        },
        {
         "data": [
          {
           "hovertemplate": "Odd Proton=False<br>Neutron Number [N]=57<br>Proton Number [Z]=%{x}<br>Deficit [MeV]=%{y}<extra></extra>",
           "legendgroup": "False",
           "marker": {
            "color": "#636efa",
            "symbol": "circle"
           },
           "mode": "markers",
           "name": "False",
           "orientation": "v",
           "showlegend": true,
           "type": "scatter",
           "x": [
            32,
            34,
            36,
            38,
            40,
            42,
            44,
            46,
            48,
            50,
            52,
            54
           ],
           "xaxis": "x",
           "y": [
            -8.161,
            -8.3348382,
            -8.4581085,
            -8.549087499999999,
            -8.6037182,
            -8.6077982,
            -8.601366,
            -8.5710173,
            -8.5168532,
            -8.4394946,
            -8.3193305,
            -8.182
           ],
           "yaxis": "y"
          },
          {
           "hovertemplate": "Odd Proton=True<br>Neutron Number [N]=57<br>Proton Number [Z]=%{x}<br>Deficit [MeV]=%{y}<extra></extra>",
           "legendgroup": "True",
           "marker": {
            "color": "#EF553B",
            "symbol": "circle"
           },
           "mode": "markers",
           "name": "True",
           "orientation": "v",
           "showlegend": true,
           "type": "scatter",
           "x": [
            33,
            35,
            37,
            39,
            41,
            43,
            45,
            47,
            49,
            51,
            53,
            55
           ],
           "xaxis": "x",
           "y": [
            -8.24,
            -8.3849123,
            -8.4927644,
            -8.5694269,
            -8.5963016,
            -8.595118399999999,
            -8.5769818,
            -8.536185,
            -8.4701213,
            -8.3726666,
            -8.244076699999999,
            -8.102
           ],
           "yaxis": "y"
          }
         ],
         "name": "57"
        },
        {
         "data": [
          {
           "hovertemplate": "Odd Proton=False<br>Neutron Number [N]=58<br>Proton Number [Z]=%{x}<br>Deficit [MeV]=%{y}<extra></extra>",
           "legendgroup": "False",
           "marker": {
            "color": "#636efa",
            "symbol": "circle"
           },
           "mode": "markers",
           "name": "False",
           "orientation": "v",
           "showlegend": true,
           "type": "scatter",
           "x": [
            32,
            34,
            36,
            38,
            40,
            42,
            44,
            46,
            48,
            50,
            52,
            54,
            56
           ],
           "xaxis": "x",
           "y": [
            -8.109,
            -8.29,
            -8.4243318,
            -8.5212041,
            -8.5813984,
            -8.6046626,
            -8.6074275,
            -8.5848485,
            -8.5390492,
            -8.4690273,
            -8.358116,
            -8.2300646,
            -8.0896865
           ],
           "yaxis": "y"
          },
          {
           "hovertemplate": "Odd Proton=True<br>Neutron Number [N]=58<br>Proton Number [Z]=%{x}<br>Deficit [MeV]=%{y}<extra></extra>",
           "legendgroup": "True",
           "marker": {
            "color": "#EF553B",
            "symbol": "circle"
           },
           "mode": "markers",
           "name": "True",
           "orientation": "v",
           "showlegend": true,
           "type": "scatter",
           "x": [
            33,
            35,
            37,
            39,
            41,
            43,
            45,
            47,
            49,
            51,
            53,
            55
           ],
           "xaxis": "x",
           "y": [
            -8.189,
            -8.345598599999999,
            -8.460196700000001,
            -8.5414616,
            -8.5789859,
            -8.5931366,
            -8.5841927,
            -8.550370800000001,
            -8.494043900000001,
            -8.4048161,
            -8.2829343,
            -8.148622999999999
           ],
           "yaxis": "y"
          }
         ],
         "name": "58"
        },
        {
         "data": [
          {
           "hovertemplate": "Odd Proton=False<br>Neutron Number [N]=59<br>Proton Number [Z]=%{x}<br>Deficit [MeV]=%{y}<extra></extra>",
           "legendgroup": "False",
           "marker": {
            "color": "#636efa",
            "symbol": "circle"
           },
           "mode": "markers",
           "name": "False",
           "orientation": "v",
           "showlegend": true,
           "type": "scatter",
           "x": [
            34,
            36,
            38,
            40,
            42,
            44,
            46,
            48,
            50,
            52,
            54,
            56
           ],
           "xaxis": "x",
           "y": [
            -8.225,
            -8.3659963,
            -8.471848900000001,
            -8.539225,
            -8.5729159,
            -8.5843656,
            -8.5706509,
            -8.5333524,
            -8.4705183,
            -8.367763499999999,
            -8.2479277,
            -8.116
           ],
           "yaxis": "y"
          },
          {
           "hovertemplate": "Odd Proton=True<br>Neutron Number [N]=59<br>Proton Number [Z]=%{x}<br>Deficit [MeV]=%{y}<extra></extra>",
           "legendgroup": "True",
           "marker": {
            "color": "#EF553B",
            "symbol": "circle"
           },
           "mode": "markers",
           "name": "True",
           "orientation": "v",
           "showlegend": true,
           "type": "scatter",
           "x": [
            33,
            35,
            37,
            39,
            41,
            43,
            45,
            47,
            49,
            51,
            53,
            55
           ],
           "xaxis": "x",
           "y": [
            -8.121,
            -8.287,
            -8.4088963,
            -8.4976162,
            -8.5484683,
            -8.570651400000001,
            -8.5689501,
            -8.5446397,
            -8.4952516,
            -8.4126821,
            -8.299880100000001,
            -8.1735711
           ],
           "yaxis": "y"
          }
         ],
         "name": "59"
        },
        {
         "data": [
          {
           "hovertemplate": "Odd Proton=False<br>Neutron Number [N]=60<br>Proton Number [Z]=%{x}<br>Deficit [MeV]=%{y}<extra></extra>",
           "legendgroup": "False",
           "marker": {
            "color": "#636efa",
            "symbol": "circle"
           },
           "mode": "markers",
           "name": "False",
           "orientation": "v",
           "showlegend": true,
           "type": "scatter",
           "x": [
            34,
            36,
            38,
            40,
            42,
            44,
            46,
            48,
            50,
            52,
            54,
            56
           ],
           "xaxis": "x",
           "y": [
            -8.18,
            -8.3308721,
            -8.4457385,
            -8.522106599999999,
            -8.5683994,
            -8.5873998,
            -8.5799934,
            -8.550019599999999,
            -8.4960875,
            -8.4006527,
            -8.2892054,
            -8.162
           ],
           "yaxis": "y"
          },
          {
           "hovertemplate": "Odd Proton=True<br>Neutron Number [N]=60<br>Proton Number [Z]=%{x}<br>Deficit [MeV]=%{y}<extra></extra>",
           "legendgroup": "True",
           "marker": {
            "color": "#EF553B",
            "symbol": "circle"
           },
           "mode": "markers",
           "name": "True",
           "orientation": "v",
           "showlegend": true,
           "type": "scatter",
           "x": [
            35,
            37,
            39,
            41,
            43,
            45,
            47,
            49,
            51,
            53,
            55,
            57
           ],
           "xaxis": "x",
           "y": [
            -8.245,
            -8.3761872,
            -8.4766938,
            -8.5348355,
            -8.5661045,
            -8.572705299999999,
            -8.5539012,
            -8.5131027,
            -8.4401203,
            -8.333752800000001,
            -8.216,
            -8.086
           ],
           "yaxis": "y"
          }
         ],
         "name": "60"
        },
        {
         "data": [
          {
           "hovertemplate": "Odd Proton=False<br>Neutron Number [N]=61<br>Proton Number [Z]=%{x}<br>Deficit [MeV]=%{y}<extra></extra>",
           "legendgroup": "False",
           "marker": {
            "color": "#636efa",
            "symbol": "circle"
           },
           "mode": "markers",
           "name": "False",
           "orientation": "v",
           "showlegend": true,
           "type": "scatter",
           "x": [
            34,
            36,
            38,
            40,
            42,
            44,
            46,
            48,
            50,
            52,
            54,
            56
           ],
           "xaxis": "x",
           "y": [
            -8.112,
            -8.269864499999999,
            -8.4025235,
            -8.485843899999999,
            -8.5382672,
            -8.561901599999999,
            -8.5608946,
            -8.5387646,
            -8.493131,
            -8.4046366,
            -8.3009704,
            -8.1879546
           ],
           "yaxis": "y"
          },
          {
           "hovertemplate": "Odd Proton=True<br>Neutron Number [N]=61<br>Proton Number [Z]=%{x}<br>Deficit [MeV]=%{y}<extra></extra>",
           "legendgroup": "True",
           "marker": {
            "color": "#EF553B",
            "symbol": "circle"
           },
           "mode": "markers",
           "name": "True",
           "orientation": "v",
           "showlegend": true,
           "type": "scatter",
           "x": [
            35,
            37,
            39,
            41,
            43,
            45,
            47,
            49,
            51,
            53,
            55
           ],
           "xaxis": "x",
           "y": [
            -8.184,
            -8.330729400000001,
            -8.4394151,
            -8.5048675,
            -8.541107,
            -8.5539317,
            -8.5420262,
            -8.5089087,
            -8.443633,
            -8.344779,
            -8.235
           ],
           "yaxis": "y"
          }
         ],
         "name": "61"
        },
        {
         "data": [
          {
           "hovertemplate": "Odd Proton=False<br>Neutron Number [N]=62<br>Proton Number [Z]=%{x}<br>Deficit [MeV]=%{y}<extra></extra>",
           "legendgroup": "False",
           "marker": {
            "color": "#636efa",
            "symbol": "circle"
           },
           "mode": "markers",
           "name": "False",
           "orientation": "v",
           "showlegend": true,
           "type": "scatter",
           "x": [
            36,
            38,
            40,
            42,
            44,
            46,
            48,
            50,
            52,
            54,
            56
           ],
           "xaxis": "x",
           "y": [
            -8.234,
            -8.3722012,
            -8.466294,
            -8.5279063,
            -8.5609406,
            -8.567024100000001,
            -8.5512755,
            -8.513618899999999,
            -8.432788500000001,
            -8.336836499999999,
            -8.227
           ],
           "yaxis": "y"
          },
          {
           "hovertemplate": "Odd Proton=True<br>Neutron Number [N]=62<br>Proton Number [Z]=%{x}<br>Deficit [MeV]=%{y}<extra></extra>",
           "legendgroup": "True",
           "marker": {
            "color": "#EF553B",
            "symbol": "circle"
           },
           "mode": "markers",
           "name": "True",
           "orientation": "v",
           "showlegend": true,
           "type": "scatter",
           "x": [
            35,
            37,
            39,
            41,
            43,
            45,
            47,
            49,
            51,
            53,
            55,
            59
           ],
           "xaxis": "x",
           "y": [
            -8.14,
            -8.295301,
            -8.4133305,
            -8.488332,
            -8.5346074,
            -8.554103999999999,
            -8.547915499999998,
            -8.5222824,
            -8.4652762,
            -8.3745651,
            -8.2718652,
            -8.033
           ],
           "yaxis": "y"
          }
         ],
         "name": "62"
        },
        {
         "data": [
          {
           "hovertemplate": "Odd Proton=False<br>Neutron Number [N]=63<br>Proton Number [Z]=%{x}<br>Deficit [MeV]=%{y}<extra></extra>",
           "legendgroup": "False",
           "marker": {
            "color": "#636efa",
            "symbol": "circle"
           },
           "mode": "markers",
           "name": "False",
           "orientation": "v",
           "showlegend": true,
           "type": "scatter",
           "x": [
            36,
            38,
            40,
            42,
            44,
            46,
            48,
            50,
            52,
            54,
            56,
            58
           ],
           "xaxis": "x",
           "y": [
            -8.175,
            -8.324741099999999,
            -8.4258337,
            -8.494862999999999,
            -8.5333676,
            -8.5448825,
            -8.537080099999999,
            -8.5068117,
            -8.4311504,
            -8.344297599999999,
            -8.2459287,
            -8.132
           ],
           "yaxis": "y"
          },
          {
           "hovertemplate": "Odd Proton=True<br>Neutron Number [N]=63<br>Proton Number [Z]=%{x}<br>Deficit [MeV]=%{y}<extra></extra>",
           "legendgroup": "True",
           "marker": {
            "color": "#EF553B",
            "symbol": "circle"
           },
           "mode": "markers",
           "name": "True",
           "orientation": "v",
           "showlegend": true,
           "type": "scatter",
           "x": [
            35,
            37,
            39,
            41,
            43,
            45,
            47,
            49,
            51,
            53,
            55,
            57
           ],
           "xaxis": "x",
           "y": [
            -8.078,
            -8.2445085,
            -8.3719172,
            -8.453383200000001,
            -8.506557,
            -8.532665699999999,
            -8.532108899999999,
            -8.5146674,
            -8.4625191,
            -8.381285799999999,
            -8.2864053,
            -8.179
           ],
           "yaxis": "y"
          }
         ],
         "name": "63"
        },
        {
         "data": [
          {
           "hovertemplate": "Odd Proton=False<br>Neutron Number [N]=66<br>Proton Number [Z]=%{x}<br>Deficit [MeV]=%{y}<extra></extra>",
           "legendgroup": "False",
           "marker": {
            "color": "#636efa",
            "symbol": "circle"
           },
           "mode": "markers",
           "name": "False",
           "orientation": "v",
           "showlegend": true,
           "type": "scatter",
           "x": [
            36,
            38,
            40,
            42,
            44,
            46,
            48,
            50,
            52,
            54,
            56,
            58,
            60
           ],
           "xaxis": "x",
           "y": [
            null,
            -8.206,
            -8.33,
            -8.4221581,
            -8.4863123,
            -8.5207205,
            -8.531513499999999,
            -8.5231166,
            -8.469697,
            -8.4040322,
            -8.3237567,
            -8.229,
            -8.122
           ],
           "yaxis": "y"
          },
          {
           "hovertemplate": "Odd Proton=True<br>Neutron Number [N]=66<br>Proton Number [Z]=%{x}<br>Deficit [MeV]=%{y}<extra></extra>",
           "legendgroup": "True",
           "marker": {
            "color": "#EF553B",
            "symbol": "circle"
           },
           "mode": "markers",
           "name": "True",
           "orientation": "v",
           "showlegend": true,
           "type": "scatter",
           "x": [
            35,
            37,
            39,
            41,
            43,
            45,
            47,
            49,
            51,
            53,
            55,
            57,
            59
           ],
           "xaxis": "x",
           "y": [
            null,
            -8.112,
            -8.262,
            -8.3670898,
            -8.4441796,
            -8.4956267,
            -8.516066,
            -8.516547200000002,
            -8.4878981,
            -8.4268924,
            -8.3529152,
            -8.267,
            -8.167
           ],
           "yaxis": "y"
          }
         ],
         "name": "66"
        },
        {
         "data": [
          {
           "hovertemplate": "Odd Proton=False<br>Neutron Number [N]=64<br>Proton Number [Z]=%{x}<br>Deficit [MeV]=%{y}<extra></extra>",
           "legendgroup": "False",
           "marker": {
            "color": "#636efa",
            "symbol": "circle"
           },
           "mode": "markers",
           "name": "False",
           "orientation": "v",
           "showlegend": true,
           "type": "scatter",
           "x": [
            36,
            38,
            40,
            42,
            44,
            46,
            48,
            50,
            52,
            54,
            56,
            58
           ],
           "xaxis": "x",
           "y": [
            -8.134,
            -8.2912213,
            -8.4023159,
            -8.479520200000001,
            -8.5272267,
            -8.547163000000001,
            -8.544730600000001,
            -8.5225671,
            -8.4556435,
            -8.3749819,
            -8.280294900000001,
            -8.174
           ],
           "yaxis": "y"
          },
          {
           "hovertemplate": "Odd Proton=True<br>Neutron Number [N]=64<br>Proton Number [Z]=%{x}<br>Deficit [MeV]=%{y}<extra></extra>",
           "legendgroup": "True",
           "marker": {
            "color": "#EF553B",
            "symbol": "circle"
           },
           "mode": "markers",
           "name": "True",
           "orientation": "v",
           "showlegend": true,
           "type": "scatter",
           "x": [
            37,
            39,
            41,
            43,
            45,
            47,
            49,
            51,
            53,
            55,
            57
           ],
           "xaxis": "x",
           "y": [
            -8.2061753,
            -8.3426336,
            -8.431692499999999,
            -8.492897899999999,
            -8.5281404,
            -8.5347878,
            -8.5229297,
            -8.4809156,
            -8.4044307,
            -8.3173347,
            -8.217
           ],
           "yaxis": "y"
          }
         ],
         "name": "64"
        },
        {
         "data": [
          {
           "hovertemplate": "Odd Proton=False<br>Neutron Number [N]=65<br>Proton Number [Z]=%{x}<br>Deficit [MeV]=%{y}<extra></extra>",
           "legendgroup": "False",
           "marker": {
            "color": "#636efa",
            "symbol": "circle"
           },
           "mode": "markers",
           "name": "False",
           "orientation": "v",
           "showlegend": true,
           "type": "scatter",
           "x": [
            36,
            38,
            40,
            42,
            44,
            46,
            48,
            50,
            52,
            54,
            56,
            58,
            60
           ],
           "xaxis": "x",
           "y": [
            -8.075,
            -8.242,
            -8.358598,
            -8.442219,
            -8.496227999999999,
            -8.5217498,
            -8.5269874,
            -8.5140702,
            -8.4509203,
            -8.378442,
            -8.2939083,
            -8.193,
            -8.08
           ],
           "yaxis": "y"
          },
          {
           "hovertemplate": "Odd Proton=True<br>Neutron Number [N]=65<br>Proton Number [Z]=%{x}<br>Deficit [MeV]=%{y}<extra></extra>",
           "legendgroup": "True",
           "marker": {
            "color": "#EF553B",
            "symbol": "circle"
           },
           "mode": "markers",
           "name": "True",
           "orientation": "v",
           "showlegend": true,
           "type": "scatter",
           "x": [
            37,
            39,
            41,
            43,
            45,
            47,
            49,
            51,
            53,
            55,
            57,
            59
           ],
           "xaxis": "x",
           "y": [
            -8.1527443,
            -8.298,
            -8.3932657,
            -8.4628172,
            -8.5042551,
            -8.5160807,
            -8.511974200000001,
            -8.4758208,
            -8.406120300000001,
            -8.328481100000001,
            -8.235,
            -8.128
           ],
           "yaxis": "y"
          }
         ],
         "name": "65"
        },
        {
         "data": [
          {
           "hovertemplate": "Odd Proton=False<br>Neutron Number [N]=67<br>Proton Number [Z]=%{x}<br>Deficit [MeV]=%{y}<extra></extra>",
           "legendgroup": "False",
           "marker": {
            "color": "#636efa",
            "symbol": "circle"
           },
           "mode": "markers",
           "name": "False",
           "orientation": "v",
           "showlegend": true,
           "type": "scatter",
           "x": [
            38,
            40,
            42,
            44,
            46,
            48,
            50,
            52,
            54,
            56,
            58,
            60,
            62
           ],
           "xaxis": "x",
           "y": [
            -8.152,
            -8.284,
            -8.381416300000001,
            -8.4529582,
            -8.4925795,
            -8.510725200000001,
            -8.509611999999999,
            -8.4620785,
            -8.4038326,
            -8.3302086,
            -8.242,
            -8.142,
            -8.023
           ],
           "yaxis": "y"
          },
          {
           "hovertemplate": "Odd Proton=True<br>Neutron Number [N]=67<br>Proton Number [Z]=%{x}<br>Deficit [MeV]=%{y}<extra></extra>",
           "legendgroup": "True",
           "marker": {
            "color": "#EF553B",
            "symbol": "circle"
           },
           "mode": "markers",
           "name": "True",
           "orientation": "v",
           "showlegend": true,
           "type": "scatter",
           "x": [
            37,
            39,
            41,
            43,
            45,
            47,
            49,
            51,
            53,
            55,
            57,
            59,
            61,
            63
           ],
           "xaxis": "x",
           "y": [
            -8.057,
            -8.215,
            -8.3256604,
            -8.4112603,
            -8.4688666,
            -8.493778599999999,
            -8.5016177,
            -8.4789156,
            -8.423674499999999,
            -8.3591515,
            -8.2782926,
            -8.184,
            -8.075,
            -7.95
           ],
           "yaxis": "y"
          }
         ],
         "name": "67"
        },
        {
         "data": [
          {
           "hovertemplate": "Odd Proton=False<br>Neutron Number [N]=68<br>Proton Number [Z]=%{x}<br>Deficit [MeV]=%{y}<extra></extra>",
           "legendgroup": "False",
           "marker": {
            "color": "#636efa",
            "symbol": "circle"
           },
           "mode": "markers",
           "name": "False",
           "orientation": "v",
           "showlegend": true,
           "type": "scatter",
           "x": [
            38,
            40,
            42,
            44,
            46,
            48,
            50,
            52,
            54,
            56,
            58,
            60,
            62
           ],
           "xaxis": "x",
           "y": [
            -8.114,
            -8.253,
            -8.359293,
            -8.4392431,
            -8.488005600000001,
            -8.5123511,
            -8.516534100000001,
            -8.476985699999998,
            -8.4246644,
            -8.355820900000001,
            -8.2732581,
            -8.177,
            -8.065
           ],
           "yaxis": "y"
          },
          {
           "hovertemplate": "Odd Proton=True<br>Neutron Number [N]=68<br>Proton Number [Z]=%{x}<br>Deficit [MeV]=%{y}<extra></extra>",
           "legendgroup": "True",
           "marker": {
            "color": "#EF553B",
            "symbol": "circle"
           },
           "mode": "markers",
           "name": "True",
           "orientation": "v",
           "showlegend": true,
           "type": "scatter",
           "x": [
            37,
            39,
            41,
            43,
            45,
            47,
            49,
            51,
            53,
            55,
            57,
            59,
            61,
            63
           ],
           "xaxis": "x",
           "y": [
            null,
            -8.178,
            -8.2971307,
            -8.390090599999999,
            -8.4568165,
            -8.4905553,
            -8.5038653,
            -8.4879218,
            -8.4414111,
            -8.3803796,
            -8.3046438,
            -8.216,
            -8.114,
            -7.996
           ],
           "yaxis": "y"
          }
         ],
         "name": "68"
        },
        {
         "data": [
          {
           "hovertemplate": "Odd Proton=False<br>Neutron Number [N]=69<br>Proton Number [Z]=%{x}<br>Deficit [MeV]=%{y}<extra></extra>",
           "legendgroup": "False",
           "marker": {
            "color": "#636efa",
            "symbol": "circle"
           },
           "mode": "markers",
           "name": "False",
           "orientation": "v",
           "showlegend": true,
           "type": "scatter",
           "x": [
            38,
            40,
            42,
            44,
            46,
            48,
            50,
            52,
            54,
            56,
            58,
            60,
            62
           ],
           "xaxis": "x",
           "y": [
            -8.057,
            -8.204,
            -8.3152932,
            -8.4026857,
            -8.4577342,
            -8.488974,
            -8.4994494,
            -8.4668641,
            -8.4209239,
            -8.3581784,
            -8.2807922,
            -8.191,
            -8.085
           ],
           "yaxis": "y"
          },
          {
           "hovertemplate": "Odd Proton=True<br>Neutron Number [N]=69<br>Proton Number [Z]=%{x}<br>Deficit [MeV]=%{y}<extra></extra>",
           "legendgroup": "True",
           "marker": {
            "color": "#EF553B",
            "symbol": "circle"
           },
           "mode": "markers",
           "name": "True",
           "orientation": "v",
           "showlegend": true,
           "type": "scatter",
           "x": [
            37,
            39,
            41,
            43,
            45,
            47,
            49,
            51,
            53,
            55,
            57,
            59,
            61,
            63
           ],
           "xaxis": "x",
           "y": [
            null,
            -8.129,
            -8.255260700000001,
            -8.3536217,
            -8.426622100000001,
            -8.465907300000001,
            -8.485667,
            -8.475629999999999,
            -8.4370139,
            -8.3835114,
            -8.312426799999999,
            -8.2289141,
            -8.131,
            -8.018
           ],
           "yaxis": "y"
          }
         ],
         "name": "69"
        },
        {
         "data": [
          {
           "hovertemplate": "Odd Proton=False<br>Neutron Number [N]=70<br>Proton Number [Z]=%{x}<br>Deficit [MeV]=%{y}<extra></extra>",
           "legendgroup": "False",
           "marker": {
            "color": "#636efa",
            "symbol": "circle"
           },
           "mode": "markers",
           "name": "False",
           "orientation": "v",
           "showlegend": true,
           "type": "scatter",
           "x": [
            38,
            40,
            42,
            44,
            46,
            48,
            50,
            52,
            54,
            56,
            58,
            60,
            62,
            64
           ],
           "xaxis": "x",
           "y": [
            null,
            -8.171,
            -8.291,
            -8.3853351,
            -8.4492755,
            -8.487834999999999,
            -8.504487999999998,
            -8.4781315,
            -8.4376138,
            -8.3797187,
            -8.3069259,
            -8.222513600000001,
            -8.122,
            -8.008
           ],
           "yaxis": "y"
          },
          {
           "hovertemplate": "Odd Proton=True<br>Neutron Number [N]=70<br>Proton Number [Z]=%{x}<br>Deficit [MeV]=%{y}<extra></extra>",
           "legendgroup": "True",
           "marker": {
            "color": "#EF553B",
            "symbol": "circle"
           },
           "mode": "markers",
           "name": "True",
           "orientation": "v",
           "showlegend": true,
           "type": "scatter",
           "x": [
            39,
            41,
            43,
            45,
            47,
            49,
            51,
            53,
            55,
            57,
            59,
            61,
            65
           ],
           "xaxis": "x",
           "y": [
            -8.089,
            -8.223,
            -8.329465200000001,
            -8.4106538,
            -8.459451499999998,
            -8.4861387,
            -8.4820574,
            -8.4491896,
            -8.3998033,
            -8.333541199999999,
            -8.254380800000002,
            -8.163,
            -7.939
           ],
           "yaxis": "y"
          }
         ],
         "name": "70"
        },
        {
         "data": [
          {
           "hovertemplate": "Odd Proton=False<br>Neutron Number [N]=71<br>Proton Number [Z]=%{x}<br>Deficit [MeV]=%{y}<extra></extra>",
           "legendgroup": "False",
           "marker": {
            "color": "#636efa",
            "symbol": "circle"
           },
           "mode": "markers",
           "name": "False",
           "orientation": "v",
           "showlegend": true,
           "type": "scatter",
           "x": [
            40,
            42,
            44,
            46,
            48,
            50,
            52,
            54,
            56,
            58,
            60,
            62,
            64
           ],
           "xaxis": "x",
           "y": [
            -8.118,
            -8.246,
            -8.346814,
            -8.4169243,
            -8.461438099999999,
            -8.485196400000001,
            -8.465537,
            -8.430939,
            -8.378456,
            -8.3109411,
            -8.2303045,
            -8.137,
            -8.028
           ],
           "yaxis": "y"
          },
          {
           "hovertemplate": "Odd Proton=True<br>Neutron Number [N]=71<br>Proton Number [Z]=%{x}<br>Deficit [MeV]=%{y}<extra></extra>",
           "legendgroup": "True",
           "marker": {
            "color": "#EF553B",
            "symbol": "circle"
           },
           "mode": "markers",
           "name": "True",
           "orientation": "v",
           "showlegend": true,
           "type": "scatter",
           "x": [
            39,
            41,
            43,
            45,
            47,
            49,
            51,
            53,
            55,
            57,
            59,
            61,
            63
           ],
           "xaxis": "x",
           "y": [
            null,
            -8.178,
            -8.290259899999999,
            -8.377612300000001,
            -8.43389,
            -8.4662575,
            -8.468322200000001,
            -8.4414807,
            -8.3992673,
            -8.337190399999999,
            -8.2637565,
            -8.177,
            -8.075
           ],
           "yaxis": "y"
          }
         ],
         "name": "71"
        },
        {
         "data": [
          {
           "hovertemplate": "Odd Proton=False<br>Neutron Number [N]=72<br>Proton Number [Z]=%{x}<br>Deficit [MeV]=%{y}<extra></extra>",
           "legendgroup": "False",
           "marker": {
            "color": "#636efa",
            "symbol": "circle"
           },
           "mode": "markers",
           "name": "False",
           "orientation": "v",
           "showlegend": true,
           "type": "scatter",
           "x": [
            40,
            42,
            44,
            46,
            48,
            50,
            52,
            54,
            56,
            58,
            60,
            62,
            64
           ],
           "xaxis": "x",
           "y": [
            -8.081,
            -8.219,
            -8.326884,
            -8.4052197,
            -8.458024,
            -8.4878968,
            -8.4732705,
            -8.4435375,
            -8.3959878,
            -8.3332164,
            -8.2568104,
            -8.167,
            -8.064
           ],
           "yaxis": "y"
          },
          {
           "hovertemplate": "Odd Proton=True<br>Neutron Number [N]=72<br>Proton Number [Z]=%{x}<br>Deficit [MeV]=%{y}<extra></extra>",
           "legendgroup": "True",
           "marker": {
            "color": "#EF553B",
            "symbol": "circle"
           },
           "mode": "markers",
           "name": "True",
           "orientation": "v",
           "showlegend": true,
           "type": "scatter",
           "x": [
            39,
            41,
            43,
            45,
            47,
            49,
            51,
            53,
            55,
            57,
            59,
            61,
            63
           ],
           "xaxis": "x",
           "y": [
            null,
            -8.143,
            -8.264,
            -8.3592766,
            -8.423212600000001,
            -8.4638767,
            -8.4723196,
            -8.450291100000001,
            -8.4115617,
            -8.3560449,
            -8.286143899999999,
            -8.2042841,
            -8.107
           ],
           "yaxis": "y"
          }
         ],
         "name": "72"
        },
        {
         "data": [
          {
           "hovertemplate": "Odd Proton=False<br>Neutron Number [N]=73<br>Proton Number [Z]=%{x}<br>Deficit [MeV]=%{y}<extra></extra>",
           "legendgroup": "False",
           "marker": {
            "color": "#636efa",
            "symbol": "circle"
           },
           "mode": "markers",
           "name": "False",
           "orientation": "v",
           "showlegend": true,
           "type": "scatter",
           "x": [
            40,
            42,
            44,
            46,
            48,
            50,
            52,
            54,
            56,
            58,
            60,
            62,
            64,
            66
           ],
           "xaxis": "x",
           "y": [
            -8.027,
            -8.173,
            -8.2855625,
            -8.3689594,
            -8.4309972,
            -8.4672313,
            -8.4580361,
            -8.4341066,
            -8.3910811,
            -8.3333969,
            -8.262232,
            -8.177627000000001,
            -8.08,
            -7.971
           ],
           "yaxis": "y"
          },
          {
           "hovertemplate": "Odd Proton=True<br>Neutron Number [N]=73<br>Proton Number [Z]=%{x}<br>Deficit [MeV]=%{y}<extra></extra>",
           "legendgroup": "True",
           "marker": {
            "color": "#EF553B",
            "symbol": "circle"
           },
           "mode": "markers",
           "name": "True",
           "orientation": "v",
           "showlegend": true,
           "type": "scatter",
           "x": [
            41,
            43,
            45,
            47,
            49,
            51,
            53,
            55,
            57,
            59,
            61,
            63,
            65,
            67
           ],
           "xaxis": "x",
           "y": [
            -8.097,
            -8.223,
            -8.3228539,
            -8.3953281,
            -8.442107900000002,
            -8.4561517,
            -8.4399379,
            -8.406495300000001,
            -8.3561919,
            -8.291537700000001,
            -8.2134131,
            -8.122,
            -8.019,
            -7.906
           ],
           "yaxis": "y"
          }
         ],
         "name": "73"
        },
        {
         "data": [
          {
           "hovertemplate": "Odd Proton=False<br>Neutron Number [N]=74<br>Proton Number [Z]=%{x}<br>Deficit [MeV]=%{y}<extra></extra>",
           "legendgroup": "False",
           "marker": {
            "color": "#636efa",
            "symbol": "circle"
           },
           "mode": "markers",
           "name": "False",
           "orientation": "v",
           "showlegend": true,
           "type": "scatter",
           "x": [
            40,
            42,
            44,
            46,
            48,
            50,
            52,
            54,
            56,
            58,
            60,
            62,
            64,
            66
           ],
           "xaxis": "x",
           "y": [
            null,
            -8.143,
            -8.263,
            -8.3570817,
            -8.4242667,
            -8.4673997,
            -8.4632397,
            -8.443300800000001,
            -8.405513000000001,
            -8.352322299999999,
            -8.2855391,
            -8.205916499999999,
            -8.112,
            -8.008
           ],
           "yaxis": "y"
          },
          {
           "hovertemplate": "Odd Proton=True<br>Neutron Number [N]=74<br>Proton Number [Z]=%{x}<br>Deficit [MeV]=%{y}<extra></extra>",
           "legendgroup": "True",
           "marker": {
            "color": "#EF553B",
            "symbol": "circle"
           },
           "mode": "markers",
           "name": "True",
           "orientation": "v",
           "showlegend": true,
           "type": "scatter",
           "x": [
            41,
            43,
            45,
            47,
            49,
            51,
            53,
            55,
            57,
            59,
            61,
            63,
            65,
            67
           ],
           "xaxis": "x",
           "y": [
            -8.061,
            -8.195,
            -8.3033953,
            -8.3823306,
            -8.4379362,
            -8.458161200000001,
            -8.445482,
            -8.4160465,
            -8.3703676,
            -8.3102588,
            -8.236793299999999,
            -8.1505738,
            -8.052,
            -7.943
           ],
           "yaxis": "y"
          }
         ],
         "name": "74"
        },
        {
         "data": [
          {
           "hovertemplate": "Odd Proton=False<br>Neutron Number [N]=75<br>Proton Number [Z]=%{x}<br>Deficit [MeV]=%{y}<extra></extra>",
           "legendgroup": "False",
           "marker": {
            "color": "#636efa",
            "symbol": "circle"
           },
           "mode": "markers",
           "name": "False",
           "orientation": "v",
           "showlegend": true,
           "type": "scatter",
           "x": [
            42,
            44,
            46,
            48,
            50,
            52,
            54,
            56,
            58,
            60,
            62,
            64,
            66,
            68
           ],
           "xaxis": "x",
           "y": [
            -8.096,
            -8.22,
            -8.320858399999999,
            -8.395395500000001,
            -8.4455285,
            -8.446109,
            -8.4313904,
            -8.3985511,
            -8.349830099999998,
            -8.2881536,
            -8.213552700000001,
            -8.126,
            -8.027,
            -7.917
           ],
           "yaxis": "y"
          },
          {
           "hovertemplate": "Odd Proton=True<br>Neutron Number [N]=75<br>Proton Number [Z]=%{x}<br>Deficit [MeV]=%{y}<extra></extra>",
           "legendgroup": "True",
           "marker": {
            "color": "#EF553B",
            "symbol": "circle"
           },
           "mode": "markers",
           "name": "True",
           "orientation": "v",
           "showlegend": true,
           "type": "scatter",
           "x": [
            41,
            43,
            45,
            47,
            49,
            51,
            53,
            55,
            57,
            59,
            61,
            63,
            65,
            67,
            69
           ],
           "xaxis": "x",
           "y": [
            -8.012,
            -8.153,
            -8.266,
            -8.3527591,
            -8.4143243,
            -8.4403136,
            -8.4328309,
            -8.4087848,
            -8.3677559,
            -8.3128817,
            -8.243720699999999,
            -8.1616211,
            -8.068673200000001,
            -7.965,
            -7.85
           ],
           "yaxis": "y"
          }
         ],
         "name": "75"
        },
        {
         "data": [
          {
           "hovertemplate": "Odd Proton=False<br>Neutron Number [N]=76<br>Proton Number [Z]=%{x}<br>Deficit [MeV]=%{y}<extra></extra>",
           "legendgroup": "False",
           "marker": {
            "color": "#636efa",
            "symbol": "circle"
           },
           "mode": "markers",
           "name": "False",
           "orientation": "v",
           "showlegend": true,
           "type": "scatter",
           "x": [
            42,
            44,
            46,
            48,
            50,
            52,
            54,
            56,
            58,
            60,
            62,
            64,
            66,
            68
           ],
           "xaxis": "x",
           "y": [
            -8.067,
            -8.199,
            -8.3059755,
            -8.3870179,
            -8.443522699999999,
            -8.4487536,
            -8.4377314,
            -8.4093747,
            -8.3657716,
            -8.3085127,
            -8.2379286,
            -8.1549757,
            -8.061,
            -7.956
           ],
           "yaxis": "y"
          },
          {
           "hovertemplate": "Odd Proton=True<br>Neutron Number [N]=76<br>Proton Number [Z]=%{x}<br>Deficit [MeV]=%{y}<extra></extra>",
           "legendgroup": "True",
           "marker": {
            "color": "#EF553B",
            "symbol": "circle"
           },
           "mode": "markers",
           "name": "True",
           "orientation": "v",
           "showlegend": true,
           "type": "scatter",
           "x": [
            41,
            43,
            45,
            47,
            49,
            51,
            53,
            55,
            57,
            59,
            61,
            63,
            65,
            67,
            69
           ],
           "xaxis": "x",
           "y": [
            null,
            -8.126,
            -8.2452397,
            -8.3379707,
            -8.4079365,
            -8.439810999999999,
            -8.435990799999999,
            -8.4150317,
            -8.3788415,
            -8.3289284,
            -8.2636516,
            -8.1872187,
            -8.0974761,
            -7.999,
            -7.889
           ],
           "yaxis": "y"
          }
         ],
         "name": "76"
        },
        {
         "data": [
          {
           "hovertemplate": "Odd Proton=False<br>Neutron Number [N]=77<br>Proton Number [Z]=%{x}<br>Deficit [MeV]=%{y}<extra></extra>",
           "legendgroup": "False",
           "marker": {
            "color": "#636efa",
            "symbol": "circle"
           },
           "mode": "markers",
           "name": "False",
           "orientation": "v",
           "showlegend": true,
           "type": "scatter",
           "x": [
            42,
            44,
            46,
            48,
            50,
            52,
            54,
            56,
            58,
            60,
            62,
            64,
            66,
            68
           ],
           "xaxis": "x",
           "y": [
            -8.019,
            -8.156,
            -8.2700318,
            -8.3576815,
            -8.420548199999999,
            -8.4304098,
            -8.4237367,
            -8.400205900000001,
            -8.3619861,
            -8.3095892,
            -8.2430786,
            -8.164609,
            -8.0750527,
            -7.975
           ],
           "yaxis": "y"
          },
          {
           "hovertemplate": "Odd Proton=True<br>Neutron Number [N]=77<br>Proton Number [Z]=%{x}<br>Deficit [MeV]=%{y}<extra></extra>",
           "legendgroup": "True",
           "marker": {
            "color": "#EF553B",
            "symbol": "circle"
           },
           "mode": "markers",
           "name": "True",
           "orientation": "v",
           "showlegend": true,
           "type": "scatter",
           "x": [
            43,
            45,
            47,
            49,
            51,
            53,
            55,
            57,
            59,
            61,
            63,
            65,
            67,
            69
           ],
           "xaxis": "x",
           "y": [
            -8.083,
            -8.208,
            -8.3088958,
            -8.3846067,
            -8.4207724,
            -8.4211011,
            -8.4055878,
            -8.3744888,
            -8.330008900000001,
            -8.2683558,
            -8.197733,
            -8.111508,
            -8.0170977,
            -7.914
           ],
           "yaxis": "y"
          }
         ],
         "name": "77"
        },
        {
         "data": [
          {
           "hovertemplate": "Odd Proton=False<br>Neutron Number [N]=78<br>Proton Number [Z]=%{x}<br>Deficit [MeV]=%{y}<extra></extra>",
           "legendgroup": "False",
           "marker": {
            "color": "#636efa",
            "symbol": "circle"
           },
           "mode": "markers",
           "name": "False",
           "orientation": "v",
           "showlegend": true,
           "type": "scatter",
           "x": [
            44,
            46,
            48,
            50,
            52,
            54,
            56,
            58,
            60,
            62,
            64,
            66,
            68
           ],
           "xaxis": "x",
           "y": [
            -8.132,
            -8.252,
            -8.3467393,
            -8.4169749,
            -8.4303251,
            -8.427622900000001,
            -8.4081731,
            -8.3737624,
            -8.3254946,
            -8.2638211,
            -8.1902569,
            -8.1055902,
            -8.0105127
           ],
           "yaxis": "y"
          },
          {
           "hovertemplate": "Odd Proton=True<br>Neutron Number [N]=78<br>Proton Number [Z]=%{x}<br>Deficit [MeV]=%{y}<extra></extra>",
           "legendgroup": "True",
           "marker": {
            "color": "#EF553B",
            "symbol": "circle"
           },
           "mode": "markers",
           "name": "True",
           "orientation": "v",
           "showlegend": true,
           "type": "scatter",
           "x": [
            43,
            45,
            47,
            49,
            51,
            53,
            55,
            57,
            59,
            61,
            63,
            65,
            67,
            69,
            71
           ],
           "xaxis": "x",
           "y": [
            -8.054,
            -8.185,
            -8.2933151,
            -8.3748212,
            -8.418059800000002,
            -8.4222977,
            -8.4099786,
            -8.3827972,
            -8.341707399999999,
            -8.285547300000001,
            -8.2176853,
            -8.1382176,
            -8.0485792,
            -7.9488178,
            null
           ],
           "yaxis": "y"
          }
         ],
         "name": "78"
        },
        {
         "data": [
          {
           "hovertemplate": "Odd Proton=False<br>Neutron Number [N]=79<br>Proton Number [Z]=%{x}<br>Deficit [MeV]=%{y}<extra></extra>",
           "legendgroup": "False",
           "marker": {
            "color": "#636efa",
            "symbol": "circle"
           },
           "mode": "markers",
           "name": "False",
           "orientation": "v",
           "showlegend": true,
           "type": "scatter",
           "x": [
            44,
            46,
            48,
            50,
            52,
            54,
            56,
            58,
            60,
            62,
            64,
            66,
            68,
            70,
            72
           ],
           "xaxis": "x",
           "y": [
            -8.089,
            -8.215,
            -8.3168971,
            -8.3928161,
            -8.4112339,
            -8.412647699999999,
            -8.397534499999999,
            -8.3672497,
            -8.3236642,
            -8.265846,
            -8.1983188,
            -8.1168884,
            -8.026475999999999,
            -7.927,
            null
           ],
           "yaxis": "y"
          },
          {
           "hovertemplate": "Odd Proton=True<br>Neutron Number [N]=79<br>Proton Number [Z]=%{x}<br>Deficit [MeV]=%{y}<extra></extra>",
           "legendgroup": "True",
           "marker": {
            "color": "#EF553B",
            "symbol": "circle"
           },
           "mode": "markers",
           "name": "True",
           "orientation": "v",
           "showlegend": true,
           "type": "scatter",
           "x": [
            43,
            45,
            47,
            49,
            51,
            53,
            55,
            57,
            59,
            61,
            63,
            65,
            67,
            69,
            71
           ],
           "xaxis": "x",
           "y": [
            -8.011,
            -8.148,
            -8.261,
            -8.3514361,
            -8.3973641,
            -8.4064628,
            -8.398647,
            -8.3760512,
            -8.339219499999999,
            -8.289095799999998,
            -8.226396000000001,
            -8.1512877,
            -8.063242599999999,
            -7.9685011,
            -7.866
           ],
           "yaxis": "y"
          }
         ],
         "name": "79"
        },
        {
         "data": [
          {
           "hovertemplate": "Odd Proton=False<br>Neutron Number [N]=80<br>Proton Number [Z]=%{x}<br>Deficit [MeV]=%{y}<extra></extra>",
           "legendgroup": "False",
           "marker": {
            "color": "#636efa",
            "symbol": "circle"
           },
           "mode": "markers",
           "name": "False",
           "orientation": "v",
           "showlegend": true,
           "type": "scatter",
           "x": [
            44,
            46,
            48,
            50,
            52,
            54,
            56,
            58,
            60,
            62,
            64,
            66,
            68,
            70
           ],
           "xaxis": "x",
           "y": [
            -8.065,
            -8.197,
            -8.3032367,
            -8.386816999999999,
            -8.4084859,
            -8.413699399999999,
            -8.4027566,
            -8.377040800000001,
            -8.337864,
            -8.2859407,
            -8.2219382,
            -8.1461128,
            -8.0596924,
            -7.965
           ],
           "yaxis": "y"
          },
          {
           "hovertemplate": "Odd Proton=True<br>Neutron Number [N]=80<br>Proton Number [Z]=%{x}<br>Deficit [MeV]=%{y}<extra></extra>",
           "legendgroup": "True",
           "marker": {
            "color": "#EF553B",
            "symbol": "circle"
           },
           "mode": "markers",
           "name": "True",
           "orientation": "v",
           "showlegend": true,
           "type": "scatter",
           "x": [
            45,
            47,
            49,
            51,
            53,
            55,
            57,
            59,
            61,
            63,
            65,
            67,
            69,
            71
           ],
           "xaxis": "x",
           "y": [
            -8.124,
            -8.244,
            -8.338759,
            -8.392552499999999,
            -8.4050993,
            -8.4013393,
            -8.3818807,
            -8.3495208,
            -8.303940500000001,
            -8.2458177,
            -8.1785397,
            -8.0940381,
            -8.004,
            -7.904
           ],
           "yaxis": "y"
          }
         ],
         "name": "80"
        },
        {
         "data": [
          {
           "hovertemplate": "Odd Proton=False<br>Neutron Number [N]=81<br>Proton Number [Z]=%{x}<br>Deficit [MeV]=%{y}<extra></extra>",
           "legendgroup": "False",
           "marker": {
            "color": "#636efa",
            "symbol": "circle"
           },
           "mode": "markers",
           "name": "False",
           "orientation": "v",
           "showlegend": true,
           "type": "scatter",
           "x": [
            44,
            46,
            48,
            50,
            52,
            54,
            56,
            58,
            60,
            62,
            64,
            66,
            68,
            70,
            72
           ],
           "xaxis": "x",
           "y": [
            -8.023,
            -8.16,
            -8.2695311,
            -8.3625183,
            -8.389025499999999,
            -8.3984783,
            -8.391828799999999,
            -8.3704664,
            -8.335507400000001,
            -8.288182500000001,
            -8.2289485,
            -8.156768,
            -8.0749558,
            -7.9837556,
            -7.882
           ],
           "yaxis": "y"
          },
          {
           "hovertemplate": "Odd Proton=True<br>Neutron Number [N]=81<br>Proton Number [Z]=%{x}<br>Deficit [MeV]=%{y}<extra></extra>",
           "legendgroup": "True",
           "marker": {
            "color": "#EF553B",
            "symbol": "circle"
           },
           "mode": "markers",
           "name": "True",
           "orientation": "v",
           "showlegend": true,
           "type": "scatter",
           "x": [
            45,
            47,
            49,
            51,
            53,
            55,
            57,
            59,
            61,
            63,
            65,
            67,
            69,
            71
           ],
           "xaxis": "x",
           "y": [
            -8.087,
            -8.211,
            -8.314176,
            -8.3723452,
            -8.389072200000001,
            -8.3897723,
            -8.3750835,
            -8.3465163,
            -8.3066587,
            -8.2541744,
            -8.1871474,
            -8.108979699999999,
            -8.021,
            -7.926
           ],
           "yaxis": "y"
          }
         ],
         "name": "81"
        },
        {
         "data": [
          {
           "hovertemplate": "Odd Proton=False<br>Neutron Number [N]=82<br>Proton Number [Z]=%{x}<br>Deficit [MeV]=%{y}<extra></extra>",
           "legendgroup": "False",
           "marker": {
            "color": "#636efa",
            "symbol": "circle"
           },
           "mode": "markers",
           "name": "False",
           "orientation": "v",
           "showlegend": true,
           "type": "scatter",
           "x": [
            46,
            48,
            50,
            52,
            54,
            56,
            58,
            60,
            62,
            64,
            66,
            68,
            70,
            72
           ],
           "xaxis": "x",
           "y": [
            -8.137,
            -8.2525868,
            -8.3548726,
            -8.3836442,
            -8.396188899999999,
            -8.393422200000002,
            -8.3763045,
            -8.346031,
            -8.30368,
            -8.2495072,
            -8.180943000000001,
            -8.1021962,
            -8.0154371,
            -7.918
           ],
           "yaxis": "y"
          },
          {
           "hovertemplate": "Odd Proton=True<br>Neutron Number [N]=82<br>Proton Number [Z]=%{x}<br>Deficit [MeV]=%{y}<extra></extra>",
           "legendgroup": "True",
           "marker": {
            "color": "#EF553B",
            "symbol": "circle"
           },
           "mode": "markers",
           "name": "True",
           "orientation": "v",
           "showlegend": true,
           "type": "scatter",
           "x": [
            45,
            47,
            49,
            51,
            53,
            55,
            57,
            59,
            61,
            63,
            65,
            67,
            69,
            71,
            73
           ],
           "xaxis": "x",
           "y": [
            -8.06,
            -8.188,
            -8.2979544,
            -8.3647302,
            -8.3847609,
            -8.3889581,
            -8.377998700000001,
            -8.353985199999999,
            -8.3177341,
            -8.2692744,
            -8.206625,
            -8.133255,
            -8.0500576,
            -7.9590882,
            -7.858
           ],
           "yaxis": "y"
          }
         ],
         "name": "82"
        },
        {
         "data": [
          {
           "hovertemplate": "Odd Proton=False<br>Neutron Number [N]=83<br>Proton Number [Z]=%{x}<br>Deficit [MeV]=%{y}<extra></extra>",
           "legendgroup": "False",
           "marker": {
            "color": "#636efa",
            "symbol": "circle"
           },
           "mode": "markers",
           "name": "False",
           "orientation": "v",
           "showlegend": true,
           "type": "scatter",
           "x": [
            46,
            48,
            50,
            52,
            54,
            56,
            58,
            60,
            62,
            64,
            66,
            68,
            70,
            72,
            74
           ],
           "xaxis": "x",
           "y": [
            -8.086,
            -8.2061204,
            -8.310089,
            -8.3457384,
            -8.3642865,
            -8.367019399999998,
            -8.3553956,
            -8.3304893,
            -8.2930139,
            -8.243336600000001,
            -8.1790972,
            -8.1048723,
            -8.022,
            -7.929,
            -7.828
           ],
           "yaxis": "y"
          },
          {
           "hovertemplate": "Odd Proton=True<br>Neutron Number [N]=83<br>Proton Number [Z]=%{x}<br>Deficit [MeV]=%{y}<extra></extra>",
           "legendgroup": "True",
           "marker": {
            "color": "#EF553B",
            "symbol": "circle"
           },
           "mode": "markers",
           "name": "True",
           "orientation": "v",
           "showlegend": true,
           "type": "scatter",
           "x": [
            45,
            47,
            49,
            51,
            53,
            55,
            57,
            59,
            61,
            63,
            65,
            67,
            69,
            71,
            73
           ],
           "xaxis": "x",
           "y": [
            -8.01,
            -8.142,
            -8.253716200000001,
            -8.3259398,
            -8.351324199999999,
            -8.3601437,
            -8.355020099999999,
            -8.3363032,
            -8.3052969,
            -8.2619327,
            -8.2043207,
            -8.1348423,
            -8.0564387,
            -7.968,
            -7.872
           ],
           "yaxis": "y"
          }
         ],
         "name": "83"
        },
        {
         "data": [
          {
           "hovertemplate": "Odd Proton=False<br>Neutron Number [N]=84<br>Proton Number [Z]=%{x}<br>Deficit [MeV]=%{y}<extra></extra>",
           "legendgroup": "False",
           "marker": {
            "color": "#636efa",
            "symbol": "circle"
           },
           "mode": "markers",
           "name": "False",
           "orientation": "v",
           "showlegend": true,
           "type": "scatter",
           "x": [
            46,
            48,
            50,
            52,
            54,
            56,
            58,
            60,
            62,
            64,
            66,
            68,
            70,
            72,
            74
           ],
           "xaxis": "x",
           "y": [
            -8.046,
            -8.1691421,
            -8.2751719,
            -8.3194301,
            -8.344691300000001,
            -8.35315,
            -8.34707,
            -8.3269237,
            -8.2938581,
            -8.2483398,
            -8.189149500000001,
            -8.1193485,
            -8.0399402,
            -7.9526676,
            -7.855
           ],
           "yaxis": "y"
          },
          {
           "hovertemplate": "Odd Proton=True<br>Neutron Number [N]=84<br>Proton Number [Z]=%{x}<br>Deficit [MeV]=%{y}<extra></extra>",
           "legendgroup": "True",
           "marker": {
            "color": "#EF553B",
            "symbol": "circle"
           },
           "mode": "markers",
           "name": "True",
           "orientation": "v",
           "showlegend": true,
           "type": "scatter",
           "x": [
            47,
            49,
            51,
            53,
            55,
            57,
            59,
            61,
            63,
            65,
            67,
            69,
            71,
            73,
            75
           ],
           "xaxis": "x",
           "y": [
            -8.102,
            -8.217,
            -8.2919894,
            -8.3260033,
            -8.3423397,
            -8.343205,
            -8.329428,
            -8.3026583,
            -8.2635409,
            -8.2098153,
            -8.1455267,
            -8.0712571,
            -7.9874369,
            -7.8960608,
            -7.795
           ],
           "yaxis": "y"
          }
         ],
         "name": "84"
        },
        {
         "data": [
          {
           "hovertemplate": "Odd Proton=False<br>Neutron Number [N]=85<br>Proton Number [Z]=%{x}<br>Deficit [MeV]=%{y}<extra></extra>",
           "legendgroup": "False",
           "marker": {
            "color": "#636efa",
            "symbol": "circle"
           },
           "mode": "markers",
           "name": "False",
           "orientation": "v",
           "showlegend": true,
           "type": "scatter",
           "x": [
            46,
            48,
            50,
            52,
            54,
            56,
            58,
            60,
            62,
            64,
            66,
            68,
            70,
            72,
            74,
            76
           ],
           "xaxis": "x",
           "y": [
            -7.993,
            -8.121,
            -8.2306877,
            -8.280235699999999,
            -8.311590399999998,
            -8.3260774,
            -8.324676499999999,
            -8.3091883,
            -8.2805734,
            -8.2394856,
            -8.1846789,
            -8.1188154,
            -8.0438234,
            -7.96,
            -7.867,
            -7.765
           ],
           "yaxis": "y"
          },
          {
           "hovertemplate": "Odd Proton=True<br>Neutron Number [N]=85<br>Proton Number [Z]=%{x}<br>Deficit [MeV]=%{y}<extra></extra>",
           "legendgroup": "True",
           "marker": {
            "color": "#EF553B",
            "symbol": "circle"
           },
           "mode": "markers",
           "name": "True",
           "orientation": "v",
           "showlegend": true,
           "type": "scatter",
           "x": [
            47,
            49,
            51,
            53,
            55,
            57,
            59,
            61,
            63,
            65,
            67,
            69,
            71,
            73,
            75
           ],
           "xaxis": "x",
           "y": [
            -8.053,
            -8.173,
            -8.2522533,
            -8.292444999999999,
            -8.3143227,
            -8.3208263,
            -8.311541100000001,
            -8.288655,
            -8.2538155,
            -8.2063396,
            -8.1449193,
            -8.074209,
            -7.995375200000001,
            -7.907,
            -7.81
           ],
           "yaxis": "y"
          }
         ],
         "name": "85"
        },
        {
         "data": [
          {
           "hovertemplate": "Odd Proton=False<br>Neutron Number [N]=86<br>Proton Number [Z]=%{x}<br>Deficit [MeV]=%{y}<extra></extra>",
           "legendgroup": "False",
           "marker": {
            "color": "#636efa",
            "symbol": "circle"
           },
           "mode": "markers",
           "name": "False",
           "orientation": "v",
           "showlegend": true,
           "type": "scatter",
           "x": [
            48,
            50,
            52,
            54,
            56,
            58,
            60,
            62,
            64,
            66,
            68,
            70,
            72,
            74,
            76
           ],
           "xaxis": "x",
           "y": [
            -8.086,
            -8.197,
            -8.252578600000001,
            -8.2908875,
            -8.310971799999999,
            -8.314761200000001,
            -8.3040927,
            -8.279632600000001,
            -8.2426103,
            -8.1929171,
            -8.1323919,
            -8.061710699999999,
            -7.9812764,
            -7.8927893000000005,
            -7.794
           ],
           "yaxis": "y"
          },
          {
           "hovertemplate": "Odd Proton=True<br>Neutron Number [N]=86<br>Proton Number [Z]=%{x}<br>Deficit [MeV]=%{y}<extra></extra>",
           "legendgroup": "True",
           "marker": {
            "color": "#EF553B",
            "symbol": "circle"
           },
           "mode": "markers",
           "name": "True",
           "orientation": "v",
           "showlegend": true,
           "type": "scatter",
           "x": [
            49,
            51,
            53,
            55,
            57,
            59,
            61,
            63,
            65,
            67,
            69,
            71,
            73,
            75
           ],
           "xaxis": "x",
           "y": [
            -8.136,
            -8.2184764,
            -8.26561,
            -8.2943554,
            -8.3061271,
            -8.3021285,
            -8.284371199999999,
            -8.253556,
            -8.2088743,
            -8.1536372,
            -8.088376,
            -8.0133128,
            -7.9287258000000005,
            -7.8363292
           ],
           "yaxis": "y"
          }
         ],
         "name": "86"
        },
        {
         "data": [
          {
           "hovertemplate": "Odd Proton=False<br>Neutron Number [N]=87<br>Proton Number [Z]=%{x}<br>Deficit [MeV]=%{y}<extra></extra>",
           "legendgroup": "False",
           "marker": {
            "color": "#636efa",
            "symbol": "circle"
           },
           "mode": "markers",
           "name": "False",
           "orientation": "v",
           "showlegend": true,
           "type": "scatter",
           "x": [
            50,
            52,
            54,
            56,
            58,
            60,
            62,
            64,
            66,
            68,
            70,
            72,
            74,
            76,
            78
           ],
           "xaxis": "x",
           "y": [
            -8.152,
            -8.2117716,
            -8.2553647,
            -8.281987800000001,
            -8.2898762,
            -8.283603600000001,
            -8.263468300000001,
            -8.231044599999999,
            -8.185751400000001,
            -8.1294444,
            -8.0627551,
            -7.986561,
            -7.901,
            -7.807,
            -7.703
           ],
           "yaxis": "y"
          },
          {
           "hovertemplate": "Odd Proton=True<br>Neutron Number [N]=87<br>Proton Number [Z]=%{x}<br>Deficit [MeV]=%{y}<extra></extra>",
           "legendgroup": "True",
           "marker": {
            "color": "#EF553B",
            "symbol": "circle"
           },
           "mode": "markers",
           "name": "True",
           "orientation": "v",
           "showlegend": true,
           "type": "scatter",
           "x": [
            49,
            51,
            53,
            55,
            57,
            59,
            61,
            63,
            65,
            67,
            69,
            71,
            73,
            75,
            77
           ],
           "xaxis": "x",
           "y": [
            -8.091,
            -8.178,
            -8.229474,
            -8.2648777,
            -8.2814283,
            -8.280325000000001,
            -8.2682283,
            -8.2413481,
            -8.2020072,
            -8.1506825,
            -8.089603199999999,
            -8.0185685,
            -7.9382704,
            -7.848,
            -7.75
           ],
           "yaxis": "y"
          }
         ],
         "name": "87"
        },
        {
         "data": [
          {
           "hovertemplate": "Odd Proton=False<br>Neutron Number [N]=88<br>Proton Number [Z]=%{x}<br>Deficit [MeV]=%{y}<extra></extra>",
           "legendgroup": "False",
           "marker": {
            "color": "#636efa",
            "symbol": "circle"
           },
           "mode": "markers",
           "name": "False",
           "orientation": "v",
           "showlegend": true,
           "type": "scatter",
           "x": [
            50,
            52,
            54,
            56,
            58,
            60,
            62,
            64,
            66,
            68,
            70,
            72,
            74,
            76,
            78
           ],
           "xaxis": "x",
           "y": [
            -8.118,
            -8.183356700000001,
            -8.2331695,
            -8.2654549,
            -8.2785081,
            -8.277177799999999,
            -8.261623499999999,
            -8.2334042,
            -8.193130499999999,
            -8.1419084,
            -8.079199899999999,
            -8.0063791,
            -7.9238214,
            -7.833308,
            -7.733
           ],
           "yaxis": "y"
          },
          {
           "hovertemplate": "Odd Proton=True<br>Neutron Number [N]=88<br>Proton Number [Z]=%{x}<br>Deficit [MeV]=%{y}<extra></extra>",
           "legendgroup": "True",
           "marker": {
            "color": "#EF553B",
            "symbol": "circle"
           },
           "mode": "markers",
           "name": "True",
           "orientation": "v",
           "showlegend": true,
           "type": "scatter",
           "x": [
            49,
            51,
            53,
            55,
            57,
            59,
            61,
            63,
            65,
            67,
            69,
            71,
            73,
            75,
            77
           ],
           "xaxis": "x",
           "y": [
            -8.053,
            -8.144,
            -8.202256199999999,
            -8.243670700000001,
            -8.266087299999999,
            -8.27054,
            -8.2615277,
            -8.239299800000001,
            -8.2050504,
            -8.1592055,
            -8.1014285,
            -8.034600900000001,
            -7.95745,
            -7.8708655,
            -7.776
           ],
           "yaxis": "y"
          }
         ],
         "name": "88"
        },
        {
         "data": [
          {
           "hovertemplate": "Odd Proton=False<br>Neutron Number [N]=89<br>Proton Number [Z]=%{x}<br>Deficit [MeV]=%{y}<extra></extra>",
           "legendgroup": "False",
           "marker": {
            "color": "#636efa",
            "symbol": "circle"
           },
           "mode": "markers",
           "name": "False",
           "orientation": "v",
           "showlegend": true,
           "type": "scatter",
           "x": [
            50,
            52,
            54,
            56,
            58,
            60,
            62,
            64,
            66,
            68,
            70,
            72,
            74,
            76,
            78
           ],
           "xaxis": "x",
           "y": [
            -8.073,
            -8.142,
            -8.1968855,
            -8.2347991,
            -8.252527400000002,
            -8.255443699999999,
            -8.2439735,
            -8.220420899999999,
            -8.184357,
            -8.1363757,
            -8.0780428,
            -8.0091245,
            -7.9303042999999995,
            -7.843,
            -7.746
           ],
           "yaxis": "y"
          },
          {
           "hovertemplate": "Odd Proton=True<br>Neutron Number [N]=89<br>Proton Number [Z]=%{x}<br>Deficit [MeV]=%{y}<extra></extra>",
           "legendgroup": "True",
           "marker": {
            "color": "#EF553B",
            "symbol": "circle"
           },
           "mode": "markers",
           "name": "True",
           "orientation": "v",
           "showlegend": true,
           "type": "scatter",
           "x": [
            51,
            53,
            55,
            57,
            59,
            61,
            63,
            65,
            67,
            69,
            71,
            73,
            75,
            77
           ],
           "xaxis": "x",
           "y": [
            -8.103,
            -8.1652517,
            -8.2118894,
            -8.239998799999999,
            -8.2495409,
            -8.2438125,
            -8.2265854,
            -8.196669700000001,
            -8.155428,
            -8.1011994,
            -8.0383387,
            -7.9643432,
            -7.8810523,
            -7.789
           ],
           "yaxis": "y"
          }
         ],
         "name": "89"
        },
        {
         "data": [
          {
           "hovertemplate": "Odd Proton=False<br>Neutron Number [N]=90<br>Proton Number [Z]=%{x}<br>Deficit [MeV]=%{y}<extra></extra>",
           "legendgroup": "False",
           "marker": {
            "color": "#636efa",
            "symbol": "circle"
           },
           "mode": "markers",
           "name": "False",
           "orientation": "v",
           "showlegend": true,
           "type": "scatter",
           "x": [
            50,
            52,
            54,
            56,
            58,
            60,
            62,
            64,
            66,
            68,
            70,
            72,
            74,
            76,
            78,
            80
           ],
           "xaxis": "x",
           "y": [
            -8.038,
            -8.113,
            -8.1728845,
            -8.2155293,
            -8.2403876,
            -8.249578900000001,
            -8.2440645,
            -8.2247996,
            -8.1924366,
            -8.147927,
            -8.0925614,
            -8.0271171,
            -7.9514515,
            -7.8663371,
            -7.7736217,
            -7.671
           ],
           "yaxis": "y"
          },
          {
           "hovertemplate": "Odd Proton=True<br>Neutron Number [N]=90<br>Proton Number [Z]=%{x}<br>Deficit [MeV]=%{y}<extra></extra>",
           "legendgroup": "True",
           "marker": {
            "color": "#EF553B",
            "symbol": "circle"
           },
           "mode": "markers",
           "name": "True",
           "orientation": "v",
           "showlegend": true,
           "type": "scatter",
           "x": [
            51,
            53,
            55,
            57,
            59,
            61,
            63,
            65,
            67,
            69,
            71,
            73,
            75,
            77
           ],
           "xaxis": "x",
           "y": [
            -8.069,
            -8.137,
            -8.1887342,
            -8.2215536,
            -8.238304,
            -8.2412723,
            -8.2287011,
            -8.2029173,
            -8.1631373,
            -8.1127549,
            -8.0527821,
            -7.9818905,
            -7.9015201,
            -7.8128253999999995
           ],
           "yaxis": "y"
          }
         ],
         "name": "90"
        },
        {
         "data": [
          {
           "hovertemplate": "Odd Proton=False<br>Neutron Number [N]=91<br>Proton Number [Z]=%{x}<br>Deficit [MeV]=%{y}<extra></extra>",
           "legendgroup": "False",
           "marker": {
            "color": "#636efa",
            "symbol": "circle"
           },
           "mode": "markers",
           "name": "False",
           "orientation": "v",
           "showlegend": true,
           "type": "scatter",
           "x": [
            52,
            54,
            56,
            58,
            60,
            62,
            64,
            66,
            68,
            70,
            72,
            74,
            76,
            78,
            80
           ],
           "xaxis": "x",
           "y": [
            -8.07,
            -8.1350877,
            -8.1832405,
            -8.2142294,
            -8.2302741,
            -8.2285373,
            -8.2132541,
            -8.184628700000001,
            -8.1427742,
            -8.0903861,
            -8.0280072,
            -7.9559704,
            -7.873955700000001,
            -7.784,
            -7.686
           ],
           "yaxis": "y"
          },
          {
           "hovertemplate": "Odd Proton=True<br>Neutron Number [N]=91<br>Proton Number [Z]=%{x}<br>Deficit [MeV]=%{y}<extra></extra>",
           "legendgroup": "True",
           "marker": {
            "color": "#EF553B",
            "symbol": "circle"
           },
           "mode": "markers",
           "name": "True",
           "orientation": "v",
           "showlegend": true,
           "type": "scatter",
           "x": [
            51,
            53,
            55,
            57,
            59,
            61,
            63,
            65,
            67,
            69,
            71,
            73,
            75,
            77,
            79
           ],
           "xaxis": "x",
           "y": [
            -8.027,
            -8.098,
            -8.1554365,
            -8.1937165,
            -8.2189316,
            -8.2261293,
            -8.2171006,
            -8.1946415,
            -8.158470900000001,
            -8.1108124,
            -8.0545596,
            -7.9869978,
            -7.9096392,
            -7.8238509,
            -7.73
           ],
           "yaxis": "y"
          }
         ],
         "name": "91"
        },
        {
         "data": [
          {
           "hovertemplate": "Odd Proton=False<br>Neutron Number [N]=92<br>Proton Number [Z]=%{x}<br>Deficit [MeV]=%{y}<extra></extra>",
           "legendgroup": "False",
           "marker": {
            "color": "#636efa",
            "symbol": "circle"
           },
           "mode": "markers",
           "name": "False",
           "orientation": "v",
           "showlegend": true,
           "type": "scatter",
           "x": [
            52,
            54,
            56,
            58,
            60,
            62,
            64,
            66,
            68,
            70,
            72,
            74,
            76,
            78,
            80
           ],
           "xaxis": "x",
           "y": [
            -8.04,
            -8.110415399999999,
            -8.164111799999999,
            -8.201122999999999,
            -8.224007799999999,
            -8.2268379,
            -8.2153253,
            -8.1901298,
            -8.1517217,
            -8.1025333,
            -8.0438142,
            -7.9748950999999995,
            -7.8959408,
            -7.8082365,
            -7.7136064
           ],
           "yaxis": "y"
          },
          {
           "hovertemplate": "Odd Proton=True<br>Neutron Number [N]=92<br>Proton Number [Z]=%{x}<br>Deficit [MeV]=%{y}<extra></extra>",
           "legendgroup": "True",
           "marker": {
            "color": "#EF553B",
            "symbol": "circle"
           },
           "mode": "markers",
           "name": "True",
           "orientation": "v",
           "showlegend": true,
           "type": "scatter",
           "x": [
            53,
            55,
            57,
            59,
            61,
            63,
            65,
            67,
            69,
            71,
            73,
            75,
            77,
            79
           ],
           "xaxis": "x",
           "y": [
            -8.069,
            -8.131801000000001,
            -8.1761915,
            -8.2078824,
            -8.2211536,
            -8.216676,
            -8.198141600000001,
            -8.1651066,
            -8.1204906,
            -8.0666848,
            -8.0030547,
            -7.929,
            -7.8455943999999995,
            -7.7541069
           ],
           "yaxis": "y"
          }
         ],
         "name": "92"
        },
        {
         "data": [
          {
           "hovertemplate": "Odd Proton=False<br>Neutron Number [N]=93<br>Proton Number [Z]=%{x}<br>Deficit [MeV]=%{y}<extra></extra>",
           "legendgroup": "False",
           "marker": {
            "color": "#636efa",
            "symbol": "circle"
           },
           "mode": "markers",
           "name": "False",
           "orientation": "v",
           "showlegend": true,
           "type": "scatter",
           "x": [
            52,
            54,
            56,
            58,
            60,
            62,
            64,
            66,
            68,
            70,
            72,
            74,
            76,
            78,
            80
           ],
           "xaxis": "x",
           "y": [
            -7.998,
            -8.072,
            -8.1318495,
            -8.1762779,
            -8.204583199999998,
            -8.2112258,
            -8.2035072,
            -8.1815842,
            -8.1458628,
            -8.099106899999999,
            -8.0428728,
            -7.976704499999999,
            -7.9012861999999995,
            -7.8166017000000005,
            -7.725
           ],
           "yaxis": "y"
          },
          {
           "hovertemplate": "Odd Proton=True<br>Neutron Number [N]=93<br>Proton Number [Z]=%{x}<br>Deficit [MeV]=%{y}<extra></extra>",
           "legendgroup": "True",
           "marker": {
            "color": "#EF553B",
            "symbol": "circle"
           },
           "mode": "markers",
           "name": "True",
           "orientation": "v",
           "showlegend": true,
           "type": "scatter",
           "x": [
            53,
            55,
            57,
            59,
            61,
            63,
            65,
            67,
            69,
            71,
            73,
            75,
            77,
            79
           ],
           "xaxis": "x",
           "y": [
            -8.031,
            -8.097546900000001,
            -8.1494339,
            -8.1871049,
            -8.204717,
            -8.2046192,
            -8.1891556,
            -8.158600400000001,
            -8.1175868,
            -8.0658043,
            -8.0049714,
            -7.9351208,
            -7.853,
            -7.7661587
           ],
           "yaxis": "y"
          }
         ],
         "name": "93"
        },
        {
         "data": [
          {
           "hovertemplate": "Odd Proton=False<br>Neutron Number [N]=94<br>Proton Number [Z]=%{x}<br>Deficit [MeV]=%{y}<extra></extra>",
           "legendgroup": "False",
           "marker": {
            "color": "#636efa",
            "symbol": "circle"
           },
           "mode": "markers",
           "name": "False",
           "orientation": "v",
           "showlegend": true,
           "type": "scatter",
           "x": [
            54,
            56,
            58,
            60,
            62,
            64,
            66,
            68,
            70,
            72,
            74,
            76,
            78,
            80
           ],
           "xaxis": "x",
           "y": [
            -8.047,
            -8.1118405,
            -8.161,
            -8.1923491,
            -8.2050054,
            -8.2018229,
            -8.1840526,
            -8.1523959,
            -8.109414899999999,
            -8.0564386,
            -7.9939327,
            -7.9211257999999996,
            -7.839246,
            -7.7497851
           ],
           "yaxis": "y"
          },
          {
           "hovertemplate": "Odd Proton=True<br>Neutron Number [N]=94<br>Proton Number [Z]=%{x}<br>Deficit [MeV]=%{y}<extra></extra>",
           "legendgroup": "True",
           "marker": {
            "color": "#EF553B",
            "symbol": "circle"
           },
           "mode": "markers",
           "name": "True",
           "orientation": "v",
           "showlegend": true,
           "type": "scatter",
           "x": [
            53,
            55,
            57,
            59,
            61,
            63,
            65,
            67,
            69,
            71,
            73,
            75,
            77,
            79
           ],
           "xaxis": "x",
           "y": [
            -8.001,
            -8.073,
            -8.1290436,
            -8.172037099999999,
            -8.1952977,
            -8.1997975,
            -8.1888025,
            -8.1631134,
            -8.1249774,
            -8.076746,
            -8.0188614,
            -7.951396300000001,
            -7.8734895,
            -7.788234800000001
           ],
           "yaxis": "y"
          }
         ],
         "name": "94"
        },
        {
         "data": [
          {
           "hovertemplate": "Odd Proton=False<br>Neutron Number [N]=95<br>Proton Number [Z]=%{x}<br>Deficit [MeV]=%{y}<extra></extra>",
           "legendgroup": "False",
           "marker": {
            "color": "#636efa",
            "symbol": "circle"
           },
           "mode": "markers",
           "name": "False",
           "orientation": "v",
           "showlegend": true,
           "type": "scatter",
           "x": [
            54,
            56,
            58,
            60,
            62,
            64,
            66,
            68,
            70,
            72,
            74,
            76,
            78,
            80
           ],
           "xaxis": "x",
           "y": [
            -8.009,
            -8.079,
            -8.134,
            -8.170305,
            -8.1870642,
            -8.1876177,
            -8.1733093,
            -8.1447403,
            -8.1048399,
            -8.054185,
            -7.9945381,
            -7.9241769,
            -7.845385599999999,
            -7.759213399999999
           ],
           "yaxis": "y"
          },
          {
           "hovertemplate": "Odd Proton=True<br>Neutron Number [N]=95<br>Proton Number [Z]=%{x}<br>Deficit [MeV]=%{y}<extra></extra>",
           "legendgroup": "True",
           "marker": {
            "color": "#EF553B",
            "symbol": "circle"
           },
           "mode": "markers",
           "name": "True",
           "orientation": "v",
           "showlegend": true,
           "type": "scatter",
           "x": [
            55,
            57,
            59,
            61,
            63,
            65,
            67,
            69,
            71,
            73,
            75,
            77,
            79,
            81
           ],
           "xaxis": "x",
           "y": [
            -8.039,
            -8.102,
            -8.1472994,
            -8.1767263,
            -8.185132,
            -8.1774676,
            -8.1554126,
            -8.1196534,
            -8.0741756,
            -8.0194287,
            -7.955012,
            -7.8802637,
            -7.797,
            -7.7079382999999995
           ],
           "yaxis": "y"
          }
         ],
         "name": "95"
        },
        {
         "data": [
          {
           "hovertemplate": "Odd Proton=False<br>Neutron Number [N]=96<br>Proton Number [Z]=%{x}<br>Deficit [MeV]=%{y}<extra></extra>",
           "legendgroup": "False",
           "marker": {
            "color": "#636efa",
            "symbol": "circle"
           },
           "mode": "markers",
           "name": "False",
           "orientation": "v",
           "showlegend": true,
           "type": "scatter",
           "x": [
            54,
            56,
            58,
            60,
            62,
            64,
            66,
            68,
            70,
            72,
            74,
            76,
            78,
            80,
            82
           ],
           "xaxis": "x",
           "y": [
            -7.983,
            -8.057,
            -8.116,
            -8.1563265,
            -8.1773075,
            -8.1830171,
            -8.1734555,
            -8.1490191,
            -8.1124591,
            -8.0655536,
            -8.008948199999999,
            -7.9421626,
            -7.8661143000000004,
            -7.782664,
            -7.6908359
           ],
           "yaxis": "y"
          },
          {
           "hovertemplate": "Odd Proton=True<br>Neutron Number [N]=96<br>Proton Number [Z]=%{x}<br>Deficit [MeV]=%{y}<extra></extra>",
           "legendgroup": "True",
           "marker": {
            "color": "#EF553B",
            "symbol": "circle"
           },
           "mode": "markers",
           "name": "True",
           "orientation": "v",
           "showlegend": true,
           "type": "scatter",
           "x": [
            55,
            57,
            59,
            61,
            63,
            65,
            67,
            69,
            71,
            73,
            75,
            77,
            79,
            81
           ],
           "xaxis": "x",
           "y": [
            -8.013,
            -8.081,
            -8.1310398,
            -8.1641458,
            -8.1766987,
            -8.174480899999999,
            -8.156967,
            -8.1255489,
            -8.0831722,
            -8.0309577,
            -7.9694131,
            -7.898068,
            -7.817593899999999,
            -7.7321655
           ],
           "yaxis": "y"
          }
         ],
         "name": "96"
        },
        {
         "data": [
          {
           "hovertemplate": "Odd Proton=False<br>Neutron Number [N]=97<br>Proton Number [Z]=%{x}<br>Deficit [MeV]=%{y}<extra></extra>",
           "legendgroup": "False",
           "marker": {
            "color": "#636efa",
            "symbol": "circle"
           },
           "mode": "markers",
           "name": "False",
           "orientation": "v",
           "showlegend": true,
           "type": "scatter",
           "x": [
            56,
            58,
            60,
            62,
            64,
            66,
            68,
            70,
            72,
            74,
            76,
            78,
            80,
            82
           ],
           "xaxis": "x",
           "y": [
            -8.023,
            -8.087,
            -8.1321671,
            -8.1574963,
            -8.1671934,
            -8.161783999999999,
            -8.1399348,
            -8.106202,
            -8.061779099999999,
            -8.008115799999999,
            -7.9440341,
            -7.8695216,
            -7.7898947,
            -7.7014629999999995
           ],
           "yaxis": "y"
          },
          {
           "hovertemplate": "Odd Proton=True<br>Neutron Number [N]=97<br>Proton Number [Z]=%{x}<br>Deficit [MeV]=%{y}<extra></extra>",
           "legendgroup": "True",
           "marker": {
            "color": "#EF553B",
            "symbol": "circle"
           },
           "mode": "markers",
           "name": "True",
           "orientation": "v",
           "showlegend": true,
           "type": "scatter",
           "x": [
            55,
            57,
            59,
            61,
            63,
            65,
            67,
            69,
            71,
            73,
            75,
            77,
            79,
            81
           ],
           "xaxis": "x",
           "y": [
            -7.98,
            -8.051,
            -8.1052337,
            -8.1433622,
            -8.160103,
            -8.1640773,
            -8.1479234,
            -8.1189357,
            -8.080402600000001,
            -8.0302965,
            -7.971845999999999,
            -7.9020377,
            -7.825383700000001,
            -7.741
           ],
           "yaxis": "y"
          }
         ],
         "name": "97"
        },
        {
         "data": [
          {
           "hovertemplate": "Odd Proton=False<br>Neutron Number [N]=98<br>Proton Number [Z]=%{x}<br>Deficit [MeV]=%{y}<extra></extra>",
           "legendgroup": "False",
           "marker": {
            "color": "#636efa",
            "symbol": "circle"
           },
           "mode": "markers",
           "name": "False",
           "orientation": "v",
           "showlegend": true,
           "type": "scatter",
           "x": [
            56,
            58,
            60,
            62,
            64,
            66,
            68,
            70,
            72,
            74,
            76,
            78,
            80,
            82
           ],
           "xaxis": "x",
           "y": [
            -8.001,
            -8.068,
            -8.1149529,
            -8.1446159,
            -8.1590373,
            -8.158712900000001,
            -8.1419479,
            -8.111887,
            -8.070876199999999,
            -8.0201757,
            -7.9594618,
            -7.8889934,
            -7.8113607,
            -7.7256993000000005
           ],
           "yaxis": "y"
          },
          {
           "hovertemplate": "Odd Proton=True<br>Neutron Number [N]=98<br>Proton Number [Z]=%{x}<br>Deficit [MeV]=%{y}<extra></extra>",
           "legendgroup": "True",
           "marker": {
            "color": "#EF553B",
            "symbol": "circle"
           },
           "mode": "markers",
           "name": "True",
           "orientation": "v",
           "showlegend": true,
           "type": "scatter",
           "x": [
            57,
            59,
            61,
            63,
            65,
            67,
            69,
            71,
            73,
            75,
            77,
            79,
            81
           ],
           "xaxis": "x",
           "y": [
            -8.028,
            -8.085817,
            -8.1268601,
            -8.148981,
            -8.1556322,
            -8.1469591,
            -8.1225826,
            -8.0863233,
            -8.0397914,
            -7.9839068,
            -7.9179112,
            -7.8438623,
            -7.7634942
           ],
           "yaxis": "y"
          }
         ],
         "name": "98"
        },
        {
         "data": [
          {
           "hovertemplate": "Odd Proton=False<br>Neutron Number [N]=99<br>Proton Number [Z]=%{x}<br>Deficit [MeV]=%{y}<extra></extra>",
           "legendgroup": "False",
           "marker": {
            "color": "#636efa",
            "symbol": "circle"
           },
           "mode": "markers",
           "name": "False",
           "orientation": "v",
           "showlegend": true,
           "type": "scatter",
           "x": [
            58,
            60,
            62,
            64,
            66,
            68,
            70,
            72,
            74,
            76,
            78,
            80,
            82
           ],
           "xaxis": "x",
           "y": [
            -8.037,
            -8.0888224,
            -8.1220418,
            -8.140756,
            -8.1439083,
            -8.1317352,
            -8.104520599999999,
            -8.0660687,
            -8.0183337,
            -7.9607294,
            -7.8924896,
            -7.8162631000000005,
            -7.734070399999999
           ],
           "yaxis": "y"
          },
          {
           "hovertemplate": "Odd Proton=True<br>Neutron Number [N]=99<br>Proton Number [Z]=%{x}<br>Deficit [MeV]=%{y}<extra></extra>",
           "legendgroup": "True",
           "marker": {
            "color": "#EF553B",
            "symbol": "circle"
           },
           "mode": "markers",
           "name": "True",
           "orientation": "v",
           "showlegend": true,
           "type": "scatter",
           "x": [
            57,
            59,
            61,
            63,
            65,
            67,
            69,
            71,
            73,
            75,
            77,
            79,
            81
           ],
           "xaxis": "x",
           "y": [
            -7.997,
            -8.059,
            -8.1036398,
            -8.1295593,
            -8.1399304,
            -8.1354933,
            -8.1149516,
            -8.0816686,
            -8.0377056,
            -7.9850944,
            -7.9215522,
            -7.849394599999999,
            -7.771431
           ],
           "yaxis": "y"
          }
         ],
         "name": "99"
        },
        {
         "data": [
          {
           "hovertemplate": "Odd Proton=False<br>Neutron Number [N]=100<br>Proton Number [Z]=%{x}<br>Deficit [MeV]=%{y}<extra></extra>",
           "legendgroup": "False",
           "marker": {
            "color": "#636efa",
            "symbol": "circle"
           },
           "mode": "markers",
           "name": "False",
           "orientation": "v",
           "showlegend": true,
           "type": "scatter",
           "x": [
            58,
            60,
            62,
            64,
            66,
            68,
            70,
            72,
            74,
            76,
            78,
            80,
            82
           ],
           "xaxis": "x",
           "y": [
            -8.015,
            -8.0699662,
            -8.1075745,
            -8.1299978,
            -8.1372793,
            -8.1295897,
            -8.1066101,
            -8.0717439,
            -8.0272572,
            -7.9728680999999995,
            -7.908252999999999,
            -7.8361111,
            -7.7563296
           ],
           "yaxis": "y"
          },
          {
           "hovertemplate": "Odd Proton=True<br>Neutron Number [N]=100<br>Proton Number [Z]=%{x}<br>Deficit [MeV]=%{y}<extra></extra>",
           "legendgroup": "True",
           "marker": {
            "color": "#EF553B",
            "symbol": "circle"
           },
           "mode": "markers",
           "name": "True",
           "orientation": "v",
           "showlegend": true,
           "type": "scatter",
           "x": [
            57,
            59,
            61,
            63,
            65,
            67,
            69,
            71,
            73,
            75,
            77,
            79,
            81
           ],
           "xaxis": "x",
           "y": [
            -7.972,
            -8.037,
            -8.0859977,
            -8.1160172,
            -8.130325899999999,
            -8.1303732,
            -8.1144702,
            -8.0846621,
            -8.044065,
            -7.9948168,
            -7.9346328,
            -7.8656374,
            -7.7919183
           ],
           "yaxis": "y"
          }
         ],
         "name": "100"
        },
        {
         "data": [
          {
           "hovertemplate": "Odd Proton=False<br>Neutron Number [N]=101<br>Proton Number [Z]=%{x}<br>Deficit [MeV]=%{y}<extra></extra>",
           "legendgroup": "False",
           "marker": {
            "color": "#636efa",
            "symbol": "circle"
           },
           "mode": "markers",
           "name": "False",
           "orientation": "v",
           "showlegend": true,
           "type": "scatter",
           "x": [
            60,
            62,
            64,
            66,
            68,
            70,
            72,
            74,
            76,
            78,
            80,
            82
           ],
           "xaxis": "x",
           "y": [
            -8.042,
            -8.0841653,
            -8.1104428,
            -8.1208782,
            -8.1170078,
            -8.0978826,
            -8.0660164,
            -8.024113,
            -7.9724371000000005,
            -7.9106759,
            -7.8396792,
            -7.762179
           ],
           "yaxis": "y"
          },
          {
           "hovertemplate": "Odd Proton=True<br>Neutron Number [N]=101<br>Proton Number [Z]=%{x}<br>Deficit [MeV]=%{y}<extra></extra>",
           "legendgroup": "True",
           "marker": {
            "color": "#EF553B",
            "symbol": "circle"
           },
           "mode": "markers",
           "name": "True",
           "orientation": "v",
           "showlegend": true,
           "type": "scatter",
           "x": [
            59,
            61,
            63,
            65,
            67,
            69,
            71,
            73,
            75,
            77,
            79,
            81,
            83
           ],
           "xaxis": "x",
           "y": [
            -8.009,
            -8.061,
            -8.0953686,
            -8.113223,
            -8.1168061,
            -8.1055144,
            -8.0782334,
            -8.0404528,
            -7.9939707,
            -7.9365630000000005,
            -7.8703194000000005,
            -7.7963571,
            -7.712
           ],
           "yaxis": "y"
          }
         ],
         "name": "101"
        },
        {
         "data": [
          {
           "hovertemplate": "Odd Proton=False<br>Neutron Number [N]=102<br>Proton Number [Z]=%{x}<br>Deficit [MeV]=%{y}<extra></extra>",
           "legendgroup": "False",
           "marker": {
            "color": "#636efa",
            "symbol": "circle"
           },
           "mode": "markers",
           "name": "False",
           "orientation": "v",
           "showlegend": true,
           "type": "scatter",
           "x": [
            60,
            62,
            64,
            66,
            68,
            70,
            72,
            74,
            76,
            78,
            80,
            82,
            84
           ],
           "xaxis": "x",
           "y": [
            -8.022,
            -8.0677803,
            -8.097226,
            -8.1125293,
            -8.1119529,
            -8.0974295,
            -8.068534099999999,
            -8.0301131,
            -7.9819128,
            -7.923578099999999,
            -7.8569726,
            -7.7827264,
            -7.6959488
           ],
           "yaxis": "y"
          },
          {
           "hovertemplate": "Odd Proton=True<br>Neutron Number [N]=102<br>Proton Number [Z]=%{x}<br>Deficit [MeV]=%{y}<extra></extra>",
           "legendgroup": "True",
           "marker": {
            "color": "#EF553B",
            "symbol": "circle"
           },
           "mode": "markers",
           "name": "True",
           "orientation": "v",
           "showlegend": true,
           "type": "scatter",
           "x": [
            59,
            61,
            63,
            65,
            67,
            69,
            71,
            73,
            75,
            77,
            79,
            81,
            83
           ],
           "xaxis": "x",
           "y": [
            -7.986,
            -8.042,
            -8.0800529,
            -8.101441,
            -8.1090622,
            -8.1018931,
            -8.079031200000001,
            -8.0444456,
            -8.0012229,
            -7.9475248,
            -7.8838359,
            -7.8156741,
            -7.732
           ],
           "yaxis": "y"
          }
         ],
         "name": "102"
        },
        {
         "data": [
          {
           "hovertemplate": "Odd Proton=False<br>Neutron Number [N]=103<br>Proton Number [Z]=%{x}<br>Deficit [MeV]=%{y}<extra></extra>",
           "legendgroup": "False",
           "marker": {
            "color": "#636efa",
            "symbol": "circle"
           },
           "mode": "markers",
           "name": "False",
           "orientation": "v",
           "showlegend": true,
           "type": "scatter",
           "x": [
            60,
            62,
            64,
            66,
            68,
            70,
            72,
            74,
            76,
            78,
            80,
            82,
            84
           ],
           "xaxis": "x",
           "y": [
            -7.992,
            -8.041,
            -8.075542800000001,
            -8.0947566,
            -8.0977404,
            -8.0874276,
            -8.0607625,
            -8.0250359,
            -7.9794844000000005,
            -7.9241271,
            -7.8593885,
            -7.786933,
            -7.7047889
           ],
           "yaxis": "y"
          },
          {
           "hovertemplate": "Odd Proton=True<br>Neutron Number [N]=103<br>Proton Number [Z]=%{x}<br>Deficit [MeV]=%{y}<extra></extra>",
           "legendgroup": "True",
           "marker": {
            "color": "#EF553B",
            "symbol": "circle"
           },
           "mode": "markers",
           "name": "True",
           "orientation": "v",
           "showlegend": true,
           "type": "scatter",
           "x": [
            61,
            63,
            65,
            67,
            69,
            71,
            73,
            75,
            77,
            79,
            81,
            83
           ],
           "xaxis": "x",
           "y": [
            -8.014,
            -8.056,
            -8.082798,
            -8.0937902,
            -8.0910367,
            -8.071454,
            -8.0386706,
            -7.9981576,
            -7.9476337,
            -7.8872442000000005,
            -7.8186727000000005,
            -7.7391175
           ],
           "yaxis": "y"
          }
         ],
         "name": "103"
        },
        {
         "data": [
          {
           "hovertemplate": "Odd Proton=False<br>Neutron Number [N]=104<br>Proton Number [Z]=%{x}<br>Deficit [MeV]=%{y}<extra></extra>",
           "legendgroup": "False",
           "marker": {
            "color": "#636efa",
            "symbol": "circle"
           },
           "mode": "markers",
           "name": "False",
           "orientation": "v",
           "showlegend": true,
           "type": "scatter",
           "x": [
            62,
            64,
            66,
            68,
            70,
            72,
            74,
            76,
            78,
            80,
            82,
            84
           ],
           "xaxis": "x",
           "y": [
            -8.023,
            -8.06,
            -8.084,
            -8.0904052,
            -8.0838481,
            -8.0613604,
            -8.0292584,
            -7.9874171,
            -7.9347541,
            -7.8743454,
            -7.805342,
            -7.7246544
           ],
           "yaxis": "y"
          },
          {
           "hovertemplate": "Odd Proton=True<br>Neutron Number [N]=104<br>Proton Number [Z]=%{x}<br>Deficit [MeV]=%{y}<extra></extra>",
           "legendgroup": "True",
           "marker": {
            "color": "#EF553B",
            "symbol": "circle"
           },
           "mode": "markers",
           "name": "True",
           "orientation": "v",
           "showlegend": true,
           "type": "scatter",
           "x": [
            61,
            63,
            65,
            67,
            69,
            71,
            73,
            75,
            77,
            79,
            81,
            83
           ],
           "xaxis": "x",
           "y": [
            -7.992,
            -8.038,
            -8.069,
            -8.0836021,
            -8.0844633,
            -8.0691412,
            -8.040828900000001,
            -8.0037666,
            -7.9565242,
            -7.898564400000001,
            -7.8355756,
            -7.758208300000001
           ],
           "yaxis": "y"
          }
         ],
         "name": "104"
        },
        {
         "data": [
          {
           "hovertemplate": "Odd Proton=False<br>Neutron Number [N]=105<br>Proton Number [Z]=%{x}<br>Deficit [MeV]=%{y}<extra></extra>",
           "legendgroup": "False",
           "marker": {
            "color": "#636efa",
            "symbol": "circle"
           },
           "mode": "markers",
           "name": "False",
           "orientation": "v",
           "showlegend": true,
           "type": "scatter",
           "x": [
            62,
            64,
            66,
            68,
            70,
            72,
            74,
            76,
            78,
            80,
            82,
            84
           ],
           "xaxis": "x",
           "y": [
            -7.992,
            -8.035,
            -8.062,
            -8.074,
            -8.0709253,
            -8.0518365,
            -8.023282100000001,
            -7.9834263,
            -7.9333406,
            -7.8745391,
            -7.808401,
            -7.7311321
           ],
           "yaxis": "y"
          },
          {
           "hovertemplate": "Odd Proton=True<br>Neutron Number [N]=105<br>Proton Number [Z]=%{x}<br>Deficit [MeV]=%{y}<extra></extra>",
           "legendgroup": "True",
           "marker": {
            "color": "#EF553B",
            "symbol": "circle"
           },
           "mode": "markers",
           "name": "True",
           "orientation": "v",
           "showlegend": true,
           "type": "scatter",
           "x": [
            63,
            65,
            67,
            69,
            71,
            73,
            75,
            77,
            79,
            81,
            83
           ],
           "xaxis": "x",
           "y": [
            -8.012,
            -8.047,
            -8.066,
            -8.070643200000001,
            -8.0590209,
            -8.035,
            -7.999992199999999,
            -7.9548948,
            -7.9001947,
            -7.8375161,
            -7.7641904
           ],
           "yaxis": "y"
          }
         ],
         "name": "105"
        },
        {
         "data": [
          {
           "hovertemplate": "Odd Proton=False<br>Neutron Number [N]=106<br>Proton Number [Z]=%{x}<br>Deficit [MeV]=%{y}<extra></extra>",
           "legendgroup": "False",
           "marker": {
            "color": "#636efa",
            "symbol": "circle"
           },
           "mode": "markers",
           "name": "False",
           "orientation": "v",
           "showlegend": true,
           "type": "scatter",
           "x": [
            62,
            64,
            66,
            68,
            70,
            72,
            74,
            76,
            78,
            80,
            82,
            84
           ],
           "xaxis": "x",
           "y": [
            -7.971,
            -8.017,
            -8.049,
            -8.064,
            -8.0640853,
            -8.0494438,
            -8.0254434,
            -7.9897287,
            -7.942564900000001,
            -7.8882605,
            -7.8248211,
            -7.7494526
           ],
           "yaxis": "y"
          },
          {
           "hovertemplate": "Odd Proton=True<br>Neutron Number [N]=106<br>Proton Number [Z]=%{x}<br>Deficit [MeV]=%{y}<extra></extra>",
           "legendgroup": "True",
           "marker": {
            "color": "#EF553B",
            "symbol": "circle"
           },
           "mode": "markers",
           "name": "True",
           "orientation": "v",
           "showlegend": true,
           "type": "scatter",
           "x": [
            63,
            65,
            67,
            69,
            71,
            73,
            75,
            77,
            79,
            81,
            83,
            85
           ],
           "xaxis": "x",
           "y": [
            -7.991,
            -8.03,
            -8.054,
            -8.0617673,
            -8.0534495,
            -8.0335869,
            -8.0041434,
            -7.961817600000001,
            -7.909441,
            -7.8524650000000005,
            -7.780999899999999,
            -7.7029233
           ],
           "yaxis": "y"
          }
         ],
         "name": "106"
        },
        {
         "data": [
          {
           "hovertemplate": "Odd Proton=False<br>Neutron Number [N]=107<br>Proton Number [Z]=%{x}<br>Deficit [MeV]=%{y}<extra></extra>",
           "legendgroup": "False",
           "marker": {
            "color": "#636efa",
            "symbol": "circle"
           },
           "mode": "markers",
           "name": "False",
           "orientation": "v",
           "showlegend": true,
           "type": "scatter",
           "x": [
            64,
            66,
            68,
            70,
            72,
            74,
            76,
            78,
            80,
            82,
            84,
            86
           ],
           "xaxis": "x",
           "y": [
            -7.99,
            -8.026,
            -8.045,
            -8.0499741,
            -8.0385474,
            -8.017949400000001,
            -7.985008700000001,
            -7.9397779,
            -7.8869905,
            -7.8262999,
            -7.753787099999999,
            -7.675853
           ],
           "yaxis": "y"
          },
          {
           "hovertemplate": "Odd Proton=True<br>Neutron Number [N]=107<br>Proton Number [Z]=%{x}<br>Deficit [MeV]=%{y}<extra></extra>",
           "legendgroup": "True",
           "marker": {
            "color": "#EF553B",
            "symbol": "circle"
           },
           "mode": "markers",
           "name": "True",
           "orientation": "v",
           "showlegend": true,
           "type": "scatter",
           "x": [
            65,
            67,
            69,
            71,
            73,
            75,
            77,
            79,
            81,
            83,
            85
           ],
           "xaxis": "x",
           "y": [
            -8.006,
            -8.034,
            -8.0451214,
            -8.0420554,
            -8.025886400000001,
            -7.9986264,
            -7.9591992,
            -7.9095409,
            -7.8530537,
            -7.785323900000001,
            -7.7097283
           ],
           "yaxis": "y"
          }
         ],
         "name": "107"
        },
        {
         "data": [
          {
           "hovertemplate": "Odd Proton=False<br>Neutron Number [N]=108<br>Proton Number [Z]=%{x}<br>Deficit [MeV]=%{y}<extra></extra>",
           "legendgroup": "False",
           "marker": {
            "color": "#636efa",
            "symbol": "circle"
           },
           "mode": "markers",
           "name": "False",
           "orientation": "v",
           "showlegend": true,
           "type": "scatter",
           "x": [
            64,
            66,
            68,
            70,
            72,
            74,
            76,
            78,
            80,
            82,
            84,
            86
           ],
           "xaxis": "x",
           "y": [
            -7.972,
            -8.011,
            -8.034,
            -8.0427386,
            -8.0349319,
            -8.0183096,
            -7.9886778000000005,
            -7.9468094,
            -7.8990339999999994,
            -7.8411294,
            -7.7710542,
            -7.6949961
           ],
           "yaxis": "y"
          },
          {
           "hovertemplate": "Odd Proton=True<br>Neutron Number [N]=108<br>Proton Number [Z]=%{x}<br>Deficit [MeV]=%{y}<extra></extra>",
           "legendgroup": "True",
           "marker": {
            "color": "#EF553B",
            "symbol": "circle"
           },
           "mode": "markers",
           "name": "True",
           "orientation": "v",
           "showlegend": true,
           "type": "scatter",
           "x": [
            65,
            67,
            69,
            71,
            73,
            75,
            77,
            79,
            81,
            83,
            85
           ],
           "xaxis": "x",
           "y": [
            -7.988,
            -8.019,
            -8.035,
            -8.035074400000001,
            -8.023405,
            -8.0010101,
            -7.9637226,
            -7.917432300000001,
            -7.8662704,
            -7.8006613,
            -7.7271099
           ],
           "yaxis": "y"
          }
         ],
         "name": "108"
        },
        {
         "data": [
          {
           "hovertemplate": "Odd Proton=False<br>Neutron Number [N]=109<br>Proton Number [Z]=%{x}<br>Deficit [MeV]=%{y}<extra></extra>",
           "legendgroup": "False",
           "marker": {
            "color": "#636efa",
            "symbol": "circle"
           },
           "mode": "markers",
           "name": "False",
           "orientation": "v",
           "showlegend": true,
           "type": "scatter",
           "x": [
            66,
            68,
            70,
            72,
            74,
            76,
            78,
            80,
            82,
            84,
            86
           ],
           "xaxis": "x",
           "y": [
            -7.986,
            -8.013,
            -8.026,
            -8.022003,
            -8.0083234,
            -7.9813047,
            -7.9411699,
            -7.8969192,
            -7.8416782000000005,
            -7.773951,
            -7.7003841
           ],
           "yaxis": "y"
          },
          {
           "hovertemplate": "Odd Proton=True<br>Neutron Number [N]=109<br>Proton Number [Z]=%{x}<br>Deficit [MeV]=%{y}<extra></extra>",
           "legendgroup": "True",
           "marker": {
            "color": "#EF553B",
            "symbol": "circle"
           },
           "mode": "markers",
           "name": "True",
           "orientation": "v",
           "showlegend": true,
           "type": "scatter",
           "x": [
            65,
            67,
            69,
            71,
            73,
            75,
            77,
            79,
            81,
            83,
            85
           ],
           "xaxis": "x",
           "y": [
            -7.963,
            -7.997,
            -8.017,
            -8.022039399999999,
            -8.0126332,
            -7.9927516999999995,
            -7.9580473000000005,
            -7.9147537,
            -7.8660345,
            -7.8036084,
            -7.732230400000001
           ],
           "yaxis": "y"
          }
         ],
         "name": "109"
        },
        {
         "data": [
          {
           "hovertemplate": "Odd Proton=False<br>Neutron Number [N]=110<br>Proton Number [Z]=%{x}<br>Deficit [MeV]=%{y}<extra></extra>",
           "legendgroup": "False",
           "marker": {
            "color": "#636efa",
            "symbol": "circle"
           },
           "mode": "markers",
           "name": "False",
           "orientation": "v",
           "showlegend": true,
           "type": "scatter",
           "x": [
            66,
            68,
            70,
            72,
            74,
            76,
            78,
            80,
            82,
            84,
            86
           ],
           "xaxis": "x",
           "y": [
            -7.969,
            -7.999,
            -8.016,
            -8.0148381,
            -8.0050777,
            -7.9828324,
            -7.947902699999999,
            -7.9070174,
            -7.8546482,
            -7.7892947,
            -7.7179660000000005
           ],
           "yaxis": "y"
          },
          {
           "hovertemplate": "Odd Proton=True<br>Neutron Number [N]=110<br>Proton Number [Z]=%{x}<br>Deficit [MeV]=%{y}<extra></extra>",
           "legendgroup": "True",
           "marker": {
            "color": "#EF553B",
            "symbol": "circle"
           },
           "mode": "markers",
           "name": "True",
           "orientation": "v",
           "showlegend": true,
           "type": "scatter",
           "x": [
            67,
            69,
            71,
            73,
            75,
            77,
            79,
            81,
            83,
            85,
            87
           ],
           "xaxis": "x",
           "y": [
            -7.98,
            -8.004,
            -8.011930099999999,
            -8.00674,
            -7.9910101000000004,
            -7.9606692,
            -7.9219876000000005,
            -7.8771445,
            -7.8171718,
            -7.7480914,
            -7.673764
           ],
           "yaxis": "y"
          }
         ],
         "name": "110"
        },
        {
         "data": [
          {
           "hovertemplate": "Odd Proton=False<br>Neutron Number [N]=111<br>Proton Number [Z]=%{x}<br>Deficit [MeV]=%{y}<extra></extra>",
           "legendgroup": "False",
           "marker": {
            "color": "#636efa",
            "symbol": "circle"
           },
           "mode": "markers",
           "name": "False",
           "orientation": "v",
           "showlegend": true,
           "type": "scatter",
           "x": [
            68,
            70,
            72,
            74,
            76,
            78,
            80,
            82,
            84,
            86
           ],
           "xaxis": "x",
           "y": [
            -7.976,
            -7.996,
            -8.0000315,
            -7.9929083,
            -7.9737814,
            -7.9414045,
            -7.9038002,
            -7.8540994,
            -7.7913155,
            -7.722118999999999
           ],
           "yaxis": "y"
          },
          {
           "hovertemplate": "Odd Proton=True<br>Neutron Number [N]=111<br>Proton Number [Z]=%{x}<br>Deficit [MeV]=%{y}<extra></extra>",
           "legendgroup": "True",
           "marker": {
            "color": "#EF553B",
            "symbol": "circle"
           },
           "mode": "markers",
           "name": "True",
           "orientation": "v",
           "showlegend": true,
           "type": "scatter",
           "x": [
            67,
            69,
            71,
            73,
            75,
            77,
            79,
            81,
            83,
            85,
            87
           ],
           "xaxis": "x",
           "y": [
            -7.957,
            -7.983,
            -7.996,
            -7.9937534999999995,
            -7.9812713,
            -7.9548512,
            -7.9188345,
            -7.8760167,
            -7.8191955,
            -7.7520001,
            -7.6791873
           ],
           "yaxis": "y"
          }
         ],
         "name": "111"
        },
        {
         "data": [
          {
           "hovertemplate": "Odd Proton=False<br>Neutron Number [N]=112<br>Proton Number [Z]=%{x}<br>Deficit [MeV]=%{y}<extra></extra>",
           "legendgroup": "False",
           "marker": {
            "color": "#636efa",
            "symbol": "circle"
           },
           "mode": "markers",
           "name": "False",
           "orientation": "v",
           "showlegend": true,
           "type": "scatter",
           "x": [
            68,
            70,
            72,
            74,
            76,
            78,
            80,
            82,
            84,
            86
           ],
           "xaxis": "x",
           "y": [
            -7.96,
            -7.984,
            -7.9907227999999995,
            -7.9886026,
            -7.9738656,
            -7.9464941,
            -7.9120666,
            -7.8654181,
            -7.8047445,
            -7.737724500000001
           ],
           "yaxis": "y"
          },
          {
           "hovertemplate": "Odd Proton=True<br>Neutron Number [N]=112<br>Proton Number [Z]=%{x}<br>Deficit [MeV]=%{y}<extra></extra>",
           "legendgroup": "True",
           "marker": {
            "color": "#EF553B",
            "symbol": "circle"
           },
           "mode": "markers",
           "name": "True",
           "orientation": "v",
           "showlegend": true,
           "type": "scatter",
           "x": [
            69,
            71,
            73,
            75,
            77,
            79,
            81,
            83,
            85,
            87
           ],
           "xaxis": "x",
           "y": [
            -7.969,
            -7.9848125,
            -7.9863615,
            -7.9779519,
            -7.9560214,
            -7.9246818999999995,
            -7.8853445,
            -7.8307579,
            -7.7660174,
            -7.6952599
           ],
           "yaxis": "y"
          }
         ],
         "name": "112"
        },
        {
         "data": [
          {
           "hovertemplate": "Odd Proton=False<br>Neutron Number [N]=113<br>Proton Number [Z]=%{x}<br>Deficit [MeV]=%{y}<extra></extra>",
           "legendgroup": "False",
           "marker": {
            "color": "#636efa",
            "symbol": "circle"
           },
           "mode": "markers",
           "name": "False",
           "orientation": "v",
           "showlegend": true,
           "type": "scatter",
           "x": [
            70,
            72,
            74,
            76,
            78,
            80,
            82,
            84,
            86,
            88
           ],
           "xaxis": "x",
           "y": [
            -7.963,
            -7.9739711,
            -7.9751167999999995,
            -7.9630029,
            -7.9387279,
            -7.907973,
            -7.8640647,
            -7.8057136,
            -7.7410568,
            -7.6694108
           ],
           "yaxis": "y"
          },
          {
           "hovertemplate": "Odd Proton=True<br>Neutron Number [N]=113<br>Proton Number [Z]=%{x}<br>Deficit [MeV]=%{y}<extra></extra>",
           "legendgroup": "True",
           "marker": {
            "color": "#EF553B",
            "symbol": "circle"
           },
           "mode": "markers",
           "name": "True",
           "orientation": "v",
           "showlegend": true,
           "type": "scatter",
           "x": [
            71,
            73,
            75,
            77,
            79,
            81,
            83,
            85,
            87
           ],
           "xaxis": "x",
           "y": [
            -7.967,
            -7.9718357,
            -7.9667481,
            -7.9477017,
            -7.9201033,
            -7.8835211,
            -7.8319009,
            -7.7693446,
            -7.7003292000000005
           ],
           "yaxis": "y"
          }
         ],
         "name": "113"
        },
        {
         "data": [
          {
           "hovertemplate": "Odd Proton=False<br>Neutron Number [N]=114<br>Proton Number [Z]=%{x}<br>Deficit [MeV]=%{y}<extra></extra>",
           "legendgroup": "False",
           "marker": {
            "color": "#636efa",
            "symbol": "circle"
           },
           "mode": "markers",
           "name": "False",
           "orientation": "v",
           "showlegend": true,
           "type": "scatter",
           "x": [
            70,
            72,
            74,
            76,
            78,
            80,
            82,
            84,
            86,
            88
           ],
           "xaxis": "x",
           "y": [
            -7.951,
            -7.964303200000001,
            -7.9690532,
            -7.9621047,
            -7.9424923,
            -7.9145974,
            -7.8733374000000005,
            -7.8175611,
            -7.7549111,
            -7.6855684
           ],
           "yaxis": "y"
          },
          {
           "hovertemplate": "Odd Proton=True<br>Neutron Number [N]=114<br>Proton Number [Z]=%{x}<br>Deficit [MeV]=%{y}<extra></extra>",
           "legendgroup": "True",
           "marker": {
            "color": "#EF553B",
            "symbol": "circle"
           },
           "mode": "markers",
           "name": "True",
           "orientation": "v",
           "showlegend": true,
           "type": "scatter",
           "x": [
            71,
            73,
            75,
            77,
            79,
            81,
            83,
            85,
            87
           ],
           "xaxis": "x",
           "y": [
            -7.955,
            -7.9632123,
            -7.9618104999999995,
            -7.948114400000001,
            -7.9241648,
            -7.8907293,
            -7.8416348,
            -7.7814883,
            -7.7148367
           ],
           "yaxis": "y"
          }
         ],
         "name": "114"
        },
        {
         "data": [
          {
           "hovertemplate": "Odd Proton=False<br>Neutron Number [N]=115<br>Proton Number [Z]=%{x}<br>Deficit [MeV]=%{y}<extra></extra>",
           "legendgroup": "False",
           "marker": {
            "color": "#636efa",
            "symbol": "circle"
           },
           "mode": "markers",
           "name": "False",
           "orientation": "v",
           "showlegend": true,
           "type": "scatter",
           "x": [
            70,
            72,
            74,
            76,
            78,
            80,
            82,
            84,
            86,
            88
           ],
           "xaxis": "x",
           "y": [
            -7.929,
            -7.947,
            -7.954,
            -7.9505687,
            -7.9337875,
            -7.909398,
            -7.8712822,
            -7.8176581999999994,
            -7.7570174,
            -7.6898015
           ],
           "yaxis": "y"
          },
          {
           "hovertemplate": "Odd Proton=True<br>Neutron Number [N]=115<br>Proton Number [Z]=%{x}<br>Deficit [MeV]=%{y}<extra></extra>",
           "legendgroup": "True",
           "marker": {
            "color": "#EF553B",
            "symbol": "circle"
           },
           "mode": "markers",
           "name": "True",
           "orientation": "v",
           "showlegend": true,
           "type": "scatter",
           "x": [
            71,
            73,
            75,
            77,
            79,
            81,
            83,
            85,
            87
           ],
           "xaxis": "x",
           "y": [
            -7.936,
            -7.948,
            -7.9497759,
            -7.9389999,
            -7.9187744,
            -7.88829,
            -7.8412123000000005,
            -7.7837601,
            -7.7190125
           ],
           "yaxis": "y"
          }
         ],
         "name": "115"
        },
        {
         "data": [
          {
           "hovertemplate": "Odd Proton=False<br>Neutron Number [N]=116<br>Proton Number [Z]=%{x}<br>Deficit [MeV]=%{y}<extra></extra>",
           "legendgroup": "False",
           "marker": {
            "color": "#636efa",
            "symbol": "circle"
           },
           "mode": "markers",
           "name": "False",
           "orientation": "v",
           "showlegend": true,
           "type": "scatter",
           "x": [
            72,
            74,
            76,
            78,
            80,
            82,
            84,
            86,
            88
           ],
           "xaxis": "x",
           "y": [
            -7.936,
            -7.9475031,
            -7.948526,
            -7.935942,
            -7.91437,
            -7.8789695,
            -7.8274407,
            -7.7693018,
            -7.7041238000000005
           ],
           "yaxis": "y"
          },
          {
           "hovertemplate": "Odd Proton=True<br>Neutron Number [N]=116<br>Proton Number [Z]=%{x}<br>Deficit [MeV]=%{y}<extra></extra>",
           "legendgroup": "True",
           "marker": {
            "color": "#EF553B",
            "symbol": "circle"
           },
           "mode": "markers",
           "name": "True",
           "orientation": "v",
           "showlegend": true,
           "type": "scatter",
           "x": [
            71,
            73,
            75,
            77,
            79,
            81,
            83,
            85,
            87,
            89
           ],
           "xaxis": "x",
           "y": [
            -7.923,
            -7.938,
            -7.943958800000001,
            -7.938134600000001,
            -7.9213778,
            -7.8935725,
            -7.849523199999999,
            -7.7941536,
            -7.7317092,
            -7.6628519
           ],
           "yaxis": "y"
          }
         ],
         "name": "116"
        },
        {
         "data": [
          {
           "hovertemplate": "Odd Proton=False<br>Neutron Number [N]=117<br>Proton Number [Z]=%{x}<br>Deficit [MeV]=%{y}<extra></extra>",
           "legendgroup": "False",
           "marker": {
            "color": "#636efa",
            "symbol": "circle"
           },
           "mode": "markers",
           "name": "False",
           "orientation": "v",
           "showlegend": true,
           "type": "scatter",
           "x": [
            72,
            74,
            76,
            78,
            80,
            82,
            84,
            86,
            88,
            90
           ],
           "xaxis": "x",
           "y": [
            -7.917,
            -7.9314359,
            -7.9362716,
            -7.926553,
            -7.9086402,
            -7.8757366,
            -7.8265619,
            -7.770343700000001,
            -7.7071698,
            null
           ],
           "yaxis": "y"
          },
          {
           "hovertemplate": "Odd Proton=True<br>Neutron Number [N]=117<br>Proton Number [Z]=%{x}<br>Deficit [MeV]=%{y}<extra></extra>",
           "legendgroup": "True",
           "marker": {
            "color": "#EF553B",
            "symbol": "circle"
           },
           "mode": "markers",
           "name": "True",
           "orientation": "v",
           "showlegend": true,
           "type": "scatter",
           "x": [
            71,
            73,
            75,
            77,
            79,
            81,
            83,
            85,
            87,
            89
           ],
           "xaxis": "x",
           "y": [
            -7.903,
            -7.922,
            -7.9302389,
            -7.9284885,
            -7.9148553,
            -7.890301099999999,
            -7.8484969,
            -7.794563699999999,
            -7.7346931,
            -7.6678538
           ],
           "yaxis": "y"
          }
         ],
         "name": "117"
        },
        {
         "data": [
          {
           "hovertemplate": "Odd Proton=False<br>Neutron Number [N]=118<br>Proton Number [Z]=%{x}<br>Deficit [MeV]=%{y}<extra></extra>",
           "legendgroup": "False",
           "marker": {
            "color": "#636efa",
            "symbol": "circle"
           },
           "mode": "markers",
           "name": "False",
           "orientation": "v",
           "showlegend": true,
           "type": "scatter",
           "x": [
            72,
            74,
            76,
            78,
            80,
            82,
            84,
            86,
            88,
            90
           ],
           "xaxis": "x",
           "y": [
            -7.905,
            -7.924,
            -7.9320232,
            -7.9265297,
            -7.9115532,
            -7.8818101,
            -7.8348053,
            -7.7805743000000005,
            -7.7198028,
            -7.6525716
           ],
           "yaxis": "y"
          },
          {
           "hovertemplate": "Odd Proton=True<br>Neutron Number [N]=118<br>Proton Number [Z]=%{x}<br>Deficit [MeV]=%{y}<extra></extra>",
           "legendgroup": "True",
           "marker": {
            "color": "#EF553B",
            "symbol": "circle"
           },
           "mode": "markers",
           "name": "True",
           "orientation": "v",
           "showlegend": true,
           "type": "scatter",
           "x": [
            73,
            75,
            77,
            79,
            81,
            83,
            85,
            87,
            89
           ],
           "xaxis": "x",
           "y": [
            -7.911,
            -7.9239378,
            -7.9249160000000005,
            -7.9156548,
            -7.8938773,
            -7.8548713,
            -7.8036487,
            -7.745687,
            -7.6811001
           ],
           "yaxis": "y"
          }
         ],
         "name": "118"
        },
        {
         "data": [
          {
           "hovertemplate": "Odd Proton=False<br>Neutron Number [N]=119<br>Proton Number [Z]=%{x}<br>Deficit [MeV]=%{y}<extra></extra>",
           "legendgroup": "False",
           "marker": {
            "color": "#636efa",
            "symbol": "circle"
           },
           "mode": "markers",
           "name": "False",
           "orientation": "v",
           "showlegend": true,
           "type": "scatter",
           "x": [
            74,
            76,
            78,
            80,
            82,
            84,
            86,
            88,
            90
           ],
           "xaxis": "x",
           "y": [
            -7.907,
            -7.9177449,
            -7.9159714,
            -7.9052794,
            -7.8778782000000005,
            -7.832863199999999,
            -7.7807226,
            -7.7217503,
            -7.656
           ],
           "yaxis": "y"
          },
          {
           "hovertemplate": "Odd Proton=True<br>Neutron Number [N]=119<br>Proton Number [Z]=%{x}<br>Deficit [MeV]=%{y}<extra></extra>",
           "legendgroup": "True",
           "marker": {
            "color": "#EF553B",
            "symbol": "circle"
           },
           "mode": "markers",
           "name": "True",
           "orientation": "v",
           "showlegend": true,
           "type": "scatter",
           "x": [
            73,
            75,
            77,
            79,
            81,
            83,
            85,
            87,
            89
           ],
           "xaxis": "x",
           "y": [
            -7.894,
            -7.909,
            -7.9141487,
            -7.9085675,
            -7.8897037,
            -7.8525857,
            -7.8035522,
            -7.746962099999999,
            -7.6848289
           ],
           "yaxis": "y"
          }
         ],
         "name": "119"
        },
        {
         "data": [
          {
           "hovertemplate": "Odd Proton=False<br>Neutron Number [N]=120<br>Proton Number [Z]=%{x}<br>Deficit [MeV]=%{y}<extra></extra>",
           "legendgroup": "False",
           "marker": {
            "color": "#636efa",
            "symbol": "circle"
           },
           "mode": "markers",
           "name": "False",
           "orientation": "v",
           "showlegend": true,
           "type": "scatter",
           "x": [
            74,
            76,
            78,
            80,
            82,
            84,
            86,
            88,
            90
           ],
           "xaxis": "x",
           "y": [
            -7.899,
            -7.9122300999999995,
            -7.9141512,
            -7.9058956,
            -7.8821505,
            -7.8390823,
            -7.789041699999999,
            -7.7320177,
            -7.6690764
           ],
           "yaxis": "y"
          },
          {
           "hovertemplate": "Odd Proton=True<br>Neutron Number [N]=120<br>Proton Number [Z]=%{x}<br>Deficit [MeV]=%{y}<extra></extra>",
           "legendgroup": "True",
           "marker": {
            "color": "#EF553B",
            "symbol": "circle"
           },
           "mode": "markers",
           "name": "True",
           "orientation": "v",
           "showlegend": true,
           "type": "scatter",
           "x": [
            73,
            75,
            77,
            79,
            81,
            83,
            85,
            87,
            89,
            91
           ],
           "xaxis": "x",
           "y": [
            -7.883,
            -7.901,
            -7.9090003,
            -7.9069379,
            -7.8912717,
            -7.8574762,
            -7.8102694,
            -7.7562689,
            -7.695845500000001,
            -7.6293948
           ],
           "yaxis": "y"
          }
         ],
         "name": "120"
        },
        {
         "data": [
          {
           "hovertemplate": "Odd Proton=False<br>Neutron Number [N]=121<br>Proton Number [Z]=%{x}<br>Deficit [MeV]=%{y}<extra></extra>",
           "legendgroup": "False",
           "marker": {
            "color": "#636efa",
            "symbol": "circle"
           },
           "mode": "markers",
           "name": "False",
           "orientation": "v",
           "showlegend": true,
           "type": "scatter",
           "x": [
            74,
            76,
            78,
            80,
            82,
            84,
            86,
            88,
            90
           ],
           "xaxis": "x",
           "y": [
            -7.881,
            -7.897,
            -7.9023011,
            -7.8975607,
            -7.877397,
            -7.8362168,
            -7.7879987,
            -7.7330177,
            -7.6718506
           ],
           "yaxis": "y"
          },
          {
           "hovertemplate": "Odd Proton=True<br>Neutron Number [N]=121<br>Proton Number [Z]=%{x}<br>Deficit [MeV]=%{y}<extra></extra>",
           "legendgroup": "True",
           "marker": {
            "color": "#EF553B",
            "symbol": "circle"
           },
           "mode": "markers",
           "name": "True",
           "orientation": "v",
           "showlegend": true,
           "type": "scatter",
           "x": [
            73,
            75,
            77,
            79,
            81,
            83,
            85,
            87,
            89,
            91
           ],
           "xaxis": "x",
           "y": [
            -7.865,
            -7.886,
            -7.897,
            -7.8984915,
            -7.8862206,
            -7.8542157,
            -7.8088904,
            -7.7568985,
            -7.698018200000001,
            -7.6336289
           ],
           "yaxis": "y"
          }
         ],
         "name": "121"
        },
        {
         "data": [
          {
           "hovertemplate": "Odd Proton=False<br>Neutron Number [N]=122<br>Proton Number [Z]=%{x}<br>Deficit [MeV]=%{y}<extra></extra>",
           "legendgroup": "False",
           "marker": {
            "color": "#636efa",
            "symbol": "circle"
           },
           "mode": "markers",
           "name": "False",
           "orientation": "v",
           "showlegend": true,
           "type": "scatter",
           "x": [
            74,
            76,
            78,
            80,
            82,
            84,
            86,
            88,
            90,
            92
           ],
           "xaxis": "x",
           "y": [
            -7.872,
            -7.89,
            -7.8991986,
            -7.896850499999999,
            -7.8799326,
            -7.840597300000001,
            -7.794267799999999,
            -7.7413687,
            -7.6820628,
            null
           ],
           "yaxis": "y"
          },
          {
           "hovertemplate": "Odd Proton=True<br>Neutron Number [N]=122<br>Proton Number [Z]=%{x}<br>Deficit [MeV]=%{y}<extra></extra>",
           "legendgroup": "True",
           "marker": {
            "color": "#EF553B",
            "symbol": "circle"
           },
           "mode": "markers",
           "name": "True",
           "orientation": "v",
           "showlegend": true,
           "type": "scatter",
           "x": [
            75,
            77,
            79,
            81,
            83,
            85,
            87,
            89,
            91
           ],
           "xaxis": "x",
           "y": [
            -7.877,
            -7.8912066,
            -7.8951752,
            -7.8860529999999995,
            -7.857321799999999,
            -7.8139653,
            -7.763748499999999,
            -7.7074679999999995,
            -7.6448027000000005
           ],
           "yaxis": "y"
          }
         ],
         "name": "122"
        },
        {
         "data": [
          {
           "hovertemplate": "Odd Proton=False<br>Neutron Number [N]=123<br>Proton Number [Z]=%{x}<br>Deficit [MeV]=%{y}<extra></extra>",
           "legendgroup": "False",
           "marker": {
            "color": "#636efa",
            "symbol": "circle"
           },
           "mode": "markers",
           "name": "False",
           "orientation": "v",
           "showlegend": true,
           "type": "scatter",
           "x": [
            74,
            76,
            78,
            80,
            82,
            84,
            86,
            88,
            90,
            92
           ],
           "xaxis": "x",
           "y": [
            -7.853,
            -7.874,
            -7.8858337,
            -7.8874828,
            -7.8743313,
            -7.8366734,
            -7.7921755,
            -7.741088700000001,
            -7.683847,
            -7.6207821000000004
           ],
           "yaxis": "y"
          },
          {
           "hovertemplate": "Odd Proton=True<br>Neutron Number [N]=123<br>Proton Number [Z]=%{x}<br>Deficit [MeV]=%{y}<extra></extra>",
           "legendgroup": "True",
           "marker": {
            "color": "#EF553B",
            "symbol": "circle"
           },
           "mode": "markers",
           "name": "True",
           "orientation": "v",
           "showlegend": true,
           "type": "scatter",
           "x": [
            75,
            77,
            79,
            81,
            83,
            85,
            87,
            89,
            91
           ],
           "xaxis": "x",
           "y": [
            -7.861,
            -7.878,
            -7.88591,
            -7.8800238,
            -7.8533249,
            -7.8115604,
            -7.7631243,
            -7.7084479,
            -7.6477037
           ],
           "yaxis": "y"
          }
         ],
         "name": "123"
        },
        {
         "data": [
          {
           "hovertemplate": "Odd Proton=False<br>Neutron Number [N]=124<br>Proton Number [Z]=%{x}<br>Deficit [MeV]=%{y}<extra></extra>",
           "legendgroup": "False",
           "marker": {
            "color": "#636efa",
            "symbol": "circle"
           },
           "mode": "markers",
           "name": "False",
           "orientation": "v",
           "showlegend": true,
           "type": "scatter",
           "x": [
            76,
            78,
            80,
            82,
            84,
            86,
            88,
            90,
            92
           ],
           "xaxis": "x",
           "y": [
            -7.867,
            -7.8815609,
            -7.8855455,
            -7.875362,
            -7.839356799999999,
            -7.7966653,
            -7.7475078,
            -7.6923173,
            -7.6313072
           ],
           "yaxis": "y"
          },
          {
           "hovertemplate": "Odd Proton=True<br>Neutron Number [N]=124<br>Proton Number [Z]=%{x}<br>Deficit [MeV]=%{y}<extra></extra>",
           "legendgroup": "True",
           "marker": {
            "color": "#EF553B",
            "symbol": "circle"
           },
           "mode": "markers",
           "name": "True",
           "orientation": "v",
           "showlegend": true,
           "type": "scatter",
           "x": [
            75,
            77,
            79,
            81,
            83,
            85,
            87,
            89,
            91
           ],
           "xaxis": "x",
           "y": [
            -7.85,
            -7.87,
            -7.880865,
            -7.8783946,
            -7.8545053,
            -7.8147835,
            -7.7683613,
            -7.7155908,
            -7.657373300000001
           ],
           "yaxis": "y"
          }
         ],
         "name": "124"
        },
        {
         "data": [
          {
           "hovertemplate": "Odd Proton=False<br>Neutron Number [N]=125<br>Proton Number [Z]=%{x}<br>Deficit [MeV]=%{y}<extra></extra>",
           "legendgroup": "False",
           "marker": {
            "color": "#636efa",
            "symbol": "circle"
           },
           "mode": "markers",
           "name": "False",
           "orientation": "v",
           "showlegend": true,
           "type": "scatter",
           "x": [
            76,
            78,
            80,
            82,
            84,
            86,
            88,
            90,
            92
           ],
           "xaxis": "x",
           "y": [
            -7.849,
            -7.867,
            -7.8747325,
            -7.8698664,
            -7.835188199999999,
            -7.7939412,
            -7.7464726,
            -7.6930266000000005,
            -7.634
           ],
           "yaxis": "y"
          },
          {
           "hovertemplate": "Odd Proton=True<br>Neutron Number [N]=125<br>Proton Number [Z]=%{x}<br>Deficit [MeV]=%{y}<extra></extra>",
           "legendgroup": "True",
           "marker": {
            "color": "#EF553B",
            "symbol": "circle"
           },
           "mode": "markers",
           "name": "True",
           "orientation": "v",
           "showlegend": true,
           "type": "scatter",
           "x": [
            77,
            79,
            81,
            83,
            85,
            87,
            89,
            91
           ],
           "xaxis": "x",
           "y": [
            -7.855,
            -7.868,
            -7.8717219,
            -7.8498534,
            -7.8116638,
            -7.7668455000000005,
            -7.7158874,
            -7.6592006
           ],
           "yaxis": "y"
          }
         ],
         "name": "125"
        },
        {
         "data": [
          {
           "hovertemplate": "Odd Proton=False<br>Neutron Number [N]=126<br>Proton Number [Z]=%{x}<br>Deficit [MeV]=%{y}<extra></extra>",
           "legendgroup": "False",
           "marker": {
            "color": "#636efa",
            "symbol": "circle"
           },
           "mode": "markers",
           "name": "False",
           "orientation": "v",
           "showlegend": true,
           "type": "scatter",
           "x": [
            76,
            78,
            80,
            82,
            84,
            86,
            88,
            90,
            92
           ],
           "xaxis": "x",
           "y": [
            -7.839,
            -7.859,
            -7.8691723,
            -7.867453,
            -7.8343462,
            -7.7947963,
            -7.7491719,
            -7.697661699999999,
            -7.6407191
           ],
           "yaxis": "y"
          },
          {
           "hovertemplate": "Odd Proton=True<br>Neutron Number [N]=126<br>Proton Number [Z]=%{x}<br>Deficit [MeV]=%{y}<extra></extra>",
           "legendgroup": "True",
           "marker": {
            "color": "#EF553B",
            "symbol": "circle"
           },
           "mode": "markers",
           "name": "True",
           "orientation": "v",
           "showlegend": true,
           "type": "scatter",
           "x": [
            77,
            79,
            81,
            83,
            85,
            87,
            89,
            91,
            93
           ],
           "xaxis": "x",
           "y": [
            -7.845,
            -7.86,
            -7.8667979,
            -7.8479868999999995,
            -7.8113545,
            -7.7684543,
            -7.7194137000000005,
            -7.6646437999999995,
            -7.604673200000001
           ],
           "yaxis": "y"
          }
         ],
         "name": "126"
        },
        {
         "data": [
          {
           "hovertemplate": "Odd Proton=False<br>Neutron Number [N]=127<br>Proton Number [Z]=%{x}<br>Deficit [MeV]=%{y}<extra></extra>",
           "legendgroup": "False",
           "marker": {
            "color": "#636efa",
            "symbol": "circle"
           },
           "mode": "markers",
           "name": "False",
           "orientation": "v",
           "showlegend": true,
           "type": "scatter",
           "x": [
            76,
            78,
            80,
            82,
            84,
            86,
            88,
            90,
            92
           ],
           "xaxis": "x",
           "y": [
            -7.814,
            -7.836,
            -7.848611200000001,
            -7.8486488,
            -7.8187842,
            -7.7821824,
            -7.7393249,
            -7.6905945000000004,
            -7.636286699999999
           ],
           "yaxis": "y"
          },
          {
           "hovertemplate": "Odd Proton=True<br>Neutron Number [N]=127<br>Proton Number [Z]=%{x}<br>Deficit [MeV]=%{y}<extra></extra>",
           "legendgroup": "True",
           "marker": {
            "color": "#EF553B",
            "symbol": "circle"
           },
           "mode": "markers",
           "name": "True",
           "orientation": "v",
           "showlegend": true,
           "type": "scatter",
           "x": [
            77,
            79,
            81,
            83,
            85,
            87,
            89,
            91,
            93
           ],
           "xaxis": "x",
           "y": [
            -7.823,
            -7.84,
            -7.8471835,
            -7.8325424,
            -7.7983400000000005,
            -7.7577393,
            -7.7112319,
            -7.659193500000001,
            -7.6020758
           ],
           "yaxis": "y"
          }
         ],
         "name": "127"
        },
        {
         "data": [
          {
           "hovertemplate": "Odd Proton=False<br>Neutron Number [N]=128<br>Proton Number [Z]=%{x}<br>Deficit [MeV]=%{y}<extra></extra>",
           "legendgroup": "False",
           "marker": {
            "color": "#636efa",
            "symbol": "circle"
           },
           "mode": "markers",
           "name": "False",
           "orientation": "v",
           "showlegend": true,
           "type": "scatter",
           "x": [
            78,
            80,
            82,
            84,
            86,
            88,
            90
           ],
           "xaxis": "x",
           "y": [
            -7.82,
            -7.8341914,
            -7.835965600000001,
            -7.8102438,
            -7.777102299999999,
            -7.7373458,
            -7.6916026
           ],
           "yaxis": "y"
          },
          {
           "hovertemplate": "Odd Proton=True<br>Neutron Number [N]=128<br>Proton Number [Z]=%{x}<br>Deficit [MeV]=%{y}<extra></extra>",
           "legendgroup": "True",
           "marker": {
            "color": "#EF553B",
            "symbol": "circle"
           },
           "mode": "markers",
           "name": "True",
           "orientation": "v",
           "showlegend": true,
           "type": "scatter",
           "x": [
            77,
            79,
            81,
            83,
            85,
            87,
            89,
            91,
            95
           ],
           "xaxis": "x",
           "y": [
            -7.805,
            -7.824,
            -7.8333979,
            -7.8197745,
            -7.7900036,
            -7.7532607,
            -7.7103448,
            -7.6613783,
            -7.547
           ],
           "yaxis": "y"
          }
         ],
         "name": "128"
        },
        {
         "data": [
          {
           "hovertemplate": "Odd Proton=False<br>Neutron Number [N]=129<br>Proton Number [Z]=%{x}<br>Deficit [MeV]=%{y}<extra></extra>",
           "legendgroup": "False",
           "marker": {
            "color": "#636efa",
            "symbol": "circle"
           },
           "mode": "markers",
           "name": "False",
           "orientation": "v",
           "showlegend": true,
           "type": "scatter",
           "x": [
            78,
            80,
            82,
            84,
            86,
            88,
            90,
            92
           ],
           "xaxis": "x",
           "y": [
            -7.797,
            -7.813,
            -7.817007899999999,
            -7.794024,
            -7.7638164,
            -7.7269122,
            -7.683765500000001,
            -7.6346849
           ],
           "yaxis": "y"
          },
          {
           "hovertemplate": "Odd Proton=True<br>Neutron Number [N]=129<br>Proton Number [Z]=%{x}<br>Deficit [MeV]=%{y}<extra></extra>",
           "legendgroup": "True",
           "marker": {
            "color": "#EF553B",
            "symbol": "circle"
           },
           "mode": "markers",
           "name": "True",
           "orientation": "v",
           "showlegend": true,
           "type": "scatter",
           "x": [
            79,
            81,
            83,
            85,
            87,
            89,
            91,
            93
           ],
           "xaxis": "x",
           "y": [
            -7.803,
            -7.813589,
            -7.803314,
            -7.7763632,
            -7.7424513,
            -7.702145000000001,
            -7.6555364,
            -7.6027013
           ],
           "yaxis": "y"
          }
         ],
         "name": "129"
        },
        {
         "data": [
          {
           "hovertemplate": "Odd Proton=False<br>Neutron Number [N]=130<br>Proton Number [Z]=%{x}<br>Deficit [MeV]=%{y}<extra></extra>",
           "legendgroup": "False",
           "marker": {
            "color": "#636efa",
            "symbol": "circle"
           },
           "mode": "markers",
           "name": "False",
           "orientation": "v",
           "showlegend": true,
           "type": "scatter",
           "x": [
            78,
            80,
            82,
            84,
            86,
            88,
            90,
            92
           ],
           "xaxis": "x",
           "y": [
            -7.78,
            -7.799,
            -7.8043203000000005,
            -7.785116299999999,
            -7.7586553,
            -7.7250241,
            -7.6844964,
            -7.637765099999999
           ],
           "yaxis": "y"
          },
          {
           "hovertemplate": "Odd Proton=True<br>Neutron Number [N]=130<br>Proton Number [Z]=%{x}<br>Deficit [MeV]=%{y}<extra></extra>",
           "legendgroup": "True",
           "marker": {
            "color": "#EF553B",
            "symbol": "circle"
           },
           "mode": "markers",
           "name": "True",
           "orientation": "v",
           "showlegend": true,
           "type": "scatter",
           "x": [
            79,
            81,
            83,
            85,
            87,
            89,
            91,
            93
           ],
           "xaxis": "x",
           "y": [
            -7.786,
            -7.7997915,
            -7.7910217,
            -7.767862699999999,
            -7.737775,
            -7.700548899999999,
            -7.6569809,
            -7.6075654
           ],
           "yaxis": "y"
          }
         ],
         "name": "130"
        },
        {
         "data": [
          {
           "hovertemplate": "Odd Proton=False<br>Neutron Number [N]=131<br>Proton Number [Z]=%{x}<br>Deficit [MeV]=%{y}<extra></extra>",
           "legendgroup": "False",
           "marker": {
            "color": "#636efa",
            "symbol": "circle"
           },
           "mode": "markers",
           "name": "False",
           "orientation": "v",
           "showlegend": true,
           "type": "scatter",
           "x": [
            80,
            82,
            84,
            86,
            88,
            90,
            92
           ],
           "xaxis": "x",
           "y": [
            -7.777,
            -7.7851732,
            -7.7681768,
            -7.7444036999999994,
            -7.714055999999999,
            -7.676064,
            -7.631761099999999
           ],
           "yaxis": "y"
          },
          {
           "hovertemplate": "Odd Proton=True<br>Neutron Number [N]=131<br>Proton Number [Z]=%{x}<br>Deficit [MeV]=%{y}<extra></extra>",
           "legendgroup": "True",
           "marker": {
            "color": "#EF553B",
            "symbol": "circle"
           },
           "mode": "markers",
           "name": "True",
           "orientation": "v",
           "showlegend": true,
           "type": "scatter",
           "x": [
            79,
            81,
            83,
            85,
            87,
            89,
            91,
            93
           ],
           "xaxis": "x",
           "y": [
            -7.764,
            -7.78,
            -7.7734955,
            -7.753002400000001,
            -7.726714299999999,
            -7.6923515,
            -7.6512373,
            -7.6035032000000005
           ],
           "yaxis": "y"
          }
         ],
         "name": "131"
        },
        {
         "data": [
          {
           "hovertemplate": "Odd Proton=False<br>Neutron Number [N]=132<br>Proton Number [Z]=%{x}<br>Deficit [MeV]=%{y}<extra></extra>",
           "legendgroup": "False",
           "marker": {
            "color": "#636efa",
            "symbol": "circle"
           },
           "mode": "markers",
           "name": "False",
           "orientation": "v",
           "showlegend": true,
           "type": "scatter",
           "x": [
            80,
            82,
            84,
            86,
            88,
            90,
            92
           ],
           "xaxis": "x",
           "y": [
            -7.762,
            -7.7723955,
            -7.7588205,
            -7.7387527,
            -7.7116879,
            -7.6766592000000005,
            -7.6350742
           ],
           "yaxis": "y"
          },
          {
           "hovertemplate": "Odd Proton=True<br>Neutron Number [N]=132<br>Proton Number [Z]=%{x}<br>Deficit [MeV]=%{y}<extra></extra>",
           "legendgroup": "True",
           "marker": {
            "color": "#EF553B",
            "symbol": "circle"
           },
           "mode": "markers",
           "name": "True",
           "orientation": "v",
           "showlegend": true,
           "type": "scatter",
           "x": [
            81,
            83,
            85,
            87,
            89,
            91,
            93
           ],
           "xaxis": "x",
           "y": [
            -7.7654311,
            -7.7617177,
            -7.7446171999999995,
            -7.7211759,
            -7.6905038999999995,
            -7.6518957,
            -7.6074231
           ],
           "yaxis": "y"
          }
         ],
         "name": "132"
        },
        {
         "data": [
          {
           "hovertemplate": "Odd Proton=False<br>Neutron Number [N]=133<br>Proton Number [Z]=%{x}<br>Deficit [MeV]=%{y}<extra></extra>",
           "legendgroup": "False",
           "marker": {
            "color": "#636efa",
            "symbol": "circle"
           },
           "mode": "markers",
           "name": "False",
           "orientation": "v",
           "showlegend": true,
           "type": "scatter",
           "x": [
            80,
            82,
            84,
            86,
            88,
            90,
            92
           ],
           "xaxis": "x",
           "y": [
            -7.739,
            -7.752738099999999,
            -7.7413614,
            -7.7237784000000005,
            -7.7011351999999995,
            -7.6686426,
            -7.6297717
           ],
           "yaxis": "y"
          },
          {
           "hovertemplate": "Odd Proton=True<br>Neutron Number [N]=133<br>Proton Number [Z]=%{x}<br>Deficit [MeV]=%{y}<extra></extra>",
           "legendgroup": "True",
           "marker": {
            "color": "#EF553B",
            "symbol": "circle"
           },
           "mode": "markers",
           "name": "True",
           "orientation": "v",
           "showlegend": true,
           "type": "scatter",
           "x": [
            81,
            83,
            85,
            87,
            89,
            91,
            93
           ],
           "xaxis": "x",
           "y": [
            -7.745,
            -7.7434996,
            -7.7291175,
            -7.7097430000000005,
            -7.682801499999999,
            -7.6469612,
            -7.6041714
           ],
           "yaxis": "y"
          }
         ],
         "name": "133"
        },
        {
         "data": [
          {
           "hovertemplate": "Odd Proton=False<br>Neutron Number [N]=134<br>Proton Number [Z]=%{x}<br>Deficit [MeV]=%{y}<extra></extra>",
           "legendgroup": "False",
           "marker": {
            "color": "#636efa",
            "symbol": "circle"
           },
           "mode": "markers",
           "name": "False",
           "orientation": "v",
           "showlegend": true,
           "type": "scatter",
           "x": [
            80,
            82,
            84,
            86,
            88,
            90,
            92,
            94
           ],
           "xaxis": "x",
           "y": [
            -7.724,
            -7.74,
            -7.731529999999999,
            -7.717255199999999,
            -7.6966931,
            -7.6677162,
            -7.631916599999999,
            -7.5904039
           ],
           "yaxis": "y"
          },
          {
           "hovertemplate": "Odd Proton=True<br>Neutron Number [N]=134<br>Proton Number [Z]=%{x}<br>Deficit [MeV]=%{y}<extra></extra>",
           "legendgroup": "True",
           "marker": {
            "color": "#EF553B",
            "symbol": "circle"
           },
           "mode": "markers",
           "name": "True",
           "orientation": "v",
           "showlegend": true,
           "type": "scatter",
           "x": [
            81,
            83,
            85,
            87,
            89,
            91,
            93,
            95
           ],
           "xaxis": "x",
           "y": [
            -7.73,
            -7.731849100000001,
            -7.720197,
            -7.7032572,
            -7.6791479,
            -7.6466504,
            -7.6072771,
            -7.5625697
           ],
           "yaxis": "y"
          }
         ],
         "name": "134"
        },
        {
         "data": [
          {
           "hovertemplate": "Odd Proton=False<br>Neutron Number [N]=135<br>Proton Number [Z]=%{x}<br>Deficit [MeV]=%{y}<extra></extra>",
           "legendgroup": "False",
           "marker": {
            "color": "#636efa",
            "symbol": "circle"
           },
           "mode": "markers",
           "name": "False",
           "orientation": "v",
           "showlegend": true,
           "type": "scatter",
           "x": [
            80,
            82,
            84,
            86,
            88,
            90,
            92,
            94
           ],
           "xaxis": "x",
           "y": [
            -7.701,
            -7.719,
            -7.713334,
            -7.701394100000001,
            -7.6853101,
            -7.6592229,
            -7.6262918,
            -7.5868834
           ],
           "yaxis": "y"
          },
          {
           "hovertemplate": "Odd Proton=True<br>Neutron Number [N]=135<br>Proton Number [Z]=%{x}<br>Deficit [MeV]=%{y}<extra></extra>",
           "legendgroup": "True",
           "marker": {
            "color": "#EF553B",
            "symbol": "circle"
           },
           "mode": "markers",
           "name": "True",
           "orientation": "v",
           "showlegend": true,
           "type": "scatter",
           "x": [
            81,
            83,
            85,
            87,
            89,
            91,
            93,
            95
           ],
           "xaxis": "x",
           "y": [
            -7.709,
            -7.712828,
            -7.7037033,
            -7.6909474,
            -7.6701438,
            -7.6411093,
            -7.604,
            -7.562
           ],
           "yaxis": "y"
          }
         ],
         "name": "135"
        },
        {
         "data": [
          {
           "hovertemplate": "Odd Proton=False<br>Neutron Number [N]=136<br>Proton Number [Z]=%{x}<br>Deficit [MeV]=%{y}<extra></extra>",
           "legendgroup": "False",
           "marker": {
            "color": "#636efa",
            "symbol": "circle"
           },
           "mode": "markers",
           "name": "False",
           "orientation": "v",
           "showlegend": true,
           "type": "scatter",
           "x": [
            80,
            82,
            84,
            86,
            88,
            90,
            92,
            94
           ],
           "xaxis": "x",
           "y": [
            -7.685,
            -7.705,
            -7.7032244,
            -7.6944991,
            -7.6799236,
            -7.657119499999999,
            -7.6274763000000005,
            -7.591001599999999
           ],
           "yaxis": "y"
          },
          {
           "hovertemplate": "Odd Proton=True<br>Neutron Number [N]=136<br>Proton Number [Z]=%{x}<br>Deficit [MeV]=%{y}<extra></extra>",
           "legendgroup": "True",
           "marker": {
            "color": "#EF553B",
            "symbol": "circle"
           },
           "mode": "markers",
           "name": "True",
           "orientation": "v",
           "showlegend": true,
           "type": "scatter",
           "x": [
            81,
            83,
            85,
            87,
            89,
            91,
            93,
            97
           ],
           "xaxis": "x",
           "y": [
            -7.693,
            -7.7,
            -7.6944754,
            -7.6836655,
            -7.6656906,
            -7.6394945,
            -7.605992100000001,
            -7.519
           ],
           "yaxis": "y"
          }
         ],
         "name": "136"
        },
        {
         "data": [
          {
           "hovertemplate": "Odd Proton=False<br>Neutron Number [N]=137<br>Proton Number [Z]=%{x}<br>Deficit [MeV]=%{y}<extra></extra>",
           "legendgroup": "False",
           "marker": {
            "color": "#636efa",
            "symbol": "circle"
           },
           "mode": "markers",
           "name": "False",
           "orientation": "v",
           "showlegend": true,
           "type": "scatter",
           "x": [
            82,
            84,
            86,
            88,
            90,
            92,
            94,
            96
           ],
           "xaxis": "x",
           "y": [
            -7.684,
            -7.684481399999999,
            -7.678172,
            -7.6675866,
            -7.6474591,
            -7.6207218,
            -7.5871224,
            -7.5460020000000005
           ],
           "yaxis": "y"
          },
          {
           "hovertemplate": "Odd Proton=True<br>Neutron Number [N]=137<br>Proton Number [Z]=%{x}<br>Deficit [MeV]=%{y}<extra></extra>",
           "legendgroup": "True",
           "marker": {
            "color": "#EF553B",
            "symbol": "circle"
           },
           "mode": "markers",
           "name": "True",
           "orientation": "v",
           "showlegend": true,
           "type": "scatter",
           "x": [
            83,
            85,
            87,
            89,
            91,
            93,
            95,
            97
           ],
           "xaxis": "x",
           "y": [
            -7.681,
            -7.6773878,
            -7.670368000000001,
            -7.6556628,
            -7.6322076,
            -7.6017751,
            -7.564,
            -7.519
           ],
           "yaxis": "y"
          }
         ],
         "name": "137"
        },
        {
         "data": [
          {
           "hovertemplate": "Odd Proton=False<br>Neutron Number [N]=138<br>Proton Number [Z]=%{x}<br>Deficit [MeV]=%{y}<extra></extra>",
           "legendgroup": "False",
           "marker": {
            "color": "#636efa",
            "symbol": "circle"
           },
           "mode": "markers",
           "name": "False",
           "orientation": "v",
           "showlegend": true,
           "type": "scatter",
           "x": [
            82,
            84,
            86,
            88,
            90,
            92,
            94,
            96,
            98
           ],
           "xaxis": "x",
           "y": [
            -7.67,
            -7.6740054,
            -7.6707514,
            -7.6619636,
            -7.6450807,
            -7.6209227,
            -7.588983900000001,
            -7.5506868,
            null
           ],
           "yaxis": "y"
          },
          {
           "hovertemplate": "Odd Proton=True<br>Neutron Number [N]=138<br>Proton Number [Z]=%{x}<br>Deficit [MeV]=%{y}<extra></extra>",
           "legendgroup": "True",
           "marker": {
            "color": "#EF553B",
            "symbol": "circle"
           },
           "mode": "markers",
           "name": "True",
           "orientation": "v",
           "showlegend": true,
           "type": "scatter",
           "x": [
            83,
            85,
            87,
            89,
            91,
            93,
            95
           ],
           "xaxis": "x",
           "y": [
            -7.668,
            -7.6680557,
            -7.662941200000001,
            -7.6507084,
            -7.629875200000001,
            -7.6021320999999995,
            -7.567
           ],
           "yaxis": "y"
          }
         ],
         "name": "138"
        },
        {
         "data": [
          {
           "hovertemplate": "Odd Proton=False<br>Neutron Number [N]=139<br>Proton Number [Z]=%{x}<br>Deficit [MeV]=%{y}<extra></extra>",
           "legendgroup": "False",
           "marker": {
            "color": "#636efa",
            "symbol": "circle"
           },
           "mode": "markers",
           "name": "False",
           "orientation": "v",
           "showlegend": true,
           "type": "scatter",
           "x": [
            84,
            86,
            88,
            90,
            92,
            94,
            96,
            98
           ],
           "xaxis": "x",
           "y": [
            -7.655,
            -7.6543581000000005,
            -7.6483048,
            -7.634651,
            -7.613387899999999,
            -7.5837968,
            -7.547,
            -7.5033507
           ],
           "yaxis": "y"
          },
          {
           "hovertemplate": "Odd Proton=True<br>Neutron Number [N]=139<br>Proton Number [Z]=%{x}<br>Deficit [MeV]=%{y}<extra></extra>",
           "legendgroup": "True",
           "marker": {
            "color": "#EF553B",
            "symbol": "circle"
           },
           "mode": "markers",
           "name": "True",
           "orientation": "v",
           "showlegend": true,
           "type": "scatter",
           "x": [
            83,
            85,
            87,
            89,
            91,
            93,
            95,
            97
           ],
           "xaxis": "x",
           "y": [
            -7.648,
            -7.650735399999999,
            -7.6483768,
            -7.6391973,
            -7.6218958,
            -7.597,
            -7.564,
            -7.523
           ],
           "yaxis": "y"
          }
         ],
         "name": "139"
        },
        {
         "data": [
          {
           "hovertemplate": "Odd Proton=False<br>Neutron Number [N]=140<br>Proton Number [Z]=%{x}<br>Deficit [MeV]=%{y}<extra></extra>",
           "legendgroup": "False",
           "marker": {
            "color": "#636efa",
            "symbol": "circle"
           },
           "mode": "markers",
           "name": "False",
           "orientation": "v",
           "showlegend": true,
           "type": "scatter",
           "x": [
            84,
            86,
            88,
            90,
            92,
            94,
            96,
            98
           ],
           "xaxis": "x",
           "y": [
            -7.644,
            -7.6464108,
            -7.6424289,
            -7.6309974,
            -7.6118984,
            -7.5846061,
            -7.550309,
            -7.509
           ],
           "yaxis": "y"
          },
          {
           "hovertemplate": "Odd Proton=True<br>Neutron Number [N]=140<br>Proton Number [Z]=%{x}<br>Deficit [MeV]=%{y}<extra></extra>",
           "legendgroup": "True",
           "marker": {
            "color": "#EF553B",
            "symbol": "circle"
           },
           "mode": "markers",
           "name": "True",
           "orientation": "v",
           "showlegend": true,
           "type": "scatter",
           "x": [
            83,
            85,
            87,
            89,
            91,
            93,
            95
           ],
           "xaxis": "x",
           "y": [
            -7.636,
            -7.641,
            -7.6407162,
            -7.6332446,
            -7.6184267,
            -7.5961815999999995,
            -7.5651582
           ],
           "yaxis": "y"
          }
         ],
         "name": "140"
        },
        {
         "data": [
          {
           "hovertemplate": "Odd Proton=False<br>Neutron Number [N]=141<br>Proton Number [Z]=%{x}<br>Deficit [MeV]=%{y}<extra></extra>",
           "legendgroup": "False",
           "marker": {
            "color": "#636efa",
            "symbol": "circle"
           },
           "mode": "markers",
           "name": "False",
           "orientation": "v",
           "showlegend": true,
           "type": "scatter",
           "x": [
            84,
            86,
            88,
            90,
            92,
            94,
            96,
            98,
            100
           ],
           "xaxis": "x",
           "y": [
            -7.626,
            -7.6300508,
            -7.6284862,
            -7.6201188,
            -7.6039574000000005,
            -7.5788799,
            -7.5466241,
            -7.507,
            -7.459
           ],
           "yaxis": "y"
          },
          {
           "hovertemplate": "Odd Proton=True<br>Neutron Number [N]=141<br>Proton Number [Z]=%{x}<br>Deficit [MeV]=%{y}<extra></extra>",
           "legendgroup": "True",
           "marker": {
            "color": "#EF553B",
            "symbol": "circle"
           },
           "mode": "markers",
           "name": "True",
           "orientation": "v",
           "showlegend": true,
           "type": "scatter",
           "x": [
            83,
            85,
            87,
            89,
            91,
            93,
            95,
            97,
            99
           ],
           "xaxis": "x",
           "y": [
            -7.616,
            -7.624,
            -7.6263689,
            -7.6214604,
            -7.6095072,
            -7.5896382000000004,
            -7.561,
            -7.525,
            -7.481
           ],
           "yaxis": "y"
          }
         ],
         "name": "141"
        },
        {
         "data": [
          {
           "hovertemplate": "Odd Proton=False<br>Neutron Number [N]=142<br>Proton Number [Z]=%{x}<br>Deficit [MeV]=%{y}<extra></extra>",
           "legendgroup": "False",
           "marker": {
            "color": "#636efa",
            "symbol": "circle"
           },
           "mode": "markers",
           "name": "False",
           "orientation": "v",
           "showlegend": true,
           "type": "scatter",
           "x": [
            84,
            86,
            88,
            90,
            92,
            94,
            96,
            98,
            100
           ],
           "xaxis": "x",
           "y": [
            -7.614,
            -7.6216457,
            -7.6219144,
            -7.6150338,
            -7.600716,
            -7.5779192,
            -7.5479966,
            -7.51024,
            -7.465
           ],
           "yaxis": "y"
          },
          {
           "hovertemplate": "Odd Proton=True<br>Neutron Number [N]=142<br>Proton Number [Z]=%{x}<br>Deficit [MeV]=%{y}<extra></extra>",
           "legendgroup": "True",
           "marker": {
            "color": "#EF553B",
            "symbol": "circle"
           },
           "mode": "markers",
           "name": "True",
           "orientation": "v",
           "showlegend": true,
           "type": "scatter",
           "x": [
            85,
            87,
            89,
            91,
            93,
            95,
            97,
            99
           ],
           "xaxis": "x",
           "y": [
            -7.613,
            -7.618338,
            -7.6150768,
            -7.6048675,
            -7.5870571,
            -7.561,
            -7.527,
            -7.485
           ],
           "yaxis": "y"
          }
         ],
         "name": "142"
        },
        {
         "data": [
          {
           "hovertemplate": "Odd Proton=False<br>Neutron Number [N]=143<br>Proton Number [Z]=%{x}<br>Deficit [MeV]=%{y}<extra></extra>",
           "legendgroup": "False",
           "marker": {
            "color": "#636efa",
            "symbol": "circle"
           },
           "mode": "markers",
           "name": "False",
           "orientation": "v",
           "showlegend": true,
           "type": "scatter",
           "x": [
            84,
            86,
            88,
            90,
            92,
            94,
            96,
            98,
            100
           ],
           "xaxis": "x",
           "y": [
            -7.596,
            -7.6056227,
            -7.6078418,
            -7.602893699999999,
            -7.5909151,
            -7.5707599,
            -7.543065899999999,
            -7.507,
            -7.464
           ],
           "yaxis": "y"
          },
          {
           "hovertemplate": "Odd Proton=True<br>Neutron Number [N]=143<br>Proton Number [Z]=%{x}<br>Deficit [MeV]=%{y}<extra></extra>",
           "legendgroup": "True",
           "marker": {
            "color": "#EF553B",
            "symbol": "circle"
           },
           "mode": "markers",
           "name": "True",
           "orientation": "v",
           "showlegend": true,
           "type": "scatter",
           "x": [
            85,
            87,
            89,
            91,
            93,
            95,
            97,
            99,
            101
           ],
           "xaxis": "x",
           "y": [
            -7.596,
            -7.6037052,
            -7.6024245,
            -7.594683699999999,
            -7.5792148,
            -7.5555853,
            -7.523,
            -7.483,
            -7.438
           ],
           "yaxis": "y"
          }
         ],
         "name": "143"
        },
        {
         "data": [
          {
           "hovertemplate": "Odd Proton=False<br>Neutron Number [N]=144<br>Proton Number [Z]=%{x}<br>Deficit [MeV]=%{y}<extra></extra>",
           "legendgroup": "False",
           "marker": {
            "color": "#636efa",
            "symbol": "circle"
           },
           "mode": "markers",
           "name": "False",
           "orientation": "v",
           "showlegend": true,
           "type": "scatter",
           "x": [
            86,
            88,
            90,
            92,
            94,
            96,
            98,
            100
           ],
           "xaxis": "x",
           "y": [
            -7.595,
            -7.6000099,
            -7.5968557,
            -7.5864854,
            -7.5683611,
            -7.5428617000000004,
            -7.5090991,
            -7.468
           ],
           "yaxis": "y"
          },
          {
           "hovertemplate": "Odd Proton=True<br>Neutron Number [N]=144<br>Proton Number [Z]=%{x}<br>Deficit [MeV]=%{y}<extra></extra>",
           "legendgroup": "True",
           "marker": {
            "color": "#EF553B",
            "symbol": "circle"
           },
           "mode": "markers",
           "name": "True",
           "orientation": "v",
           "showlegend": true,
           "type": "scatter",
           "x": [
            85,
            87,
            89,
            91,
            93,
            95,
            97,
            99,
            101
           ],
           "xaxis": "x",
           "y": [
            -7.585,
            -7.5945009,
            -7.5951939,
            -7.5884139,
            -7.5749895,
            -7.5536891,
            -7.524,
            -7.486,
            -7.441
           ],
           "yaxis": "y"
          }
         ],
         "name": "144"
        },
        {
         "data": [
          {
           "hovertemplate": "Odd Proton=False<br>Neutron Number [N]=145<br>Proton Number [Z]=%{x}<br>Deficit [MeV]=%{y}<extra></extra>",
           "legendgroup": "False",
           "marker": {
            "color": "#636efa",
            "symbol": "circle"
           },
           "mode": "markers",
           "name": "False",
           "orientation": "v",
           "showlegend": true,
           "type": "scatter",
           "x": [
            86,
            88,
            90,
            92,
            94,
            96,
            98,
            100
           ],
           "xaxis": "x",
           "y": [
            -7.579,
            -7.5855644,
            -7.5843862,
            -7.5761026000000005,
            -7.5603187,
            -7.5368488,
            -7.505,
            -7.465
           ],
           "yaxis": "y"
          },
          {
           "hovertemplate": "Odd Proton=True<br>Neutron Number [N]=145<br>Proton Number [Z]=%{x}<br>Deficit [MeV]=%{y}<extra></extra>",
           "legendgroup": "True",
           "marker": {
            "color": "#EF553B",
            "symbol": "circle"
           },
           "mode": "markers",
           "name": "True",
           "orientation": "v",
           "showlegend": true,
           "type": "scatter",
           "x": [
            87,
            89,
            91,
            93,
            95,
            97,
            99,
            101
           ],
           "xaxis": "x",
           "y": [
            -7.5793481,
            -7.5821297,
            -7.5775573000000005,
            -7.566222,
            -7.5470136000000005,
            -7.519,
            -7.483,
            -7.441
           ],
           "yaxis": "y"
          }
         ],
         "name": "145"
        },
        {
         "data": [
          {
           "hovertemplate": "Odd Proton=False<br>Neutron Number [N]=146<br>Proton Number [Z]=%{x}<br>Deficit [MeV]=%{y}<extra></extra>",
           "legendgroup": "False",
           "marker": {
            "color": "#636efa",
            "symbol": "circle"
           },
           "mode": "markers",
           "name": "False",
           "orientation": "v",
           "showlegend": true,
           "type": "scatter",
           "x": [
            88,
            90,
            92,
            94,
            96,
            98,
            100,
            102
           ],
           "xaxis": "x",
           "y": [
            -7.5765439,
            -7.5769687999999995,
            -7.5701262,
            -7.556043300000001,
            -7.534504,
            -7.5051373,
            -7.4679608,
            -7.424
           ],
           "yaxis": "y"
          },
          {
           "hovertemplate": "Odd Proton=True<br>Neutron Number [N]=146<br>Proton Number [Z]=%{x}<br>Deficit [MeV]=%{y}<extra></extra>",
           "legendgroup": "True",
           "marker": {
            "color": "#EF553B",
            "symbol": "circle"
           },
           "mode": "markers",
           "name": "True",
           "orientation": "v",
           "showlegend": true,
           "type": "scatter",
           "x": [
            87,
            89,
            91,
            93,
            95,
            97,
            99,
            101
           ],
           "xaxis": "x",
           "y": [
            -7.5692398,
            -7.5735051,
            -7.5703847,
            -7.560568,
            -7.5432795,
            -7.5175021,
            -7.485,
            -7.444
           ],
           "yaxis": "y"
          }
         ],
         "name": "146"
        },
        {
         "data": [
          {
           "hovertemplate": "Odd Proton=False<br>Neutron Number [N]=147<br>Proton Number [Z]=%{x}<br>Deficit [MeV]=%{y}<extra></extra>",
           "legendgroup": "False",
           "marker": {
            "color": "#636efa",
            "symbol": "circle"
           },
           "mode": "markers",
           "name": "False",
           "orientation": "v",
           "showlegend": true,
           "type": "scatter",
           "x": [
            90,
            92,
            94,
            96,
            98,
            100,
            102
           ],
           "xaxis": "x",
           "y": [
            -7.5634433,
            -7.5585624,
            -7.5464395,
            -7.5269261,
            -7.4996643999999995,
            -7.464,
            -7.422
           ],
           "yaxis": "y"
          },
          {
           "hovertemplate": "Odd Proton=True<br>Neutron Number [N]=147<br>Proton Number [Z]=%{x}<br>Deficit [MeV]=%{y}<extra></extra>",
           "legendgroup": "True",
           "marker": {
            "color": "#EF553B",
            "symbol": "circle"
           },
           "mode": "markers",
           "name": "True",
           "orientation": "v",
           "showlegend": true,
           "type": "scatter",
           "x": [
            89,
            91,
            93,
            95,
            97,
            99,
            101
           ],
           "xaxis": "x",
           "y": [
            -7.5592423,
            -7.5583449,
            -7.5501743,
            -7.5349917,
            -7.511475900000001,
            -7.4807849,
            -7.442
           ],
           "yaxis": "y"
          }
         ],
         "name": "147"
        },
        {
         "data": [
          {
           "hovertemplate": "Odd Proton=False<br>Neutron Number [N]=148<br>Proton Number [Z]=%{x}<br>Deficit [MeV]=%{y}<extra></extra>",
           "legendgroup": "False",
           "marker": {
            "color": "#636efa",
            "symbol": "circle"
           },
           "mode": "markers",
           "name": "False",
           "orientation": "v",
           "showlegend": true,
           "type": "scatter",
           "x": [
            90,
            92,
            94,
            96,
            98,
            100,
            102
           ],
           "xaxis": "x",
           "y": [
            -7.555,
            -7.5517705,
            -7.5413284,
            -7.5239527,
            -7.499122000000001,
            -7.4659451,
            -7.426
           ],
           "yaxis": "y"
          },
          {
           "hovertemplate": "Odd Proton=True<br>Neutron Number [N]=148<br>Proton Number [Z]=%{x}<br>Deficit [MeV]=%{y}<extra></extra>",
           "legendgroup": "True",
           "marker": {
            "color": "#EF553B",
            "symbol": "circle"
           },
           "mode": "markers",
           "name": "True",
           "orientation": "v",
           "showlegend": true,
           "type": "scatter",
           "x": [
            91,
            93,
            95,
            97,
            99,
            101
           ],
           "xaxis": "x",
           "y": [
            -7.55,
            -7.5440426,
            -7.5301742,
            -7.509271399999999,
            -7.4801005,
            -7.444016899999999
           ],
           "yaxis": "y"
          }
         ],
         "name": "148"
        },
        {
         "data": [
          {
           "hovertemplate": "Odd Proton=False<br>Neutron Number [N]=149<br>Proton Number [Z]=%{x}<br>Deficit [MeV]=%{y}<extra></extra>",
           "legendgroup": "False",
           "marker": {
            "color": "#636efa",
            "symbol": "circle"
           },
           "mode": "markers",
           "name": "False",
           "orientation": "v",
           "showlegend": true,
           "type": "scatter",
           "x": [
            92,
            94,
            96,
            98,
            100,
            102,
            104
           ],
           "xaxis": "x",
           "y": [
            -7.539,
            -7.5310087,
            -7.5157677000000005,
            -7.493263799999999,
            -7.461864899999999,
            -7.423,
            -7.38
           ],
           "yaxis": "y"
          },
          {
           "hovertemplate": "Odd Proton=True<br>Neutron Number [N]=149<br>Proton Number [Z]=%{x}<br>Deficit [MeV]=%{y}<extra></extra>",
           "legendgroup": "True",
           "marker": {
            "color": "#EF553B",
            "symbol": "circle"
           },
           "mode": "markers",
           "name": "True",
           "orientation": "v",
           "showlegend": true,
           "type": "scatter",
           "x": [
            93,
            95,
            97,
            99,
            101,
            103
           ],
           "xaxis": "x",
           "y": [
            -7.5334042,
            -7.5213095,
            -7.5028035,
            -7.476,
            -7.4416533,
            -7.4
           ],
           "yaxis": "y"
          }
         ],
         "name": "149"
        },
        {
         "data": [
          {
           "hovertemplate": "Odd Proton=False<br>Neutron Number [N]=150<br>Proton Number [Z]=%{x}<br>Deficit [MeV]=%{y}<extra></extra>",
           "legendgroup": "False",
           "marker": {
            "color": "#636efa",
            "symbol": "circle"
           },
           "mode": "markers",
           "name": "False",
           "orientation": "v",
           "showlegend": true,
           "type": "scatter",
           "x": [
            92,
            94,
            96,
            98,
            100,
            102,
            104
           ],
           "xaxis": "x",
           "y": [
            -7.532,
            -7.5248154000000005,
            -7.5114716,
            -7.491044,
            -7.4620905,
            -7.4257992,
            -7.384
           ],
           "yaxis": "y"
          },
          {
           "hovertemplate": "Odd Proton=True<br>Neutron Number [N]=150<br>Proton Number [Z]=%{x}<br>Deficit [MeV]=%{y}<extra></extra>",
           "legendgroup": "True",
           "marker": {
            "color": "#EF553B",
            "symbol": "circle"
           },
           "mode": "markers",
           "name": "True",
           "orientation": "v",
           "showlegend": true,
           "type": "scatter",
           "x": [
            93,
            95,
            97,
            99,
            101,
            103,
            105
           ],
           "xaxis": "x",
           "y": [
            -7.526,
            -7.5153042999999995,
            -7.498940800000001,
            -7.474,
            -7.4419005,
            -7.402918,
            -7.359
           ],
           "yaxis": "y"
          }
         ],
         "name": "150"
        },
        {
         "data": [
          {
           "hovertemplate": "Odd Proton=False<br>Neutron Number [N]=151<br>Proton Number [Z]=%{x}<br>Deficit [MeV]=%{y}<extra></extra>",
           "legendgroup": "False",
           "marker": {
            "color": "#636efa",
            "symbol": "circle"
           },
           "mode": "markers",
           "name": "False",
           "orientation": "v",
           "showlegend": true,
           "type": "scatter",
           "x": [
            92,
            94,
            96,
            98,
            100,
            102,
            104
           ],
           "xaxis": "x",
           "y": [
            -7.518,
            -7.5132822,
            -7.5019318,
            -7.4833954,
            -7.4570013,
            -7.4224719,
            -7.382
           ],
           "yaxis": "y"
          },
          {
           "hovertemplate": "Odd Proton=True<br>Neutron Number [N]=151<br>Proton Number [Z]=%{x}<br>Deficit [MeV]=%{y}<extra></extra>",
           "legendgroup": "True",
           "marker": {
            "color": "#EF553B",
            "symbol": "circle"
           },
           "mode": "markers",
           "name": "True",
           "orientation": "v",
           "showlegend": true,
           "type": "scatter",
           "x": [
            93,
            95,
            97,
            99,
            101,
            103,
            105
           ],
           "xaxis": "x",
           "y": [
            -7.514,
            -7.505,
            -7.4905975,
            -7.469,
            -7.438444400000001,
            -7.4011306,
            -7.359
           ],
           "yaxis": "y"
          }
         ],
         "name": "151"
        },
        {
         "data": [
          {
           "hovertemplate": "Odd Proton=False<br>Neutron Number [N]=152<br>Proton Number [Z]=%{x}<br>Deficit [MeV]=%{y}<extra></extra>",
           "legendgroup": "False",
           "marker": {
            "color": "#636efa",
            "symbol": "circle"
           },
           "mode": "markers",
           "name": "False",
           "orientation": "v",
           "showlegend": true,
           "type": "scatter",
           "x": [
            92,
            94,
            96,
            98,
            100,
            102,
            104,
            106
           ],
           "xaxis": "x",
           "y": [
            null,
            -7.5065401000000005,
            -7.4967291,
            -7.4799567,
            -7.4560351,
            -7.4235909,
            -7.3854349,
            -7.342
           ],
           "yaxis": "y"
          },
          {
           "hovertemplate": "Odd Proton=True<br>Neutron Number [N]=152<br>Proton Number [Z]=%{x}<br>Deficit [MeV]=%{y}<extra></extra>",
           "legendgroup": "True",
           "marker": {
            "color": "#EF553B",
            "symbol": "circle"
           },
           "mode": "markers",
           "name": "True",
           "orientation": "v",
           "showlegend": true,
           "type": "scatter",
           "x": [
            95,
            97,
            99,
            101,
            103,
            105
           ],
           "xaxis": "x",
           "y": [
            -7.499,
            -7.486041,
            -7.4658842000000005,
            -7.438,
            -7.4025767,
            -7.3619767000000005
           ],
           "yaxis": "y"
          }
         ],
         "name": "152"
        },
        {
         "data": [
          {
           "hovertemplate": "Odd Proton=False<br>Neutron Number [N]=153<br>Proton Number [Z]=%{x}<br>Deficit [MeV]=%{y}<extra></extra>",
           "legendgroup": "False",
           "marker": {
            "color": "#636efa",
            "symbol": "circle"
           },
           "mode": "markers",
           "name": "False",
           "orientation": "v",
           "showlegend": true,
           "type": "scatter",
           "x": [
            92,
            94,
            96,
            98,
            100,
            102,
            104,
            106
           ],
           "xaxis": "x",
           "y": [
            null,
            -7.493,
            -7.485551,
            -7.4705014,
            -7.4484712,
            -7.417940300000001,
            -7.381705299999999,
            -7.34
           ],
           "yaxis": "y"
          },
          {
           "hovertemplate": "Odd Proton=True<br>Neutron Number [N]=153<br>Proton Number [Z]=%{x}<br>Deficit [MeV]=%{y}<extra></extra>",
           "legendgroup": "True",
           "marker": {
            "color": "#EF553B",
            "symbol": "circle"
           },
           "mode": "markers",
           "name": "True",
           "orientation": "v",
           "showlegend": true,
           "type": "scatter",
           "x": [
            95,
            97,
            99,
            101,
            103,
            105,
            107
           ],
           "xaxis": "x",
           "y": [
            -7.487,
            -7.4759594,
            -7.4572428,
            -7.432,
            -7.3981605,
            -7.3594803,
            -7.314
           ],
           "yaxis": "y"
          }
         ],
         "name": "153"
        },
        {
         "data": [
          {
           "hovertemplate": "Odd Proton=False<br>Neutron Number [N]=154<br>Proton Number [Z]=%{x}<br>Deficit [MeV]=%{y}<extra></extra>",
           "legendgroup": "False",
           "marker": {
            "color": "#636efa",
            "symbol": "circle"
           },
           "mode": "markers",
           "name": "False",
           "orientation": "v",
           "showlegend": true,
           "type": "scatter",
           "x": [
            92,
            96,
            98,
            100,
            102,
            104,
            106
           ],
           "xaxis": "x",
           "y": [
            null,
            -7.4789385,
            -7.4653474,
            -7.4447936,
            -7.4165429000000005,
            -7.3825257,
            -7.3425632
           ],
           "yaxis": "y"
          },
          {
           "hovertemplate": "Odd Proton=True<br>Neutron Number [N]=154<br>Proton Number [Z]=%{x}<br>Deficit [MeV]=%{y}<extra></extra>",
           "legendgroup": "True",
           "marker": {
            "color": "#EF553B",
            "symbol": "circle"
           },
           "mode": "markers",
           "name": "True",
           "orientation": "v",
           "showlegend": true,
           "type": "scatter",
           "x": [
            97,
            99,
            101,
            103,
            105,
            107
           ],
           "xaxis": "x",
           "y": [
            -7.469263700000001,
            -7.4528878999999995,
            -7.4287333,
            -7.397,
            -7.3603626,
            -7.3173313
           ],
           "yaxis": "y"
          }
         ],
         "name": "154"
        },
        {
         "data": [
          {
           "hovertemplate": "Odd Proton=False<br>Neutron Number [N]=155<br>Proton Number [Z]=%{x}<br>Deficit [MeV]=%{y}<extra></extra>",
           "legendgroup": "False",
           "marker": {
            "color": "#636efa",
            "symbol": "circle"
           },
           "mode": "markers",
           "name": "False",
           "orientation": "v",
           "showlegend": true,
           "type": "scatter",
           "x": [
            92,
            96,
            98,
            100,
            102,
            104,
            106,
            108
           ],
           "xaxis": "x",
           "y": [
            null,
            -7.4667233,
            -7.4548297,
            -7.435886,
            -7.4096587,
            -7.377,
            -7.339771,
            -7.295
           ],
           "yaxis": "y"
          },
          {
           "hovertemplate": "Odd Proton=True<br>Neutron Number [N]=155<br>Proton Number [Z]=%{x}<br>Deficit [MeV]=%{y}<extra></extra>",
           "legendgroup": "True",
           "marker": {
            "color": "#EF553B",
            "symbol": "circle"
           },
           "mode": "markers",
           "name": "True",
           "orientation": "v",
           "showlegend": true,
           "type": "scatter",
           "x": [
            99,
            101,
            103,
            105,
            107
           ],
           "xaxis": "x",
           "y": [
            -7.4435759,
            -7.421,
            -7.392,
            -7.357,
            -7.3157331
           ],
           "yaxis": "y"
          }
         ],
         "name": "155"
        },
        {
         "data": [
          {
           "hovertemplate": "Odd Proton=False<br>Neutron Number [N]=156<br>Proton Number [Z]=%{x}<br>Deficit [MeV]=%{y}<extra></extra>",
           "legendgroup": "False",
           "marker": {
            "color": "#636efa",
            "symbol": "circle"
           },
           "mode": "markers",
           "name": "False",
           "orientation": "v",
           "showlegend": true,
           "type": "scatter",
           "x": [
            92,
            98,
            100,
            102,
            104,
            106,
            108
           ],
           "xaxis": "x",
           "y": [
            null,
            -7.4492259,
            -7.4317888000000005,
            -7.407,
            -7.377,
            -7.3411736,
            -7.2983762
           ],
           "yaxis": "y"
          },
          {
           "hovertemplate": "Odd Proton=True<br>Neutron Number [N]=156<br>Proton Number [Z]=%{x}<br>Deficit [MeV]=%{y}<extra></extra>",
           "legendgroup": "True",
           "marker": {
            "color": "#EF553B",
            "symbol": "circle"
           },
           "mode": "markers",
           "name": "True",
           "orientation": "v",
           "showlegend": true,
           "type": "scatter",
           "x": [
            97,
            99,
            101,
            103,
            105,
            107
           ],
           "xaxis": "x",
           "y": [
            -7.451,
            -7.4378216,
            -7.4175845,
            -7.39,
            -7.357,
            -7.318
           ],
           "yaxis": "y"
          }
         ],
         "name": "156"
        },
        {
         "data": [
          {
           "hovertemplate": "Odd Proton=False<br>Neutron Number [N]=157<br>Proton Number [Z]=%{x}<br>Deficit [MeV]=%{y}<extra></extra>",
           "legendgroup": "False",
           "marker": {
            "color": "#636efa",
            "symbol": "circle"
           },
           "mode": "markers",
           "name": "False",
           "orientation": "v",
           "showlegend": true,
           "type": "scatter",
           "x": [
            92,
            98,
            100,
            102,
            104,
            106,
            108,
            110
           ],
           "xaxis": "x",
           "y": [
            null,
            -7.438,
            -7.4221942,
            -7.3999714,
            -7.3713858,
            -7.337,
            -7.2962474,
            -7.248
           ],
           "yaxis": "y"
          },
          {
           "hovertemplate": "Odd Proton=True<br>Neutron Number [N]=157<br>Proton Number [Z]=%{x}<br>Deficit [MeV]=%{y}<extra></extra>",
           "legendgroup": "True",
           "marker": {
            "color": "#EF553B",
            "symbol": "circle"
           },
           "mode": "markers",
           "name": "True",
           "orientation": "v",
           "showlegend": true,
           "type": "scatter",
           "x": [
            99,
            101,
            103,
            105,
            107,
            109
           ],
           "xaxis": "x",
           "y": [
            -7.428,
            -7.4096615,
            -7.383,
            -7.352,
            -7.315,
            -7.2707597999999996
           ],
           "yaxis": "y"
          }
         ],
         "name": "157"
        },
        {
         "data": [
          {
           "hovertemplate": "Odd Proton=False<br>Neutron Number [N]=158<br>Proton Number [Z]=%{x}<br>Deficit [MeV]=%{y}<extra></extra>",
           "legendgroup": "False",
           "marker": {
            "color": "#636efa",
            "symbol": "circle"
           },
           "mode": "markers",
           "name": "False",
           "orientation": "v",
           "showlegend": true,
           "type": "scatter",
           "x": [
            92,
            98,
            100,
            102,
            104,
            106,
            108
           ],
           "xaxis": "x",
           "y": [
            null,
            -7.432,
            -7.418,
            -7.397,
            -7.37,
            -7.338,
            -7.2982610999999995
           ],
           "yaxis": "y"
          },
          {
           "hovertemplate": "Odd Proton=True<br>Neutron Number [N]=158<br>Proton Number [Z]=%{x}<br>Deficit [MeV]=%{y}<extra></extra>",
           "legendgroup": "True",
           "marker": {
            "color": "#EF553B",
            "symbol": "circle"
           },
           "mode": "markers",
           "name": "True",
           "orientation": "v",
           "showlegend": true,
           "type": "scatter",
           "x": [
            99,
            101,
            103,
            105,
            107
           ],
           "xaxis": "x",
           "y": [
            -7.422,
            -7.405,
            -7.381,
            -7.352,
            -7.316
           ],
           "yaxis": "y"
          }
         ],
         "name": "158"
        },
        {
         "data": [
          {
           "hovertemplate": "Odd Proton=False<br>Neutron Number [N]=159<br>Proton Number [Z]=%{x}<br>Deficit [MeV]=%{y}<extra></extra>",
           "legendgroup": "False",
           "marker": {
            "color": "#636efa",
            "symbol": "circle"
           },
           "mode": "markers",
           "name": "False",
           "orientation": "v",
           "showlegend": true,
           "type": "scatter",
           "x": [
            92,
            100,
            104,
            106,
            108,
            110
           ],
           "xaxis": "x",
           "y": [
            null,
            -7.407,
            -7.364,
            -7.333,
            -7.295,
            -7.2501551
           ],
           "yaxis": "y"
          },
          {
           "hovertemplate": "Odd Proton=True<br>Neutron Number [N]=159<br>Proton Number [Z]=%{x}<br>Deficit [MeV]=%{y}<extra></extra>",
           "legendgroup": "True",
           "marker": {
            "color": "#EF553B",
            "symbol": "circle"
           },
           "mode": "markers",
           "name": "True",
           "orientation": "v",
           "showlegend": true,
           "type": "scatter",
           "x": [
            101,
            103,
            107,
            109
           ],
           "xaxis": "x",
           "y": [
            -7.396,
            -7.374,
            -7.313,
            -7.271
           ],
           "yaxis": "y"
          }
         ],
         "name": "159"
        },
        {
         "data": [
          {
           "hovertemplate": "Odd Proton=False<br>Neutron Number [N]=161<br>Proton Number [Z]=%{x}<br>Deficit [MeV]=%{y}<extra></extra>",
           "legendgroup": "False",
           "marker": {
            "color": "#636efa",
            "symbol": "circle"
           },
           "mode": "markers",
           "name": "False",
           "orientation": "v",
           "showlegend": true,
           "type": "scatter",
           "x": [
            92,
            104,
            106,
            108,
            110
           ],
           "xaxis": "x",
           "y": [
            null,
            -7.354,
            -7.327,
            -7.294,
            -7.252
           ],
           "yaxis": "y"
          },
          {
           "hovertemplate": "Odd Proton=True<br>Neutron Number [N]=161<br>Proton Number [Z]=%{x}<br>Deficit [MeV]=%{y}<extra></extra>",
           "legendgroup": "True",
           "marker": {
            "color": "#EF553B",
            "symbol": "circle"
           },
           "mode": "markers",
           "name": "True",
           "orientation": "v",
           "showlegend": true,
           "type": "scatter",
           "x": [
            103,
            105,
            109,
            111
           ],
           "xaxis": "x",
           "y": [
            -7.363,
            -7.339,
            -7.271,
            -7.227
           ],
           "yaxis": "y"
          }
         ],
         "name": "161"
        },
        {
         "data": [
          {
           "hovertemplate": "Odd Proton=False<br>Neutron Number [N]=162<br>Proton Number [Z]=%{x}<br>Deficit [MeV]=%{y}<extra></extra>",
           "legendgroup": "False",
           "marker": {
            "color": "#636efa",
            "symbol": "circle"
           },
           "mode": "markers",
           "name": "False",
           "orientation": "v",
           "showlegend": true,
           "type": "scatter",
           "x": [
            92,
            108
           ],
           "xaxis": "x",
           "y": [
            null,
            -7.295
           ],
           "yaxis": "y"
          },
          {
           "hovertemplate": "Odd Proton=True<br>Neutron Number [N]=162<br>Proton Number [Z]=%{x}<br>Deficit [MeV]=%{y}<extra></extra>",
           "legendgroup": "True",
           "marker": {
            "color": "#EF553B",
            "symbol": "circle"
           },
           "mode": "markers",
           "name": "True",
           "orientation": "v",
           "showlegend": true,
           "type": "scatter",
           "x": [
            105
           ],
           "xaxis": "x",
           "y": [
            -7.337
           ],
           "yaxis": "y"
          }
         ],
         "name": "162"
        },
        {
         "data": [
          {
           "hovertemplate": "Odd Proton=False<br>Neutron Number [N]=163<br>Proton Number [Z]=%{x}<br>Deficit [MeV]=%{y}<extra></extra>",
           "legendgroup": "False",
           "marker": {
            "color": "#636efa",
            "symbol": "circle"
           },
           "mode": "markers",
           "name": "False",
           "orientation": "v",
           "showlegend": true,
           "type": "scatter",
           "x": [
            92,
            104,
            106,
            108,
            110
           ],
           "xaxis": "x",
           "y": [
            null,
            -7.342,
            -7.318,
            -7.288,
            -7.25
           ],
           "yaxis": "y"
          },
          {
           "hovertemplate": "Odd Proton=True<br>Neutron Number [N]=163<br>Proton Number [Z]=%{x}<br>Deficit [MeV]=%{y}<extra></extra>",
           "legendgroup": "True",
           "marker": {
            "color": "#EF553B",
            "symbol": "circle"
           },
           "mode": "markers",
           "name": "True",
           "orientation": "v",
           "showlegend": true,
           "type": "scatter",
           "x": [
            103,
            105,
            107,
            111
           ],
           "xaxis": "x",
           "y": [
            -7.349,
            -7.328,
            -7.301,
            -7.227
           ],
           "yaxis": "y"
          }
         ],
         "name": "163"
        },
        {
         "data": [
          {
           "hovertemplate": "Odd Proton=False<br>Neutron Number [N]=160<br>Proton Number [Z]=%{x}<br>Deficit [MeV]=%{y}<extra></extra>",
           "legendgroup": "False",
           "marker": {
            "color": "#636efa",
            "symbol": "circle"
           },
           "mode": "markers",
           "name": "False",
           "orientation": "v",
           "showlegend": true,
           "type": "scatter",
           "x": [
            102,
            106,
            108,
            110
           ],
           "xaxis": "x",
           "y": [
            -7.385,
            -7.332,
            -7.297,
            -7.2537633999999995
           ],
           "yaxis": "y"
          },
          {
           "hovertemplate": "Odd Proton=True<br>Neutron Number [N]=160<br>Proton Number [Z]=%{x}<br>Deficit [MeV]=%{y}<extra></extra>",
           "legendgroup": "True",
           "marker": {
            "color": "#EF553B",
            "symbol": "circle"
           },
           "mode": "markers",
           "name": "True",
           "orientation": "v",
           "showlegend": true,
           "type": "scatter",
           "x": [
            107
           ],
           "xaxis": "x",
           "y": [
            -7.313
           ],
           "yaxis": "y"
          }
         ],
         "name": "160"
        },
        {
         "data": [
          {
           "hovertemplate": "Odd Proton=False<br>Neutron Number [N]=165<br>Proton Number [Z]=%{x}<br>Deficit [MeV]=%{y}<extra></extra>",
           "legendgroup": "False",
           "marker": {
            "color": "#636efa",
            "symbol": "circle"
           },
           "mode": "markers",
           "name": "False",
           "orientation": "v",
           "showlegend": true,
           "type": "scatter",
           "x": [
            106,
            108,
            112
           ],
           "xaxis": "x",
           "y": [
            -7.305,
            -7.279,
            -7.205
           ],
           "yaxis": "y"
          },
          {
           "hovertemplate": "Odd Proton=True<br>Neutron Number [N]=165<br>Proton Number [Z]=%{x}<br>Deficit [MeV]=%{y}<extra></extra>",
           "legendgroup": "True",
           "marker": {
            "color": "#EF553B",
            "symbol": "circle"
           },
           "mode": "markers",
           "name": "True",
           "orientation": "v",
           "showlegend": true,
           "type": "scatter",
           "x": [
            105,
            107,
            109,
            113
           ],
           "xaxis": "x",
           "y": [
            -7.314,
            -7.29,
            -7.259,
            -7.181
           ],
           "yaxis": "y"
          }
         ],
         "name": "165"
        },
        {
         "data": [
          {
           "hovertemplate": "Odd Proton=True<br>Neutron Number [N]=164<br>Proton Number [Z]=%{x}<br>Deficit [MeV]=%{y}<extra></extra>",
           "legendgroup": "True",
           "marker": {
            "color": "#EF553B",
            "symbol": "circle"
           },
           "mode": "markers",
           "name": "True",
           "orientation": "v",
           "showlegend": true,
           "type": "scatter",
           "x": [
            107
           ],
           "xaxis": "x",
           "y": [
            -7.298
           ],
           "yaxis": "y"
          }
         ],
         "name": "164"
        },
        {
         "data": [
          {
           "hovertemplate": "Odd Proton=False<br>Neutron Number [N]=167<br>Proton Number [Z]=%{x}<br>Deficit [MeV]=%{y}<extra></extra>",
           "legendgroup": "False",
           "marker": {
            "color": "#636efa",
            "symbol": "circle"
           },
           "mode": "markers",
           "name": "False",
           "orientation": "v",
           "showlegend": true,
           "type": "scatter",
           "x": [
            108,
            110
           ],
           "xaxis": "x",
           "y": [
            -7.268,
            -7.237
           ],
           "yaxis": "y"
          },
          {
           "hovertemplate": "Odd Proton=True<br>Neutron Number [N]=167<br>Proton Number [Z]=%{x}<br>Deficit [MeV]=%{y}<extra></extra>",
           "legendgroup": "True",
           "marker": {
            "color": "#EF553B",
            "symbol": "circle"
           },
           "mode": "markers",
           "name": "True",
           "orientation": "v",
           "showlegend": true,
           "type": "scatter",
           "x": [
            107,
            109,
            111
           ],
           "xaxis": "x",
           "y": [
            -7.278,
            -7.25,
            -7.218
           ],
           "yaxis": "y"
          }
         ],
         "name": "167"
        },
        {
         "data": [
          {
           "hovertemplate": "Odd Proton=False<br>Neutron Number [N]=171<br>Proton Number [Z]=%{x}<br>Deficit [MeV]=%{y}<extra></extra>",
           "legendgroup": "False",
           "marker": {
            "color": "#636efa",
            "symbol": "circle"
           },
           "mode": "markers",
           "name": "False",
           "orientation": "v",
           "showlegend": true,
           "type": "scatter",
           "x": [
            110,
            112,
            114
           ],
           "xaxis": "x",
           "y": [
            -7.22,
            -7.192,
            -7.159
           ],
           "yaxis": "y"
          },
          {
           "hovertemplate": "Odd Proton=True<br>Neutron Number [N]=171<br>Proton Number [Z]=%{x}<br>Deficit [MeV]=%{y}<extra></extra>",
           "legendgroup": "True",
           "marker": {
            "color": "#EF553B",
            "symbol": "circle"
           },
           "mode": "markers",
           "name": "True",
           "orientation": "v",
           "showlegend": true,
           "type": "scatter",
           "x": [
            107,
            111,
            113
           ],
           "xaxis": "x",
           "y": [
            -7.251,
            -7.204,
            -7.173
           ],
           "yaxis": "y"
          }
         ],
         "name": "171"
        },
        {
         "data": [
          {
           "hovertemplate": "Odd Proton=False<br>Neutron Number [N]=169<br>Proton Number [Z]=%{x}<br>Deficit [MeV]=%{y}<extra></extra>",
           "legendgroup": "False",
           "marker": {
            "color": "#636efa",
            "symbol": "circle"
           },
           "mode": "markers",
           "name": "False",
           "orientation": "v",
           "showlegend": true,
           "type": "scatter",
           "x": [
            108,
            110,
            112
           ],
           "xaxis": "x",
           "y": [
            -7.256,
            -7.229,
            -7.197
           ],
           "yaxis": "y"
          },
          {
           "hovertemplate": "Odd Proton=True<br>Neutron Number [N]=169<br>Proton Number [Z]=%{x}<br>Deficit [MeV]=%{y}<extra></extra>",
           "legendgroup": "True",
           "marker": {
            "color": "#EF553B",
            "symbol": "circle"
           },
           "mode": "markers",
           "name": "True",
           "orientation": "v",
           "showlegend": true,
           "type": "scatter",
           "x": [
            109,
            111,
            113
           ],
           "xaxis": "x",
           "y": [
            -7.24,
            -7.212,
            -7.177
           ],
           "yaxis": "y"
          }
         ],
         "name": "169"
        },
        {
         "data": [
          {
           "hovertemplate": "Odd Proton=False<br>Neutron Number [N]=170<br>Proton Number [Z]=%{x}<br>Deficit [MeV]=%{y}<extra></extra>",
           "legendgroup": "False",
           "marker": {
            "color": "#636efa",
            "symbol": "circle"
           },
           "mode": "markers",
           "name": "False",
           "orientation": "v",
           "showlegend": true,
           "type": "scatter",
           "x": [
            108,
            110,
            112,
            114
           ],
           "xaxis": "x",
           "y": [
            -7.252,
            -7.227,
            -7.197,
            -7.163
           ],
           "yaxis": "y"
          },
          {
           "hovertemplate": "Odd Proton=True<br>Neutron Number [N]=170<br>Proton Number [Z]=%{x}<br>Deficit [MeV]=%{y}<extra></extra>",
           "legendgroup": "True",
           "marker": {
            "color": "#EF553B",
            "symbol": "circle"
           },
           "mode": "markers",
           "name": "True",
           "orientation": "v",
           "showlegend": true,
           "type": "scatter",
           "x": [
            111,
            113
           ],
           "xaxis": "x",
           "y": [
            -7.209,
            -7.177
           ],
           "yaxis": "y"
          }
         ],
         "name": "170"
        },
        {
         "data": [
          {
           "hovertemplate": "Odd Proton=True<br>Neutron Number [N]=166<br>Proton Number [Z]=%{x}<br>Deficit [MeV]=%{y}<extra></extra>",
           "legendgroup": "True",
           "marker": {
            "color": "#EF553B",
            "symbol": "circle"
           },
           "mode": "markers",
           "name": "True",
           "orientation": "v",
           "showlegend": true,
           "type": "scatter",
           "x": [
            109
           ],
           "xaxis": "x",
           "y": [
            -7.257
           ],
           "yaxis": "y"
          }
         ],
         "name": "166"
        },
        {
         "data": [
          {
           "hovertemplate": "Odd Proton=True<br>Neutron Number [N]=168<br>Proton Number [Z]=%{x}<br>Deficit [MeV]=%{y}<extra></extra>",
           "legendgroup": "True",
           "marker": {
            "color": "#EF553B",
            "symbol": "circle"
           },
           "mode": "markers",
           "name": "True",
           "orientation": "v",
           "showlegend": true,
           "type": "scatter",
           "x": [
            109,
            111
           ],
           "xaxis": "x",
           "y": [
            -7.247,
            -7.216
           ],
           "yaxis": "y"
          }
         ],
         "name": "168"
        },
        {
         "data": [
          {
           "hovertemplate": "Odd Proton=False<br>Neutron Number [N]=173<br>Proton Number [Z]=%{x}<br>Deficit [MeV]=%{y}<extra></extra>",
           "legendgroup": "False",
           "marker": {
            "color": "#636efa",
            "symbol": "circle"
           },
           "mode": "markers",
           "name": "False",
           "orientation": "v",
           "showlegend": true,
           "type": "scatter",
           "x": [
            112,
            114
           ],
           "xaxis": "x",
           "y": [
            -7.185,
            -7.155
           ],
           "yaxis": "y"
          },
          {
           "hovertemplate": "Odd Proton=True<br>Neutron Number [N]=173<br>Proton Number [Z]=%{x}<br>Deficit [MeV]=%{y}<extra></extra>",
           "legendgroup": "True",
           "marker": {
            "color": "#EF553B",
            "symbol": "circle"
           },
           "mode": "markers",
           "name": "True",
           "orientation": "v",
           "showlegend": true,
           "type": "scatter",
           "x": [
            109,
            113,
            115
           ],
           "xaxis": "x",
           "y": [
            -7.218,
            -7.168,
            -7.135
           ],
           "yaxis": "y"
          }
         ],
         "name": "173"
        },
        {
         "data": [
          {
           "hovertemplate": "Odd Proton=False<br>Neutron Number [N]=172<br>Proton Number [Z]=%{x}<br>Deficit [MeV]=%{y}<extra></extra>",
           "legendgroup": "False",
           "marker": {
            "color": "#636efa",
            "symbol": "circle"
           },
           "mode": "markers",
           "name": "False",
           "orientation": "v",
           "showlegend": true,
           "type": "scatter",
           "x": [
            110,
            112,
            114
           ],
           "xaxis": "x",
           "y": [
            -7.217,
            -7.191,
            -7.159
           ],
           "yaxis": "y"
          },
          {
           "hovertemplate": "Odd Proton=True<br>Neutron Number [N]=172<br>Proton Number [Z]=%{x}<br>Deficit [MeV]=%{y}<extra></extra>",
           "legendgroup": "True",
           "marker": {
            "color": "#EF553B",
            "symbol": "circle"
           },
           "mode": "markers",
           "name": "True",
           "orientation": "v",
           "showlegend": true,
           "type": "scatter",
           "x": [
            113,
            115
           ],
           "xaxis": "x",
           "y": [
            -7.172,
            -7.139
           ],
           "yaxis": "y"
          }
         ],
         "name": "172"
        },
        {
         "data": [
          {
           "hovertemplate": "Odd Proton=False<br>Neutron Number [N]=175<br>Proton Number [Z]=%{x}<br>Deficit [MeV]=%{y}<extra></extra>",
           "legendgroup": "False",
           "marker": {
            "color": "#636efa",
            "symbol": "circle"
           },
           "mode": "markers",
           "name": "False",
           "orientation": "v",
           "showlegend": true,
           "type": "scatter",
           "x": [
            114,
            116
           ],
           "xaxis": "x",
           "y": [
            -7.149,
            -7.116
           ],
           "yaxis": "y"
          },
          {
           "hovertemplate": "Odd Proton=True<br>Neutron Number [N]=175<br>Proton Number [Z]=%{x}<br>Deficit [MeV]=%{y}<extra></extra>",
           "legendgroup": "True",
           "marker": {
            "color": "#EF553B",
            "symbol": "circle"
           },
           "mode": "markers",
           "name": "True",
           "orientation": "v",
           "showlegend": true,
           "type": "scatter",
           "x": [
            111,
            115
           ],
           "xaxis": "x",
           "y": [
            -7.185,
            -7.131
           ],
           "yaxis": "y"
          }
         ],
         "name": "175"
        },
        {
         "data": [
          {
           "hovertemplate": "Odd Proton=False<br>Neutron Number [N]=174<br>Proton Number [Z]=%{x}<br>Deficit [MeV]=%{y}<extra></extra>",
           "legendgroup": "False",
           "marker": {
            "color": "#636efa",
            "symbol": "circle"
           },
           "mode": "markers",
           "name": "False",
           "orientation": "v",
           "showlegend": true,
           "type": "scatter",
           "x": [
            112,
            114,
            116
           ],
           "xaxis": "x",
           "y": [
            -7.183,
            -7.154,
            -7.12
           ],
           "yaxis": "y"
          },
          {
           "hovertemplate": "Odd Proton=True<br>Neutron Number [N]=174<br>Proton Number [Z]=%{x}<br>Deficit [MeV]=%{y}<extra></extra>",
           "legendgroup": "True",
           "marker": {
            "color": "#EF553B",
            "symbol": "circle"
           },
           "mode": "markers",
           "name": "True",
           "orientation": "v",
           "showlegend": true,
           "type": "scatter",
           "x": [
            115
           ],
           "xaxis": "x",
           "y": [
            -7.135
           ],
           "yaxis": "y"
          }
         ],
         "name": "174"
        },
        {
         "data": [
          {
           "hovertemplate": "Odd Proton=False<br>Neutron Number [N]=177<br>Proton Number [Z]=%{x}<br>Deficit [MeV]=%{y}<extra></extra>",
           "legendgroup": "False",
           "marker": {
            "color": "#636efa",
            "symbol": "circle"
           },
           "mode": "markers",
           "name": "False",
           "orientation": "v",
           "showlegend": true,
           "type": "scatter",
           "x": [
            116
           ],
           "xaxis": "x",
           "y": [
            -7.111
           ],
           "yaxis": "y"
          },
          {
           "hovertemplate": "Odd Proton=True<br>Neutron Number [N]=177<br>Proton Number [Z]=%{x}<br>Deficit [MeV]=%{y}<extra></extra>",
           "legendgroup": "True",
           "marker": {
            "color": "#EF553B",
            "symbol": "circle"
           },
           "mode": "markers",
           "name": "True",
           "orientation": "v",
           "showlegend": true,
           "type": "scatter",
           "x": [
            113,
            117
           ],
           "xaxis": "x",
           "y": [
            -7.152,
            -7.092
           ],
           "yaxis": "y"
          }
         ],
         "name": "177"
        },
        {
         "data": [
          {
           "hovertemplate": "Odd Proton=False<br>Neutron Number [N]=176<br>Proton Number [Z]=%{x}<br>Deficit [MeV]=%{y}<extra></extra>",
           "legendgroup": "False",
           "marker": {
            "color": "#636efa",
            "symbol": "circle"
           },
           "mode": "markers",
           "name": "False",
           "orientation": "v",
           "showlegend": true,
           "type": "scatter",
           "x": [
            114,
            116,
            118
           ],
           "xaxis": "x",
           "y": [
            -7.147,
            -7.116,
            -7.079
           ],
           "yaxis": "y"
          },
          {
           "hovertemplate": "Odd Proton=True<br>Neutron Number [N]=176<br>Proton Number [Z]=%{x}<br>Deficit [MeV]=%{y}<extra></extra>",
           "legendgroup": "True",
           "marker": {
            "color": "#EF553B",
            "symbol": "circle"
           },
           "mode": "markers",
           "name": "True",
           "orientation": "v",
           "showlegend": true,
           "type": "scatter",
           "x": [
            117
           ],
           "xaxis": "x",
           "y": [
            -7.095
           ],
           "yaxis": "y"
          }
         ],
         "name": "176"
        },
        {
         "data": [
          {
           "hovertemplate": "Odd Proton=False<br>Neutron Number [N]=178<br>Proton Number [Z]=%{x}<br>Deficit [MeV]=%{y}<extra></extra>",
           "legendgroup": "False",
           "marker": {
            "color": "#636efa",
            "symbol": "circle"
           },
           "mode": "markers",
           "name": "False",
           "orientation": "v",
           "showlegend": true,
           "type": "scatter",
           "x": [
            116
           ],
           "xaxis": "x",
           "y": [
            null
           ],
           "yaxis": "y"
          }
         ],
         "name": "178"
        }
       ],
       "layout": {
        "legend": {
         "title": {
          "text": "Odd Proton"
         },
         "tracegroupgap": 0
        },
        "margin": {
         "t": 60
        },
        "sliders": [
         {
          "active": 0,
          "currentvalue": {
           "prefix": "Neutron Number [N]="
          },
          "len": 0.9,
          "pad": {
           "b": 10,
           "t": 60
          },
          "steps": [
           {
            "args": [
             [
              "1"
             ],
             {
              "frame": {
               "duration": 0,
               "redraw": false
              },
              "fromcurrent": true,
              "mode": "immediate",
              "transition": {
               "duration": 0,
               "easing": "linear"
              }
             }
            ],
            "label": "1",
            "method": "animate"
           },
           {
            "args": [
             [
              "4"
             ],
             {
              "frame": {
               "duration": 0,
               "redraw": false
              },
              "fromcurrent": true,
              "mode": "immediate",
              "transition": {
               "duration": 0,
               "easing": "linear"
              }
             }
            ],
            "label": "4",
            "method": "animate"
           },
           {
            "args": [
             [
              "6"
             ],
             {
              "frame": {
               "duration": 0,
               "redraw": false
              },
              "fromcurrent": true,
              "mode": "immediate",
              "transition": {
               "duration": 0,
               "easing": "linear"
              }
             }
            ],
            "label": "6",
            "method": "animate"
           },
           {
            "args": [
             [
              "0"
             ],
             {
              "frame": {
               "duration": 0,
               "redraw": false
              },
              "fromcurrent": true,
              "mode": "immediate",
              "transition": {
               "duration": 0,
               "easing": "linear"
              }
             }
            ],
            "label": "0",
            "method": "animate"
           },
           {
            "args": [
             [
              "2"
             ],
             {
              "frame": {
               "duration": 0,
               "redraw": false
              },
              "fromcurrent": true,
              "mode": "immediate",
              "transition": {
               "duration": 0,
               "easing": "linear"
              }
             }
            ],
            "label": "2",
            "method": "animate"
           },
           {
            "args": [
             [
              "3"
             ],
             {
              "frame": {
               "duration": 0,
               "redraw": false
              },
              "fromcurrent": true,
              "mode": "immediate",
              "transition": {
               "duration": 0,
               "easing": "linear"
              }
             }
            ],
            "label": "3",
            "method": "animate"
           },
           {
            "args": [
             [
              "5"
             ],
             {
              "frame": {
               "duration": 0,
               "redraw": false
              },
              "fromcurrent": true,
              "mode": "immediate",
              "transition": {
               "duration": 0,
               "easing": "linear"
              }
             }
            ],
            "label": "5",
            "method": "animate"
           },
           {
            "args": [
             [
              "7"
             ],
             {
              "frame": {
               "duration": 0,
               "redraw": false
              },
              "fromcurrent": true,
              "mode": "immediate",
              "transition": {
               "duration": 0,
               "easing": "linear"
              }
             }
            ],
            "label": "7",
            "method": "animate"
           },
           {
            "args": [
             [
              "8"
             ],
             {
              "frame": {
               "duration": 0,
               "redraw": false
              },
              "fromcurrent": true,
              "mode": "immediate",
              "transition": {
               "duration": 0,
               "easing": "linear"
              }
             }
            ],
            "label": "8",
            "method": "animate"
           },
           {
            "args": [
             [
              "9"
             ],
             {
              "frame": {
               "duration": 0,
               "redraw": false
              },
              "fromcurrent": true,
              "mode": "immediate",
              "transition": {
               "duration": 0,
               "easing": "linear"
              }
             }
            ],
            "label": "9",
            "method": "animate"
           },
           {
            "args": [
             [
              "10"
             ],
             {
              "frame": {
               "duration": 0,
               "redraw": false
              },
              "fromcurrent": true,
              "mode": "immediate",
              "transition": {
               "duration": 0,
               "easing": "linear"
              }
             }
            ],
            "label": "10",
            "method": "animate"
           },
           {
            "args": [
             [
              "11"
             ],
             {
              "frame": {
               "duration": 0,
               "redraw": false
              },
              "fromcurrent": true,
              "mode": "immediate",
              "transition": {
               "duration": 0,
               "easing": "linear"
              }
             }
            ],
            "label": "11",
            "method": "animate"
           },
           {
            "args": [
             [
              "12"
             ],
             {
              "frame": {
               "duration": 0,
               "redraw": false
              },
              "fromcurrent": true,
              "mode": "immediate",
              "transition": {
               "duration": 0,
               "easing": "linear"
              }
             }
            ],
            "label": "12",
            "method": "animate"
           },
           {
            "args": [
             [
              "13"
             ],
             {
              "frame": {
               "duration": 0,
               "redraw": false
              },
              "fromcurrent": true,
              "mode": "immediate",
              "transition": {
               "duration": 0,
               "easing": "linear"
              }
             }
            ],
            "label": "13",
            "method": "animate"
           },
           {
            "args": [
             [
              "14"
             ],
             {
              "frame": {
               "duration": 0,
               "redraw": false
              },
              "fromcurrent": true,
              "mode": "immediate",
              "transition": {
               "duration": 0,
               "easing": "linear"
              }
             }
            ],
            "label": "14",
            "method": "animate"
           },
           {
            "args": [
             [
              "15"
             ],
             {
              "frame": {
               "duration": 0,
               "redraw": false
              },
              "fromcurrent": true,
              "mode": "immediate",
              "transition": {
               "duration": 0,
               "easing": "linear"
              }
             }
            ],
            "label": "15",
            "method": "animate"
           },
           {
            "args": [
             [
              "16"
             ],
             {
              "frame": {
               "duration": 0,
               "redraw": false
              },
              "fromcurrent": true,
              "mode": "immediate",
              "transition": {
               "duration": 0,
               "easing": "linear"
              }
             }
            ],
            "label": "16",
            "method": "animate"
           },
           {
            "args": [
             [
              "17"
             ],
             {
              "frame": {
               "duration": 0,
               "redraw": false
              },
              "fromcurrent": true,
              "mode": "immediate",
              "transition": {
               "duration": 0,
               "easing": "linear"
              }
             }
            ],
            "label": "17",
            "method": "animate"
           },
           {
            "args": [
             [
              "18"
             ],
             {
              "frame": {
               "duration": 0,
               "redraw": false
              },
              "fromcurrent": true,
              "mode": "immediate",
              "transition": {
               "duration": 0,
               "easing": "linear"
              }
             }
            ],
            "label": "18",
            "method": "animate"
           },
           {
            "args": [
             [
              "19"
             ],
             {
              "frame": {
               "duration": 0,
               "redraw": false
              },
              "fromcurrent": true,
              "mode": "immediate",
              "transition": {
               "duration": 0,
               "easing": "linear"
              }
             }
            ],
            "label": "19",
            "method": "animate"
           },
           {
            "args": [
             [
              "20"
             ],
             {
              "frame": {
               "duration": 0,
               "redraw": false
              },
              "fromcurrent": true,
              "mode": "immediate",
              "transition": {
               "duration": 0,
               "easing": "linear"
              }
             }
            ],
            "label": "20",
            "method": "animate"
           },
           {
            "args": [
             [
              "21"
             ],
             {
              "frame": {
               "duration": 0,
               "redraw": false
              },
              "fromcurrent": true,
              "mode": "immediate",
              "transition": {
               "duration": 0,
               "easing": "linear"
              }
             }
            ],
            "label": "21",
            "method": "animate"
           },
           {
            "args": [
             [
              "22"
             ],
             {
              "frame": {
               "duration": 0,
               "redraw": false
              },
              "fromcurrent": true,
              "mode": "immediate",
              "transition": {
               "duration": 0,
               "easing": "linear"
              }
             }
            ],
            "label": "22",
            "method": "animate"
           },
           {
            "args": [
             [
              "23"
             ],
             {
              "frame": {
               "duration": 0,
               "redraw": false
              },
              "fromcurrent": true,
              "mode": "immediate",
              "transition": {
               "duration": 0,
               "easing": "linear"
              }
             }
            ],
            "label": "23",
            "method": "animate"
           },
           {
            "args": [
             [
              "24"
             ],
             {
              "frame": {
               "duration": 0,
               "redraw": false
              },
              "fromcurrent": true,
              "mode": "immediate",
              "transition": {
               "duration": 0,
               "easing": "linear"
              }
             }
            ],
            "label": "24",
            "method": "animate"
           },
           {
            "args": [
             [
              "25"
             ],
             {
              "frame": {
               "duration": 0,
               "redraw": false
              },
              "fromcurrent": true,
              "mode": "immediate",
              "transition": {
               "duration": 0,
               "easing": "linear"
              }
             }
            ],
            "label": "25",
            "method": "animate"
           },
           {
            "args": [
             [
              "26"
             ],
             {
              "frame": {
               "duration": 0,
               "redraw": false
              },
              "fromcurrent": true,
              "mode": "immediate",
              "transition": {
               "duration": 0,
               "easing": "linear"
              }
             }
            ],
            "label": "26",
            "method": "animate"
           },
           {
            "args": [
             [
              "27"
             ],
             {
              "frame": {
               "duration": 0,
               "redraw": false
              },
              "fromcurrent": true,
              "mode": "immediate",
              "transition": {
               "duration": 0,
               "easing": "linear"
              }
             }
            ],
            "label": "27",
            "method": "animate"
           },
           {
            "args": [
             [
              "28"
             ],
             {
              "frame": {
               "duration": 0,
               "redraw": false
              },
              "fromcurrent": true,
              "mode": "immediate",
              "transition": {
               "duration": 0,
               "easing": "linear"
              }
             }
            ],
            "label": "28",
            "method": "animate"
           },
           {
            "args": [
             [
              "29"
             ],
             {
              "frame": {
               "duration": 0,
               "redraw": false
              },
              "fromcurrent": true,
              "mode": "immediate",
              "transition": {
               "duration": 0,
               "easing": "linear"
              }
             }
            ],
            "label": "29",
            "method": "animate"
           },
           {
            "args": [
             [
              "30"
             ],
             {
              "frame": {
               "duration": 0,
               "redraw": false
              },
              "fromcurrent": true,
              "mode": "immediate",
              "transition": {
               "duration": 0,
               "easing": "linear"
              }
             }
            ],
            "label": "30",
            "method": "animate"
           },
           {
            "args": [
             [
              "31"
             ],
             {
              "frame": {
               "duration": 0,
               "redraw": false
              },
              "fromcurrent": true,
              "mode": "immediate",
              "transition": {
               "duration": 0,
               "easing": "linear"
              }
             }
            ],
            "label": "31",
            "method": "animate"
           },
           {
            "args": [
             [
              "32"
             ],
             {
              "frame": {
               "duration": 0,
               "redraw": false
              },
              "fromcurrent": true,
              "mode": "immediate",
              "transition": {
               "duration": 0,
               "easing": "linear"
              }
             }
            ],
            "label": "32",
            "method": "animate"
           },
           {
            "args": [
             [
              "33"
             ],
             {
              "frame": {
               "duration": 0,
               "redraw": false
              },
              "fromcurrent": true,
              "mode": "immediate",
              "transition": {
               "duration": 0,
               "easing": "linear"
              }
             }
            ],
            "label": "33",
            "method": "animate"
           },
           {
            "args": [
             [
              "34"
             ],
             {
              "frame": {
               "duration": 0,
               "redraw": false
              },
              "fromcurrent": true,
              "mode": "immediate",
              "transition": {
               "duration": 0,
               "easing": "linear"
              }
             }
            ],
            "label": "34",
            "method": "animate"
           },
           {
            "args": [
             [
              "35"
             ],
             {
              "frame": {
               "duration": 0,
               "redraw": false
              },
              "fromcurrent": true,
              "mode": "immediate",
              "transition": {
               "duration": 0,
               "easing": "linear"
              }
             }
            ],
            "label": "35",
            "method": "animate"
           },
           {
            "args": [
             [
              "36"
             ],
             {
              "frame": {
               "duration": 0,
               "redraw": false
              },
              "fromcurrent": true,
              "mode": "immediate",
              "transition": {
               "duration": 0,
               "easing": "linear"
              }
             }
            ],
            "label": "36",
            "method": "animate"
           },
           {
            "args": [
             [
              "37"
             ],
             {
              "frame": {
               "duration": 0,
               "redraw": false
              },
              "fromcurrent": true,
              "mode": "immediate",
              "transition": {
               "duration": 0,
               "easing": "linear"
              }
             }
            ],
            "label": "37",
            "method": "animate"
           },
           {
            "args": [
             [
              "38"
             ],
             {
              "frame": {
               "duration": 0,
               "redraw": false
              },
              "fromcurrent": true,
              "mode": "immediate",
              "transition": {
               "duration": 0,
               "easing": "linear"
              }
             }
            ],
            "label": "38",
            "method": "animate"
           },
           {
            "args": [
             [
              "40"
             ],
             {
              "frame": {
               "duration": 0,
               "redraw": false
              },
              "fromcurrent": true,
              "mode": "immediate",
              "transition": {
               "duration": 0,
               "easing": "linear"
              }
             }
            ],
            "label": "40",
            "method": "animate"
           },
           {
            "args": [
             [
              "39"
             ],
             {
              "frame": {
               "duration": 0,
               "redraw": false
              },
              "fromcurrent": true,
              "mode": "immediate",
              "transition": {
               "duration": 0,
               "easing": "linear"
              }
             }
            ],
            "label": "39",
            "method": "animate"
           },
           {
            "args": [
             [
              "41"
             ],
             {
              "frame": {
               "duration": 0,
               "redraw": false
              },
              "fromcurrent": true,
              "mode": "immediate",
              "transition": {
               "duration": 0,
               "easing": "linear"
              }
             }
            ],
            "label": "41",
            "method": "animate"
           },
           {
            "args": [
             [
              "42"
             ],
             {
              "frame": {
               "duration": 0,
               "redraw": false
              },
              "fromcurrent": true,
              "mode": "immediate",
              "transition": {
               "duration": 0,
               "easing": "linear"
              }
             }
            ],
            "label": "42",
            "method": "animate"
           },
           {
            "args": [
             [
              "43"
             ],
             {
              "frame": {
               "duration": 0,
               "redraw": false
              },
              "fromcurrent": true,
              "mode": "immediate",
              "transition": {
               "duration": 0,
               "easing": "linear"
              }
             }
            ],
            "label": "43",
            "method": "animate"
           },
           {
            "args": [
             [
              "44"
             ],
             {
              "frame": {
               "duration": 0,
               "redraw": false
              },
              "fromcurrent": true,
              "mode": "immediate",
              "transition": {
               "duration": 0,
               "easing": "linear"
              }
             }
            ],
            "label": "44",
            "method": "animate"
           },
           {
            "args": [
             [
              "45"
             ],
             {
              "frame": {
               "duration": 0,
               "redraw": false
              },
              "fromcurrent": true,
              "mode": "immediate",
              "transition": {
               "duration": 0,
               "easing": "linear"
              }
             }
            ],
            "label": "45",
            "method": "animate"
           },
           {
            "args": [
             [
              "46"
             ],
             {
              "frame": {
               "duration": 0,
               "redraw": false
              },
              "fromcurrent": true,
              "mode": "immediate",
              "transition": {
               "duration": 0,
               "easing": "linear"
              }
             }
            ],
            "label": "46",
            "method": "animate"
           },
           {
            "args": [
             [
              "47"
             ],
             {
              "frame": {
               "duration": 0,
               "redraw": false
              },
              "fromcurrent": true,
              "mode": "immediate",
              "transition": {
               "duration": 0,
               "easing": "linear"
              }
             }
            ],
            "label": "47",
            "method": "animate"
           },
           {
            "args": [
             [
              "48"
             ],
             {
              "frame": {
               "duration": 0,
               "redraw": false
              },
              "fromcurrent": true,
              "mode": "immediate",
              "transition": {
               "duration": 0,
               "easing": "linear"
              }
             }
            ],
            "label": "48",
            "method": "animate"
           },
           {
            "args": [
             [
              "49"
             ],
             {
              "frame": {
               "duration": 0,
               "redraw": false
              },
              "fromcurrent": true,
              "mode": "immediate",
              "transition": {
               "duration": 0,
               "easing": "linear"
              }
             }
            ],
            "label": "49",
            "method": "animate"
           },
           {
            "args": [
             [
              "50"
             ],
             {
              "frame": {
               "duration": 0,
               "redraw": false
              },
              "fromcurrent": true,
              "mode": "immediate",
              "transition": {
               "duration": 0,
               "easing": "linear"
              }
             }
            ],
            "label": "50",
            "method": "animate"
           },
           {
            "args": [
             [
              "51"
             ],
             {
              "frame": {
               "duration": 0,
               "redraw": false
              },
              "fromcurrent": true,
              "mode": "immediate",
              "transition": {
               "duration": 0,
               "easing": "linear"
              }
             }
            ],
            "label": "51",
            "method": "animate"
           },
           {
            "args": [
             [
              "52"
             ],
             {
              "frame": {
               "duration": 0,
               "redraw": false
              },
              "fromcurrent": true,
              "mode": "immediate",
              "transition": {
               "duration": 0,
               "easing": "linear"
              }
             }
            ],
            "label": "52",
            "method": "animate"
           },
           {
            "args": [
             [
              "53"
             ],
             {
              "frame": {
               "duration": 0,
               "redraw": false
              },
              "fromcurrent": true,
              "mode": "immediate",
              "transition": {
               "duration": 0,
               "easing": "linear"
              }
             }
            ],
            "label": "53",
            "method": "animate"
           },
           {
            "args": [
             [
              "54"
             ],
             {
              "frame": {
               "duration": 0,
               "redraw": false
              },
              "fromcurrent": true,
              "mode": "immediate",
              "transition": {
               "duration": 0,
               "easing": "linear"
              }
             }
            ],
            "label": "54",
            "method": "animate"
           },
           {
            "args": [
             [
              "55"
             ],
             {
              "frame": {
               "duration": 0,
               "redraw": false
              },
              "fromcurrent": true,
              "mode": "immediate",
              "transition": {
               "duration": 0,
               "easing": "linear"
              }
             }
            ],
            "label": "55",
            "method": "animate"
           },
           {
            "args": [
             [
              "56"
             ],
             {
              "frame": {
               "duration": 0,
               "redraw": false
              },
              "fromcurrent": true,
              "mode": "immediate",
              "transition": {
               "duration": 0,
               "easing": "linear"
              }
             }
            ],
            "label": "56",
            "method": "animate"
           },
           {
            "args": [
             [
              "57"
             ],
             {
              "frame": {
               "duration": 0,
               "redraw": false
              },
              "fromcurrent": true,
              "mode": "immediate",
              "transition": {
               "duration": 0,
               "easing": "linear"
              }
             }
            ],
            "label": "57",
            "method": "animate"
           },
           {
            "args": [
             [
              "58"
             ],
             {
              "frame": {
               "duration": 0,
               "redraw": false
              },
              "fromcurrent": true,
              "mode": "immediate",
              "transition": {
               "duration": 0,
               "easing": "linear"
              }
             }
            ],
            "label": "58",
            "method": "animate"
           },
           {
            "args": [
             [
              "59"
             ],
             {
              "frame": {
               "duration": 0,
               "redraw": false
              },
              "fromcurrent": true,
              "mode": "immediate",
              "transition": {
               "duration": 0,
               "easing": "linear"
              }
             }
            ],
            "label": "59",
            "method": "animate"
           },
           {
            "args": [
             [
              "60"
             ],
             {
              "frame": {
               "duration": 0,
               "redraw": false
              },
              "fromcurrent": true,
              "mode": "immediate",
              "transition": {
               "duration": 0,
               "easing": "linear"
              }
             }
            ],
            "label": "60",
            "method": "animate"
           },
           {
            "args": [
             [
              "61"
             ],
             {
              "frame": {
               "duration": 0,
               "redraw": false
              },
              "fromcurrent": true,
              "mode": "immediate",
              "transition": {
               "duration": 0,
               "easing": "linear"
              }
             }
            ],
            "label": "61",
            "method": "animate"
           },
           {
            "args": [
             [
              "62"
             ],
             {
              "frame": {
               "duration": 0,
               "redraw": false
              },
              "fromcurrent": true,
              "mode": "immediate",
              "transition": {
               "duration": 0,
               "easing": "linear"
              }
             }
            ],
            "label": "62",
            "method": "animate"
           },
           {
            "args": [
             [
              "63"
             ],
             {
              "frame": {
               "duration": 0,
               "redraw": false
              },
              "fromcurrent": true,
              "mode": "immediate",
              "transition": {
               "duration": 0,
               "easing": "linear"
              }
             }
            ],
            "label": "63",
            "method": "animate"
           },
           {
            "args": [
             [
              "66"
             ],
             {
              "frame": {
               "duration": 0,
               "redraw": false
              },
              "fromcurrent": true,
              "mode": "immediate",
              "transition": {
               "duration": 0,
               "easing": "linear"
              }
             }
            ],
            "label": "66",
            "method": "animate"
           },
           {
            "args": [
             [
              "64"
             ],
             {
              "frame": {
               "duration": 0,
               "redraw": false
              },
              "fromcurrent": true,
              "mode": "immediate",
              "transition": {
               "duration": 0,
               "easing": "linear"
              }
             }
            ],
            "label": "64",
            "method": "animate"
           },
           {
            "args": [
             [
              "65"
             ],
             {
              "frame": {
               "duration": 0,
               "redraw": false
              },
              "fromcurrent": true,
              "mode": "immediate",
              "transition": {
               "duration": 0,
               "easing": "linear"
              }
             }
            ],
            "label": "65",
            "method": "animate"
           },
           {
            "args": [
             [
              "67"
             ],
             {
              "frame": {
               "duration": 0,
               "redraw": false
              },
              "fromcurrent": true,
              "mode": "immediate",
              "transition": {
               "duration": 0,
               "easing": "linear"
              }
             }
            ],
            "label": "67",
            "method": "animate"
           },
           {
            "args": [
             [
              "68"
             ],
             {
              "frame": {
               "duration": 0,
               "redraw": false
              },
              "fromcurrent": true,
              "mode": "immediate",
              "transition": {
               "duration": 0,
               "easing": "linear"
              }
             }
            ],
            "label": "68",
            "method": "animate"
           },
           {
            "args": [
             [
              "69"
             ],
             {
              "frame": {
               "duration": 0,
               "redraw": false
              },
              "fromcurrent": true,
              "mode": "immediate",
              "transition": {
               "duration": 0,
               "easing": "linear"
              }
             }
            ],
            "label": "69",
            "method": "animate"
           },
           {
            "args": [
             [
              "70"
             ],
             {
              "frame": {
               "duration": 0,
               "redraw": false
              },
              "fromcurrent": true,
              "mode": "immediate",
              "transition": {
               "duration": 0,
               "easing": "linear"
              }
             }
            ],
            "label": "70",
            "method": "animate"
           },
           {
            "args": [
             [
              "71"
             ],
             {
              "frame": {
               "duration": 0,
               "redraw": false
              },
              "fromcurrent": true,
              "mode": "immediate",
              "transition": {
               "duration": 0,
               "easing": "linear"
              }
             }
            ],
            "label": "71",
            "method": "animate"
           },
           {
            "args": [
             [
              "72"
             ],
             {
              "frame": {
               "duration": 0,
               "redraw": false
              },
              "fromcurrent": true,
              "mode": "immediate",
              "transition": {
               "duration": 0,
               "easing": "linear"
              }
             }
            ],
            "label": "72",
            "method": "animate"
           },
           {
            "args": [
             [
              "73"
             ],
             {
              "frame": {
               "duration": 0,
               "redraw": false
              },
              "fromcurrent": true,
              "mode": "immediate",
              "transition": {
               "duration": 0,
               "easing": "linear"
              }
             }
            ],
            "label": "73",
            "method": "animate"
           },
           {
            "args": [
             [
              "74"
             ],
             {
              "frame": {
               "duration": 0,
               "redraw": false
              },
              "fromcurrent": true,
              "mode": "immediate",
              "transition": {
               "duration": 0,
               "easing": "linear"
              }
             }
            ],
            "label": "74",
            "method": "animate"
           },
           {
            "args": [
             [
              "75"
             ],
             {
              "frame": {
               "duration": 0,
               "redraw": false
              },
              "fromcurrent": true,
              "mode": "immediate",
              "transition": {
               "duration": 0,
               "easing": "linear"
              }
             }
            ],
            "label": "75",
            "method": "animate"
           },
           {
            "args": [
             [
              "76"
             ],
             {
              "frame": {
               "duration": 0,
               "redraw": false
              },
              "fromcurrent": true,
              "mode": "immediate",
              "transition": {
               "duration": 0,
               "easing": "linear"
              }
             }
            ],
            "label": "76",
            "method": "animate"
           },
           {
            "args": [
             [
              "77"
             ],
             {
              "frame": {
               "duration": 0,
               "redraw": false
              },
              "fromcurrent": true,
              "mode": "immediate",
              "transition": {
               "duration": 0,
               "easing": "linear"
              }
             }
            ],
            "label": "77",
            "method": "animate"
           },
           {
            "args": [
             [
              "78"
             ],
             {
              "frame": {
               "duration": 0,
               "redraw": false
              },
              "fromcurrent": true,
              "mode": "immediate",
              "transition": {
               "duration": 0,
               "easing": "linear"
              }
             }
            ],
            "label": "78",
            "method": "animate"
           },
           {
            "args": [
             [
              "79"
             ],
             {
              "frame": {
               "duration": 0,
               "redraw": false
              },
              "fromcurrent": true,
              "mode": "immediate",
              "transition": {
               "duration": 0,
               "easing": "linear"
              }
             }
            ],
            "label": "79",
            "method": "animate"
           },
           {
            "args": [
             [
              "80"
             ],
             {
              "frame": {
               "duration": 0,
               "redraw": false
              },
              "fromcurrent": true,
              "mode": "immediate",
              "transition": {
               "duration": 0,
               "easing": "linear"
              }
             }
            ],
            "label": "80",
            "method": "animate"
           },
           {
            "args": [
             [
              "81"
             ],
             {
              "frame": {
               "duration": 0,
               "redraw": false
              },
              "fromcurrent": true,
              "mode": "immediate",
              "transition": {
               "duration": 0,
               "easing": "linear"
              }
             }
            ],
            "label": "81",
            "method": "animate"
           },
           {
            "args": [
             [
              "82"
             ],
             {
              "frame": {
               "duration": 0,
               "redraw": false
              },
              "fromcurrent": true,
              "mode": "immediate",
              "transition": {
               "duration": 0,
               "easing": "linear"
              }
             }
            ],
            "label": "82",
            "method": "animate"
           },
           {
            "args": [
             [
              "83"
             ],
             {
              "frame": {
               "duration": 0,
               "redraw": false
              },
              "fromcurrent": true,
              "mode": "immediate",
              "transition": {
               "duration": 0,
               "easing": "linear"
              }
             }
            ],
            "label": "83",
            "method": "animate"
           },
           {
            "args": [
             [
              "84"
             ],
             {
              "frame": {
               "duration": 0,
               "redraw": false
              },
              "fromcurrent": true,
              "mode": "immediate",
              "transition": {
               "duration": 0,
               "easing": "linear"
              }
             }
            ],
            "label": "84",
            "method": "animate"
           },
           {
            "args": [
             [
              "85"
             ],
             {
              "frame": {
               "duration": 0,
               "redraw": false
              },
              "fromcurrent": true,
              "mode": "immediate",
              "transition": {
               "duration": 0,
               "easing": "linear"
              }
             }
            ],
            "label": "85",
            "method": "animate"
           },
           {
            "args": [
             [
              "86"
             ],
             {
              "frame": {
               "duration": 0,
               "redraw": false
              },
              "fromcurrent": true,
              "mode": "immediate",
              "transition": {
               "duration": 0,
               "easing": "linear"
              }
             }
            ],
            "label": "86",
            "method": "animate"
           },
           {
            "args": [
             [
              "87"
             ],
             {
              "frame": {
               "duration": 0,
               "redraw": false
              },
              "fromcurrent": true,
              "mode": "immediate",
              "transition": {
               "duration": 0,
               "easing": "linear"
              }
             }
            ],
            "label": "87",
            "method": "animate"
           },
           {
            "args": [
             [
              "88"
             ],
             {
              "frame": {
               "duration": 0,
               "redraw": false
              },
              "fromcurrent": true,
              "mode": "immediate",
              "transition": {
               "duration": 0,
               "easing": "linear"
              }
             }
            ],
            "label": "88",
            "method": "animate"
           },
           {
            "args": [
             [
              "89"
             ],
             {
              "frame": {
               "duration": 0,
               "redraw": false
              },
              "fromcurrent": true,
              "mode": "immediate",
              "transition": {
               "duration": 0,
               "easing": "linear"
              }
             }
            ],
            "label": "89",
            "method": "animate"
           },
           {
            "args": [
             [
              "90"
             ],
             {
              "frame": {
               "duration": 0,
               "redraw": false
              },
              "fromcurrent": true,
              "mode": "immediate",
              "transition": {
               "duration": 0,
               "easing": "linear"
              }
             }
            ],
            "label": "90",
            "method": "animate"
           },
           {
            "args": [
             [
              "91"
             ],
             {
              "frame": {
               "duration": 0,
               "redraw": false
              },
              "fromcurrent": true,
              "mode": "immediate",
              "transition": {
               "duration": 0,
               "easing": "linear"
              }
             }
            ],
            "label": "91",
            "method": "animate"
           },
           {
            "args": [
             [
              "92"
             ],
             {
              "frame": {
               "duration": 0,
               "redraw": false
              },
              "fromcurrent": true,
              "mode": "immediate",
              "transition": {
               "duration": 0,
               "easing": "linear"
              }
             }
            ],
            "label": "92",
            "method": "animate"
           },
           {
            "args": [
             [
              "93"
             ],
             {
              "frame": {
               "duration": 0,
               "redraw": false
              },
              "fromcurrent": true,
              "mode": "immediate",
              "transition": {
               "duration": 0,
               "easing": "linear"
              }
             }
            ],
            "label": "93",
            "method": "animate"
           },
           {
            "args": [
             [
              "94"
             ],
             {
              "frame": {
               "duration": 0,
               "redraw": false
              },
              "fromcurrent": true,
              "mode": "immediate",
              "transition": {
               "duration": 0,
               "easing": "linear"
              }
             }
            ],
            "label": "94",
            "method": "animate"
           },
           {
            "args": [
             [
              "95"
             ],
             {
              "frame": {
               "duration": 0,
               "redraw": false
              },
              "fromcurrent": true,
              "mode": "immediate",
              "transition": {
               "duration": 0,
               "easing": "linear"
              }
             }
            ],
            "label": "95",
            "method": "animate"
           },
           {
            "args": [
             [
              "96"
             ],
             {
              "frame": {
               "duration": 0,
               "redraw": false
              },
              "fromcurrent": true,
              "mode": "immediate",
              "transition": {
               "duration": 0,
               "easing": "linear"
              }
             }
            ],
            "label": "96",
            "method": "animate"
           },
           {
            "args": [
             [
              "97"
             ],
             {
              "frame": {
               "duration": 0,
               "redraw": false
              },
              "fromcurrent": true,
              "mode": "immediate",
              "transition": {
               "duration": 0,
               "easing": "linear"
              }
             }
            ],
            "label": "97",
            "method": "animate"
           },
           {
            "args": [
             [
              "98"
             ],
             {
              "frame": {
               "duration": 0,
               "redraw": false
              },
              "fromcurrent": true,
              "mode": "immediate",
              "transition": {
               "duration": 0,
               "easing": "linear"
              }
             }
            ],
            "label": "98",
            "method": "animate"
           },
           {
            "args": [
             [
              "99"
             ],
             {
              "frame": {
               "duration": 0,
               "redraw": false
              },
              "fromcurrent": true,
              "mode": "immediate",
              "transition": {
               "duration": 0,
               "easing": "linear"
              }
             }
            ],
            "label": "99",
            "method": "animate"
           },
           {
            "args": [
             [
              "100"
             ],
             {
              "frame": {
               "duration": 0,
               "redraw": false
              },
              "fromcurrent": true,
              "mode": "immediate",
              "transition": {
               "duration": 0,
               "easing": "linear"
              }
             }
            ],
            "label": "100",
            "method": "animate"
           },
           {
            "args": [
             [
              "101"
             ],
             {
              "frame": {
               "duration": 0,
               "redraw": false
              },
              "fromcurrent": true,
              "mode": "immediate",
              "transition": {
               "duration": 0,
               "easing": "linear"
              }
             }
            ],
            "label": "101",
            "method": "animate"
           },
           {
            "args": [
             [
              "102"
             ],
             {
              "frame": {
               "duration": 0,
               "redraw": false
              },
              "fromcurrent": true,
              "mode": "immediate",
              "transition": {
               "duration": 0,
               "easing": "linear"
              }
             }
            ],
            "label": "102",
            "method": "animate"
           },
           {
            "args": [
             [
              "103"
             ],
             {
              "frame": {
               "duration": 0,
               "redraw": false
              },
              "fromcurrent": true,
              "mode": "immediate",
              "transition": {
               "duration": 0,
               "easing": "linear"
              }
             }
            ],
            "label": "103",
            "method": "animate"
           },
           {
            "args": [
             [
              "104"
             ],
             {
              "frame": {
               "duration": 0,
               "redraw": false
              },
              "fromcurrent": true,
              "mode": "immediate",
              "transition": {
               "duration": 0,
               "easing": "linear"
              }
             }
            ],
            "label": "104",
            "method": "animate"
           },
           {
            "args": [
             [
              "105"
             ],
             {
              "frame": {
               "duration": 0,
               "redraw": false
              },
              "fromcurrent": true,
              "mode": "immediate",
              "transition": {
               "duration": 0,
               "easing": "linear"
              }
             }
            ],
            "label": "105",
            "method": "animate"
           },
           {
            "args": [
             [
              "106"
             ],
             {
              "frame": {
               "duration": 0,
               "redraw": false
              },
              "fromcurrent": true,
              "mode": "immediate",
              "transition": {
               "duration": 0,
               "easing": "linear"
              }
             }
            ],
            "label": "106",
            "method": "animate"
           },
           {
            "args": [
             [
              "107"
             ],
             {
              "frame": {
               "duration": 0,
               "redraw": false
              },
              "fromcurrent": true,
              "mode": "immediate",
              "transition": {
               "duration": 0,
               "easing": "linear"
              }
             }
            ],
            "label": "107",
            "method": "animate"
           },
           {
            "args": [
             [
              "108"
             ],
             {
              "frame": {
               "duration": 0,
               "redraw": false
              },
              "fromcurrent": true,
              "mode": "immediate",
              "transition": {
               "duration": 0,
               "easing": "linear"
              }
             }
            ],
            "label": "108",
            "method": "animate"
           },
           {
            "args": [
             [
              "109"
             ],
             {
              "frame": {
               "duration": 0,
               "redraw": false
              },
              "fromcurrent": true,
              "mode": "immediate",
              "transition": {
               "duration": 0,
               "easing": "linear"
              }
             }
            ],
            "label": "109",
            "method": "animate"
           },
           {
            "args": [
             [
              "110"
             ],
             {
              "frame": {
               "duration": 0,
               "redraw": false
              },
              "fromcurrent": true,
              "mode": "immediate",
              "transition": {
               "duration": 0,
               "easing": "linear"
              }
             }
            ],
            "label": "110",
            "method": "animate"
           },
           {
            "args": [
             [
              "111"
             ],
             {
              "frame": {
               "duration": 0,
               "redraw": false
              },
              "fromcurrent": true,
              "mode": "immediate",
              "transition": {
               "duration": 0,
               "easing": "linear"
              }
             }
            ],
            "label": "111",
            "method": "animate"
           },
           {
            "args": [
             [
              "112"
             ],
             {
              "frame": {
               "duration": 0,
               "redraw": false
              },
              "fromcurrent": true,
              "mode": "immediate",
              "transition": {
               "duration": 0,
               "easing": "linear"
              }
             }
            ],
            "label": "112",
            "method": "animate"
           },
           {
            "args": [
             [
              "113"
             ],
             {
              "frame": {
               "duration": 0,
               "redraw": false
              },
              "fromcurrent": true,
              "mode": "immediate",
              "transition": {
               "duration": 0,
               "easing": "linear"
              }
             }
            ],
            "label": "113",
            "method": "animate"
           },
           {
            "args": [
             [
              "114"
             ],
             {
              "frame": {
               "duration": 0,
               "redraw": false
              },
              "fromcurrent": true,
              "mode": "immediate",
              "transition": {
               "duration": 0,
               "easing": "linear"
              }
             }
            ],
            "label": "114",
            "method": "animate"
           },
           {
            "args": [
             [
              "115"
             ],
             {
              "frame": {
               "duration": 0,
               "redraw": false
              },
              "fromcurrent": true,
              "mode": "immediate",
              "transition": {
               "duration": 0,
               "easing": "linear"
              }
             }
            ],
            "label": "115",
            "method": "animate"
           },
           {
            "args": [
             [
              "116"
             ],
             {
              "frame": {
               "duration": 0,
               "redraw": false
              },
              "fromcurrent": true,
              "mode": "immediate",
              "transition": {
               "duration": 0,
               "easing": "linear"
              }
             }
            ],
            "label": "116",
            "method": "animate"
           },
           {
            "args": [
             [
              "117"
             ],
             {
              "frame": {
               "duration": 0,
               "redraw": false
              },
              "fromcurrent": true,
              "mode": "immediate",
              "transition": {
               "duration": 0,
               "easing": "linear"
              }
             }
            ],
            "label": "117",
            "method": "animate"
           },
           {
            "args": [
             [
              "118"
             ],
             {
              "frame": {
               "duration": 0,
               "redraw": false
              },
              "fromcurrent": true,
              "mode": "immediate",
              "transition": {
               "duration": 0,
               "easing": "linear"
              }
             }
            ],
            "label": "118",
            "method": "animate"
           },
           {
            "args": [
             [
              "119"
             ],
             {
              "frame": {
               "duration": 0,
               "redraw": false
              },
              "fromcurrent": true,
              "mode": "immediate",
              "transition": {
               "duration": 0,
               "easing": "linear"
              }
             }
            ],
            "label": "119",
            "method": "animate"
           },
           {
            "args": [
             [
              "120"
             ],
             {
              "frame": {
               "duration": 0,
               "redraw": false
              },
              "fromcurrent": true,
              "mode": "immediate",
              "transition": {
               "duration": 0,
               "easing": "linear"
              }
             }
            ],
            "label": "120",
            "method": "animate"
           },
           {
            "args": [
             [
              "121"
             ],
             {
              "frame": {
               "duration": 0,
               "redraw": false
              },
              "fromcurrent": true,
              "mode": "immediate",
              "transition": {
               "duration": 0,
               "easing": "linear"
              }
             }
            ],
            "label": "121",
            "method": "animate"
           },
           {
            "args": [
             [
              "122"
             ],
             {
              "frame": {
               "duration": 0,
               "redraw": false
              },
              "fromcurrent": true,
              "mode": "immediate",
              "transition": {
               "duration": 0,
               "easing": "linear"
              }
             }
            ],
            "label": "122",
            "method": "animate"
           },
           {
            "args": [
             [
              "123"
             ],
             {
              "frame": {
               "duration": 0,
               "redraw": false
              },
              "fromcurrent": true,
              "mode": "immediate",
              "transition": {
               "duration": 0,
               "easing": "linear"
              }
             }
            ],
            "label": "123",
            "method": "animate"
           },
           {
            "args": [
             [
              "124"
             ],
             {
              "frame": {
               "duration": 0,
               "redraw": false
              },
              "fromcurrent": true,
              "mode": "immediate",
              "transition": {
               "duration": 0,
               "easing": "linear"
              }
             }
            ],
            "label": "124",
            "method": "animate"
           },
           {
            "args": [
             [
              "125"
             ],
             {
              "frame": {
               "duration": 0,
               "redraw": false
              },
              "fromcurrent": true,
              "mode": "immediate",
              "transition": {
               "duration": 0,
               "easing": "linear"
              }
             }
            ],
            "label": "125",
            "method": "animate"
           },
           {
            "args": [
             [
              "126"
             ],
             {
              "frame": {
               "duration": 0,
               "redraw": false
              },
              "fromcurrent": true,
              "mode": "immediate",
              "transition": {
               "duration": 0,
               "easing": "linear"
              }
             }
            ],
            "label": "126",
            "method": "animate"
           },
           {
            "args": [
             [
              "127"
             ],
             {
              "frame": {
               "duration": 0,
               "redraw": false
              },
              "fromcurrent": true,
              "mode": "immediate",
              "transition": {
               "duration": 0,
               "easing": "linear"
              }
             }
            ],
            "label": "127",
            "method": "animate"
           },
           {
            "args": [
             [
              "128"
             ],
             {
              "frame": {
               "duration": 0,
               "redraw": false
              },
              "fromcurrent": true,
              "mode": "immediate",
              "transition": {
               "duration": 0,
               "easing": "linear"
              }
             }
            ],
            "label": "128",
            "method": "animate"
           },
           {
            "args": [
             [
              "129"
             ],
             {
              "frame": {
               "duration": 0,
               "redraw": false
              },
              "fromcurrent": true,
              "mode": "immediate",
              "transition": {
               "duration": 0,
               "easing": "linear"
              }
             }
            ],
            "label": "129",
            "method": "animate"
           },
           {
            "args": [
             [
              "130"
             ],
             {
              "frame": {
               "duration": 0,
               "redraw": false
              },
              "fromcurrent": true,
              "mode": "immediate",
              "transition": {
               "duration": 0,
               "easing": "linear"
              }
             }
            ],
            "label": "130",
            "method": "animate"
           },
           {
            "args": [
             [
              "131"
             ],
             {
              "frame": {
               "duration": 0,
               "redraw": false
              },
              "fromcurrent": true,
              "mode": "immediate",
              "transition": {
               "duration": 0,
               "easing": "linear"
              }
             }
            ],
            "label": "131",
            "method": "animate"
           },
           {
            "args": [
             [
              "132"
             ],
             {
              "frame": {
               "duration": 0,
               "redraw": false
              },
              "fromcurrent": true,
              "mode": "immediate",
              "transition": {
               "duration": 0,
               "easing": "linear"
              }
             }
            ],
            "label": "132",
            "method": "animate"
           },
           {
            "args": [
             [
              "133"
             ],
             {
              "frame": {
               "duration": 0,
               "redraw": false
              },
              "fromcurrent": true,
              "mode": "immediate",
              "transition": {
               "duration": 0,
               "easing": "linear"
              }
             }
            ],
            "label": "133",
            "method": "animate"
           },
           {
            "args": [
             [
              "134"
             ],
             {
              "frame": {
               "duration": 0,
               "redraw": false
              },
              "fromcurrent": true,
              "mode": "immediate",
              "transition": {
               "duration": 0,
               "easing": "linear"
              }
             }
            ],
            "label": "134",
            "method": "animate"
           },
           {
            "args": [
             [
              "135"
             ],
             {
              "frame": {
               "duration": 0,
               "redraw": false
              },
              "fromcurrent": true,
              "mode": "immediate",
              "transition": {
               "duration": 0,
               "easing": "linear"
              }
             }
            ],
            "label": "135",
            "method": "animate"
           },
           {
            "args": [
             [
              "136"
             ],
             {
              "frame": {
               "duration": 0,
               "redraw": false
              },
              "fromcurrent": true,
              "mode": "immediate",
              "transition": {
               "duration": 0,
               "easing": "linear"
              }
             }
            ],
            "label": "136",
            "method": "animate"
           },
           {
            "args": [
             [
              "137"
             ],
             {
              "frame": {
               "duration": 0,
               "redraw": false
              },
              "fromcurrent": true,
              "mode": "immediate",
              "transition": {
               "duration": 0,
               "easing": "linear"
              }
             }
            ],
            "label": "137",
            "method": "animate"
           },
           {
            "args": [
             [
              "138"
             ],
             {
              "frame": {
               "duration": 0,
               "redraw": false
              },
              "fromcurrent": true,
              "mode": "immediate",
              "transition": {
               "duration": 0,
               "easing": "linear"
              }
             }
            ],
            "label": "138",
            "method": "animate"
           },
           {
            "args": [
             [
              "139"
             ],
             {
              "frame": {
               "duration": 0,
               "redraw": false
              },
              "fromcurrent": true,
              "mode": "immediate",
              "transition": {
               "duration": 0,
               "easing": "linear"
              }
             }
            ],
            "label": "139",
            "method": "animate"
           },
           {
            "args": [
             [
              "140"
             ],
             {
              "frame": {
               "duration": 0,
               "redraw": false
              },
              "fromcurrent": true,
              "mode": "immediate",
              "transition": {
               "duration": 0,
               "easing": "linear"
              }
             }
            ],
            "label": "140",
            "method": "animate"
           },
           {
            "args": [
             [
              "141"
             ],
             {
              "frame": {
               "duration": 0,
               "redraw": false
              },
              "fromcurrent": true,
              "mode": "immediate",
              "transition": {
               "duration": 0,
               "easing": "linear"
              }
             }
            ],
            "label": "141",
            "method": "animate"
           },
           {
            "args": [
             [
              "142"
             ],
             {
              "frame": {
               "duration": 0,
               "redraw": false
              },
              "fromcurrent": true,
              "mode": "immediate",
              "transition": {
               "duration": 0,
               "easing": "linear"
              }
             }
            ],
            "label": "142",
            "method": "animate"
           },
           {
            "args": [
             [
              "143"
             ],
             {
              "frame": {
               "duration": 0,
               "redraw": false
              },
              "fromcurrent": true,
              "mode": "immediate",
              "transition": {
               "duration": 0,
               "easing": "linear"
              }
             }
            ],
            "label": "143",
            "method": "animate"
           },
           {
            "args": [
             [
              "144"
             ],
             {
              "frame": {
               "duration": 0,
               "redraw": false
              },
              "fromcurrent": true,
              "mode": "immediate",
              "transition": {
               "duration": 0,
               "easing": "linear"
              }
             }
            ],
            "label": "144",
            "method": "animate"
           },
           {
            "args": [
             [
              "145"
             ],
             {
              "frame": {
               "duration": 0,
               "redraw": false
              },
              "fromcurrent": true,
              "mode": "immediate",
              "transition": {
               "duration": 0,
               "easing": "linear"
              }
             }
            ],
            "label": "145",
            "method": "animate"
           },
           {
            "args": [
             [
              "146"
             ],
             {
              "frame": {
               "duration": 0,
               "redraw": false
              },
              "fromcurrent": true,
              "mode": "immediate",
              "transition": {
               "duration": 0,
               "easing": "linear"
              }
             }
            ],
            "label": "146",
            "method": "animate"
           },
           {
            "args": [
             [
              "147"
             ],
             {
              "frame": {
               "duration": 0,
               "redraw": false
              },
              "fromcurrent": true,
              "mode": "immediate",
              "transition": {
               "duration": 0,
               "easing": "linear"
              }
             }
            ],
            "label": "147",
            "method": "animate"
           },
           {
            "args": [
             [
              "148"
             ],
             {
              "frame": {
               "duration": 0,
               "redraw": false
              },
              "fromcurrent": true,
              "mode": "immediate",
              "transition": {
               "duration": 0,
               "easing": "linear"
              }
             }
            ],
            "label": "148",
            "method": "animate"
           },
           {
            "args": [
             [
              "149"
             ],
             {
              "frame": {
               "duration": 0,
               "redraw": false
              },
              "fromcurrent": true,
              "mode": "immediate",
              "transition": {
               "duration": 0,
               "easing": "linear"
              }
             }
            ],
            "label": "149",
            "method": "animate"
           },
           {
            "args": [
             [
              "150"
             ],
             {
              "frame": {
               "duration": 0,
               "redraw": false
              },
              "fromcurrent": true,
              "mode": "immediate",
              "transition": {
               "duration": 0,
               "easing": "linear"
              }
             }
            ],
            "label": "150",
            "method": "animate"
           },
           {
            "args": [
             [
              "151"
             ],
             {
              "frame": {
               "duration": 0,
               "redraw": false
              },
              "fromcurrent": true,
              "mode": "immediate",
              "transition": {
               "duration": 0,
               "easing": "linear"
              }
             }
            ],
            "label": "151",
            "method": "animate"
           },
           {
            "args": [
             [
              "152"
             ],
             {
              "frame": {
               "duration": 0,
               "redraw": false
              },
              "fromcurrent": true,
              "mode": "immediate",
              "transition": {
               "duration": 0,
               "easing": "linear"
              }
             }
            ],
            "label": "152",
            "method": "animate"
           },
           {
            "args": [
             [
              "153"
             ],
             {
              "frame": {
               "duration": 0,
               "redraw": false
              },
              "fromcurrent": true,
              "mode": "immediate",
              "transition": {
               "duration": 0,
               "easing": "linear"
              }
             }
            ],
            "label": "153",
            "method": "animate"
           },
           {
            "args": [
             [
              "154"
             ],
             {
              "frame": {
               "duration": 0,
               "redraw": false
              },
              "fromcurrent": true,
              "mode": "immediate",
              "transition": {
               "duration": 0,
               "easing": "linear"
              }
             }
            ],
            "label": "154",
            "method": "animate"
           },
           {
            "args": [
             [
              "155"
             ],
             {
              "frame": {
               "duration": 0,
               "redraw": false
              },
              "fromcurrent": true,
              "mode": "immediate",
              "transition": {
               "duration": 0,
               "easing": "linear"
              }
             }
            ],
            "label": "155",
            "method": "animate"
           },
           {
            "args": [
             [
              "156"
             ],
             {
              "frame": {
               "duration": 0,
               "redraw": false
              },
              "fromcurrent": true,
              "mode": "immediate",
              "transition": {
               "duration": 0,
               "easing": "linear"
              }
             }
            ],
            "label": "156",
            "method": "animate"
           },
           {
            "args": [
             [
              "157"
             ],
             {
              "frame": {
               "duration": 0,
               "redraw": false
              },
              "fromcurrent": true,
              "mode": "immediate",
              "transition": {
               "duration": 0,
               "easing": "linear"
              }
             }
            ],
            "label": "157",
            "method": "animate"
           },
           {
            "args": [
             [
              "158"
             ],
             {
              "frame": {
               "duration": 0,
               "redraw": false
              },
              "fromcurrent": true,
              "mode": "immediate",
              "transition": {
               "duration": 0,
               "easing": "linear"
              }
             }
            ],
            "label": "158",
            "method": "animate"
           },
           {
            "args": [
             [
              "159"
             ],
             {
              "frame": {
               "duration": 0,
               "redraw": false
              },
              "fromcurrent": true,
              "mode": "immediate",
              "transition": {
               "duration": 0,
               "easing": "linear"
              }
             }
            ],
            "label": "159",
            "method": "animate"
           },
           {
            "args": [
             [
              "161"
             ],
             {
              "frame": {
               "duration": 0,
               "redraw": false
              },
              "fromcurrent": true,
              "mode": "immediate",
              "transition": {
               "duration": 0,
               "easing": "linear"
              }
             }
            ],
            "label": "161",
            "method": "animate"
           },
           {
            "args": [
             [
              "162"
             ],
             {
              "frame": {
               "duration": 0,
               "redraw": false
              },
              "fromcurrent": true,
              "mode": "immediate",
              "transition": {
               "duration": 0,
               "easing": "linear"
              }
             }
            ],
            "label": "162",
            "method": "animate"
           },
           {
            "args": [
             [
              "163"
             ],
             {
              "frame": {
               "duration": 0,
               "redraw": false
              },
              "fromcurrent": true,
              "mode": "immediate",
              "transition": {
               "duration": 0,
               "easing": "linear"
              }
             }
            ],
            "label": "163",
            "method": "animate"
           },
           {
            "args": [
             [
              "160"
             ],
             {
              "frame": {
               "duration": 0,
               "redraw": false
              },
              "fromcurrent": true,
              "mode": "immediate",
              "transition": {
               "duration": 0,
               "easing": "linear"
              }
             }
            ],
            "label": "160",
            "method": "animate"
           },
           {
            "args": [
             [
              "165"
             ],
             {
              "frame": {
               "duration": 0,
               "redraw": false
              },
              "fromcurrent": true,
              "mode": "immediate",
              "transition": {
               "duration": 0,
               "easing": "linear"
              }
             }
            ],
            "label": "165",
            "method": "animate"
           },
           {
            "args": [
             [
              "164"
             ],
             {
              "frame": {
               "duration": 0,
               "redraw": false
              },
              "fromcurrent": true,
              "mode": "immediate",
              "transition": {
               "duration": 0,
               "easing": "linear"
              }
             }
            ],
            "label": "164",
            "method": "animate"
           },
           {
            "args": [
             [
              "167"
             ],
             {
              "frame": {
               "duration": 0,
               "redraw": false
              },
              "fromcurrent": true,
              "mode": "immediate",
              "transition": {
               "duration": 0,
               "easing": "linear"
              }
             }
            ],
            "label": "167",
            "method": "animate"
           },
           {
            "args": [
             [
              "171"
             ],
             {
              "frame": {
               "duration": 0,
               "redraw": false
              },
              "fromcurrent": true,
              "mode": "immediate",
              "transition": {
               "duration": 0,
               "easing": "linear"
              }
             }
            ],
            "label": "171",
            "method": "animate"
           },
           {
            "args": [
             [
              "169"
             ],
             {
              "frame": {
               "duration": 0,
               "redraw": false
              },
              "fromcurrent": true,
              "mode": "immediate",
              "transition": {
               "duration": 0,
               "easing": "linear"
              }
             }
            ],
            "label": "169",
            "method": "animate"
           },
           {
            "args": [
             [
              "170"
             ],
             {
              "frame": {
               "duration": 0,
               "redraw": false
              },
              "fromcurrent": true,
              "mode": "immediate",
              "transition": {
               "duration": 0,
               "easing": "linear"
              }
             }
            ],
            "label": "170",
            "method": "animate"
           },
           {
            "args": [
             [
              "166"
             ],
             {
              "frame": {
               "duration": 0,
               "redraw": false
              },
              "fromcurrent": true,
              "mode": "immediate",
              "transition": {
               "duration": 0,
               "easing": "linear"
              }
             }
            ],
            "label": "166",
            "method": "animate"
           },
           {
            "args": [
             [
              "168"
             ],
             {
              "frame": {
               "duration": 0,
               "redraw": false
              },
              "fromcurrent": true,
              "mode": "immediate",
              "transition": {
               "duration": 0,
               "easing": "linear"
              }
             }
            ],
            "label": "168",
            "method": "animate"
           },
           {
            "args": [
             [
              "173"
             ],
             {
              "frame": {
               "duration": 0,
               "redraw": false
              },
              "fromcurrent": true,
              "mode": "immediate",
              "transition": {
               "duration": 0,
               "easing": "linear"
              }
             }
            ],
            "label": "173",
            "method": "animate"
           },
           {
            "args": [
             [
              "172"
             ],
             {
              "frame": {
               "duration": 0,
               "redraw": false
              },
              "fromcurrent": true,
              "mode": "immediate",
              "transition": {
               "duration": 0,
               "easing": "linear"
              }
             }
            ],
            "label": "172",
            "method": "animate"
           },
           {
            "args": [
             [
              "175"
             ],
             {
              "frame": {
               "duration": 0,
               "redraw": false
              },
              "fromcurrent": true,
              "mode": "immediate",
              "transition": {
               "duration": 0,
               "easing": "linear"
              }
             }
            ],
            "label": "175",
            "method": "animate"
           },
           {
            "args": [
             [
              "174"
             ],
             {
              "frame": {
               "duration": 0,
               "redraw": false
              },
              "fromcurrent": true,
              "mode": "immediate",
              "transition": {
               "duration": 0,
               "easing": "linear"
              }
             }
            ],
            "label": "174",
            "method": "animate"
           },
           {
            "args": [
             [
              "177"
             ],
             {
              "frame": {
               "duration": 0,
               "redraw": false
              },
              "fromcurrent": true,
              "mode": "immediate",
              "transition": {
               "duration": 0,
               "easing": "linear"
              }
             }
            ],
            "label": "177",
            "method": "animate"
           },
           {
            "args": [
             [
              "176"
             ],
             {
              "frame": {
               "duration": 0,
               "redraw": false
              },
              "fromcurrent": true,
              "mode": "immediate",
              "transition": {
               "duration": 0,
               "easing": "linear"
              }
             }
            ],
            "label": "176",
            "method": "animate"
           },
           {
            "args": [
             [
              "178"
             ],
             {
              "frame": {
               "duration": 0,
               "redraw": false
              },
              "fromcurrent": true,
              "mode": "immediate",
              "transition": {
               "duration": 0,
               "easing": "linear"
              }
             }
            ],
            "label": "178",
            "method": "animate"
           }
          ],
          "x": 0.1,
          "xanchor": "left",
          "y": 0,
          "yanchor": "top"
         }
        ],
        "template": {
         "data": {
          "bar": [
           {
            "error_x": {
             "color": "#2a3f5f"
            },
            "error_y": {
             "color": "#2a3f5f"
            },
            "marker": {
             "line": {
              "color": "#E5ECF6",
              "width": 0.5
             },
             "pattern": {
              "fillmode": "overlay",
              "size": 10,
              "solidity": 0.2
             }
            },
            "type": "bar"
           }
          ],
          "barpolar": [
           {
            "marker": {
             "line": {
              "color": "#E5ECF6",
              "width": 0.5
             },
             "pattern": {
              "fillmode": "overlay",
              "size": 10,
              "solidity": 0.2
             }
            },
            "type": "barpolar"
           }
          ],
          "carpet": [
           {
            "aaxis": {
             "endlinecolor": "#2a3f5f",
             "gridcolor": "white",
             "linecolor": "white",
             "minorgridcolor": "white",
             "startlinecolor": "#2a3f5f"
            },
            "baxis": {
             "endlinecolor": "#2a3f5f",
             "gridcolor": "white",
             "linecolor": "white",
             "minorgridcolor": "white",
             "startlinecolor": "#2a3f5f"
            },
            "type": "carpet"
           }
          ],
          "choropleth": [
           {
            "colorbar": {
             "outlinewidth": 0,
             "ticks": ""
            },
            "type": "choropleth"
           }
          ],
          "contour": [
           {
            "colorbar": {
             "outlinewidth": 0,
             "ticks": ""
            },
            "colorscale": [
             [
              0,
              "#0d0887"
             ],
             [
              0.1111111111111111,
              "#46039f"
             ],
             [
              0.2222222222222222,
              "#7201a8"
             ],
             [
              0.3333333333333333,
              "#9c179e"
             ],
             [
              0.4444444444444444,
              "#bd3786"
             ],
             [
              0.5555555555555556,
              "#d8576b"
             ],
             [
              0.6666666666666666,
              "#ed7953"
             ],
             [
              0.7777777777777778,
              "#fb9f3a"
             ],
             [
              0.8888888888888888,
              "#fdca26"
             ],
             [
              1,
              "#f0f921"
             ]
            ],
            "type": "contour"
           }
          ],
          "contourcarpet": [
           {
            "colorbar": {
             "outlinewidth": 0,
             "ticks": ""
            },
            "type": "contourcarpet"
           }
          ],
          "heatmap": [
           {
            "colorbar": {
             "outlinewidth": 0,
             "ticks": ""
            },
            "colorscale": [
             [
              0,
              "#0d0887"
             ],
             [
              0.1111111111111111,
              "#46039f"
             ],
             [
              0.2222222222222222,
              "#7201a8"
             ],
             [
              0.3333333333333333,
              "#9c179e"
             ],
             [
              0.4444444444444444,
              "#bd3786"
             ],
             [
              0.5555555555555556,
              "#d8576b"
             ],
             [
              0.6666666666666666,
              "#ed7953"
             ],
             [
              0.7777777777777778,
              "#fb9f3a"
             ],
             [
              0.8888888888888888,
              "#fdca26"
             ],
             [
              1,
              "#f0f921"
             ]
            ],
            "type": "heatmap"
           }
          ],
          "heatmapgl": [
           {
            "colorbar": {
             "outlinewidth": 0,
             "ticks": ""
            },
            "colorscale": [
             [
              0,
              "#0d0887"
             ],
             [
              0.1111111111111111,
              "#46039f"
             ],
             [
              0.2222222222222222,
              "#7201a8"
             ],
             [
              0.3333333333333333,
              "#9c179e"
             ],
             [
              0.4444444444444444,
              "#bd3786"
             ],
             [
              0.5555555555555556,
              "#d8576b"
             ],
             [
              0.6666666666666666,
              "#ed7953"
             ],
             [
              0.7777777777777778,
              "#fb9f3a"
             ],
             [
              0.8888888888888888,
              "#fdca26"
             ],
             [
              1,
              "#f0f921"
             ]
            ],
            "type": "heatmapgl"
           }
          ],
          "histogram": [
           {
            "marker": {
             "pattern": {
              "fillmode": "overlay",
              "size": 10,
              "solidity": 0.2
             }
            },
            "type": "histogram"
           }
          ],
          "histogram2d": [
           {
            "colorbar": {
             "outlinewidth": 0,
             "ticks": ""
            },
            "colorscale": [
             [
              0,
              "#0d0887"
             ],
             [
              0.1111111111111111,
              "#46039f"
             ],
             [
              0.2222222222222222,
              "#7201a8"
             ],
             [
              0.3333333333333333,
              "#9c179e"
             ],
             [
              0.4444444444444444,
              "#bd3786"
             ],
             [
              0.5555555555555556,
              "#d8576b"
             ],
             [
              0.6666666666666666,
              "#ed7953"
             ],
             [
              0.7777777777777778,
              "#fb9f3a"
             ],
             [
              0.8888888888888888,
              "#fdca26"
             ],
             [
              1,
              "#f0f921"
             ]
            ],
            "type": "histogram2d"
           }
          ],
          "histogram2dcontour": [
           {
            "colorbar": {
             "outlinewidth": 0,
             "ticks": ""
            },
            "colorscale": [
             [
              0,
              "#0d0887"
             ],
             [
              0.1111111111111111,
              "#46039f"
             ],
             [
              0.2222222222222222,
              "#7201a8"
             ],
             [
              0.3333333333333333,
              "#9c179e"
             ],
             [
              0.4444444444444444,
              "#bd3786"
             ],
             [
              0.5555555555555556,
              "#d8576b"
             ],
             [
              0.6666666666666666,
              "#ed7953"
             ],
             [
              0.7777777777777778,
              "#fb9f3a"
             ],
             [
              0.8888888888888888,
              "#fdca26"
             ],
             [
              1,
              "#f0f921"
             ]
            ],
            "type": "histogram2dcontour"
           }
          ],
          "mesh3d": [
           {
            "colorbar": {
             "outlinewidth": 0,
             "ticks": ""
            },
            "type": "mesh3d"
           }
          ],
          "parcoords": [
           {
            "line": {
             "colorbar": {
              "outlinewidth": 0,
              "ticks": ""
             }
            },
            "type": "parcoords"
           }
          ],
          "pie": [
           {
            "automargin": true,
            "type": "pie"
           }
          ],
          "scatter": [
           {
            "fillpattern": {
             "fillmode": "overlay",
             "size": 10,
             "solidity": 0.2
            },
            "type": "scatter"
           }
          ],
          "scatter3d": [
           {
            "line": {
             "colorbar": {
              "outlinewidth": 0,
              "ticks": ""
             }
            },
            "marker": {
             "colorbar": {
              "outlinewidth": 0,
              "ticks": ""
             }
            },
            "type": "scatter3d"
           }
          ],
          "scattercarpet": [
           {
            "marker": {
             "colorbar": {
              "outlinewidth": 0,
              "ticks": ""
             }
            },
            "type": "scattercarpet"
           }
          ],
          "scattergeo": [
           {
            "marker": {
             "colorbar": {
              "outlinewidth": 0,
              "ticks": ""
             }
            },
            "type": "scattergeo"
           }
          ],
          "scattergl": [
           {
            "marker": {
             "colorbar": {
              "outlinewidth": 0,
              "ticks": ""
             }
            },
            "type": "scattergl"
           }
          ],
          "scattermapbox": [
           {
            "marker": {
             "colorbar": {
              "outlinewidth": 0,
              "ticks": ""
             }
            },
            "type": "scattermapbox"
           }
          ],
          "scatterpolar": [
           {
            "marker": {
             "colorbar": {
              "outlinewidth": 0,
              "ticks": ""
             }
            },
            "type": "scatterpolar"
           }
          ],
          "scatterpolargl": [
           {
            "marker": {
             "colorbar": {
              "outlinewidth": 0,
              "ticks": ""
             }
            },
            "type": "scatterpolargl"
           }
          ],
          "scatterternary": [
           {
            "marker": {
             "colorbar": {
              "outlinewidth": 0,
              "ticks": ""
             }
            },
            "type": "scatterternary"
           }
          ],
          "surface": [
           {
            "colorbar": {
             "outlinewidth": 0,
             "ticks": ""
            },
            "colorscale": [
             [
              0,
              "#0d0887"
             ],
             [
              0.1111111111111111,
              "#46039f"
             ],
             [
              0.2222222222222222,
              "#7201a8"
             ],
             [
              0.3333333333333333,
              "#9c179e"
             ],
             [
              0.4444444444444444,
              "#bd3786"
             ],
             [
              0.5555555555555556,
              "#d8576b"
             ],
             [
              0.6666666666666666,
              "#ed7953"
             ],
             [
              0.7777777777777778,
              "#fb9f3a"
             ],
             [
              0.8888888888888888,
              "#fdca26"
             ],
             [
              1,
              "#f0f921"
             ]
            ],
            "type": "surface"
           }
          ],
          "table": [
           {
            "cells": {
             "fill": {
              "color": "#EBF0F8"
             },
             "line": {
              "color": "white"
             }
            },
            "header": {
             "fill": {
              "color": "#C8D4E3"
             },
             "line": {
              "color": "white"
             }
            },
            "type": "table"
           }
          ]
         },
         "layout": {
          "annotationdefaults": {
           "arrowcolor": "#2a3f5f",
           "arrowhead": 0,
           "arrowwidth": 1
          },
          "autotypenumbers": "strict",
          "coloraxis": {
           "colorbar": {
            "outlinewidth": 0,
            "ticks": ""
           }
          },
          "colorscale": {
           "diverging": [
            [
             0,
             "#8e0152"
            ],
            [
             0.1,
             "#c51b7d"
            ],
            [
             0.2,
             "#de77ae"
            ],
            [
             0.3,
             "#f1b6da"
            ],
            [
             0.4,
             "#fde0ef"
            ],
            [
             0.5,
             "#f7f7f7"
            ],
            [
             0.6,
             "#e6f5d0"
            ],
            [
             0.7,
             "#b8e186"
            ],
            [
             0.8,
             "#7fbc41"
            ],
            [
             0.9,
             "#4d9221"
            ],
            [
             1,
             "#276419"
            ]
           ],
           "sequential": [
            [
             0,
             "#0d0887"
            ],
            [
             0.1111111111111111,
             "#46039f"
            ],
            [
             0.2222222222222222,
             "#7201a8"
            ],
            [
             0.3333333333333333,
             "#9c179e"
            ],
            [
             0.4444444444444444,
             "#bd3786"
            ],
            [
             0.5555555555555556,
             "#d8576b"
            ],
            [
             0.6666666666666666,
             "#ed7953"
            ],
            [
             0.7777777777777778,
             "#fb9f3a"
            ],
            [
             0.8888888888888888,
             "#fdca26"
            ],
            [
             1,
             "#f0f921"
            ]
           ],
           "sequentialminus": [
            [
             0,
             "#0d0887"
            ],
            [
             0.1111111111111111,
             "#46039f"
            ],
            [
             0.2222222222222222,
             "#7201a8"
            ],
            [
             0.3333333333333333,
             "#9c179e"
            ],
            [
             0.4444444444444444,
             "#bd3786"
            ],
            [
             0.5555555555555556,
             "#d8576b"
            ],
            [
             0.6666666666666666,
             "#ed7953"
            ],
            [
             0.7777777777777778,
             "#fb9f3a"
            ],
            [
             0.8888888888888888,
             "#fdca26"
            ],
            [
             1,
             "#f0f921"
            ]
           ]
          },
          "colorway": [
           "#636efa",
           "#EF553B",
           "#00cc96",
           "#ab63fa",
           "#FFA15A",
           "#19d3f3",
           "#FF6692",
           "#B6E880",
           "#FF97FF",
           "#FECB52"
          ],
          "font": {
           "color": "#2a3f5f"
          },
          "geo": {
           "bgcolor": "white",
           "lakecolor": "white",
           "landcolor": "#E5ECF6",
           "showlakes": true,
           "showland": true,
           "subunitcolor": "white"
          },
          "hoverlabel": {
           "align": "left"
          },
          "hovermode": "closest",
          "mapbox": {
           "style": "light"
          },
          "paper_bgcolor": "white",
          "plot_bgcolor": "#E5ECF6",
          "polar": {
           "angularaxis": {
            "gridcolor": "white",
            "linecolor": "white",
            "ticks": ""
           },
           "bgcolor": "#E5ECF6",
           "radialaxis": {
            "gridcolor": "white",
            "linecolor": "white",
            "ticks": ""
           }
          },
          "scene": {
           "xaxis": {
            "backgroundcolor": "#E5ECF6",
            "gridcolor": "white",
            "gridwidth": 2,
            "linecolor": "white",
            "showbackground": true,
            "ticks": "",
            "zerolinecolor": "white"
           },
           "yaxis": {
            "backgroundcolor": "#E5ECF6",
            "gridcolor": "white",
            "gridwidth": 2,
            "linecolor": "white",
            "showbackground": true,
            "ticks": "",
            "zerolinecolor": "white"
           },
           "zaxis": {
            "backgroundcolor": "#E5ECF6",
            "gridcolor": "white",
            "gridwidth": 2,
            "linecolor": "white",
            "showbackground": true,
            "ticks": "",
            "zerolinecolor": "white"
           }
          },
          "shapedefaults": {
           "line": {
            "color": "#2a3f5f"
           }
          },
          "ternary": {
           "aaxis": {
            "gridcolor": "white",
            "linecolor": "white",
            "ticks": ""
           },
           "baxis": {
            "gridcolor": "white",
            "linecolor": "white",
            "ticks": ""
           },
           "bgcolor": "#E5ECF6",
           "caxis": {
            "gridcolor": "white",
            "linecolor": "white",
            "ticks": ""
           }
          },
          "title": {
           "x": 0.05
          },
          "xaxis": {
           "automargin": true,
           "gridcolor": "white",
           "linecolor": "white",
           "ticks": "",
           "title": {
            "standoff": 15
           },
           "zerolinecolor": "white",
           "zerolinewidth": 2
          },
          "yaxis": {
           "automargin": true,
           "gridcolor": "white",
           "linecolor": "white",
           "ticks": "",
           "title": {
            "standoff": 15
           },
           "zerolinecolor": "white",
           "zerolinewidth": 2
          }
         }
        },
        "updatemenus": [
         {
          "buttons": [
           {
            "args": [
             null,
             {
              "frame": {
               "duration": 500,
               "redraw": false
              },
              "fromcurrent": true,
              "mode": "immediate",
              "transition": {
               "duration": 500,
               "easing": "linear"
              }
             }
            ],
            "label": "&#9654;",
            "method": "animate"
           },
           {
            "args": [
             [
              null
             ],
             {
              "frame": {
               "duration": 0,
               "redraw": false
              },
              "fromcurrent": true,
              "mode": "immediate",
              "transition": {
               "duration": 0,
               "easing": "linear"
              }
             }
            ],
            "label": "&#9724;",
            "method": "animate"
           }
          ],
          "direction": "left",
          "pad": {
           "r": 10,
           "t": 70
          },
          "showactive": false,
          "type": "buttons",
          "x": 0.1,
          "xanchor": "right",
          "y": 0,
          "yanchor": "top"
         }
        ],
        "xaxis": {
         "anchor": "y",
         "domain": [
          0,
          1
         ],
         "range": [
          0,
          200
         ],
         "title": {
          "text": "Proton Number [Z]"
         }
        },
        "yaxis": {
         "anchor": "x",
         "domain": [
          0,
          1
         ],
         "range": [
          -10,
          0
         ],
         "title": {
          "text": "Deficit [MeV]"
         }
        }
       }
      }
     },
     "metadata": {},
     "output_type": "display_data"
    }
   ],
   "source": [
    "import matplotlib.pyplot as plt\n",
    "import numpy as np\n",
    "import pandas as pd\n",
    "import plotly.express as px\n",
    "import plotly.graph_objects as go\n",
    "# the service URL\n",
    "livechart = \"https://nds.iaea.org/relnsd/v0/data?\"\n",
    "import urllib.request\n",
    "def lc_pd_dataframe(url):\n",
    "    req = urllib.request.Request(url)\n",
    "    req.add_header('User-Agent', 'Mozilla/5.0 (X11; Ubuntu; Linux x86_64; rv:77.0) Gecko/20100101 Firefox/77.0')\n",
    "    return pd.read_csv(urllib.request.urlopen(req))\n",
    "df = lc_pd_dataframe(livechart + \"fields=ground_states&nuclides=all\")\n",
    "df[\"a\"]=df[\"z\"] + df[\"n\"]\n",
    "df[\"b_over_a\"] = df[\"binding\"]\n",
    "\n",
    "import plotly.express as px\n",
    "\n",
    "df[\"Proton Number [Z]\"] = df[\"z\"]\n",
    "df[\"Neutron Number [N]\"] = df[\"n\"]\n",
    "df[\"Deficit [MeV]\"] = -df[\"binding\"]/1000.0\n",
    "df[\"Odd Proton\"] = df[\"z\"] % 2 == 1\n",
    "fig = px.scatter(\n",
    "    df,\n",
    "    x=\"Proton Number [Z]\",\n",
    "    y=\"Deficit [MeV]\", range_y=[-10.0,0.0], range_x=[0.0,200.0],\n",
    "    color='Odd Proton',\n",
    "    animation_frame=\"Neutron Number [N]\", # Use animation_frame to specify which variable to measure for change\n",
    ")\n",
    "\n",
    "# fig.add_traces(\n",
    "    # list(px.line(df, x=\"Proton Number [Z]\", y=\"Deficit [MeV]\", animation_frame=\"Neutron Number [N]\" ).select_traces())\n",
    "# )\n",
    "\n",
    "fig.show()\n",
    "\n",
    "\n"
   ]
  }
 ],
 "metadata": {
  "kernelspec": {
   "display_name": "Python 3 (ipykernel)",
   "language": "python",
   "name": "python3"
  },
  "language_info": {
   "codemirror_mode": {
    "name": "ipython",
    "version": 3
   },
   "file_extension": ".py",
   "mimetype": "text/x-python",
   "name": "python",
   "nbconvert_exporter": "python",
   "pygments_lexer": "ipython3",
   "version": "3.11.7"
  }
 },
 "nbformat": 4,
 "nbformat_minor": 5
}
