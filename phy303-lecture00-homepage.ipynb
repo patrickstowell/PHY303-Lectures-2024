{
 "cells": [
  {
   "cell_type": "markdown",
   "id": "a1436dc3-8cce-4321-9dff-679ae618dd45",
   "metadata": {
    "editable": true,
    "slideshow": {
     "slide_type": ""
    },
    "tags": []
   },
   "source": [
    "# PHY303 : Nuclear Physics"
   ]
  },
  {
   "cell_type": "markdown",
   "id": "cc5d0c27-80f6-4930-b687-b09db18f821d",
   "metadata": {
    "editable": true,
    "slideshow": {
     "slide_type": ""
    },
    "tags": []
   },
   "source": [
    "Welcome to PHY303 Nuclear Physics."
   ]
  },
  {
   "cell_type": "markdown",
   "id": "2329ff44-8a7b-47d4-87ee-604af91d79ab",
   "metadata": {
    "editable": true,
    "slideshow": {
     "slide_type": ""
    },
    "tags": []
   },
   "source": [
    "In this course we will learn about X, Y, and Z."
   ]
  },
  {
   "cell_type": "markdown",
   "id": "55aecb57-6902-4e2b-b083-c08a30985dc7",
   "metadata": {
    "editable": true,
    "slideshow": {
     "slide_type": ""
    },
    "tags": []
   },
   "source": [
    "The main learning outcomes for the course are split into two parts of the couorse.\n",
    "The first (covered by this set of lecture notes) gives an overview of nuclear structure and the development of models to account for the packing of neutrons and protoons inside the nucleus. \n",
    "1. Nuclear Potentials\n",
    "2. Nuclear Physics\n",
    "3. Stuff\n",
    "4. Stuff\n",
    "\n",
    "The second covers applied uses of nuclear physics and will be given by Susan Cartwright. The lectures notes for this part of the course can be found here:\n",
    "1. Stuff Again\n",
    "2. Stuff Again."
   ]
  },
  {
   "cell_type": "code",
   "execution_count": null,
   "id": "23c8b8ac-56d5-4395-af1b-80d9ff4bd2f8",
   "metadata": {},
   "outputs": [],
   "source": []
  }
 ],
 "metadata": {
  "kernelspec": {
   "display_name": "Python 3 (ipykernel)",
   "language": "python",
   "name": "python3"
  },
  "language_info": {
   "codemirror_mode": {
    "name": "ipython",
    "version": 3
   },
   "file_extension": ".py",
   "mimetype": "text/x-python",
   "name": "python",
   "nbconvert_exporter": "python",
   "pygments_lexer": "ipython3",
   "version": "3.11.6"
  }
 },
 "nbformat": 4,
 "nbformat_minor": 5
}
