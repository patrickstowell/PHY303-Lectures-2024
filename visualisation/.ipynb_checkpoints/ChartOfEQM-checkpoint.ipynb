{
 "cells": [
  {
   "cell_type": "code",
   "execution_count": null,
   "id": "849b4840-741c-4018-b8cf-551a0f768a5c",
   "metadata": {},
   "outputs": [],
   "source": [
    "import matplotlib.pyplot as plt\n",
    "import numpy as np\n",
    "import pandas as pd\n",
    "import plotly.express as px\n",
    "import plotly.graph_objects as go\n",
    "# the service URL\n",
    "livechart = \"https://nds.iaea.org/relnsd/v0/data?\"\n",
    "import urllib.request\n",
    "def lc_pd_dataframe(url):\n",
    "    req = urllib.request.Request(url)\n",
    "    req.add_header('User-Agent', 'Mozilla/5.0 (X11; Ubuntu; Linux x86_64; rv:77.0) Gecko/20100101 Firefox/77.0')\n",
    "    return pd.read_csv(urllib.request.urlopen(req))\n",
    "df = lc_pd_dataframe(livechart + \"fields=ground_states&nuclides=all\")\n",
    "df[\"a\"]=df[\"z\"] + df[\"n\"]\n",
    "df[\"b_over_a\"] = df[\"binding\"]\n",
    "\n",
    "import plotly.express as px\n",
    "\n",
    "df[\"Proton Number [Z]\"] = df[\"z\"]\n",
    "df[\"Neutron Number [N]\"] = df[\"n\"]\n",
    "df[\"Deficit [MeV]\"] = -df[\"binding\"]/1000.0\n",
    "df[\"Odd Proton\"] = df[\"z\"] % 2 == 1"
   ]
  }
 ],
 "metadata": {
  "kernelspec": {
   "display_name": "Python 3 (ipykernel)",
   "language": "python",
   "name": "python3"
  },
  "language_info": {
   "codemirror_mode": {
    "name": "ipython",
    "version": 3
   },
   "file_extension": ".py",
   "mimetype": "text/x-python",
   "name": "python",
   "nbconvert_exporter": "python",
   "pygments_lexer": "ipython3",
   "version": "3.11.9"
  }
 },
 "nbformat": 4,
 "nbformat_minor": 5
}
