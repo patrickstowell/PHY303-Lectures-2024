{
 "cells": [
  {
   "cell_type": "markdown",
   "id": "2987fc1e",
   "metadata": {},
   "source": [
    "# IAEA Chart of Isotones\n",
    "\n",
    "The IAEA chart of nuclides datasets offer detailed nuclear properties like half-lives, decay modes, and energy levels, invaluable for research and applications in nuclear physics, medicine, and energy due to their comprehensive coverage and well validated datasets."
   ]
  },
  {
   "cell_type": "code",
   "execution_count": null,
   "id": "198076ce",
   "metadata": {
    "tags": [
     "remove-inputt",
     "remove-input",
     "hide_cell"
    ]
   },
   "outputs": [],
   "source": [
    "import matplotlib.pyplot as plt\n",
    "import numpy as np\n",
    "import pandas as pd\n",
    "import plotly.express as px\n",
    "import plotly.graph_objects as go\n",
    "# the service URL\n",
    "livechart = \"https://nds.iaea.org/relnsd/v0/data?\"\n",
    "import urllib.request\n",
    "def lc_pd_dataframe(url):\n",
    "    req = urllib.request.Request(url)\n",
    "    req.add_header('User-Agent', 'Mozilla/5.0 (X11; Ubuntu; Linux x86_64; rv:77.0) Gecko/20100101 Firefox/77.0')\n",
    "    return pd.read_csv(urllib.request.urlopen(req))\n",
    "df = lc_pd_dataframe(livechart + \"fields=ground_states&nuclides=all\")\n",
    "df[\"a\"]=df[\"z\"] + df[\"n\"]\n",
    "df[\"b_over_a\"] = df[\"binding\"]\n",
    "\n",
    "import plotly.express as px\n",
    "\n",
    "df[\"Proton Number [Z]\"] = df[\"z\"]\n",
    "df[\"Neutron Number [N]\"] = df[\"n\"]\n",
    "df[\"Deficit [MeV]\"] = -df[\"binding\"]/1000.0\n",
    "df[\"Odd Proton\"] = df[\"z\"] % 2 == 1\n",
    "fig = px.scatter(\n",
    "    df,\n",
    "    x=\"Proton Number [Z]\",\n",
    "    y=\"Deficit [MeV]\", range_y=[-10.0,0.0], range_x=[0.0,200.0],\n",
    "    color='Odd Proton',\n",
    "    animation_frame=\"Neutron Number [N]\", # Use animation_frame to specify which variable to measure for change\n",
    ")\n",
    "\n",
    "# fig.add_traces(\n",
    "    # list(px.line(df, x=\"Proton Number [Z]\", y=\"Deficit [MeV]\", animation_frame=\"Neutron Number [N]\" ).select_traces())\n",
    "# )\n",
    "#\n",
    "\n",
    "fig.show()\n",
    "\n",
    "\n"
   ]
  }
 ],
 "metadata": {
  "kernelspec": {
   "display_name": "Python 3 (ipykernel)",
   "language": "python",
   "name": "python3"
  },
  "language_info": {
   "codemirror_mode": {
    "name": "ipython",
    "version": 3
   },
   "file_extension": ".py",
   "mimetype": "text/x-python",
   "name": "python",
   "nbconvert_exporter": "python",
   "pygments_lexer": "ipython3",
   "version": "3.11.9"
  }
 },
 "nbformat": 4,
 "nbformat_minor": 5
}
