{
 "cells": [
  {
   "cell_type": "code",
   "execution_count": 1,
   "id": "849b4840-741c-4018-b8cf-551a0f768a5c",
   "metadata": {},
   "outputs": [],
   "source": [
    "import matplotlib.pyplot as plt\n",
    "import numpy as np\n",
    "import pandas as pd\n",
    "import plotly.express as px\n",
    "import plotly.graph_objects as go\n",
    "# the service URL\n",
    "livechart = \"https://nds.iaea.org/relnsd/v0/data?\"\n",
    "import urllib.request\n",
    "def lc_pd_dataframe(url):\n",
    "    req = urllib.request.Request(url)\n",
    "    req.add_header('User-Agent', 'Mozilla/5.0 (X11; Ubuntu; Linux x86_64; rv:77.0) Gecko/20100101 Firefox/77.0')\n",
    "    return pd.read_csv(urllib.request.urlopen(req))\n",
    "df = lc_pd_dataframe(livechart + \"fields=ground_states&nuclides=all\")\n",
    "df[\"a\"]=df[\"z\"] + df[\"n\"]\n",
    "df[\"b_over_a\"] = df[\"binding\"]\n",
    "\n",
    "import plotly.express as px\n",
    "\n",
    "df[\"Proton Number [Z]\"] = df[\"z\"]\n",
    "df[\"Neutron Number [N]\"] = df[\"n\"]\n",
    "df[\"Deficit [MeV]\"] = -df[\"binding\"]/1000.0\n",
    "df[\"Odd Proton\"] = df[\"z\"] % 2 == 1"
   ]
  },
  {
   "cell_type": "code",
   "execution_count": 2,
   "id": "5609a163-a550-4f90-a6ca-220887ab1cd1",
   "metadata": {},
   "outputs": [
    {
     "name": "stdout",
     "output_type": "stream",
     "text": [
      "Index(['z', 'n', 'symbol', 'radius', 'unc_r', 'abundance', 'unc_a',\n",
      "       'energy_shift', 'energy', 'unc_e', 'ripl_shift', 'jp', 'half_life',\n",
      "       'operator_hl', 'unc_hl', 'unit_hl', 'half_life_sec', 'unc_hls',\n",
      "       'decay_1', 'decay_1_%', 'unc_1', 'decay_2', 'decay_2_%', 'unc_2',\n",
      "       'decay_3', 'decay_3_%', 'unc_3', 'isospin', 'magnetic_dipole', 'unc_md',\n",
      "       'electric_quadrupole', 'unc_eq', 'qbm', 'unc_qb', 'qbm_n', 'unc_qbmn',\n",
      "       'qa', 'unc_qa', 'qec', 'unc_qec', 'sn', 'unc_sn', 'sp', 'unc_sp',\n",
      "       'binding', 'unc_ba', 'atomic_mass', 'unc_am', 'massexcess', 'unc_me',\n",
      "       'me_systematics', 'discovery', 'ENSDFpublicationcut-off',\n",
      "       'ENSDFauthors', 'Extraction_date', 'a', 'b_over_a', 'Proton Number [Z]',\n",
      "       'Neutron Number [N]', 'Deficit [MeV]', 'Odd Proton'],\n",
      "      dtype='object')\n"
     ]
    }
   ],
   "source": [
    "print(df.columns)"
   ]
  },
  {
   "cell_type": "code",
   "execution_count": 17,
   "id": "c6934d8e-55aa-4b42-9353-fded135f5117",
   "metadata": {},
   "outputs": [
    {
     "data": {
      "image/png": "[encoded data removed]",
      "text/plain": [
       "<Figure size 640x480 with 1 Axes>"
      ]
     },
     "metadata": {},
     "output_type": "display_data"
    },
    {
     "name": "stdout",
     "output_type": "stream",
     "text": [
      "0        613.9\n",
      "1          2.6\n",
      "2          NaN\n",
      "3       STABLE\n",
      "4       STABLE\n",
      "         ...  \n",
      "3381        95\n",
      "3382       NaN\n",
      "3383        21\n",
      "3384        51\n",
      "3385      0.58\n",
      "Name: half_life, Length: 3386, dtype: object\n"
     ]
    }
   ],
   "source": [
    "ndf =df[df.half_life == \"STABLE\"]\n",
    "plt.scatter(ndf[\"z\"], ndf.electric_quadrupole, s=2)\n",
    "plt.show()\n",
    "\n",
    "print(df.half_life)"
   ]
  },
  {
   "cell_type": "code",
   "execution_count": null,
   "id": "d39067e0-8e75-46a7-8eed-1dc534e6212a",
   "metadata": {},
   "outputs": [],
   "source": []
  }
 ],
 "metadata": {
  "kernelspec": {
   "display_name": "Python 3 (ipykernel)",
   "language": "python",
   "name": "python3"
  },
  "language_info": {
   "codemirror_mode": {
    "name": "ipython",
    "version": 3
   },
   "file_extension": ".py",
   "mimetype": "text/x-python",
   "name": "python",
   "nbconvert_exporter": "python",
   "pygments_lexer": "ipython3",
   "version": "3.11.9"
  }
 },
 "nbformat": 4,
 "nbformat_minor": 5
}
